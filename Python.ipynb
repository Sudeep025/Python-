{
  "cells": [
    {
      "cell_type": "markdown",
      "source": [
        "# Basic Syntax rules"
      ],
      "metadata": {
        "id": "4WvrEm4diBcT"
      }
    },
    {
      "cell_type": "code",
      "source": [
        "print(\"Hello World!\")#function call\n",
        "x=5 # varible assignment\n",
        "y=10 # No need to declare type"
      ],
      "metadata": {
        "colab": {
          "base_uri": "https://localhost:8080/"
        },
        "id": "zZtAUWEsiKAQ",
        "outputId": "be334c0e-87a7-4e4e-eedb-faa1cf6833b4"
      },
      "execution_count": 1,
      "outputs": [
        {
          "output_type": "stream",
          "name": "stdout",
          "text": [
            "Hello World!\n"
          ]
        }
      ]
    },
    {
      "cell_type": "markdown",
      "source": [
        "# Python is case-sensitivity"
      ],
      "metadata": {
        "id": "Dq6ZACHDiNcY"
      }
    },
    {
      "cell_type": "code",
      "source": [
        "Name=\"Levi\"\n",
        "name=\"Eren\"\n",
        "print(Name,name)"
      ],
      "metadata": {
        "colab": {
          "base_uri": "https://localhost:8080/"
        },
        "id": "fsLFbCANiR0Q",
        "outputId": "db3cb3c2-4052-4d3e-cd87-c2b3e496fa57"
      },
      "execution_count": 4,
      "outputs": [
        {
          "output_type": "stream",
          "name": "stdout",
          "text": [
            "Levi Eren\n"
          ]
        }
      ]
    },
    {
      "cell_type": "markdown",
      "source": [
        "# Indentation Matters"
      ],
      "metadata": {
        "id": "uYdrjcJ0iWlp"
      }
    },
    {
      "cell_type": "code",
      "source": [
        "if x>0:\n",
        "  print(\"x is positive\")\n",
        "  print(\"This is inside the if block\")"
      ],
      "metadata": {
        "colab": {
          "base_uri": "https://localhost:8080/"
        },
        "id": "QVUz26YOiZRo",
        "outputId": "e100e498-f326-40be-bdcd-4482304b0764"
      },
      "execution_count": 3,
      "outputs": [
        {
          "output_type": "stream",
          "name": "stdout",
          "text": [
            "x is positive\n",
            "This is inside the if block\n"
          ]
        }
      ]
    },
    {
      "cell_type": "markdown",
      "source": [
        "# Numeric Types"
      ],
      "metadata": {
        "id": "8dsS9CAEien4"
      }
    },
    {
      "cell_type": "code",
      "source": [
        "age=25 #integer\n",
        "height=5.9 #float\n",
        "complex_num=3+4j #complex"
      ],
      "metadata": {
        "id": "9a_XV80kilTh"
      },
      "execution_count": 5,
      "outputs": []
    },
    {
      "cell_type": "markdown",
      "source": [
        "# String Type"
      ],
      "metadata": {
        "id": "nKQz-6Y1irnJ"
      }
    },
    {
      "cell_type": "code",
      "source": [
        "name=\"Alice\"\n",
        "message='Hello World'\n",
        "multline=\"\"\"This is\n",
        "multiline text\"\"\""
      ],
      "metadata": {
        "id": "pEEUHs6JiwmS"
      },
      "execution_count": 7,
      "outputs": []
    },
    {
      "cell_type": "markdown",
      "metadata": {
        "id": "Baq6W9rDgeqM"
      },
      "source": [
        "# **Boolean**"
      ]
    },
    {
      "cell_type": "code",
      "execution_count": null,
      "metadata": {
        "id": "awZ1mpreNMIP"
      },
      "outputs": [],
      "source": [
        " is_active = True\n",
        " is_finshed = False"
      ]
    },
    {
      "cell_type": "markdown",
      "metadata": {
        "id": "Alk__hNnhYoA"
      },
      "source": [
        "# **Type Conversion**"
      ]
    },
    {
      "cell_type": "code",
      "execution_count": null,
      "metadata": {
        "colab": {
          "base_uri": "https://localhost:8080/"
        },
        "id": "XKSRqxf7OdNg",
        "outputId": "eb2a3ad0-bf3f-4d34-82d1-68e431394dcb"
      },
      "outputs": [
        {
          "name": "stdout",
          "output_type": "stream",
          "text": [
            "original:1234 (type:<class 'str'>)\n",
            "Integer:1234 (type:<class 'int'>)\n",
            "Float:1234.0 (type:<class 'float'>)\n"
          ]
        }
      ],
      "source": [
        "str_number = \"1234\"\n",
        "int_number = int(str_number)\n",
        "float_number = float(str_number)\n",
        "print(f\"original:{str_number} (type:{type(str_number)})\")\n",
        "print(f\"Integer:{int_number} (type:{type(int_number)})\")\n",
        "print(f\"Float:{float_number} (type:{type(float_number)})\")"
      ]
    },
    {
      "cell_type": "markdown",
      "metadata": {
        "id": "p03TiDM9L1wH"
      },
      "source": [
        "# **Personal** **information**"
      ]
    },
    {
      "cell_type": "code",
      "execution_count": null,
      "metadata": {
        "id": "7q1xzXvliOAP"
      },
      "outputs": [],
      "source": [
        "first_name =\"Your first Name\"\n",
        "last_name = \"your last Name\"\n",
        "age = 21\n",
        "height = 5.8\n",
        "is_student = True"
      ]
    },
    {
      "cell_type": "markdown",
      "metadata": {
        "id": "zcfIzDV6jGDY"
      },
      "source": [
        "# **Print formatted information**\n"
      ]
    },
    {
      "cell_type": "code",
      "execution_count": null,
      "metadata": {
        "colab": {
          "base_uri": "https://localhost:8080/"
        },
        "id": "p1d2oSaZjNqQ",
        "outputId": "0aadd2d2-ae2b-4c04-b2db-5b4784447ea2"
      },
      "outputs": [
        {
          "name": "stdout",
          "output_type": "stream",
          "text": [
            "Name:Your first Name your last Name\n",
            "Age:21\n",
            "Height:5.8feet\n",
            "Student:True\n"
          ]
        }
      ],
      "source": [
        "print(f\"Name:{first_name} {last_name}\")\n",
        "print(f\"Age:{age}\")\n",
        "print(f\"Height:{height}feet\")\n",
        "print(f\"Student:{is_student}\")"
      ]
    },
    {
      "cell_type": "markdown",
      "metadata": {
        "id": "c_mu7ZW6khGJ"
      },
      "source": [
        "# **Type Conversion**"
      ]
    },
    {
      "cell_type": "code",
      "execution_count": null,
      "metadata": {
        "colab": {
          "base_uri": "https://localhost:8080/"
        },
        "id": "ubYWyGvYklPP",
        "outputId": "928e228b-0987-4261-c917-fd0ec8ddf5c2"
      },
      "outputs": [
        {
          "name": "stdout",
          "output_type": "stream",
          "text": [
            " Age as string:21\n",
            "Height  as integer:5\n"
          ]
        }
      ],
      "source": [
        "age_str = str(age)\n",
        "height_int = int(height)\n",
        "print(f\" Age as string:{age_str}\")\n",
        "print(f\"Height  as integer:{height_int}\")"
      ]
    },
    {
      "cell_type": "markdown",
      "metadata": {
        "id": "kzya9V1fmDoX"
      },
      "source": [
        "# **Arithmetic Operation**"
      ]
    },
    {
      "cell_type": "code",
      "execution_count": null,
      "metadata": {
        "colab": {
          "base_uri": "https://localhost:8080/"
        },
        "id": "wFfojZCGmxG_",
        "outputId": "bd5db64f-92c5-48d3-8ea2-175ffee87ba1"
      },
      "outputs": [
        {
          "name": "stdout",
          "output_type": "stream",
          "text": [
            "Addition:10+25=35\n",
            "Substration:10-25=-15\n",
            "multiplication: 10*25=250\n",
            "division: 10/25=0.4\n",
            "floor division: 10//25=0\n",
            "Modules:10%25=10\n",
            "Exponention:10**25=10000000000000000000000000\n"
          ]
        }
      ],
      "source": [
        " a = 10\n",
        " b =25\n",
        " print(f\"Addition:{a}+{b}={a+b}\")\n",
        " print(f\"Substration:{a}-{b}={a-b}\")\n",
        " print(f\"multiplication: {a}*{b}={a*b}\")\n",
        " print(f\"division: {a}/{b}={a/b}\")\n",
        " print(f\"floor division: {a}//{b}={a//b}\")\n",
        " print(f\"Modules:{a}%{b}={a%b}\")\n",
        " print(f\"Exponention:{a}**{b}={a **b}\")"
      ]
    },
    {
      "cell_type": "markdown",
      "metadata": {
        "id": "-0p_1ztGpUG3"
      },
      "source": [
        "Order of Operation(PEMDAS)\n",
        "\n",
        "\n",
        "*  Parenthenses\n",
        "*  Exponents\n",
        "*  multiplicatron\n",
        "*  division\n",
        "*  addition\n",
        "*  substraction"
      ]
    },
    {
      "cell_type": "code",
      "execution_count": null,
      "metadata": {
        "colab": {
          "base_uri": "https://localhost:8080/"
        },
        "id": "pGe7QraEp2qQ",
        "outputId": "03beb155-5ec1-4ee1-a65f-ab062ce4d977"
      },
      "outputs": [
        {
          "name": "stdout",
          "output_type": "stream",
          "text": [
            "2 + 3 * 4 ** 2 - 1 = 49\n"
          ]
        }
      ],
      "source": [
        "result = 2 + 3 * 4 ** 2 - 1\n",
        "print(f\"2 + 3 * 4 ** 2 - 1 = {result}\")"
      ]
    },
    {
      "cell_type": "markdown",
      "metadata": {
        "id": "fUJD_X6gsULo"
      },
      "source": [
        "# **Comparison Operator**"
      ]
    },
    {
      "cell_type": "code",
      "execution_count": null,
      "metadata": {
        "colab": {
          "base_uri": "https://localhost:8080/"
        },
        "id": "ZsOSOe8HtXvw",
        "outputId": "8cb8cd2b-0b40-430f-a6d0-b153f25daeb6"
      },
      "outputs": [
        {
          "name": "stdout",
          "output_type": "stream",
          "text": [
            "5 == 8: False\n",
            "5 != 8: True\n",
            "5 < 8: True\n",
            "5 > 8: False\n",
            " 5 <= 8: True\n",
            " 5 >= 8: False\n"
          ]
        }
      ],
      "source": [
        "x = 5\n",
        "y = 8\n",
        "print(f\"{x} == {y}: {x == y}\") # equls to\n",
        "print(f\"{x} != {y}: {x != y}\") # Not equls to\n",
        "print(f\"{x} < {y}: {x < y}\") # less than\n",
        "print(f\"{x} > {y}: {x > y }\") # greter than\n",
        "print(f\" {x} <= {y}: {x <= y}\")# less than equls to\n",
        "print(f\" {x} >= {y}: {x >= y}\")# grater than equls to\n",
        "\n"
      ]
    },
    {
      "cell_type": "markdown",
      "metadata": {
        "id": "I9iU6ZVtuzc3"
      },
      "source": [
        "# **String Operation**"
      ]
    },
    {
      "cell_type": "code",
      "execution_count": null,
      "metadata": {
        "colab": {
          "base_uri": "https://localhost:8080/"
        },
        "id": "NhFT6Vmju5R-",
        "outputId": "73a9a9f7-b961-4d92-af9a-8ac545b7fd5e"
      },
      "outputs": [
        {
          "name": "stdout",
          "output_type": "stream",
          "text": [
            "'Alice'< 'Bob': True\n"
          ]
        }
      ],
      "source": [
        "name1 = \"Alice\"\n",
        "name2 = \"Bob\"\n",
        "print(f\"'{name1}'< '{name2}': {name1 < name2}\")\n"
      ]
    },
    {
      "cell_type": "markdown",
      "metadata": {
        "id": "aIsUZDB7vqWP"
      },
      "source": [
        "# **Logical Operator**"
      ]
    },
    {
      "cell_type": "code",
      "execution_count": null,
      "metadata": {
        "colab": {
          "base_uri": "https://localhost:8080/"
        },
        "id": "BqMjcWXivv43",
        "outputId": "34147a42-cd67-472e-e676-3fdf964199bd"
      },
      "outputs": [
        {
          "name": "stdout",
          "output_type": "stream",
          "text": [
            "p and q:False\n",
            "p or q:True\n",
            "not p:False\n"
          ]
        }
      ],
      "source": [
        "p = True\n",
        "q = False\n",
        "print(f\"p and q:{p and q}\") # both must be True\n",
        "print(f\"p or q:{p or q}\") # At least one must True\n",
        "print(f\"not p:{not p}\") # reverse the boolean"
      ]
    },
    {
      "cell_type": "code",
      "execution_count": null,
      "metadata": {
        "colab": {
          "base_uri": "https://localhost:8080/"
        },
        "id": "vaNc0TCgwdof",
        "outputId": "d2c9e5df-9df8-448a-b168-51e7da39ee32"
      },
      "outputs": [
        {
          "name": "stdout",
          "output_type": "stream",
          "text": [
            "Can drive: True\n"
          ]
        }
      ],
      "source": [
        " # Pratical example\n",
        " age = 20\n",
        " has_license = True\n",
        " can_drive = age >= 18 and has_license\n",
        " print(f\"Can drive: {can_drive}\")"
      ]
    },
    {
      "cell_type": "code",
      "execution_count": null,
      "metadata": {
        "colab": {
          "base_uri": "https://localhost:8080/"
        },
        "id": "3fkgq8Esw0S3",
        "outputId": "f89a33fd-7e1d-42e1-96c7-e9eb07f7038d"
      },
      "outputs": [
        {
          "name": "stdout",
          "output_type": "stream",
          "text": [
            " Can pass:True\n"
          ]
        }
      ],
      "source": [
        "# Multipal condition\n",
        "score = 85\n",
        "is_present = True\n",
        "can_pass = score >= 80 and is_present\n",
        "print(f\" Can pass:{can_pass}\")"
      ]
    },
    {
      "cell_type": "markdown",
      "metadata": {
        "id": "W3AxEdFfysG_"
      },
      "source": [
        "# **Exerices**"
      ]
    },
    {
      "cell_type": "code",
      "execution_count": null,
      "metadata": {
        "id": "sNEHiU3vy0q3"
      },
      "outputs": [],
      "source": [
        "# Personal inforamation\n",
        "age = 25\n",
        "annual_income = 50000\n",
        "creadit_score = 720\n",
        "has_collateral = True\n"
      ]
    },
    {
      "cell_type": "code",
      "execution_count": null,
      "metadata": {
        "id": "xOt4h9uOzS1u"
      },
      "outputs": [],
      "source": [
        "# Loan criteria\n",
        "min_age = 18\n",
        "min_income = 30000\n",
        "min_cridit_score = 650"
      ]
    },
    {
      "cell_type": "code",
      "execution_count": null,
      "metadata": {
        "id": "BUEfzkEE0KcH"
      },
      "outputs": [],
      "source": [
        "# Check qulifications\n",
        "\n",
        "age_qulified = age>=min_age\n",
        "income_qulifed = annual_income>=min_income\n",
        "credit_qulifed = creadit_score>=min_cridit_score\n",
        "overall_qulifed = age_qulified and income_qulifed and credit_qulifed"
      ]
    },
    {
      "cell_type": "markdown",
      "metadata": {
        "id": "ancz9NML4xP-"
      },
      "source": [
        "# **Data Structure**"
      ]
    },
    {
      "cell_type": "markdown",
      "metadata": {
        "id": "xvG4_9X6_Au3"
      },
      "source": [
        "**Lists**"
      ]
    },
    {
      "cell_type": "markdown",
      "metadata": {
        "id": "B9nuuCZ__EQO"
      },
      "source": [
        "**Creating lists**"
      ]
    },
    {
      "cell_type": "code",
      "execution_count": null,
      "metadata": {
        "id": "PpzXkbzM_JCW"
      },
      "outputs": [],
      "source": [
        "fruits = [\"apple\",\"banana\",\"orange\",\"graps\"]\n",
        "numbers = [10,20,22,44,55]\n",
        "mixed_data = [1,\"hello\",3.14,True]"
      ]
    },
    {
      "cell_type": "markdown",
      "metadata": {
        "id": "kgmBTDpx_wd-"
      },
      "source": [
        "## **List indexing(0-based)**"
      ]
    },
    {
      "cell_type": "code",
      "execution_count": null,
      "metadata": {
        "colab": {
          "base_uri": "https://localhost:8080/"
        },
        "id": "wglD1k-v_51H",
        "outputId": "ae9601bc-836f-4701-b3c4-b3e9ece1b2c3"
      },
      "outputs": [
        {
          "name": "stdout",
          "output_type": "stream",
          "text": [
            "First fruit:apple\n",
            "Last fruit:graps\n",
            "Second to last:orange\n"
          ]
        }
      ],
      "source": [
        "print(f\"First fruit:{fruits[0]}\")\n",
        "print(f\"Last fruit:{fruits[-1]}\")\n",
        "print(f\"Second to last:{fruits[-2]}\")"
      ]
    },
    {
      "cell_type": "markdown",
      "metadata": {
        "id": "V6_igsD-Aa5m"
      },
      "source": [
        "**List sclicing**"
      ]
    },
    {
      "cell_type": "code",
      "execution_count": null,
      "metadata": {
        "colab": {
          "base_uri": "https://localhost:8080/"
        },
        "id": "XxwQ3IRoAg5F",
        "outputId": "2dd22c8c-de31-4df9-aa73-1080a408cfba"
      },
      "outputs": [
        {
          "name": "stdout",
          "output_type": "stream",
          "text": [
            "First 2 fruits: ['apple', 'banana']\n",
            "Last 2 fruits: ['orange', 'graps']\n",
            "All except first: ['banana', 'orange', 'graps']\n"
          ]
        }
      ],
      "source": [
        "print(f\"First 2 fruits: {fruits[0:2]}\")\n",
        "print(f\"Last 2 fruits: {fruits[-2:]}\")\n",
        "print(f\"All except first: {fruits[1:]}\")"
      ]
    },
    {
      "cell_type": "markdown",
      "metadata": {
        "id": "4OD8JAsMBB5O"
      },
      "source": [
        "**List methods**"
      ]
    },
    {
      "cell_type": "code",
      "execution_count": null,
      "metadata": {
        "colab": {
          "base_uri": "https://localhost:8080/"
        },
        "id": "_VU28aHfBGtV",
        "outputId": "c2805c15-6a29-4de9-c5d3-935482fb16cb"
      },
      "outputs": [
        {
          "name": "stdout",
          "output_type": "stream",
          "text": [
            "Update list:['apple', 'strawberry', 'strawberry', 'strawberry', 'banana', 'orange', 'graps']\n",
            "Removed:kiwi\n"
          ]
        }
      ],
      "source": [
        "fruits.append(\"kiwi\") # add to end\n",
        "fruits.insert(1,\"strawberry\") #Insert at index\n",
        "removed = fruits.pop() #Remove last\n",
        "print(f\"Update list:{fruits}\")\n",
        "print(f\"Removed:{removed}\")"
      ]
    },
    {
      "cell_type": "markdown",
      "metadata": {
        "id": "X_9iuLYCCMGF"
      },
      "source": [
        "**List Operations**"
      ]
    },
    {
      "cell_type": "code",
      "execution_count": null,
      "metadata": {
        "colab": {
          "base_uri": "https://localhost:8080/"
        },
        "id": "hJpNOjjNCQRG",
        "outputId": "921b4e70-4f32-4cfc-f748-5f57021b26f8"
      },
      "outputs": [
        {
          "name": "stdout",
          "output_type": "stream",
          "text": [
            "Length:7\n",
            "Contains 'apple': True\n",
            "Index of 'banana': 4\n"
          ]
        }
      ],
      "source": [
        "print(f\"Length:{len(fruits)}\")\n",
        "print(f\"Contains 'apple': {'apple' in fruits}\")\n",
        "print(f\"Index of 'banana': {fruits.index('banana')}\")"
      ]
    },
    {
      "cell_type": "markdown",
      "metadata": {
        "id": "2s0iAsZiDQXO"
      },
      "source": [
        "# **Tuples**"
      ]
    },
    {
      "cell_type": "markdown",
      "metadata": {
        "id": "yz5wXhnxDWiu"
      },
      "source": [
        "**Tuples are immutable**"
      ]
    },
    {
      "cell_type": "code",
      "execution_count": null,
      "metadata": {
        "id": "XOuVnBAqDcC1"
      },
      "outputs": [],
      "source": [
        "coordinates = (10,20)\n",
        "rgb_color = (255,128,0)\n",
        "person_info = (\"Alice\",25,\"Engineer\",True)"
      ]
    },
    {
      "cell_type": "markdown",
      "metadata": {
        "id": "5249TqAtD5ed"
      },
      "source": [
        "**Tuple unpacking**"
      ]
    },
    {
      "cell_type": "code",
      "execution_count": null,
      "metadata": {
        "colab": {
          "base_uri": "https://localhost:8080/"
        },
        "id": "dbkH2lFdD-79",
        "outputId": "5178a2f9-e7bb-4219-f31a-3070c6e81af9"
      },
      "outputs": [
        {
          "name": "stdout",
          "output_type": "stream",
          "text": [
            " X : 10, Y: 20\n"
          ]
        }
      ],
      "source": [
        "x,y = coordinates\n",
        "print(f\" X : {x}, Y: {y}\")"
      ]
    },
    {
      "cell_type": "markdown",
      "metadata": {
        "id": "Fbz1sZmyFS0m"
      },
      "source": [
        "**Tuples methods**"
      ]
    },
    {
      "cell_type": "code",
      "execution_count": null,
      "metadata": {
        "colab": {
          "base_uri": "https://localhost:8080/"
        },
        "id": "tU_qdERFFW6G",
        "outputId": "33fd4788-84c1-43f3-f385-3a8bd9282bb0"
      },
      "outputs": [
        {
          "name": "stdout",
          "output_type": "stream",
          "text": [
            "Cont of 25: 1\n",
            "Index of 'Engineer': 2\n"
          ]
        }
      ],
      "source": [
        "print(f\"Cont of 25: {person_info.count(25)}\")\n",
        "print(f\"Index of 'Engineer': {person_info.index('Engineer')}\")"
      ]
    },
    {
      "cell_type": "markdown",
      "metadata": {
        "id": "bZ6LFHzeEGbh"
      },
      "source": [
        "# **Dictionaries**"
      ]
    },
    {
      "cell_type": "markdown",
      "metadata": {
        "id": "9ir8DQscEVFg"
      },
      "source": [
        "**Dictionary Creation**"
      ]
    },
    {
      "cell_type": "code",
      "execution_count": null,
      "metadata": {
        "id": "OnD4duXiEeJA"
      },
      "outputs": [],
      "source": [
        "person = {\n",
        "    \"name\":\"Alice Johnson\",\n",
        "    \"age\": 23,\n",
        "    \"profession\":\"Software Engineer\",\n",
        "    \"Salary\":75000,\n",
        "    \"skills\":[\"Python\",\"JavaScript\",\"SQL\"]\n",
        "}"
      ]
    },
    {
      "cell_type": "markdown",
      "metadata": {
        "id": "yPf3c3tFFS1j"
      },
      "source": [
        "**Accessing values**"
      ]
    },
    {
      "cell_type": "code",
      "execution_count": null,
      "metadata": {
        "colab": {
          "base_uri": "https://localhost:8080/"
        },
        "id": "lV0066yxFdPq",
        "outputId": "031f1542-7f70-48df-bd4c-05ed7b4dbb5a"
      },
      "outputs": [
        {
          "name": "stdout",
          "output_type": "stream",
          "text": [
            "Name: Alice Johnson\n",
            "Age: 23\n"
          ]
        }
      ],
      "source": [
        "print(f\"Name: {person['name']}\")\n",
        "print(f\"Age: {person.get('age','Unknown')}\")"
      ]
    },
    {
      "cell_type": "markdown",
      "metadata": {
        "id": "6shV9EA1F4ob"
      },
      "source": [
        "**Dictionary methods**"
      ]
    },
    {
      "cell_type": "code",
      "execution_count": null,
      "metadata": {
        "colab": {
          "base_uri": "https://localhost:8080/"
        },
        "id": "IzI6Cp4nF-N8",
        "outputId": "b9ddc3b0-0c36-49d4-d5d8-8ee549349bab"
      },
      "outputs": [
        {
          "name": "stdout",
          "output_type": "stream",
          "text": [
            "keys: dict_keys(['name', 'age', 'profession', 'Salary', 'skills'])\n",
            "values: dict_values(['Alice Johnson', 23, 'Software Engineer', 75000, ['Python', 'JavaScript', 'SQL']])\n",
            "items: dict_items([('name', 'Alice Johnson'), ('age', 23), ('profession', 'Software Engineer'), ('Salary', 75000), ('skills', ['Python', 'JavaScript', 'SQL'])])\n"
          ]
        }
      ],
      "source": [
        "print(f\"keys: {(person.keys())}\")\n",
        "print(f\"values: {(person.values())}\")\n",
        "print(f\"items: {(person.items())}\")"
      ]
    },
    {
      "cell_type": "markdown",
      "metadata": {
        "id": "gB7DFJxzGSRV"
      },
      "source": [
        "**Adding updating**"
      ]
    },
    {
      "cell_type": "code",
      "execution_count": null,
      "metadata": {
        "id": "Ng2czqtGGXFt"
      },
      "outputs": [],
      "source": [
        "person[\"location\"]=\"New York\"\n",
        "person[\"salary\"]=80000"
      ]
    },
    {
      "cell_type": "markdown",
      "metadata": {
        "id": "nlc7anJXGo1F"
      },
      "source": [
        "**Practing use case:Inventory mangenment**"
      ]
    },
    {
      "cell_type": "code",
      "execution_count": null,
      "metadata": {
        "id": "7yAx2yYQGyNF"
      },
      "outputs": [],
      "source": [
        "inventory = {\n",
        "    \"laptops\":{\n",
        "        \"quantity\":50,\n",
        "        \"price\": 999.99\n",
        "    },\n",
        "    \"phones\":{\n",
        "      \"quantity\": 100,\n",
        "    \"price\": 599.99\n",
        "    },\n",
        "    \"tablests\": {\n",
        "        \"quantity\":30,\n",
        "        \"price\":399.99\n",
        "    }\n",
        "}"
      ]
    },
    {
      "cell_type": "markdown",
      "metadata": {
        "id": "on-5csmdH2fv"
      },
      "source": [
        "**Nested access**"
      ]
    },
    {
      "cell_type": "code",
      "execution_count": null,
      "metadata": {
        "colab": {
          "base_uri": "https://localhost:8080/"
        },
        "id": "8wDU0n5CH564",
        "outputId": "0df36897-48ef-4342-a74a-f8db1c68aaff"
      },
      "outputs": [
        {
          "name": "stdout",
          "output_type": "stream",
          "text": [
            "Laptops price: $999.99\n"
          ]
        }
      ],
      "source": [
        "print(f\"Laptops price: ${inventory['laptops']['price']}\")"
      ]
    },
    {
      "cell_type": "markdown",
      "metadata": {
        "id": "5G3b2FH4IJp4"
      },
      "source": [
        "# **Sets**"
      ]
    },
    {
      "cell_type": "markdown",
      "metadata": {
        "id": "wZBiToCsIMcZ"
      },
      "source": [
        "**Sets contain unique elements**"
      ]
    },
    {
      "cell_type": "code",
      "execution_count": null,
      "metadata": {
        "colab": {
          "base_uri": "https://localhost:8080/"
        },
        "id": "YRf3XE8bIW6o",
        "outputId": "91f3fe5a-60d3-4e07-bf38-2bc6919280ca"
      },
      "outputs": [
        {
          "name": "stdout",
          "output_type": "stream",
          "text": [
            "Colors: {'red', 'green', 'blue'}\n"
          ]
        }
      ],
      "source": [
        "colors = {\"red\",\"green\",\"blue\",\"red\"}\n",
        "print(f\"Colors: {colors}\")"
      ]
    },
    {
      "cell_type": "markdown",
      "metadata": {
        "id": "7rzTtEvEJ0py"
      },
      "source": [
        "**Set operations**"
      ]
    },
    {
      "cell_type": "code",
      "execution_count": null,
      "metadata": {
        "id": "pCONjIG1J5Jr"
      },
      "outputs": [],
      "source": [
        "team1_skills = {\"Python\",\"JavaScript\",\"SQL\",\"React\"}\n",
        "team2_skills = {\"JavaScript\",\"SQL\",\"Java\",\"Spring\"}"
      ]
    },
    {
      "cell_type": "markdown",
      "metadata": {
        "id": "PR8F3FtAKdXk"
      },
      "source": [
        "**Common operations**"
      ]
    },
    {
      "cell_type": "code",
      "execution_count": null,
      "metadata": {
        "colab": {
          "base_uri": "https://localhost:8080/"
        },
        "id": "NCpqKzYDKiuk",
        "outputId": "23b97684-cfd3-4ee9-c21f-5668cc4ab4ca"
      },
      "outputs": [
        {
          "name": "stdout",
          "output_type": "stream",
          "text": [
            "Coommon skills: {'JavaScript', 'SQL'}\n",
            "All skills: {'Python', 'JavaScript', 'SQL', 'React', 'Spring', 'Java'}\n",
            "team1 only: {'Python', 'React'}\n"
          ]
        }
      ],
      "source": [
        "print(f\"Coommon skills: {team1_skills.intersection(team2_skills)}\")\n",
        "print(f\"All skills: {team1_skills.union(team2_skills)}\")\n",
        "print(f\"team1 only: {team1_skills.difference(team2_skills)}\")"
      ]
    },
    {
      "cell_type": "markdown",
      "metadata": {
        "id": "NB5cHYFTLZ5l"
      },
      "source": [
        "**Adding to sets**"
      ]
    },
    {
      "cell_type": "code",
      "execution_count": null,
      "metadata": {
        "colab": {
          "base_uri": "https://localhost:8080/"
        },
        "id": "8b9MAzgQLePN",
        "outputId": "ba4e5c1b-6f12-410d-d7dc-91aed6724a11"
      },
      "outputs": [
        {
          "name": "stdout",
          "output_type": "stream",
          "text": [
            "Updated colors: {'yellow', 'orange', 'red', 'blue', 'purple', 'green'}\n"
          ]
        }
      ],
      "source": [
        "colors.add(\"yellow\")\n",
        "colors.update([\"purple\",\"orange\"])\n",
        "print(f\"Updated colors: {colors}\")"
      ]
    },
    {
      "cell_type": "markdown",
      "metadata": {
        "id": "lX-zxOjENQqI"
      },
      "source": [
        "# **Control Flow**"
      ]
    },
    {
      "cell_type": "markdown",
      "metadata": {
        "id": "CdQnZCdLNYno"
      },
      "source": [
        "**Conditional Statements**"
      ]
    },
    {
      "cell_type": "markdown",
      "metadata": {
        "id": "dHwaJWRRNi74"
      },
      "source": [
        "**Basics if-else**"
      ]
    },
    {
      "cell_type": "code",
      "execution_count": null,
      "metadata": {
        "id": "Q5BJYuZHNoPg"
      },
      "outputs": [],
      "source": [
        "def get_grade_letter(score):\n",
        "  if score >= 90:\n",
        "    return \"A\"\n",
        "  elif score >= 80:\n",
        "    return \"B\"\n",
        "  elif score >= 70:\n",
        "    return \"C\"\n",
        "  elif score >= 60:\n",
        "    return \"D\"\n",
        "  else:\n",
        "    return \"F\""
      ]
    },
    {
      "cell_type": "markdown",
      "metadata": {
        "id": "hYUkoVbbQddb"
      },
      "source": [
        "**Test the function**"
      ]
    },
    {
      "cell_type": "code",
      "execution_count": null,
      "metadata": {
        "colab": {
          "base_uri": "https://localhost:8080/"
        },
        "id": "9DmeZ9JMQieT",
        "outputId": "e50bc5bc-1cf0-4035-9770-a90b350a6656"
      },
      "outputs": [
        {
          "name": "stdout",
          "output_type": "stream",
          "text": [
            "Score: 95:Grade A\n",
            "Score: 83:Grade B\n",
            "Score: 72:Grade C\n",
            "Score: 67:Grade D\n",
            "Score: 34:Grade F\n"
          ]
        }
      ],
      "source": [
        "test_score = [95,83,72,67,34]\n",
        "for score in test_score:\n",
        "  grade = get_grade_letter(score)\n",
        "  print(f\"Score: {score}:Grade {grade}\")"
      ]
    },
    {
      "cell_type": "markdown",
      "metadata": {
        "id": "KSR_5wD-RClr"
      },
      "source": [
        "**Nested Conditions**"
      ]
    },
    {
      "cell_type": "code",
      "execution_count": null,
      "metadata": {
        "id": "N4pPEtIYRHI8"
      },
      "outputs": [],
      "source": [
        "def get_shipping_cost(weight,distance):\n",
        "  base_cost = 5.0\n",
        "\n",
        "  if weight <= 1:\n",
        "    weight_cost = 2.0\n",
        "  elif weight <=5:\n",
        "    weight_cost = 5.0\n",
        "  else:\n",
        "    weight_cost = 10.0\n",
        "\n",
        "  if distance <= 100:\n",
        "    distance_cost = 1.0\n",
        "  elif distance <= 500:\n",
        "    distance_cost = 3.0\n",
        "  else:\n",
        "    distance_cost = 7.0\n",
        "  return base_cost + weight_cost + distance_cost\n"
      ]
    },
    {
      "cell_type": "markdown",
      "metadata": {
        "id": "rR6T2HKHSbZd"
      },
      "source": [
        "**Test shipping costs**"
      ]
    },
    {
      "cell_type": "code",
      "execution_count": null,
      "metadata": {
        "colab": {
          "base_uri": "https://localhost:8080/"
        },
        "id": "NuA2m43qSjPd",
        "outputId": "20348c1c-838f-4e6e-836c-5c3ac6564859"
      },
      "outputs": [
        {
          "name": "stdout",
          "output_type": "stream",
          "text": [
            "Light, close: $8.0\n",
            "Heavy, far: $22.0\n"
          ]
        }
      ],
      "source": [
        "print(f\"Light, close: ${get_shipping_cost(0.5,60)}\")\n",
        "print(f\"Heavy, far: ${get_shipping_cost(10,800)}\")"
      ]
    },
    {
      "cell_type": "markdown",
      "metadata": {
        "id": "tD0DCoCWTvLO"
      },
      "source": [
        "# **Loops**"
      ]
    },
    {
      "cell_type": "markdown",
      "metadata": {
        "id": "VrhazHpDUSMf"
      },
      "source": [
        "**Basic for loop**"
      ]
    },
    {
      "cell_type": "code",
      "execution_count": null,
      "metadata": {
        "colab": {
          "base_uri": "https://localhost:8080/"
        },
        "id": "LmxD1k5mWXLw",
        "outputId": "42782b29-3031-420b-dcdc-47e05030191a"
      },
      "outputs": [
        {
          "name": "stdout",
          "output_type": "stream",
          "text": [
            "I like apple\n",
            "I like banana\n",
            "I like orange\n",
            "I like grape\n"
          ]
        }
      ],
      "source": [
        "fruits = [\"apple\",\"banana\",\"orange\",\"grape\"]\n",
        "for fruit in fruits:\n",
        "  print(f\"I like {fruit}\")"
      ]
    },
    {
      "cell_type": "markdown",
      "metadata": {
        "id": "aDiytLpnWuIo"
      },
      "source": [
        "**Loop with enumerate(get index)**"
      ]
    },
    {
      "cell_type": "code",
      "execution_count": null,
      "metadata": {
        "colab": {
          "base_uri": "https://localhost:8080/"
        },
        "id": "EbiixH0DXaSC",
        "outputId": "c261908c-b7e7-4ad8-a9cd-c1ce4872ca54"
      },
      "outputs": [
        {
          "name": "stdout",
          "output_type": "stream",
          "text": [
            "1.apple\n",
            "2.banana\n",
            "3.orange\n",
            "4.grape\n"
          ]
        }
      ],
      "source": [
        "for i, fruit in enumerate(fruits):\n",
        "  print(f\"{i+1}.{fruit}\")"
      ]
    },
    {
      "cell_type": "markdown",
      "metadata": {
        "id": "NOi23vKHXyzJ"
      },
      "source": [
        "**Loop with range**"
      ]
    },
    {
      "cell_type": "code",
      "execution_count": null,
      "metadata": {
        "colab": {
          "base_uri": "https://localhost:8080/"
        },
        "id": "WlHh3xAgX4vp",
        "outputId": "c38b5cf7-182a-4dfa-f4e2-10342780d168"
      },
      "outputs": [
        {
          "name": "stdout",
          "output_type": "stream",
          "text": [
            "Day 1 of the week\n",
            "Day 2 of the week\n",
            "Day 3 of the week\n",
            "Day 4 of the week\n",
            "Day 5 of the week\n",
            "Day 6 of the week\n",
            "Day 7 of the week\n"
          ]
        }
      ],
      "source": [
        "for day in range(1,8):\n",
        "  print(f\"Day {day} of the week\")"
      ]
    },
    {
      "cell_type": "markdown",
      "metadata": {
        "id": "2GLuMrP4YJoR"
      },
      "source": [
        "**Nested loops- Creating a multiplication table**"
      ]
    },
    {
      "cell_type": "code",
      "execution_count": null,
      "metadata": {
        "colab": {
          "base_uri": "https://localhost:8080/"
        },
        "id": "duxIYmoNYVD6",
        "outputId": "4be3d0da-fcec-4912-e0d8-ca99e98e0f13"
      },
      "outputs": [
        {
          "name": "stdout",
          "output_type": "stream",
          "text": [
            "Multiplication Table:\n",
            "1 x 1 =  1 \n",
            "1 x 2 =  2 \n",
            "1 x 3 =  3 \n",
            "1 x 4 =  4 \n",
            "1 x 5 =  5 \n",
            "2 x 1 =  2 \n",
            "2 x 2 =  4 \n",
            "2 x 3 =  6 \n",
            "2 x 4 =  8 \n",
            "2 x 5 = 10 \n",
            "3 x 1 =  3 \n",
            "3 x 2 =  6 \n",
            "3 x 3 =  9 \n",
            "3 x 4 = 12 \n",
            "3 x 5 = 15 \n",
            "4 x 1 =  4 \n",
            "4 x 2 =  8 \n",
            "4 x 3 = 12 \n",
            "4 x 4 = 16 \n",
            "4 x 5 = 20 \n",
            "5 x 1 =  5 \n",
            "5 x 2 = 10 \n",
            "5 x 3 = 15 \n",
            "5 x 4 = 20 \n",
            "5 x 5 = 25 \n"
          ]
        }
      ],
      "source": [
        "print(\"Multiplication Table:\")\n",
        "for i in range(1,6):\n",
        "  for j in range(1,6):\n",
        "    product = i*j\n",
        "    print(f\"{i} x {j} = {product:2d}\",end=\" \")\n",
        "    print() # new line after each row"
      ]
    },
    {
      "cell_type": "markdown",
      "metadata": {
        "id": "Nmm25-RJZC36"
      },
      "source": [
        "**Processing data with loops**"
      ]
    },
    {
      "cell_type": "code",
      "execution_count": null,
      "metadata": {
        "colab": {
          "base_uri": "https://localhost:8080/"
        },
        "id": "uhTmSE4ZZOea",
        "outputId": "43e34baa-34f8-4e7a-ac2a-29c4c8d75dac"
      },
      "outputs": [
        {
          "name": "stdout",
          "output_type": "stream",
          "text": [
            "Laptop: $4995\n",
            "Phone: $5990\n",
            "Tablet: $3192\n",
            "Total revenue: $14177\n"
          ]
        }
      ],
      "source": [
        "sales_data = [\n",
        "    {\"product\": \"Laptop\",\"price\":999,\"quantity\":5},\n",
        "    {\"product\": \"Phone\",\"price\":599,\"quantity\":10},\n",
        "    {\"product\": \"Tablet\",\"price\":399,\"quantity\":8}\n",
        "]\n",
        "total_revenue = 0\n",
        "\n",
        "for item in sales_data:\n",
        "  item_revenue = item[\"price\"] * item[\"quantity\"]\n",
        "  total_revenue += item_revenue\n",
        "  print(f\"{item['product']}: ${item_revenue}\")\n",
        "\n",
        "print(f\"Total revenue: ${total_revenue}\")\n"
      ]
    },
    {
      "cell_type": "markdown",
      "metadata": {
        "id": "cCFqlt_-uLmi"
      },
      "source": [
        "**Loops - While Loop**"
      ]
    },
    {
      "cell_type": "markdown",
      "metadata": {
        "id": "qxDBn3mbuU4p"
      },
      "source": [
        "**While loop for user input simulation**"
      ]
    },
    {
      "cell_type": "code",
      "execution_count": null,
      "metadata": {
        "colab": {
          "base_uri": "https://localhost:8080/"
        },
        "id": "ECHqMyUWuPSr",
        "outputId": "6f657d7e-4511-4507-cd42-3ca11ee2a87f"
      },
      "outputs": [
        {
          "name": "stdout",
          "output_type": "stream",
          "text": [
            "Guess the number between 1 and 10!\n",
            "Guess 1: 6 - Too Low!\n",
            "Game finished in 1 attempts\n",
            "Guess 2: 6 - Too Low!\n",
            "Game finished in 2 attempts\n",
            "Guess 3: 10 - Too high!\n",
            "Game finished in 3 attempts\n",
            "Guess 4: 1 - Too Low!\n",
            "Game finished in 4 attempts\n",
            "Guess 5: 7 - Correct!\n",
            "Game finished in 5 attempts\n"
          ]
        }
      ],
      "source": [
        "def simple_guessing_game():\n",
        "  target = 7\n",
        "  guess = 0\n",
        "  attempts = 0\n",
        "  print(\"Guess the number between 1 and 10!\")\n",
        "\n",
        "  while guess != target:\n",
        "\n",
        "    # Simulate user input\n",
        "    import random\n",
        "    guess = random.randint(1,10)\n",
        "    attempts += 1\n",
        "\n",
        "    if guess < target:\n",
        "      print(f\"Guess {attempts}: {guess} - Too Low!\")\n",
        "    elif guess > target:\n",
        "      print(f\"Guess {attempts}: {guess} - Too high!\")\n",
        "    else:\n",
        "      print(f\"Guess {attempts}: {guess} - Correct!\")\n",
        "\n",
        "    #Safecty check\n",
        "    if attempts > 10:\n",
        "      print(\"Max attempts reached!\")\n",
        "      break\n",
        "    print(f\"Game finished in {attempts} attempts\")\n",
        "\n",
        "simple_guessing_game()"
      ]
    },
    {
      "cell_type": "markdown",
      "metadata": {
        "id": "MEv-caZIyv7i"
      },
      "source": [
        "**While loop for processing**"
      ]
    },
    {
      "cell_type": "code",
      "execution_count": null,
      "metadata": {
        "colab": {
          "base_uri": "https://localhost:8080/"
        },
        "id": "UOp2xGrAy2FC",
        "outputId": "2ddc1806-7455-4bc4-df26-69a1d774c9ef"
      },
      "outputs": [
        {
          "name": "stdout",
          "output_type": "stream",
          "text": [
            "Processing: Task 1\n",
            "Reaming tasks: 3\n",
            "Processing: Task 2\n",
            "Reaming tasks: 2\n",
            "Processing: Task 3\n",
            "Reaming tasks: 1\n",
            "Processing: Task 4\n",
            "Reaming tasks: 0\n",
            "All tasks completed!\n"
          ]
        }
      ],
      "source": [
        "def process_queue():\n",
        "  queue = [\"Task 1\",\"Task 2\",\"Task 3\",\"Task 4\"]\n",
        "\n",
        "  while queue:\n",
        "    current_task = queue.pop(0) #Remove first item\n",
        "    print(f\"Processing: {current_task}\")\n",
        "\n",
        "    print(f\"Reaming tasks: {len(queue)}\")\n",
        "\n",
        "  print(\"All tasks completed!\")\n",
        "process_queue()"
      ]
    },
    {
      "cell_type": "markdown",
      "metadata": {
        "id": "jPMWyZ2E1IRb"
      },
      "source": [
        "# **Function**"
      ]
    },
    {
      "cell_type": "markdown",
      "metadata": {
        "id": "Z6X-a_og1Mja"
      },
      "source": [
        "**Basic function definition**"
      ]
    },
    {
      "cell_type": "code",
      "execution_count": null,
      "metadata": {
        "id": "7jcxyvJZ1YZ7"
      },
      "outputs": [],
      "source": [
        "def greet(name):\n",
        "  return f\"Hello,{name}!\""
      ]
    },
    {
      "cell_type": "markdown",
      "metadata": {
        "id": "OYs65jgC1kq6"
      },
      "source": [
        "**Function call**"
      ]
    },
    {
      "cell_type": "code",
      "execution_count": null,
      "metadata": {
        "colab": {
          "base_uri": "https://localhost:8080/"
        },
        "id": "Df8J-yJg1pdz",
        "outputId": "abf0df9a-d00b-43d6-f70d-49ad8adcc15b"
      },
      "outputs": [
        {
          "name": "stdout",
          "output_type": "stream",
          "text": [
            "Hello,Python Programmer!\n"
          ]
        }
      ],
      "source": [
        "message = greet(\"Python Programmer\")\n",
        "print(message)\n"
      ]
    },
    {
      "cell_type": "markdown",
      "metadata": {
        "id": "HxTg2XaA2AaD"
      },
      "source": [
        "**Function with multiple parameters**"
      ]
    },
    {
      "cell_type": "code",
      "execution_count": null,
      "metadata": {
        "id": "ljp--TkL2IAi"
      },
      "outputs": [],
      "source": [
        "def calculate_area(length,width):\n",
        "  area = length * width\n",
        "  return area"
      ]
    },
    {
      "cell_type": "markdown",
      "metadata": {
        "id": "ODLhU7Ng2e6q"
      },
      "source": [
        "**Test the function**"
      ]
    },
    {
      "cell_type": "code",
      "execution_count": null,
      "metadata": {
        "colab": {
          "base_uri": "https://localhost:8080/"
        },
        "id": "8nyegRgf2jub",
        "outputId": "200b7f88-704b-4748-b220-1bbcf78e33a5"
      },
      "outputs": [
        {
          "name": "stdout",
          "output_type": "stream",
          "text": [
            "Room area: 120 square feet\n"
          ]
        }
      ],
      "source": [
        "room_area = calculate_area(12,10)\n",
        "print(f\"Room area: {room_area} square feet\")"
      ]
    },
    {
      "cell_type": "markdown",
      "metadata": {
        "id": "yob2Mduo3gNU"
      },
      "source": [
        "**Function with defalt parameters**"
      ]
    },
    {
      "cell_type": "code",
      "execution_count": null,
      "metadata": {
        "id": "jHc2JhFJ3rlT"
      },
      "outputs": [],
      "source": [
        "def create_user_profile(name,age=20,location=\"Unknow\", active=True):\n",
        "  return {\n",
        "      \"name\":name,\n",
        "      \"age\": age,\n",
        "      \"location\":location,\n",
        "      \"active\": active\n",
        "  }"
      ]
    },
    {
      "cell_type": "markdown",
      "metadata": {
        "id": "zxurUb-z4lhD"
      },
      "source": [
        "**Differnt ways to call**"
      ]
    },
    {
      "cell_type": "code",
      "execution_count": null,
      "metadata": {
        "colab": {
          "base_uri": "https://localhost:8080/"
        },
        "id": "RAj0zlX_4rtc",
        "outputId": "9a6041e3-89b1-4d76-b5a3-97be302d5b1e"
      },
      "outputs": [
        {
          "name": "stdout",
          "output_type": "stream",
          "text": [
            "Profile1: {'name': 'Alice', 'age': 20, 'location': 'Unknow', 'active': True}\n",
            "Profile2: {'name': 'Bob', 'age': 25, 'location': 'Unknow', 'active': True}\n",
            "Profile3: {'name': 'Charlie', 'age': 30, 'location': 'New York', 'active': True}\n"
          ]
        }
      ],
      "source": [
        "profile1 = create_user_profile(\"Alice\") # Use defaults\n",
        "profile2 = create_user_profile(\"Bob\",25) #overide age\n",
        "profile3 = create_user_profile(\"Charlie\",location=\"New York\",age=30) #Named parameter\n",
        "\n",
        "print(f\"Profile1: {profile1}\")\n",
        "print(f\"Profile2: {profile2}\")\n",
        "print(f\"Profile3: {profile3}\")\n"
      ]
    },
    {
      "cell_type": "markdown",
      "metadata": {
        "id": "_3qcPBgC72Al"
      },
      "source": [
        "# **Advanced Function Conecepts**"
      ]
    },
    {
      "cell_type": "markdown",
      "metadata": {
        "id": "II77g9tv7_UU"
      },
      "source": [
        "**Function returning multiple values**"
      ]
    },
    {
      "cell_type": "code",
      "execution_count": null,
      "metadata": {
        "id": "deDpfFXk8Lz1"
      },
      "outputs": [],
      "source": [
        "def analyze_text(text):\n",
        "  words = text.split()\n",
        "  words_count = len(words)\n",
        "  char_count = len(text)\n",
        "  char_count_no_spaces = len(text.replace(\" \",\"\"))\n",
        "\n",
        "  return words_count,char_count,char_count_no_spaces"
      ]
    },
    {
      "cell_type": "markdown",
      "metadata": {
        "id": "r3y2TBJ79rcM"
      },
      "source": [
        "**Test with sample text**"
      ]
    },
    {
      "cell_type": "code",
      "execution_count": null,
      "metadata": {
        "colab": {
          "base_uri": "https://localhost:8080/"
        },
        "id": "k3J2NqbH9xRD",
        "outputId": "46dce948-4e58-46b2-8ab2-6be916786fee"
      },
      "outputs": [
        {
          "name": "stdout",
          "output_type": "stream",
          "text": [
            "Text: Python is a powerful programming language\n",
            "Words: 6\n",
            "Characters: 41\n",
            "Characters (no spaces): 36\n"
          ]
        }
      ],
      "source": [
        "sample_text = \"Python is a powerful programming language\"\n",
        "words,chars,chars_no_spaces = analyze_text(sample_text)\n",
        "\n",
        "print(f\"Text: {sample_text}\")\n",
        "print(f\"Words: {words}\")\n",
        "print(f\"Characters: {chars}\")\n",
        "print(f\"Characters (no spaces): {chars_no_spaces}\")"
      ]
    },
    {
      "cell_type": "markdown",
      "metadata": {
        "id": "rMmTkimD-8CE"
      },
      "source": [
        "**Varible-length arguments**"
      ]
    },
    {
      "cell_type": "code",
      "execution_count": null,
      "metadata": {
        "id": "sQ0n1EOQ_D7L"
      },
      "outputs": [],
      "source": [
        "def calculate_average(*numbers):\n",
        "  if not numbers:\n",
        "    return 0\n",
        "  return sum(numbers)/len(numbers)"
      ]
    },
    {
      "cell_type": "markdown",
      "metadata": {
        "id": "V5w1gKDl_jb1"
      },
      "source": [
        "**Test with different numbers of arguments**"
      ]
    },
    {
      "cell_type": "code",
      "execution_count": null,
      "metadata": {
        "colab": {
          "base_uri": "https://localhost:8080/"
        },
        "id": "ibHsPCDb_sKE",
        "outputId": "a0717c56-bc57-4231-aa71-1989111789e7"
      },
      "outputs": [
        {
          "name": "stdout",
          "output_type": "stream",
          "text": [
            "Average of 10,20,30: 20.0\n",
            "Average of 5,15,25,35,45: 25.0\n",
            "Average of 100: 100.0\n"
          ]
        }
      ],
      "source": [
        "avg1 = calculate_average(10,20,30)\n",
        "avg2 = calculate_average(5, 15, 25, 35, 45)\n",
        "avg3 = calculate_average(100)\n",
        "\n",
        "print(f\"Average of 10,20,30: {avg1}\")\n",
        "print(f\"Average of 5,15,25,35,45: {avg2}\")\n",
        "print(f\"Average of 100: {avg3}\")"
      ]
    },
    {
      "cell_type": "markdown",
      "metadata": {
        "id": "gUAQjzD0A0Ed"
      },
      "source": [
        "**Keyword arguments**"
      ]
    },
    {
      "cell_type": "code",
      "execution_count": null,
      "metadata": {
        "colab": {
          "base_uri": "https://localhost:8080/"
        },
        "id": "CP2lhF1EA8qt",
        "outputId": "2b14073e-485e-45d1-d87f-8e2d6c9ad283"
      },
      "outputs": [
        {
          "name": "stdout",
          "output_type": "stream",
          "text": [
            "=== REPORT ===\n",
            "Title:Monthly Sales Report\n",
            "Data:2024-01-01\n",
            "Total Sales:15000\n",
            "New Customers:25\n",
            "Returning Customers:150\n",
            "=============\n",
            "=== REPORT ===\n",
            "Title:Monthly Sales Report\n",
            "Data:2024-01-01\n",
            "Total Sales:15000\n",
            "New Customers:25\n",
            "Returning Customers:150\n",
            "=============\n"
          ]
        }
      ],
      "source": [
        "def create_report(**data):\n",
        "  print(\"=== REPORT ===\")\n",
        "\n",
        "  for key, value in data.items():\n",
        "    print(f\"{key.replace('_',' ').title()}:{value}\")\n",
        "\n",
        "  print(\"=============\")\n",
        "\n",
        "create_report(\n",
        "    title=\"Monthly Sales Report\",\n",
        "    data=\"2024-01-01\",\n",
        "    total_sales=15000,\n",
        "    new_customers=25,\n",
        "    returning_customers=150\n",
        ")"
      ]
    },
    {
      "cell_type": "markdown",
      "metadata": {
        "id": "nlgKt8ydFI4u"
      },
      "source": [
        "# **Lambda Function**"
      ]
    },
    {
      "cell_type": "markdown",
      "metadata": {
        "id": "VWHGpHvNFfjG"
      },
      "source": [
        "**Lambda functions(anonymoooouse function)**"
      ]
    },
    {
      "cell_type": "markdown",
      "metadata": {
        "id": "GIAU6S3lFpZ-"
      },
      "source": [
        "**Regular function**"
      ]
    },
    {
      "cell_type": "code",
      "execution_count": null,
      "metadata": {
        "id": "S-rR-kC0Fu3m"
      },
      "outputs": [],
      "source": [
        "def square(x):\n",
        "  return x ** 2"
      ]
    },
    {
      "cell_type": "markdown",
      "metadata": {
        "id": "WFRUXouZF9aV"
      },
      "source": [
        "**Lambda equivalent**"
      ]
    },
    {
      "cell_type": "code",
      "execution_count": null,
      "metadata": {
        "colab": {
          "base_uri": "https://localhost:8080/"
        },
        "id": "9Onc1ei8GELG",
        "outputId": "59cc0bc0-3800-4a7a-85c6-94971dd9e287"
      },
      "outputs": [
        {
          "name": "stdout",
          "output_type": "stream",
          "text": [
            "Regular function: 25\n",
            "Lambda function: 25\n"
          ]
        }
      ],
      "source": [
        "square_lambda = lambda x: x ** 2\n",
        "print(f\"Regular function: {square(5)}\")\n",
        "print(f\"Lambda function: {square_lambda(5)}\")"
      ]
    },
    {
      "cell_type": "markdown",
      "metadata": {
        "id": "oKz7xxihG6nV"
      },
      "source": [
        "**Lambda with multiple arguments**"
      ]
    },
    {
      "cell_type": "code",
      "execution_count": null,
      "metadata": {
        "colab": {
          "base_uri": "https://localhost:8080/"
        },
        "id": "LHmLecqeHDf2",
        "outputId": "f96a3615-3cc5-415a-c940-9b4d930ad35a"
      },
      "outputs": [
        {
          "name": "stdout",
          "output_type": "stream",
          "text": [
            "Multiply: 12\n"
          ]
        }
      ],
      "source": [
        "multiply = lambda x,y: x * y\n",
        "print(f\"Multiply: {multiply(3,4)}\")"
      ]
    },
    {
      "cell_type": "markdown",
      "metadata": {
        "id": "OFPemD6ZHXQO"
      },
      "source": [
        "**Lambda with built-in functions**"
      ]
    },
    {
      "cell_type": "code",
      "execution_count": null,
      "metadata": {
        "colab": {
          "base_uri": "https://localhost:8080/"
        },
        "id": "AcejefeoHe_G",
        "outputId": "eb5f635b-17ba-4ca9-ee1a-36be2407a57b"
      },
      "outputs": [
        {
          "name": "stdout",
          "output_type": "stream",
          "text": [
            "Squared Numbers: [1, 4, 9, 16, 25]\n"
          ]
        }
      ],
      "source": [
        "numbers = [1,2,3,4,5]\n",
        "squared = list(map(lambda x: x**2, numbers))\n",
        "print(f\"Squared Numbers: {squared}\")"
      ]
    },
    {
      "cell_type": "markdown",
      "metadata": {
        "id": "aNU4pl8_IBKn"
      },
      "source": [
        "**Filtering with lambda**"
      ]
    },
    {
      "cell_type": "code",
      "execution_count": null,
      "metadata": {
        "colab": {
          "base_uri": "https://localhost:8080/"
        },
        "id": "L7XEVTJjII99",
        "outputId": "3fa58a79-3c08-40c8-9b75-e9bf72b1e412"
      },
      "outputs": [
        {
          "name": "stdout",
          "output_type": "stream",
          "text": [
            "Adults: [21, 35, 45, 18, 67]\n"
          ]
        }
      ],
      "source": [
        "ages = [16,21,35,12,45,18,67]\n",
        "adults = list(filter(lambda age: age >= 18, ages))\n",
        "print(f\"Adults: {adults}\")"
      ]
    },
    {
      "cell_type": "markdown",
      "metadata": {
        "id": "N22tkNLZIx2G"
      },
      "source": [
        "**Sorting with lambda**"
      ]
    },
    {
      "cell_type": "code",
      "execution_count": null,
      "metadata": {
        "colab": {
          "base_uri": "https://localhost:8080/"
        },
        "id": "CosQevZzI19W",
        "outputId": "04a292bb-fd07-4e8c-c058-72306cfb8995"
      },
      "outputs": [
        {
          "name": "stdout",
          "output_type": "stream",
          "text": [
            "People sorted by age:\n",
            "Bob: 25\n",
            "Alice: 30\n",
            "Charlie: 35\n"
          ]
        }
      ],
      "source": [
        "people = [\n",
        "    {\"name\":\"Alice\",\"age\":30},\n",
        "    {\"name\":\"Bob\",\"age\":25},\n",
        "    {\"name\":\"Charlie\",\"age\":35}\n",
        "]\n",
        "sorted_people = sorted(people,key=lambda person: person[\"age\"])\n",
        "print(\"People sorted by age:\")\n",
        "\n",
        "for person in sorted_people:\n",
        "  print(f\"{person['name']}: {person['age']}\")\n"
      ]
    },
    {
      "cell_type": "markdown",
      "metadata": {
        "id": "yRj-Lz6LSjS9"
      },
      "source": [
        "# **Creating arrys**"
      ]
    },
    {
      "cell_type": "code",
      "execution_count": null,
      "metadata": {
        "colab": {
          "base_uri": "https://localhost:8080/"
        },
        "id": "7dwaPW0JSnc8",
        "outputId": "c38d1592-ad06-4378-8951-e976f5e06b5b"
      },
      "outputs": [
        {
          "name": "stdout",
          "output_type": "stream",
          "text": [
            "Array a: [2 4 8 6 3]\n",
            "Array b: [1 2 3 4 5]\n",
            "2x3 Zeros: [[0. 0. 0.]\n",
            " [0. 0. 0.]]\n",
            "3x2 Ones: [[1. 1.]\n",
            " [1. 1.]\n",
            " [1. 1.]]\n"
          ]
        }
      ],
      "source": [
        "import numpy as np\n",
        "\n",
        "a = np.array([2,4,8,6,3])\n",
        "b = np.arange(1,6)\n",
        "c = np.zeros((2,3))\n",
        "d = np.ones((3,2))\n",
        "\n",
        "print(\"Array a:\",a)\n",
        "print(\"Array b:\",b)\n",
        "print(\"2x3 Zeros:\",c)\n",
        "print(\"3x2 Ones:\",d)"
      ]
    },
    {
      "cell_type": "markdown",
      "metadata": {
        "id": "VrKzXiPWUAWj"
      },
      "source": [
        "**Indexing & Slicing**"
      ]
    },
    {
      "cell_type": "code",
      "execution_count": null,
      "metadata": {
        "id": "bEp_CA1BUHQz"
      },
      "outputs": [],
      "source": [
        "print(\"First element of a:\",a[0])\n",
        "print(\"Last two element of a:\",a[-2])"
      ]
    },
    {
      "cell_type": "markdown",
      "metadata": {
        "id": "FZIN89EJUZ57"
      },
      "source": [
        " **Basic arithmetic operartions**\n",
        "\n",
        "---\n",
        "\n"
      ]
    },
    {
      "cell_type": "code",
      "execution_count": null,
      "metadata": {
        "colab": {
          "base_uri": "https://localhost:8080/"
        },
        "id": "DygUnW9UUhgj",
        "outputId": "6a70f9eb-14a5-456b-c920-c6ee76d5d946"
      },
      "outputs": [
        {
          "name": "stdout",
          "output_type": "stream",
          "text": [
            "a + 2: [ 4  6 10  8  5]\n",
            "a * 3: [ 6 12 24 18  9]\n"
          ]
        }
      ],
      "source": [
        "print(\"a + 2:\", a + 2)\n",
        "print(\"a * 3:\", a * 3)"
      ]
    },
    {
      "cell_type": "markdown",
      "metadata": {
        "id": "mLmGVM8WU3Dr"
      },
      "source": [
        "**Basic statistics **"
      ]
    },
    {
      "cell_type": "code",
      "execution_count": null,
      "metadata": {
        "colab": {
          "base_uri": "https://localhost:8080/"
        },
        "id": "ltEixsZbVFGT",
        "outputId": "33cb03f8-7a31-4ab4-c228-719306efd7c4"
      },
      "outputs": [
        {
          "name": "stdout",
          "output_type": "stream",
          "text": [
            "Square of a: [ 4 16 64 36  9]\n",
            "Mean of a: 4.6\n",
            "Standard diviation: 2.1540659228538015\n"
          ]
        }
      ],
      "source": [
        "print(\"Square of a:\", np.square(a))\n",
        "print(\"Mean of a:\", np.mean(a))\n",
        "print(\"Standard diviation:\", np.std(a))"
      ]
    },
    {
      "cell_type": "markdown",
      "metadata": {
        "id": "I-Y5tiIHVhtj"
      },
      "source": [
        "**Reshaping arrays**"
      ]
    },
    {
      "cell_type": "code",
      "execution_count": null,
      "metadata": {
        "colab": {
          "base_uri": "https://localhost:8080/"
        },
        "id": "5vzFyQGrVKA2",
        "outputId": "d21ee192-17af-4695-e59a-e29b30e7c2d1"
      },
      "outputs": [
        {
          "name": "stdout",
          "output_type": "stream",
          "text": [
            "Reshaped 3x3 matrix:\n"
          ]
        },
        {
          "data": {
            "text/plain": [
              "array([[1, 2, 3],\n",
              "       [4, 5, 6],\n",
              "       [7, 8, 9]])"
            ]
          },
          "execution_count": 7,
          "metadata": {},
          "output_type": "execute_result"
        }
      ],
      "source": [
        "matrix = np.arange(1 ,10).reshape((3,3))\n",
        "print(\"Reshaped 3x3 matrix:\")\n",
        "matrix"
      ]
    },
    {
      "cell_type": "markdown",
      "metadata": {
        "id": "VkW9VDsJWGUj"
      },
      "source": [
        "**Transpose**"
      ]
    },
    {
      "cell_type": "code",
      "execution_count": null,
      "metadata": {
        "colab": {
          "base_uri": "https://localhost:8080/"
        },
        "id": "xXgueQlcWKRr",
        "outputId": "4b872dfc-2cdf-48f5-f7e4-c08b127fb4b0"
      },
      "outputs": [
        {
          "name": "stdout",
          "output_type": "stream",
          "text": [
            "Transpose:\n"
          ]
        },
        {
          "data": {
            "text/plain": [
              "array([[1, 4, 7],\n",
              "       [2, 5, 8],\n",
              "       [3, 6, 9]])"
            ]
          },
          "execution_count": 8,
          "metadata": {},
          "output_type": "execute_result"
        }
      ],
      "source": [
        "print(\"Transpose:\")\n",
        "matrix.T"
      ]
    },
    {
      "cell_type": "markdown",
      "metadata": {
        "id": "InUgfnl-WZUV"
      },
      "source": [
        "**Boolean indexing**"
      ]
    },
    {
      "cell_type": "code",
      "execution_count": null,
      "metadata": {
        "colab": {
          "base_uri": "https://localhost:8080/"
        },
        "id": "KYOjxPAGWdg7",
        "outputId": "b01eb997-8eb2-4011-96b9-3f749795af78"
      },
      "outputs": [
        {
          "name": "stdout",
          "output_type": "stream",
          "text": [
            "Elements > 5: [6 7 8 9]\n"
          ]
        }
      ],
      "source": [
        "print(\"Elements > 5:\", matrix[matrix > 5])"
      ]
    },
    {
      "cell_type": "markdown",
      "metadata": {
        "id": "QRJmQQvgWpgT"
      },
      "source": [
        "# Pandas"
      ]
    },
    {
      "cell_type": "markdown",
      "metadata": {
        "id": "LGflGbJaXvQz"
      },
      "source": [
        "**Create a DataFrame**"
      ]
    },
    {
      "cell_type": "code",
      "execution_count": null,
      "metadata": {
        "colab": {
          "base_uri": "https://localhost:8080/",
          "height": 206
        },
        "id": "yVq13Z_BadqD",
        "outputId": "be4fbd5e-c944-428f-b9bf-9544c28b37f0"
      },
      "outputs": [
        {
          "data": {
            "application/vnd.google.colaboratory.intrinsic+json": {
              "summary": "{\n  \"name\": \"df\",\n  \"rows\": 5,\n  \"fields\": [\n    {\n      \"column\": \"Name\",\n      \"properties\": {\n        \"dtype\": \"string\",\n        \"num_unique_values\": 5,\n        \"samples\": [\n          \"Bob\",\n          \"Eva\",\n          \"charil\"\n        ],\n        \"semantic_type\": \"\",\n        \"description\": \"\"\n      }\n    },\n    {\n      \"column\": \"Age\",\n      \"properties\": {\n        \"dtype\": \"number\",\n        \"std\": 7,\n        \"min\": 22,\n        \"max\": 40,\n        \"num_unique_values\": 5,\n        \"samples\": [\n          30,\n          22,\n          35\n        ],\n        \"semantic_type\": \"\",\n        \"description\": \"\"\n      }\n    },\n    {\n      \"column\": \"Departement\",\n      \"properties\": {\n        \"dtype\": \"string\",\n        \"num_unique_values\": 3,\n        \"samples\": [\n          \"Sales\",\n          \"Engeneering\",\n          \"HR\"\n        ],\n        \"semantic_type\": \"\",\n        \"description\": \"\"\n      }\n    },\n    {\n      \"column\": \"Salary\",\n      \"properties\": {\n        \"dtype\": \"number\",\n        \"std\": 22472,\n        \"min\": 40000,\n        \"max\": 90000,\n        \"num_unique_values\": 5,\n        \"samples\": [\n          80000,\n          45000,\n          40000\n        ],\n        \"semantic_type\": \"\",\n        \"description\": \"\"\n      }\n    }\n  ]\n}",
              "type": "dataframe",
              "variable_name": "df"
            },
            "text/html": [
              "\n",
              "  <div id=\"df-da3326fb-8d54-47a4-b938-862ea88da122\" class=\"colab-df-container\">\n",
              "    <div>\n",
              "<style scoped>\n",
              "    .dataframe tbody tr th:only-of-type {\n",
              "        vertical-align: middle;\n",
              "    }\n",
              "\n",
              "    .dataframe tbody tr th {\n",
              "        vertical-align: top;\n",
              "    }\n",
              "\n",
              "    .dataframe thead th {\n",
              "        text-align: right;\n",
              "    }\n",
              "</style>\n",
              "<table border=\"1\" class=\"dataframe\">\n",
              "  <thead>\n",
              "    <tr style=\"text-align: right;\">\n",
              "      <th></th>\n",
              "      <th>Name</th>\n",
              "      <th>Age</th>\n",
              "      <th>Departement</th>\n",
              "      <th>Salary</th>\n",
              "    </tr>\n",
              "  </thead>\n",
              "  <tbody>\n",
              "    <tr>\n",
              "      <th>0</th>\n",
              "      <td>Alice</td>\n",
              "      <td>25</td>\n",
              "      <td>Sales</td>\n",
              "      <td>50000</td>\n",
              "    </tr>\n",
              "    <tr>\n",
              "      <th>1</th>\n",
              "      <td>Bob</td>\n",
              "      <td>30</td>\n",
              "      <td>Engeneering</td>\n",
              "      <td>80000</td>\n",
              "    </tr>\n",
              "    <tr>\n",
              "      <th>2</th>\n",
              "      <td>charil</td>\n",
              "      <td>35</td>\n",
              "      <td>HR</td>\n",
              "      <td>40000</td>\n",
              "    </tr>\n",
              "    <tr>\n",
              "      <th>3</th>\n",
              "      <td>David</td>\n",
              "      <td>40</td>\n",
              "      <td>Engeneering</td>\n",
              "      <td>90000</td>\n",
              "    </tr>\n",
              "    <tr>\n",
              "      <th>4</th>\n",
              "      <td>Eva</td>\n",
              "      <td>22</td>\n",
              "      <td>HR</td>\n",
              "      <td>45000</td>\n",
              "    </tr>\n",
              "  </tbody>\n",
              "</table>\n",
              "</div>\n",
              "    <div class=\"colab-df-buttons\">\n",
              "\n",
              "  <div class=\"colab-df-container\">\n",
              "    <button class=\"colab-df-convert\" onclick=\"convertToInteractive('df-da3326fb-8d54-47a4-b938-862ea88da122')\"\n",
              "            title=\"Convert this dataframe to an interactive table.\"\n",
              "            style=\"display:none;\">\n",
              "\n",
              "  <svg xmlns=\"http://www.w3.org/2000/svg\" height=\"24px\" viewBox=\"0 -960 960 960\">\n",
              "    <path d=\"M120-120v-720h720v720H120Zm60-500h600v-160H180v160Zm220 220h160v-160H400v160Zm0 220h160v-160H400v160ZM180-400h160v-160H180v160Zm440 0h160v-160H620v160ZM180-180h160v-160H180v160Zm440 0h160v-160H620v160Z\"/>\n",
              "  </svg>\n",
              "    </button>\n",
              "\n",
              "  <style>\n",
              "    .colab-df-container {\n",
              "      display:flex;\n",
              "      gap: 12px;\n",
              "    }\n",
              "\n",
              "    .colab-df-convert {\n",
              "      background-color: #E8F0FE;\n",
              "      border: none;\n",
              "      border-radius: 50%;\n",
              "      cursor: pointer;\n",
              "      display: none;\n",
              "      fill: #1967D2;\n",
              "      height: 32px;\n",
              "      padding: 0 0 0 0;\n",
              "      width: 32px;\n",
              "    }\n",
              "\n",
              "    .colab-df-convert:hover {\n",
              "      background-color: #E2EBFA;\n",
              "      box-shadow: 0px 1px 2px rgba(60, 64, 67, 0.3), 0px 1px 3px 1px rgba(60, 64, 67, 0.15);\n",
              "      fill: #174EA6;\n",
              "    }\n",
              "\n",
              "    .colab-df-buttons div {\n",
              "      margin-bottom: 4px;\n",
              "    }\n",
              "\n",
              "    [theme=dark] .colab-df-convert {\n",
              "      background-color: #3B4455;\n",
              "      fill: #D2E3FC;\n",
              "    }\n",
              "\n",
              "    [theme=dark] .colab-df-convert:hover {\n",
              "      background-color: #434B5C;\n",
              "      box-shadow: 0px 1px 3px 1px rgba(0, 0, 0, 0.15);\n",
              "      filter: drop-shadow(0px 1px 2px rgba(0, 0, 0, 0.3));\n",
              "      fill: #FFFFFF;\n",
              "    }\n",
              "  </style>\n",
              "\n",
              "    <script>\n",
              "      const buttonEl =\n",
              "        document.querySelector('#df-da3326fb-8d54-47a4-b938-862ea88da122 button.colab-df-convert');\n",
              "      buttonEl.style.display =\n",
              "        google.colab.kernel.accessAllowed ? 'block' : 'none';\n",
              "\n",
              "      async function convertToInteractive(key) {\n",
              "        const element = document.querySelector('#df-da3326fb-8d54-47a4-b938-862ea88da122');\n",
              "        const dataTable =\n",
              "          await google.colab.kernel.invokeFunction('convertToInteractive',\n",
              "                                                    [key], {});\n",
              "        if (!dataTable) return;\n",
              "\n",
              "        const docLinkHtml = 'Like what you see? Visit the ' +\n",
              "          '<a target=\"_blank\" href=https://colab.research.google.com/notebooks/data_table.ipynb>data table notebook</a>'\n",
              "          + ' to learn more about interactive tables.';\n",
              "        element.innerHTML = '';\n",
              "        dataTable['output_type'] = 'display_data';\n",
              "        await google.colab.output.renderOutput(dataTable, element);\n",
              "        const docLink = document.createElement('div');\n",
              "        docLink.innerHTML = docLinkHtml;\n",
              "        element.appendChild(docLink);\n",
              "      }\n",
              "    </script>\n",
              "  </div>\n",
              "\n",
              "\n",
              "    <div id=\"df-75433048-a534-4a7a-bcbf-8cfb6301a71d\">\n",
              "      <button class=\"colab-df-quickchart\" onclick=\"quickchart('df-75433048-a534-4a7a-bcbf-8cfb6301a71d')\"\n",
              "                title=\"Suggest charts\"\n",
              "                style=\"display:none;\">\n",
              "\n",
              "<svg xmlns=\"http://www.w3.org/2000/svg\" height=\"24px\"viewBox=\"0 0 24 24\"\n",
              "     width=\"24px\">\n",
              "    <g>\n",
              "        <path d=\"M19 3H5c-1.1 0-2 .9-2 2v14c0 1.1.9 2 2 2h14c1.1 0 2-.9 2-2V5c0-1.1-.9-2-2-2zM9 17H7v-7h2v7zm4 0h-2V7h2v10zm4 0h-2v-4h2v4z\"/>\n",
              "    </g>\n",
              "</svg>\n",
              "      </button>\n",
              "\n",
              "<style>\n",
              "  .colab-df-quickchart {\n",
              "      --bg-color: #E8F0FE;\n",
              "      --fill-color: #1967D2;\n",
              "      --hover-bg-color: #E2EBFA;\n",
              "      --hover-fill-color: #174EA6;\n",
              "      --disabled-fill-color: #AAA;\n",
              "      --disabled-bg-color: #DDD;\n",
              "  }\n",
              "\n",
              "  [theme=dark] .colab-df-quickchart {\n",
              "      --bg-color: #3B4455;\n",
              "      --fill-color: #D2E3FC;\n",
              "      --hover-bg-color: #434B5C;\n",
              "      --hover-fill-color: #FFFFFF;\n",
              "      --disabled-bg-color: #3B4455;\n",
              "      --disabled-fill-color: #666;\n",
              "  }\n",
              "\n",
              "  .colab-df-quickchart {\n",
              "    background-color: var(--bg-color);\n",
              "    border: none;\n",
              "    border-radius: 50%;\n",
              "    cursor: pointer;\n",
              "    display: none;\n",
              "    fill: var(--fill-color);\n",
              "    height: 32px;\n",
              "    padding: 0;\n",
              "    width: 32px;\n",
              "  }\n",
              "\n",
              "  .colab-df-quickchart:hover {\n",
              "    background-color: var(--hover-bg-color);\n",
              "    box-shadow: 0 1px 2px rgba(60, 64, 67, 0.3), 0 1px 3px 1px rgba(60, 64, 67, 0.15);\n",
              "    fill: var(--button-hover-fill-color);\n",
              "  }\n",
              "\n",
              "  .colab-df-quickchart-complete:disabled,\n",
              "  .colab-df-quickchart-complete:disabled:hover {\n",
              "    background-color: var(--disabled-bg-color);\n",
              "    fill: var(--disabled-fill-color);\n",
              "    box-shadow: none;\n",
              "  }\n",
              "\n",
              "  .colab-df-spinner {\n",
              "    border: 2px solid var(--fill-color);\n",
              "    border-color: transparent;\n",
              "    border-bottom-color: var(--fill-color);\n",
              "    animation:\n",
              "      spin 1s steps(1) infinite;\n",
              "  }\n",
              "\n",
              "  @keyframes spin {\n",
              "    0% {\n",
              "      border-color: transparent;\n",
              "      border-bottom-color: var(--fill-color);\n",
              "      border-left-color: var(--fill-color);\n",
              "    }\n",
              "    20% {\n",
              "      border-color: transparent;\n",
              "      border-left-color: var(--fill-color);\n",
              "      border-top-color: var(--fill-color);\n",
              "    }\n",
              "    30% {\n",
              "      border-color: transparent;\n",
              "      border-left-color: var(--fill-color);\n",
              "      border-top-color: var(--fill-color);\n",
              "      border-right-color: var(--fill-color);\n",
              "    }\n",
              "    40% {\n",
              "      border-color: transparent;\n",
              "      border-right-color: var(--fill-color);\n",
              "      border-top-color: var(--fill-color);\n",
              "    }\n",
              "    60% {\n",
              "      border-color: transparent;\n",
              "      border-right-color: var(--fill-color);\n",
              "    }\n",
              "    80% {\n",
              "      border-color: transparent;\n",
              "      border-right-color: var(--fill-color);\n",
              "      border-bottom-color: var(--fill-color);\n",
              "    }\n",
              "    90% {\n",
              "      border-color: transparent;\n",
              "      border-bottom-color: var(--fill-color);\n",
              "    }\n",
              "  }\n",
              "</style>\n",
              "\n",
              "      <script>\n",
              "        async function quickchart(key) {\n",
              "          const quickchartButtonEl =\n",
              "            document.querySelector('#' + key + ' button');\n",
              "          quickchartButtonEl.disabled = true;  // To prevent multiple clicks.\n",
              "          quickchartButtonEl.classList.add('colab-df-spinner');\n",
              "          try {\n",
              "            const charts = await google.colab.kernel.invokeFunction(\n",
              "                'suggestCharts', [key], {});\n",
              "          } catch (error) {\n",
              "            console.error('Error during call to suggestCharts:', error);\n",
              "          }\n",
              "          quickchartButtonEl.classList.remove('colab-df-spinner');\n",
              "          quickchartButtonEl.classList.add('colab-df-quickchart-complete');\n",
              "        }\n",
              "        (() => {\n",
              "          let quickchartButtonEl =\n",
              "            document.querySelector('#df-75433048-a534-4a7a-bcbf-8cfb6301a71d button');\n",
              "          quickchartButtonEl.style.display =\n",
              "            google.colab.kernel.accessAllowed ? 'block' : 'none';\n",
              "        })();\n",
              "      </script>\n",
              "    </div>\n",
              "\n",
              "  <div id=\"id_e27b6fdf-8947-457b-8907-4baaec49bc00\">\n",
              "    <style>\n",
              "      .colab-df-generate {\n",
              "        background-color: #E8F0FE;\n",
              "        border: none;\n",
              "        border-radius: 50%;\n",
              "        cursor: pointer;\n",
              "        display: none;\n",
              "        fill: #1967D2;\n",
              "        height: 32px;\n",
              "        padding: 0 0 0 0;\n",
              "        width: 32px;\n",
              "      }\n",
              "\n",
              "      .colab-df-generate:hover {\n",
              "        background-color: #E2EBFA;\n",
              "        box-shadow: 0px 1px 2px rgba(60, 64, 67, 0.3), 0px 1px 3px 1px rgba(60, 64, 67, 0.15);\n",
              "        fill: #174EA6;\n",
              "      }\n",
              "\n",
              "      [theme=dark] .colab-df-generate {\n",
              "        background-color: #3B4455;\n",
              "        fill: #D2E3FC;\n",
              "      }\n",
              "\n",
              "      [theme=dark] .colab-df-generate:hover {\n",
              "        background-color: #434B5C;\n",
              "        box-shadow: 0px 1px 3px 1px rgba(0, 0, 0, 0.15);\n",
              "        filter: drop-shadow(0px 1px 2px rgba(0, 0, 0, 0.3));\n",
              "        fill: #FFFFFF;\n",
              "      }\n",
              "    </style>\n",
              "    <button class=\"colab-df-generate\" onclick=\"generateWithVariable('df')\"\n",
              "            title=\"Generate code using this dataframe.\"\n",
              "            style=\"display:none;\">\n",
              "\n",
              "  <svg xmlns=\"http://www.w3.org/2000/svg\" height=\"24px\"viewBox=\"0 0 24 24\"\n",
              "       width=\"24px\">\n",
              "    <path d=\"M7,19H8.4L18.45,9,17,7.55,7,17.6ZM5,21V16.75L18.45,3.32a2,2,0,0,1,2.83,0l1.4,1.43a1.91,1.91,0,0,1,.58,1.4,1.91,1.91,0,0,1-.58,1.4L9.25,21ZM18.45,9,17,7.55Zm-12,3A5.31,5.31,0,0,0,4.9,8.1,5.31,5.31,0,0,0,1,6.5,5.31,5.31,0,0,0,4.9,4.9,5.31,5.31,0,0,0,6.5,1,5.31,5.31,0,0,0,8.1,4.9,5.31,5.31,0,0,0,12,6.5,5.46,5.46,0,0,0,6.5,12Z\"/>\n",
              "  </svg>\n",
              "    </button>\n",
              "    <script>\n",
              "      (() => {\n",
              "      const buttonEl =\n",
              "        document.querySelector('#id_e27b6fdf-8947-457b-8907-4baaec49bc00 button.colab-df-generate');\n",
              "      buttonEl.style.display =\n",
              "        google.colab.kernel.accessAllowed ? 'block' : 'none';\n",
              "\n",
              "      buttonEl.onclick = () => {\n",
              "        google.colab.notebook.generateWithVariable('df');\n",
              "      }\n",
              "      })();\n",
              "    </script>\n",
              "  </div>\n",
              "\n",
              "    </div>\n",
              "  </div>\n"
            ],
            "text/plain": [
              "     Name  Age  Departement  Salary\n",
              "0   Alice   25        Sales   50000\n",
              "1     Bob   30  Engeneering   80000\n",
              "2  charil   35           HR   40000\n",
              "3   David   40  Engeneering   90000\n",
              "4     Eva   22           HR   45000"
            ]
          },
          "execution_count": 9,
          "metadata": {},
          "output_type": "execute_result"
        }
      ],
      "source": [
        "import pandas as pd\n",
        "data = {\n",
        "    'Name': ['Alice','Bob','charil','David','Eva'],\n",
        "    'Age': [25,30,35,40,22],\n",
        "    'Departement': ['Sales','Engeneering','HR','Engeneering','HR'],\n",
        "    'Salary': [50000,80000,40000,90000,45000]\n",
        "}\n",
        "df=pd.DataFrame(data)\n",
        "df"
      ]
    },
    {
      "cell_type": "markdown",
      "metadata": {
        "id": "1HAGAx0s2uVt"
      },
      "source": [
        "**Basic operations**"
      ]
    },
    {
      "cell_type": "code",
      "execution_count": null,
      "metadata": {
        "colab": {
          "base_uri": "https://localhost:8080/",
          "height": 162
        },
        "id": "apSLaHmL20Vm",
        "outputId": "80681d5b-6a82-430d-a085-e4c304137c88"
      },
      "outputs": [
        {
          "name": "stdout",
          "output_type": "stream",
          "text": [
            "First 3 rows:\n"
          ]
        },
        {
          "data": {
            "application/vnd.google.colaboratory.intrinsic+json": {
              "summary": "{\n  \"name\": \"df\",\n  \"rows\": 5,\n  \"fields\": [\n    {\n      \"column\": \"Name\",\n      \"properties\": {\n        \"dtype\": \"string\",\n        \"num_unique_values\": 5,\n        \"samples\": [\n          \"Bob\",\n          \"Eva\",\n          \"charil\"\n        ],\n        \"semantic_type\": \"\",\n        \"description\": \"\"\n      }\n    },\n    {\n      \"column\": \"Age\",\n      \"properties\": {\n        \"dtype\": \"number\",\n        \"std\": 7,\n        \"min\": 22,\n        \"max\": 40,\n        \"num_unique_values\": 5,\n        \"samples\": [\n          30,\n          22,\n          35\n        ],\n        \"semantic_type\": \"\",\n        \"description\": \"\"\n      }\n    },\n    {\n      \"column\": \"Departement\",\n      \"properties\": {\n        \"dtype\": \"string\",\n        \"num_unique_values\": 3,\n        \"samples\": [\n          \"Sales\",\n          \"Engeneering\",\n          \"HR\"\n        ],\n        \"semantic_type\": \"\",\n        \"description\": \"\"\n      }\n    },\n    {\n      \"column\": \"Salary\",\n      \"properties\": {\n        \"dtype\": \"number\",\n        \"std\": 22472,\n        \"min\": 40000,\n        \"max\": 90000,\n        \"num_unique_values\": 5,\n        \"samples\": [\n          80000,\n          45000,\n          40000\n        ],\n        \"semantic_type\": \"\",\n        \"description\": \"\"\n      }\n    }\n  ]\n}",
              "type": "dataframe",
              "variable_name": "df"
            },
            "text/html": [
              "\n",
              "  <div id=\"df-9c7e12fc-3f7b-4f26-a18b-986ecbb433ca\" class=\"colab-df-container\">\n",
              "    <div>\n",
              "<style scoped>\n",
              "    .dataframe tbody tr th:only-of-type {\n",
              "        vertical-align: middle;\n",
              "    }\n",
              "\n",
              "    .dataframe tbody tr th {\n",
              "        vertical-align: top;\n",
              "    }\n",
              "\n",
              "    .dataframe thead th {\n",
              "        text-align: right;\n",
              "    }\n",
              "</style>\n",
              "<table border=\"1\" class=\"dataframe\">\n",
              "  <thead>\n",
              "    <tr style=\"text-align: right;\">\n",
              "      <th></th>\n",
              "      <th>Name</th>\n",
              "      <th>Age</th>\n",
              "      <th>Departement</th>\n",
              "      <th>Salary</th>\n",
              "    </tr>\n",
              "  </thead>\n",
              "  <tbody>\n",
              "    <tr>\n",
              "      <th>0</th>\n",
              "      <td>Alice</td>\n",
              "      <td>25</td>\n",
              "      <td>Sales</td>\n",
              "      <td>50000</td>\n",
              "    </tr>\n",
              "    <tr>\n",
              "      <th>1</th>\n",
              "      <td>Bob</td>\n",
              "      <td>30</td>\n",
              "      <td>Engeneering</td>\n",
              "      <td>80000</td>\n",
              "    </tr>\n",
              "    <tr>\n",
              "      <th>2</th>\n",
              "      <td>charil</td>\n",
              "      <td>35</td>\n",
              "      <td>HR</td>\n",
              "      <td>40000</td>\n",
              "    </tr>\n",
              "  </tbody>\n",
              "</table>\n",
              "</div>\n",
              "    <div class=\"colab-df-buttons\">\n",
              "\n",
              "  <div class=\"colab-df-container\">\n",
              "    <button class=\"colab-df-convert\" onclick=\"convertToInteractive('df-9c7e12fc-3f7b-4f26-a18b-986ecbb433ca')\"\n",
              "            title=\"Convert this dataframe to an interactive table.\"\n",
              "            style=\"display:none;\">\n",
              "\n",
              "  <svg xmlns=\"http://www.w3.org/2000/svg\" height=\"24px\" viewBox=\"0 -960 960 960\">\n",
              "    <path d=\"M120-120v-720h720v720H120Zm60-500h600v-160H180v160Zm220 220h160v-160H400v160Zm0 220h160v-160H400v160ZM180-400h160v-160H180v160Zm440 0h160v-160H620v160ZM180-180h160v-160H180v160Zm440 0h160v-160H620v160Z\"/>\n",
              "  </svg>\n",
              "    </button>\n",
              "\n",
              "  <style>\n",
              "    .colab-df-container {\n",
              "      display:flex;\n",
              "      gap: 12px;\n",
              "    }\n",
              "\n",
              "    .colab-df-convert {\n",
              "      background-color: #E8F0FE;\n",
              "      border: none;\n",
              "      border-radius: 50%;\n",
              "      cursor: pointer;\n",
              "      display: none;\n",
              "      fill: #1967D2;\n",
              "      height: 32px;\n",
              "      padding: 0 0 0 0;\n",
              "      width: 32px;\n",
              "    }\n",
              "\n",
              "    .colab-df-convert:hover {\n",
              "      background-color: #E2EBFA;\n",
              "      box-shadow: 0px 1px 2px rgba(60, 64, 67, 0.3), 0px 1px 3px 1px rgba(60, 64, 67, 0.15);\n",
              "      fill: #174EA6;\n",
              "    }\n",
              "\n",
              "    .colab-df-buttons div {\n",
              "      margin-bottom: 4px;\n",
              "    }\n",
              "\n",
              "    [theme=dark] .colab-df-convert {\n",
              "      background-color: #3B4455;\n",
              "      fill: #D2E3FC;\n",
              "    }\n",
              "\n",
              "    [theme=dark] .colab-df-convert:hover {\n",
              "      background-color: #434B5C;\n",
              "      box-shadow: 0px 1px 3px 1px rgba(0, 0, 0, 0.15);\n",
              "      filter: drop-shadow(0px 1px 2px rgba(0, 0, 0, 0.3));\n",
              "      fill: #FFFFFF;\n",
              "    }\n",
              "  </style>\n",
              "\n",
              "    <script>\n",
              "      const buttonEl =\n",
              "        document.querySelector('#df-9c7e12fc-3f7b-4f26-a18b-986ecbb433ca button.colab-df-convert');\n",
              "      buttonEl.style.display =\n",
              "        google.colab.kernel.accessAllowed ? 'block' : 'none';\n",
              "\n",
              "      async function convertToInteractive(key) {\n",
              "        const element = document.querySelector('#df-9c7e12fc-3f7b-4f26-a18b-986ecbb433ca');\n",
              "        const dataTable =\n",
              "          await google.colab.kernel.invokeFunction('convertToInteractive',\n",
              "                                                    [key], {});\n",
              "        if (!dataTable) return;\n",
              "\n",
              "        const docLinkHtml = 'Like what you see? Visit the ' +\n",
              "          '<a target=\"_blank\" href=https://colab.research.google.com/notebooks/data_table.ipynb>data table notebook</a>'\n",
              "          + ' to learn more about interactive tables.';\n",
              "        element.innerHTML = '';\n",
              "        dataTable['output_type'] = 'display_data';\n",
              "        await google.colab.output.renderOutput(dataTable, element);\n",
              "        const docLink = document.createElement('div');\n",
              "        docLink.innerHTML = docLinkHtml;\n",
              "        element.appendChild(docLink);\n",
              "      }\n",
              "    </script>\n",
              "  </div>\n",
              "\n",
              "\n",
              "    <div id=\"df-48ca0b76-e380-496b-82a5-4bf7cebbab35\">\n",
              "      <button class=\"colab-df-quickchart\" onclick=\"quickchart('df-48ca0b76-e380-496b-82a5-4bf7cebbab35')\"\n",
              "                title=\"Suggest charts\"\n",
              "                style=\"display:none;\">\n",
              "\n",
              "<svg xmlns=\"http://www.w3.org/2000/svg\" height=\"24px\"viewBox=\"0 0 24 24\"\n",
              "     width=\"24px\">\n",
              "    <g>\n",
              "        <path d=\"M19 3H5c-1.1 0-2 .9-2 2v14c0 1.1.9 2 2 2h14c1.1 0 2-.9 2-2V5c0-1.1-.9-2-2-2zM9 17H7v-7h2v7zm4 0h-2V7h2v10zm4 0h-2v-4h2v4z\"/>\n",
              "    </g>\n",
              "</svg>\n",
              "      </button>\n",
              "\n",
              "<style>\n",
              "  .colab-df-quickchart {\n",
              "      --bg-color: #E8F0FE;\n",
              "      --fill-color: #1967D2;\n",
              "      --hover-bg-color: #E2EBFA;\n",
              "      --hover-fill-color: #174EA6;\n",
              "      --disabled-fill-color: #AAA;\n",
              "      --disabled-bg-color: #DDD;\n",
              "  }\n",
              "\n",
              "  [theme=dark] .colab-df-quickchart {\n",
              "      --bg-color: #3B4455;\n",
              "      --fill-color: #D2E3FC;\n",
              "      --hover-bg-color: #434B5C;\n",
              "      --hover-fill-color: #FFFFFF;\n",
              "      --disabled-bg-color: #3B4455;\n",
              "      --disabled-fill-color: #666;\n",
              "  }\n",
              "\n",
              "  .colab-df-quickchart {\n",
              "    background-color: var(--bg-color);\n",
              "    border: none;\n",
              "    border-radius: 50%;\n",
              "    cursor: pointer;\n",
              "    display: none;\n",
              "    fill: var(--fill-color);\n",
              "    height: 32px;\n",
              "    padding: 0;\n",
              "    width: 32px;\n",
              "  }\n",
              "\n",
              "  .colab-df-quickchart:hover {\n",
              "    background-color: var(--hover-bg-color);\n",
              "    box-shadow: 0 1px 2px rgba(60, 64, 67, 0.3), 0 1px 3px 1px rgba(60, 64, 67, 0.15);\n",
              "    fill: var(--button-hover-fill-color);\n",
              "  }\n",
              "\n",
              "  .colab-df-quickchart-complete:disabled,\n",
              "  .colab-df-quickchart-complete:disabled:hover {\n",
              "    background-color: var(--disabled-bg-color);\n",
              "    fill: var(--disabled-fill-color);\n",
              "    box-shadow: none;\n",
              "  }\n",
              "\n",
              "  .colab-df-spinner {\n",
              "    border: 2px solid var(--fill-color);\n",
              "    border-color: transparent;\n",
              "    border-bottom-color: var(--fill-color);\n",
              "    animation:\n",
              "      spin 1s steps(1) infinite;\n",
              "  }\n",
              "\n",
              "  @keyframes spin {\n",
              "    0% {\n",
              "      border-color: transparent;\n",
              "      border-bottom-color: var(--fill-color);\n",
              "      border-left-color: var(--fill-color);\n",
              "    }\n",
              "    20% {\n",
              "      border-color: transparent;\n",
              "      border-left-color: var(--fill-color);\n",
              "      border-top-color: var(--fill-color);\n",
              "    }\n",
              "    30% {\n",
              "      border-color: transparent;\n",
              "      border-left-color: var(--fill-color);\n",
              "      border-top-color: var(--fill-color);\n",
              "      border-right-color: var(--fill-color);\n",
              "    }\n",
              "    40% {\n",
              "      border-color: transparent;\n",
              "      border-right-color: var(--fill-color);\n",
              "      border-top-color: var(--fill-color);\n",
              "    }\n",
              "    60% {\n",
              "      border-color: transparent;\n",
              "      border-right-color: var(--fill-color);\n",
              "    }\n",
              "    80% {\n",
              "      border-color: transparent;\n",
              "      border-right-color: var(--fill-color);\n",
              "      border-bottom-color: var(--fill-color);\n",
              "    }\n",
              "    90% {\n",
              "      border-color: transparent;\n",
              "      border-bottom-color: var(--fill-color);\n",
              "    }\n",
              "  }\n",
              "</style>\n",
              "\n",
              "      <script>\n",
              "        async function quickchart(key) {\n",
              "          const quickchartButtonEl =\n",
              "            document.querySelector('#' + key + ' button');\n",
              "          quickchartButtonEl.disabled = true;  // To prevent multiple clicks.\n",
              "          quickchartButtonEl.classList.add('colab-df-spinner');\n",
              "          try {\n",
              "            const charts = await google.colab.kernel.invokeFunction(\n",
              "                'suggestCharts', [key], {});\n",
              "          } catch (error) {\n",
              "            console.error('Error during call to suggestCharts:', error);\n",
              "          }\n",
              "          quickchartButtonEl.classList.remove('colab-df-spinner');\n",
              "          quickchartButtonEl.classList.add('colab-df-quickchart-complete');\n",
              "        }\n",
              "        (() => {\n",
              "          let quickchartButtonEl =\n",
              "            document.querySelector('#df-48ca0b76-e380-496b-82a5-4bf7cebbab35 button');\n",
              "          quickchartButtonEl.style.display =\n",
              "            google.colab.kernel.accessAllowed ? 'block' : 'none';\n",
              "        })();\n",
              "      </script>\n",
              "    </div>\n",
              "\n",
              "    </div>\n",
              "  </div>\n"
            ],
            "text/plain": [
              "     Name  Age  Departement  Salary\n",
              "0   Alice   25        Sales   50000\n",
              "1     Bob   30  Engeneering   80000\n",
              "2  charil   35           HR   40000"
            ]
          },
          "execution_count": 10,
          "metadata": {},
          "output_type": "execute_result"
        }
      ],
      "source": [
        "print(\"First 3 rows:\")\n",
        "df.head(3)"
      ]
    },
    {
      "cell_type": "code",
      "execution_count": null,
      "metadata": {
        "colab": {
          "base_uri": "https://localhost:8080/"
        },
        "id": "XaFvbH4k2_E8",
        "outputId": "df2af3e5-ad71-4a00-8613-85d90972cb6e"
      },
      "outputs": [
        {
          "name": "stdout",
          "output_type": "stream",
          "text": [
            "Column names:\n"
          ]
        },
        {
          "data": {
            "text/plain": [
              "Index(['Name', 'Age', 'Departement', 'Salary'], dtype='object')"
            ]
          },
          "execution_count": 11,
          "metadata": {},
          "output_type": "execute_result"
        }
      ],
      "source": [
        "print(\"Column names:\")\n",
        "df.columns"
      ]
    },
    {
      "cell_type": "code",
      "execution_count": null,
      "metadata": {
        "colab": {
          "base_uri": "https://localhost:8080/",
          "height": 228
        },
        "id": "Yui7eX8F3Jtk",
        "outputId": "4336b67e-00c4-48b3-da8f-0c879bc32723"
      },
      "outputs": [
        {
          "name": "stdout",
          "output_type": "stream",
          "text": [
            "Data types:\n"
          ]
        },
        {
          "data": {
            "text/html": [
              "<div>\n",
              "<style scoped>\n",
              "    .dataframe tbody tr th:only-of-type {\n",
              "        vertical-align: middle;\n",
              "    }\n",
              "\n",
              "    .dataframe tbody tr th {\n",
              "        vertical-align: top;\n",
              "    }\n",
              "\n",
              "    .dataframe thead th {\n",
              "        text-align: right;\n",
              "    }\n",
              "</style>\n",
              "<table border=\"1\" class=\"dataframe\">\n",
              "  <thead>\n",
              "    <tr style=\"text-align: right;\">\n",
              "      <th></th>\n",
              "      <th>0</th>\n",
              "    </tr>\n",
              "  </thead>\n",
              "  <tbody>\n",
              "    <tr>\n",
              "      <th>Name</th>\n",
              "      <td>object</td>\n",
              "    </tr>\n",
              "    <tr>\n",
              "      <th>Age</th>\n",
              "      <td>int64</td>\n",
              "    </tr>\n",
              "    <tr>\n",
              "      <th>Departement</th>\n",
              "      <td>object</td>\n",
              "    </tr>\n",
              "    <tr>\n",
              "      <th>Salary</th>\n",
              "      <td>int64</td>\n",
              "    </tr>\n",
              "  </tbody>\n",
              "</table>\n",
              "</div><br><label><b>dtype:</b> object</label>"
            ],
            "text/plain": [
              "Name           object\n",
              "Age             int64\n",
              "Departement    object\n",
              "Salary          int64\n",
              "dtype: object"
            ]
          },
          "execution_count": 16,
          "metadata": {},
          "output_type": "execute_result"
        }
      ],
      "source": [
        "print(\"Data types:\")\n",
        "df.dtypes"
      ]
    },
    {
      "cell_type": "code",
      "execution_count": null,
      "metadata": {
        "colab": {
          "base_uri": "https://localhost:8080/",
          "height": 793
        },
        "collapsed": true,
        "id": "7g_XjerO3SFE",
        "outputId": "b8f2082f-6e66-4436-d59e-61f0348a44a7"
      },
      "outputs": [
        {
          "name": "stdout",
          "output_type": "stream",
          "text": [
            "Describe numerical columns\n"
          ]
        },
        {
          "data": {
            "application/vnd.google.colaboratory.intrinsic+json": {
              "summary": "{\n  \"name\": \"df\",\n  \"rows\": 8,\n  \"fields\": [\n    {\n      \"column\": \"Age\",\n      \"properties\": {\n        \"dtype\": \"number\",\n        \"std\": 12.523779737900671,\n        \"min\": 5.0,\n        \"max\": 40.0,\n        \"num_unique_values\": 8,\n        \"samples\": [\n          30.4,\n          30.0,\n          5.0\n        ],\n        \"semantic_type\": \"\",\n        \"description\": \"\"\n      }\n    },\n    {\n      \"column\": \"Salary\",\n      \"properties\": {\n        \"dtype\": \"number\",\n        \"std\": 29244.49317919367,\n        \"min\": 5.0,\n        \"max\": 90000.0,\n        \"num_unique_values\": 8,\n        \"samples\": [\n          61000.0,\n          50000.0,\n          5.0\n        ],\n        \"semantic_type\": \"\",\n        \"description\": \"\"\n      }\n    }\n  ]\n}",
              "type": "dataframe"
            },
            "text/html": [
              "\n",
              "  <div id=\"df-b286d8be-0a4d-40ba-bd91-93d00d7dcf41\" class=\"colab-df-container\">\n",
              "    <div>\n",
              "<style scoped>\n",
              "    .dataframe tbody tr th:only-of-type {\n",
              "        vertical-align: middle;\n",
              "    }\n",
              "\n",
              "    .dataframe tbody tr th {\n",
              "        vertical-align: top;\n",
              "    }\n",
              "\n",
              "    .dataframe thead th {\n",
              "        text-align: right;\n",
              "    }\n",
              "</style>\n",
              "<table border=\"1\" class=\"dataframe\">\n",
              "  <thead>\n",
              "    <tr style=\"text-align: right;\">\n",
              "      <th></th>\n",
              "      <th>Age</th>\n",
              "      <th>Salary</th>\n",
              "    </tr>\n",
              "  </thead>\n",
              "  <tbody>\n",
              "    <tr>\n",
              "      <th>count</th>\n",
              "      <td>5.000000</td>\n",
              "      <td>5.000000</td>\n",
              "    </tr>\n",
              "    <tr>\n",
              "      <th>mean</th>\n",
              "      <td>30.400000</td>\n",
              "      <td>61000.000000</td>\n",
              "    </tr>\n",
              "    <tr>\n",
              "      <th>std</th>\n",
              "      <td>7.300685</td>\n",
              "      <td>22472.205054</td>\n",
              "    </tr>\n",
              "    <tr>\n",
              "      <th>min</th>\n",
              "      <td>22.000000</td>\n",
              "      <td>40000.000000</td>\n",
              "    </tr>\n",
              "    <tr>\n",
              "      <th>25%</th>\n",
              "      <td>25.000000</td>\n",
              "      <td>45000.000000</td>\n",
              "    </tr>\n",
              "    <tr>\n",
              "      <th>50%</th>\n",
              "      <td>30.000000</td>\n",
              "      <td>50000.000000</td>\n",
              "    </tr>\n",
              "    <tr>\n",
              "      <th>75%</th>\n",
              "      <td>35.000000</td>\n",
              "      <td>80000.000000</td>\n",
              "    </tr>\n",
              "    <tr>\n",
              "      <th>max</th>\n",
              "      <td>40.000000</td>\n",
              "      <td>90000.000000</td>\n",
              "    </tr>\n",
              "  </tbody>\n",
              "</table>\n",
              "</div>\n",
              "    <div class=\"colab-df-buttons\">\n",
              "\n",
              "  <div class=\"colab-df-container\">\n",
              "    <button class=\"colab-df-convert\" onclick=\"convertToInteractive('df-b286d8be-0a4d-40ba-bd91-93d00d7dcf41')\"\n",
              "            title=\"Convert this dataframe to an interactive table.\"\n",
              "            style=\"display:none;\">\n",
              "\n",
              "  <svg xmlns=\"http://www.w3.org/2000/svg\" height=\"24px\" viewBox=\"0 -960 960 960\">\n",
              "    <path d=\"M120-120v-720h720v720H120Zm60-500h600v-160H180v160Zm220 220h160v-160H400v160Zm0 220h160v-160H400v160ZM180-400h160v-160H180v160Zm440 0h160v-160H620v160ZM180-180h160v-160H180v160Zm440 0h160v-160H620v160Z\"/>\n",
              "  </svg>\n",
              "    </button>\n",
              "\n",
              "  <style>\n",
              "    .colab-df-container {\n",
              "      display:flex;\n",
              "      gap: 12px;\n",
              "    }\n",
              "\n",
              "    .colab-df-convert {\n",
              "      background-color: #E8F0FE;\n",
              "      border: none;\n",
              "      border-radius: 50%;\n",
              "      cursor: pointer;\n",
              "      display: none;\n",
              "      fill: #1967D2;\n",
              "      height: 32px;\n",
              "      padding: 0 0 0 0;\n",
              "      width: 32px;\n",
              "    }\n",
              "\n",
              "    .colab-df-convert:hover {\n",
              "      background-color: #E2EBFA;\n",
              "      box-shadow: 0px 1px 2px rgba(60, 64, 67, 0.3), 0px 1px 3px 1px rgba(60, 64, 67, 0.15);\n",
              "      fill: #174EA6;\n",
              "    }\n",
              "\n",
              "    .colab-df-buttons div {\n",
              "      margin-bottom: 4px;\n",
              "    }\n",
              "\n",
              "    [theme=dark] .colab-df-convert {\n",
              "      background-color: #3B4455;\n",
              "      fill: #D2E3FC;\n",
              "    }\n",
              "\n",
              "    [theme=dark] .colab-df-convert:hover {\n",
              "      background-color: #434B5C;\n",
              "      box-shadow: 0px 1px 3px 1px rgba(0, 0, 0, 0.15);\n",
              "      filter: drop-shadow(0px 1px 2px rgba(0, 0, 0, 0.3));\n",
              "      fill: #FFFFFF;\n",
              "    }\n",
              "  </style>\n",
              "\n",
              "    <script>\n",
              "      const buttonEl =\n",
              "        document.querySelector('#df-b286d8be-0a4d-40ba-bd91-93d00d7dcf41 button.colab-df-convert');\n",
              "      buttonEl.style.display =\n",
              "        google.colab.kernel.accessAllowed ? 'block' : 'none';\n",
              "\n",
              "      async function convertToInteractive(key) {\n",
              "        const element = document.querySelector('#df-b286d8be-0a4d-40ba-bd91-93d00d7dcf41');\n",
              "        const dataTable =\n",
              "          await google.colab.kernel.invokeFunction('convertToInteractive',\n",
              "                                                    [key], {});\n",
              "        if (!dataTable) return;\n",
              "\n",
              "        const docLinkHtml = 'Like what you see? Visit the ' +\n",
              "          '<a target=\"_blank\" href=https://colab.research.google.com/notebooks/data_table.ipynb>data table notebook</a>'\n",
              "          + ' to learn more about interactive tables.';\n",
              "        element.innerHTML = '';\n",
              "        dataTable['output_type'] = 'display_data';\n",
              "        await google.colab.output.renderOutput(dataTable, element);\n",
              "        const docLink = document.createElement('div');\n",
              "        docLink.innerHTML = docLinkHtml;\n",
              "        element.appendChild(docLink);\n",
              "      }\n",
              "    </script>\n",
              "  </div>\n",
              "\n",
              "\n",
              "    <div id=\"df-5c01bf5c-ab33-4773-ba20-cebea49cf2d5\">\n",
              "      <button class=\"colab-df-quickchart\" onclick=\"quickchart('df-5c01bf5c-ab33-4773-ba20-cebea49cf2d5')\"\n",
              "                title=\"Suggest charts\"\n",
              "                style=\"display:none;\">\n",
              "\n",
              "<svg xmlns=\"http://www.w3.org/2000/svg\" height=\"24px\"viewBox=\"0 0 24 24\"\n",
              "     width=\"24px\">\n",
              "    <g>\n",
              "        <path d=\"M19 3H5c-1.1 0-2 .9-2 2v14c0 1.1.9 2 2 2h14c1.1 0 2-.9 2-2V5c0-1.1-.9-2-2-2zM9 17H7v-7h2v7zm4 0h-2V7h2v10zm4 0h-2v-4h2v4z\"/>\n",
              "    </g>\n",
              "</svg>\n",
              "      </button>\n",
              "\n",
              "<style>\n",
              "  .colab-df-quickchart {\n",
              "      --bg-color: #E8F0FE;\n",
              "      --fill-color: #1967D2;\n",
              "      --hover-bg-color: #E2EBFA;\n",
              "      --hover-fill-color: #174EA6;\n",
              "      --disabled-fill-color: #AAA;\n",
              "      --disabled-bg-color: #DDD;\n",
              "  }\n",
              "\n",
              "  [theme=dark] .colab-df-quickchart {\n",
              "      --bg-color: #3B4455;\n",
              "      --fill-color: #D2E3FC;\n",
              "      --hover-bg-color: #434B5C;\n",
              "      --hover-fill-color: #FFFFFF;\n",
              "      --disabled-bg-color: #3B4455;\n",
              "      --disabled-fill-color: #666;\n",
              "  }\n",
              "\n",
              "  .colab-df-quickchart {\n",
              "    background-color: var(--bg-color);\n",
              "    border: none;\n",
              "    border-radius: 50%;\n",
              "    cursor: pointer;\n",
              "    display: none;\n",
              "    fill: var(--fill-color);\n",
              "    height: 32px;\n",
              "    padding: 0;\n",
              "    width: 32px;\n",
              "  }\n",
              "\n",
              "  .colab-df-quickchart:hover {\n",
              "    background-color: var(--hover-bg-color);\n",
              "    box-shadow: 0 1px 2px rgba(60, 64, 67, 0.3), 0 1px 3px 1px rgba(60, 64, 67, 0.15);\n",
              "    fill: var(--button-hover-fill-color);\n",
              "  }\n",
              "\n",
              "  .colab-df-quickchart-complete:disabled,\n",
              "  .colab-df-quickchart-complete:disabled:hover {\n",
              "    background-color: var(--disabled-bg-color);\n",
              "    fill: var(--disabled-fill-color);\n",
              "    box-shadow: none;\n",
              "  }\n",
              "\n",
              "  .colab-df-spinner {\n",
              "    border: 2px solid var(--fill-color);\n",
              "    border-color: transparent;\n",
              "    border-bottom-color: var(--fill-color);\n",
              "    animation:\n",
              "      spin 1s steps(1) infinite;\n",
              "  }\n",
              "\n",
              "  @keyframes spin {\n",
              "    0% {\n",
              "      border-color: transparent;\n",
              "      border-bottom-color: var(--fill-color);\n",
              "      border-left-color: var(--fill-color);\n",
              "    }\n",
              "    20% {\n",
              "      border-color: transparent;\n",
              "      border-left-color: var(--fill-color);\n",
              "      border-top-color: var(--fill-color);\n",
              "    }\n",
              "    30% {\n",
              "      border-color: transparent;\n",
              "      border-left-color: var(--fill-color);\n",
              "      border-top-color: var(--fill-color);\n",
              "      border-right-color: var(--fill-color);\n",
              "    }\n",
              "    40% {\n",
              "      border-color: transparent;\n",
              "      border-right-color: var(--fill-color);\n",
              "      border-top-color: var(--fill-color);\n",
              "    }\n",
              "    60% {\n",
              "      border-color: transparent;\n",
              "      border-right-color: var(--fill-color);\n",
              "    }\n",
              "    80% {\n",
              "      border-color: transparent;\n",
              "      border-right-color: var(--fill-color);\n",
              "      border-bottom-color: var(--fill-color);\n",
              "    }\n",
              "    90% {\n",
              "      border-color: transparent;\n",
              "      border-bottom-color: var(--fill-color);\n",
              "    }\n",
              "  }\n",
              "</style>\n",
              "\n",
              "      <script>\n",
              "        async function quickchart(key) {\n",
              "          const quickchartButtonEl =\n",
              "            document.querySelector('#' + key + ' button');\n",
              "          quickchartButtonEl.disabled = true;  // To prevent multiple clicks.\n",
              "          quickchartButtonEl.classList.add('colab-df-spinner');\n",
              "          try {\n",
              "            const charts = await google.colab.kernel.invokeFunction(\n",
              "                'suggestCharts', [key], {});\n",
              "          } catch (error) {\n",
              "            console.error('Error during call to suggestCharts:', error);\n",
              "          }\n",
              "          quickchartButtonEl.classList.remove('colab-df-spinner');\n",
              "          quickchartButtonEl.classList.add('colab-df-quickchart-complete');\n",
              "        }\n",
              "        (() => {\n",
              "          let quickchartButtonEl =\n",
              "            document.querySelector('#df-5c01bf5c-ab33-4773-ba20-cebea49cf2d5 button');\n",
              "          quickchartButtonEl.style.display =\n",
              "            google.colab.kernel.accessAllowed ? 'block' : 'none';\n",
              "        })();\n",
              "      </script>\n",
              "    </div>\n",
              "\n",
              "    </div>\n",
              "  </div>\n"
            ],
            "text/plain": [
              "             Age        Salary\n",
              "count   5.000000      5.000000\n",
              "mean   30.400000  61000.000000\n",
              "std     7.300685  22472.205054\n",
              "min    22.000000  40000.000000\n",
              "25%    25.000000  45000.000000\n",
              "50%    30.000000  50000.000000\n",
              "75%    35.000000  80000.000000\n",
              "max    40.000000  90000.000000"
            ]
          },
          "execution_count": 13,
          "metadata": {},
          "output_type": "execute_result"
        },
        {
          "data": {
            "text/html": [
              "<h4 class=\"colab-quickchart-section-title\">Distributions</h4>\n",
              "<style>\n",
              "  .colab-quickchart-section-title {\n",
              "      clear: both;\n",
              "  }\n",
              "</style>"
            ],
            "text/plain": [
              "<google.colab._quickchart_helpers.SectionTitle at 0x7867706e1fd0>"
            ]
          },
          "metadata": {},
          "output_type": "display_data"
        },
        {
          "data": {
            "text/html": [
              "      <div class=\"colab-quickchart-chart-with-code\" id=\"chart-0443ab30-04b9-4550-9c7a-cc8a51ed5427\">\n",
              "        <img style=\"width: 180px;\" src=\"data:image/png;base64,iVBORw0KGgoAAAANSUhEUgAAAjEAAAGrCAYAAAAxesZMAAAAOnRFWHRTb2Z0d2FyZQBNYXRwbG90\n",
              "bGliIHZlcnNpb24zLjEwLjAsIGh0dHBzOi8vbWF0cGxvdGxpYi5vcmcvlHJYcgAAAAlwSFlzAAAP\n",
              "YQAAD2EBqD+naQAAJmVJREFUeJzt3X9wVPW9//HXkugG2/yAQEw0JCnkh5cf5ocmE0FRbi8lUgs0\n",
              "0BGrVoIJQW8vddK5aAa5LVQb7tySNu2dmFAy6VXuQAWCNwOjLdTWBuUSEKMURiDIsgnNj2ohQYSQ\n",
              "H+f+wdf9uiUJbJqTzYc8HzNnhj3n5Oz7rOvOc3ZPsg7LsiwBAAAYZpS/BwAAABgIIgYAABiJiAEA\n",
              "AEYiYgAAgJGIGAAAYCQiBgAAGImIAQAARiJiAACAkYgYAABgJCIGAAAYiYgBMOxUVlbK4XDoueee\n",
              "8/coAIYxB9+dBGC4SU9P16lTpzRq1Cg1NDTI6XT6eyQAwxDvxAAYVg4cOKCDBw9q06ZNamtr09at\n",
              "Wz3bzp8/ryVLlig8PFzR0dEqKSlRdHS0fvWrX3n2+fDDD/XQQw/p1ltv1e23366nn35aFy5c8MOZ\n",
              "ALAbEQNgWCktLVVKSoqysrL0zW9+U6WlpZ5t3/ve93T06FEdPnxYx48f1+HDh9XS0uLZ/vHHH+u+\n",
              "++7TV7/6Vbndbr3//vs6fvy4nnnmGT+cCQC78XESgGHj7Nmzuv3227V+/Xo99dRTevPNN/XVr35V\n",
              "dXV1mjp1qm655Rbt2LFDc+fOlSS1t7drzJgxqqio0JIlS1RcXKytW7dq3759nmO+/fbb+sd//Ed9\n",
              "9tlnCggI8NepAbAB78QAGDY+v6D30UcflSTNmjVL8fHxKi0t1ccff6zLly8rNjbWs39ISIjGjBnj\n",
              "uX3ixAm9++67CgsL8yxz586Vw+FQc3PzkJ8PAHsRMQCGBcuyVFZWpsuXLysxMVGRkZGKiopSY2Oj\n",
              "/vu//1tBQUG6+eabdfr0ac/PtLe36+zZs57bkZGRuvfee3Xu3DnP0tbWpkuXLun222/3x2kBsBER\n",
              "A2BY2L17t06cOKHf/va3qqur8ywffPCBJOnll1/Wt7/9ba1du1ZNTU367LPP9K//+q8aNer/v4zl\n",
              "5OTovffeU2lpqT777DNZlqWGhga99tprfjorAHYiYgAMCy+99JL+6Z/+SbNmzVJkZKRnSUhIUG5u\n",
              "rl566SWVlJQoMTFRU6ZMUUJCgiZPnqyxY8cqKChIkhQTE6N9+/Zp9+7dmjRpksLCwjRnzhwdPnzY\n",
              "z2cHwA5c2AvAWGfPnlV4eLjefvtt3XPPPf4eB8AQ450YAMZwu91666231N3drU8++URPP/20EhIS\n",
              "lJ6e7u/RAPgBEQPAGJcvX9a//Mu/KCwsTAkJCTp37pyqq6sVGBjo79EA+AEfJwEAACPxTgwAADAS\n",
              "EQMAAIxExAAAACMRMQAAwEg3fMSUlJT4ewQAAGCDGz5ivvg9KwAA4MZxw0cMAAC4MRExAADASEQM\n",
              "AAAwEhEDAACMRMQAAAAjETEAAMBIRAwAADASEQMAAIxExAAAACMRMQAAwEhEDAAAMBIRAwAAjGRb\n",
              "xFy6dEkLFixQYmKikpOTNXv2bNXX1/e6786dO3XHHXcoISFB2dnZam9vv65tAABg5LL1nZhly5bp\n",
              "2LFjev/99zV//nzl5uZetc+nn36qJ598Uq+99ppOnDih2267TT/60Y+uuQ0AAIxstkVMUFCQ5s6d\n",
              "K4fDIUnKzMyUy+W6ar/XX39dqampuuOOOyRJTz/9tDZv3nzNbb3p6OhQe3u719Ld3T3IZwYAAIaD\n",
              "wKG6o5KSEs2fP/+q9W63W7GxsZ7bcXFxampqUldXV7/bAgOvHr2oqEhr1qzxWpeZmTmIZwEAI0/c\n",
              "c7tsO7Zr3ddtOzZufENyYe+Pf/xj1dfXq6ioyNb7KSwsVFtbm9eSkZFh630CAAD/sD1ifvKTn6iq\n",
              "qkqvv/66brnllqu2x8TE6PTp057bLpdLUVFRCgwM7Hdbb5xOp0JCQryWgICAwT8pAADgd7ZGTHFx\n",
              "sTZv3qzdu3crLCys132ysrJ06NAhffjhh5Kk0tJSLV68+JrbAADAyGbbNTGNjY36/ve/r4kTJ2rW\n",
              "rFmSrrxTsn//fv3bv/2bbrvtNi1fvlzBwcHauHGjFixYoK6uLk2dOlX/9V//JUn9bgMAACObw7Is\n",
              "y99D2KmgoEDFxcX+HgMAjMWFvRiu+Iu9AADASEQMAAAwEhEDAACMRMQAAAAjETEAAMBIRAwAADAS\n",
              "EQMAAIxExAAAACMRMQAAwEhEDAAAMBIRAwAAjETEAAAAIxExAADASEQMAAAwEhEDAACMRMQAAAAj\n",
              "ETEAAMBIRAwAADASEQMAAIxExAAAACMRMQAAwEhEDAAAMBIRAwAAjETEAAAAIxExAADASEQMAAAw\n",
              "EhEDAACMRMQAAAAjETEAAMBIRAwAADASEQMAAIxExAAAACMRMQAAwEhEDAAAMBIRAwAAjGRrxKxY\n",
              "sUJxcXFyOByqq6vrdZ/KykqlpKR4lnHjxik7O1uS5HK5FBAQ4LX95MmTdo4MAAAMEWjnwRctWqSV\n",
              "K1fq3nvv7XOfnJwc5eTkeG5PnTpVjz76qOd2cHBwnwEEAABGLlsjZubMmT7tv3//frW2tmrevHkD\n",
              "ur+Ojg51dHR4revu7h7QsQAAwPA2rK6Jqaio0OOPP66bbrrJs+7ChQtKT09XWlqa1q5d22+UFBUV\n",
              "KTQ01Gupra0ditEBAMAQGzYRc+HCBW3ZskVPPvmkZ11UVJTOnDmjAwcOaM+ePaqpqdH69ev7PEZh\n",
              "YaHa2tq8loyMjKEYHwAADLFhEzFbt27VlClTNHnyZM86p9OpiIgISdLYsWO1dOlS1dTU9HkMp9Op\n",
              "kJAQryUgIMD22QEAwNAbNhFTUVHh9S6MJLW2tqqzs1PSletdqqqqlJqa6o/xAADAMGNrxOTn5ys6\n",
              "OlqNjY2aM2eO4uPjJUm5ubmqrq727Hfs2DHV1dXp4Ycf9vr5vXv3KjU1VcnJyUpLS1NkZKRWrVpl\n",
              "58gAAMAQDsuyLH8PYaeCggIVFxf7ewwAMFbcc7tsO7Zr3ddtOzZufMPm4yQAAABfEDEAAMBIRAwA\n",
              "ADASEQMAAIxExAAAACMRMQAAwEhEDAAAMBIRAwAAjETEAAAAIxExAADASEQMAAAwEhEDAACMRMQA\n",
              "AAAjETEAAMBIRAwAADASEQMAAIxExAAAACMRMQAAwEhEDAAAMBIRAwAAjETEAAAAIxExAADASEQM\n",
              "AAAwEhEDAACMRMQAAAAjETEAAMBIRAwAADASEQMAAIxExAAAACMRMQAAwEhEDAAAMBIRAwAAjETE\n",
              "AAAAIxExAADASEQMAAAwkq0Rs2LFCsXFxcnhcKiurq7Xff7whz9o9OjRSklJ8SwXL170bK+oqFBC\n",
              "QoImTZqkvLw8dXZ22jkyAAAwhK0Rs2jRIu3du1exsbH97peUlKS6ujrPMnr0aEnSqVOntHr1atXU\n",
              "1Ki+vl4tLS3asGGDnSMDAABD2BoxM2fOVHR09IB/ftu2bZo3b54iIyPlcDi0fPlybd68uc/9Ozo6\n",
              "1N7e7rV0d3cP+P4BAMDwNSyuiTl58qTS0tKUnp6u0tJSz3q32+31Lk5cXJzcbnefxykqKlJoaKjX\n",
              "Ultba+vsAADAP/weMWlpaWpsbNShQ4e0Y8cOlZWV6dVXXx3QsQoLC9XW1ua1ZGRkDPLEAABgOPB7\n",
              "xISEhCg0NFSSFB0drUceeUQ1NTWSpJiYGJ0+fdqzr8vlUkxMTJ/HcjqdCgkJ8VoCAgLsPQEAAOAX\n",
              "fo+YpqYm9fT0SJLOnz+vnTt3KjU1VZK0cOFCVVdXq7m5WZZlqaysTIsXL/bnuAAAYJiwNWLy8/MV\n",
              "HR2txsZGzZkzR/Hx8ZKk3NxcVVdXS5K2b9+uadOmKTk5WZmZmZo9e7ZycnIkSRMnTtSaNWs0Y8YM\n",
              "xcfHa/z48crPz7dzZAAAYAiHZVmWv4ewU0FBgYqLi/09BgAYK+65XbYd27Xu67YdGzc+v3+cBAAA\n",
              "MBBEDAAAMBIRAwAAjETEAAAAIxExAADASEQMAAAwEhEDAACMRMQAAAAjETEAAMBIRAwAADASEQMA\n",
              "AIxExAAAACMRMQAAwEhEDAAAMBIRAwAAjETEAAAAIxExAADASEQMAAAwEhEDAACMRMQAAAAjETEA\n",
              "AMBIRAwAADASEQMAAIxExAAAACMRMQAAwEhEDAAAMBIRAwAAjETEAAAAIxExAADASEQMAAAwEhED\n",
              "AACMRMQAAAAjETEAAMBIRAwAADASEQMAAIxka8SsWLFCcXFxcjgcqqur63WfN998UxkZGZo8ebKm\n",
              "TJmilStXqqenR5LkcrkUEBCglJQUz3Ly5Ek7RwYAAIawNWIWLVqkvXv3KjY2ts99xowZoy1btujo\n",
              "0aN699139c477+jll1/2bA8ODlZdXZ1nmTRpkp0jAwAAQwTaefCZM2dec5/U1FTPv4OCgpSSkiKX\n",
              "yzWg++vo6FBHR4fXuu7u7gEdCwAADG/D6pqY5uZmbdu2TQ899JBn3YULF5Senq60tDStXbu23ygp\n",
              "KipSaGio11JbWzsUowMAgCE2bCKmvb1d3/jGN7Ry5UrdfffdkqSoqCidOXNGBw4c0J49e1RTU6P1\n",
              "69f3eYzCwkK1tbV5LRkZGUN1CgAAYAgNi4g5f/68srKyNH/+fBUUFHjWO51ORURESJLGjh2rpUuX\n",
              "qqamps/jOJ1OhYSEeC0BAQG2zw8AAIae3yPm008/VVZWlrKysvT88897bWttbVVnZ6ekK9e7VFVV\n",
              "eV1DAwAARi5bIyY/P1/R0dFqbGzUnDlzFB8fL0nKzc1VdXW1JKmkpES1tbWqqqry/Br1iy++KEna\n",
              "u3evUlNTlZycrLS0NEVGRmrVqlV2jgwAAAzhsCzL8vcQdiooKFBxcbG/xwAAY8U9t8u2Y7vWfd22\n",
              "Y+PG5/ePkwAAAAaCiAEAAEYiYgAAgJGIGAAAYCSfI+Y3v/mNHXMAAAD4xOeIWbt2rZKSklRSUqL2\n",
              "9nY7ZgIAALgmnyPm7bff1pYtW/SnP/1JiYmJevrpp3X06FE7ZgMAAOjTgK6JSU1N1S9/+Uu98cYb\n",
              "2rlzp+68807Nnj1bhw8fHuz5AAAAejWgiNmzZ4/mz5+v7Oxs/fM//7Oam5uVn5+vb37zm4M9HwAA\n",
              "QK8Cff2Bf/iHf9C4ceO0YsUKZWdne75gcdGiRaqoqBj0AQEAAHrjc8Rs2rRJd911V6/bXn/99b97\n",
              "IAAAgOvh88dJ7777rv761796bn/yySf65S9/OahDAQAAXIvPEVNaWqqxY8d6boeHh6u0tHRQhwIA\n",
              "ALgWnyOmty+97u7uHpRhAAAArpfPERMVFaVXX33Vc/vXv/61oqKiBnUoAACAa/H5wt6f/exnmj9/\n",
              "vlauXClJuuWWW/Q///M/gz4YAABAf3yOmDvuuENHjx7VsWPHJElJSUmeX7MGAAAYKj5HjCQ5HA6F\n",
              "hYWpq6tLZ86ckSTFxMQM6mAAAAD98TlifvWrX2nFihW66aabNGrUlUtqHA6HWltbB304AACAvvgc\n",
              "MT/60Y904MABJSUl2TEPAADAdfH5t5PGjRtHwAAAAL/zOWIWLFign/3sZ2ptbVV7e7tnAQAAGEo+\n",
              "f5y0atUqSVJBQYEcDocsy5LD4eAP3gEAgCHlc8T09PTYMQcAAIBPfP44SbryJZCvvPKKJOncuXNq\n",
              "amoa1KEAAACuZUBfALl06VL98Ic/lHTlW6y//e1vD/ZcAAAA/fI5YjZs2KD//d//VUhIiCRp0qRJ\n",
              "+stf/jLogwEAAPTH54hxOp0aPXq017rAwAH94V8AAIAB8zlixo8fr+PHj8vhcEi68hd8+coBAAAw\n",
              "1Ab0LdaPPPKIPvzwQ02YMEEhISHauXOnHbMBAAD0yeeIiY+P1/79+3Xs2DFZlsW3WAMAAL/wOWLc\n",
              "brck6Utf+pIk8S3WAADAL3yOmLvuusvzl3ovXbqkzz77TOHh4XyLNQAAGFI+R8zf/jp1VVWV3n//\n",
              "/UEbCAAA4HoM6C/2flF2drZ27do1GLMAAABcN58j5ovfXH327Fm98cYbfX6L9YoVKxQXFyeHw6G6\n",
              "uro+j1lRUaGEhARNmjRJeXl56uzsvK5tAABg5PI5YsLCwjRmzBiFhYUpIiJCBQUF+vnPf97rvosW\n",
              "LdLevXsVGxvb5/FOnTql1atXq6amRvX19WppadGGDRuuuQ0AAIxsPkdMT0+Puru71dPTo87OTh09\n",
              "elRZWVm97jtz5kxFR0f3e7xt27Zp3rx5ioyMlMPh0PLly7V58+ZrbutNR0eH1ztF7e3t6u7u9vUU\n",
              "AQCAAfz+fQFut9vrnZq4uDjPr3H3t603RUVFWrNmjde6zMzMQZ74/83ynHnXAbnWfd3fI2AEsvP/\n",
              "Fbue0ybOjKFj1/PDzueGiTNfD5/fiRk1apQCAgKuWj5f70+FhYVqa2vzWjIyMvw6EwAAsIfP78Ss\n",
              "XbtWFy9e1FNPPSVJKisr0+jRo/XMM88MaICYmBidPHnSc9vlcnn+cF5/23rjdDrldDq91vk7rAAA\n",
              "gD18fidmx44devHFFxUdHa3o6Gi98MILqqqq0pe+9CXPX/H1xcKFC1VdXa3m5mZZlqWysjItXrz4\n",
              "mtsAAMDI5nPEnD9/3uuv87a2tur8+fO97pufn6/o6Gg1NjZqzpw5io+PlyTl5uaqurpakjRx4kSt\n",
              "WbNGM2bMUHx8vMaPH6/8/PxrbgMAACObzx8nff/731dycrLmzp0rSXrjjTf0wx/+sNd9y8vLe12/\n",
              "ceNGr9t5eXnKy8vrdd/+tgEAgJHL54jJz8/XjBkz9Pvf/16SVFBQoClTpgz6YAAAAP0Z0K9Yh4eH\n",
              "a9q0aXrggQfU1dWly5cv6+abbx7s2QAAAPrk8zUx27ZtU2ZmpnJyciRJR44c0YIFCwZ7LgAAgH75\n",
              "HDFFRUU6dOiQwsLCJEnJyck6ffr0YM8FAADQL58jJiAgQOHh4V7r+CgJAAAMNZ8jJjg4WC0tLXI4\n",
              "HJKk3/3udxo7duygDwYAANAfny/s/fd//3c9+OCD+uijj3Tvvffq1KlT2rXLvO8RAgAAZvMpYj7/\n",
              "Buvf//73euedd2RZlqZPn+65PgYAAGCo+BQxo0aN0rJly/T+++/rwQcftGsmAACAa/L5mpiEhATV\n",
              "19fbMQsAAMB18/mamL/+9a9KSUnR9OnT9eUvf9mzvqqqalAHAwAA6M91R8yyZcu0YcMGPfHEE5o3\n",
              "b57GjBlj51wAAAD9uu6IOXjwoCTpiSeeUFpamg4dOmTbUAAAANfi8zUxkmRZ1mDPAQAA4JPrfifm\n",
              "4sWLOnz4sCzL0qVLlzz//tydd95py4AAAAC98Sli5s2b57n9xX87HA599NFHgzsZAABAP647Ylwu\n",
              "l41jAAAA+GZA18QAAAD4GxEDAACMRMQAAAAjETEAAMBIRAwAADASEQMAAIxExAAAACMRMQAAwEhE\n",
              "DAAAMBIRAwAAjETEAAAAIxExAADASEQMAAAwEhEDAACMRMQAAAAjETEAAMBIRAwAADASEQMAAIxk\n",
              "a8ScOHFC06dPV2JiotLT03XkyJGr9qmsrFRKSopnGTdunLKzsyVJLpdLAQEBXttPnjxp58gAAMAQ\n",
              "gXYePD8/X8uWLdOSJUu0bds2LVmyRAcOHPDaJycnRzk5OZ7bU6dO1aOPPuq5HRwcrLq6OjvHBAAA\n",
              "BrLtnZjW1lYdPHhQjz32mCRp4cKFamhoUH19fZ8/s3//frW2tmrevHkDus+Ojg61t7d7Ld3d3QM6\n",
              "FgAAGN5si5iGhgZFRUUpMPDKmz0Oh0MxMTFyu919/kxFRYUef/xx3XTTTZ51Fy5cUHp6utLS0rR2\n",
              "7dp+o6SoqEihoaFeS21t7eCdFAAAGDaGzYW9Fy5c0JYtW/Tkk0961kVFRenMmTM6cOCA9uzZo5qa\n",
              "Gq1fv77PYxQWFqqtrc1rycjIGIrxAQDAELMtYiZMmKCmpiZ1dXVJkizLktvtVkxMTK/7b926VVOm\n",
              "TNHkyZM965xOpyIiIiRJY8eO1dKlS1VTU9PnfTqdToWEhHgtAQEBg3hWAABguLAtYiIiIpSWlqZN\n",
              "mzZJkrZv367o6GjFx8f3un9FRYXXuzDSletqOjs7JV253qWqqkqpqal2jQwAAAxi68dJ5eXlKi8v\n",
              "V2JiotatW6fKykpJUm5urqqrqz37HTt2THV1dXr44Ye9fn7v3r1KTU1VcnKy0tLSFBkZqVWrVtk5\n",
              "MgAAMIStv2KdlJSkffv2XbV+48aNV+13/vz5q/bLzs72/M0YAACALxo2F/YCAAD4gogBAABGImIA\n",
              "AICRiBgAAGAkIgYAABiJiAEAAEYiYgAAgJGIGAAAYCQiBgAAGImIAQAARiJiAACAkYgYAABgJCIG\n",
              "AAAYiYgBAABGImIAAICRiBgAAGAkIgYAABiJiAEAAEYiYgAAgJGIGAAAYCQiBgAAGImIAQAARiJi\n",
              "AACAkYgYAABgJCIGAAAYiYgBAABGImIAAICRiBgAAGAkIgYAABiJiAEAAEYiYgAAgJGIGAAAYCQi\n",
              "BgAAGImIAQAARiJiAACAkWyNmBMnTmj69OlKTExUenq6jhw5ctU+f/jDHzR69GilpKR4losXL3q2\n",
              "V1RUKCEhQZMmTVJeXp46OzvtHBkAABjC1ojJz8/XsmXLdPz4cT377LNasmRJr/slJSWprq7Os4we\n",
              "PVqSdOrUKa1evVo1NTWqr69XS0uLNmzYYOfIAADAELZFTGtrqw4ePKjHHntMkrRw4UI1NDSovr7+\n",
              "uo+xbds2zZs3T5GRkXI4HFq+fLk2b97c5/4dHR1qb2/3Wrq7u//ucwEAAMOPbRHT0NCgqKgoBQYG\n",
              "SpIcDodiYmLkdruv2vfkyZNKS0tTenq6SktLPevdbrdiY2M9t+Pi4nr9+c8VFRUpNDTUa6mtrR3E\n",
              "swIAAMOF3y/sTUtLU2Njow4dOqQdO3aorKxMr7766oCOVVhYqLa2Nq8lIyNjkCcGAADDgW0RM2HC\n",
              "BDU1Namrq0uSZFmW3G63YmJivPYLCQlRaGioJCk6OlqPPPKIampqJEkxMTE6ffq0Z1+Xy3XVz3+R\n",
              "0+lUSEiI1xIQEDDYpwYAAIYB2yImIiJCaWlp2rRpkyRp+/btio6OVnx8vNd+TU1N6unpkSSdP39e\n",
              "O3fuVGpqqqQr19FUV1erublZlmWprKxMixcvtmtkAABgEFs/TiovL1d5ebkSExO1bt06VVZWSpJy\n",
              "c3NVXV0t6UrcTJs2TcnJycrMzNTs2bOVk5MjSZo4caLWrFmjGTNmKD4+XuPHj1d+fr6dIwMAAEME\n",
              "2nnwpKQk7du376r1Gzdu9Pz7u9/9rr773e/2eYy8vDzl5eXZMh8AADCX3y/sBQAAGAgiBgAAGImI\n",
              "AQAARiJiAACAkYgYAABgJCIGAAAYiYgBAABGImIAAICRiBgAAGAkIgYAABiJiAEAAEYiYgAAgJGI\n",
              "GAAAYCQiBgAAGImIAQAARiJiAACAkYgYAABgJCIGAAAYiYgBAABGImIAAICRiBgAAGAkIgYAABiJ\n",
              "iAEAAEYiYgAAgJGIGAAAYCQiBgAAGImIAQAARiJiAACAkYgYAABgJCIGAAAYiYgBAABGImIAAICR\n",
              "iBgAAGAkIgYAABiJiAEAAEayNWJOnDih6dOnKzExUenp6Tpy5MhV+7z55pvKyMjQ5MmTNWXKFK1c\n",
              "uVI9PT2SJJfLpYCAAKWkpHiWkydP2jkyAAAwhK0Rk5+fr2XLlun48eN69tlntWTJkqv2GTNmjLZs\n",
              "2aKjR4/q3Xff1TvvvKOXX37Zsz04OFh1dXWeZdKkSXaODAAADGFbxLS2turgwYN67LHHJEkLFy5U\n",
              "Q0OD6uvrvfZLTU3VxIkTJUlBQUFKSUmRy+Ua0H12dHSovb3da+nu7v67zgMAAAxPtkVMQ0ODoqKi\n",
              "FBgYKElyOByKiYmR2+3u82eam5u1bds2PfTQQ551Fy5cUHp6utLS0rR27dp+o6SoqEihoaFeS21t\n",
              "7eCdFAAAGDaGzYW97e3t+sY3vqGVK1fq7rvvliRFRUXpzJkzOnDggPbs2aOamhqtX7++z2MUFhaq\n",
              "ra3Na8nIyBiqUwAAAEPItoiZMGGCmpqa1NXVJUmyLEtut1sxMTFX7Xv+/HllZWVp/vz5Kigo8Kx3\n",
              "Op2KiIiQJI0dO1ZLly5VTU1Nn/fpdDoVEhLitQQEBAzymQEAgOHAtoiJiIhQWlqaNm3aJEnavn27\n",
              "oqOjFR8f77Xfp59+qqysLGVlZen555/32tba2qrOzk5JV653qaqqUmpqql0jAwAAg9j6cVJ5ebnK\n",
              "y8uVmJiodevWqbKyUpKUm5ur6upqSVJJSYlqa2tVVVXl+TXqF198UZK0d+9epaamKjk5WWlpaYqM\n",
              "jNSqVavsHBkAABgi0M6DJyUlad++fVet37hxo+ffq1at6jNMsrOzlZ2dbdt8AADAXMPmwl4AAABf\n",
              "EDEAAMBIRAwAADASEQMAAIxExAAAACMRMQAAwEhEDAAAMBIRAwAAjETEAAAAIxExAADASEQMAAAw\n",
              "EhEDAACMRMQAAAAjETEAAMBIRAwAADASEQMAAIxExAAAACMRMQAAwEhEDAAAMBIRAwAAjETEAAAA\n",
              "IxExAADASEQMAAAwEhEDAACMRMQAAAAjETEAAMBIRAwAADASEQMAAIxExAAAACMRMQAAwEhEDAAA\n",
              "MBIRAwAAjETEAAAAIxExAADASEQMAAAwkq0Rc+LECU2fPl2JiYlKT0/XkSNHet2voqJCCQkJmjRp\n",
              "kvLy8tTZ2Xld2wAAwMhla8Tk5+dr2bJlOn78uJ599lktWbLkqn1OnTql1atXq6amRvX19WppadGG\n",
              "DRuuuQ0AAIxstkVMa2urDh48qMcee0yStHDhQjU0NKi+vt5rv23btmnevHmKjIyUw+HQ8uXLtXnz\n",
              "5mtu601HR4fa29u9lu7ubrtOEQAA+FGgXQduaGhQVFSUAgOv3IXD4VBMTIzcbrfi4+M9+7ndbsXG\n",
              "xnpux8XFye12X3Nbb4qKirRmzRqvdXfccYcKCgoG5Zw+193drajaWmVkZCggIGBQj22ngoLfDdqx\n",
              "uru7VWvgYzBYRvr5S9f/GGTbOMNgPqe/6HpmHuhzwK6Z7dTb4zFY/w+Y/HgM9uuAnY+FHf8fdnd3\n",
              "6557XrDtdTA2Nlbf+973+t3Htojxh8LCwquCxel0yul0Dur9tLe3KzQ0VL/5zW8UEhIyqMc2xUh/\n",
              "DEb6+Us8Bpz/yD5/icdgOJy/bREzYcIENTU1qaurS4GBgbIsS263WzExMV77xcTE6OTJk57bLpfL\n",
              "s09/23pjR7AAAIDhybZrYiIiIpSWlqZNmzZJkrZv367o6Givj5KkK9fKVFdXq7m5WZZlqaysTIsX\n",
              "L77mNgAAMLLZ+ttJ5eXlKi8vV2JiotatW6fKykpJUm5urqqrqyVJEydO1Jo1azRjxgzFx8dr/Pjx\n",
              "ys/Pv+Y2AAAwstl6TUxSUpL27dt31fqNGzd63c7Ly1NeXl6vx+hvm784nU794Ac/GNEfXY30x2Ck\n",
              "n7/EY8D5j+zzl3gMhsP5OyzLsvx27wAAAAPE1w4AAAAjETEAAMBIRAwAADASEQMAAIxExAxAXFyc\n",
              "kpKSlJKSopSUFP3617/290i2WrFiheLi4uRwOFRXV+dZf73fUm66vs5/pDwPLl26pAULFigxMVHJ\n",
              "ycmaPXu25zvQWltblZWVpYSEBE2dOlV//OMf/TytPfp7DB544AF95Stf8TwPfvrTn/p5Wnt87Wtf\n",
              "05133qmUlBTdd999eu+99ySNnNcBqe/HYKS8FnyusrJSDodDr732miQ/vw5Y8FlsbKz13nvv+XuM\n",
              "IfPWW29ZDQ0NV533rFmzrMrKSsuyLGvr1q3W3Xff7Z8BbdbX+Y+U58HFixetXbt2WT09PZZlWdYv\n",
              "fvEL6/7777csy7JycnKsH/zgB5ZlWVZtba11++23W5cvX/bTpPbp7zG4//77rR07dvhvuCFy9uxZ\n",
              "z7+rqqqsO++807KskfM6YFl9PwYj5bXAsizr1KlT1j333GNlZmZ6nvf+fB3gnRhc08yZMxUdHe21\n",
              "7nq/pfxG0Nv5jyRBQUGaO3euHA6HJCkzM1Mul0uS9Oqrr2r58uWSpPT0dN1222166623/DWqbfp7\n",
              "DEaKsLAwz7/b2trkcDhG1OuA1PtjMJL09PQoNzdXv/jFL7z+Now/XweImAH6zne+o2nTpunJJ5/U\n",
              "X/7yF3+PM+T6+5bykWQkPg9KSko0f/58ffLJJ+rs7FRkZKRn27W+af5G8flj8LnnnntO06ZN08MP\n",
              "P6yPPvrIj5PZ6zvf+Y4mTJig1atX65VXXhmRrwN/+xh8cf2N/lpQXFysGTNm6K677vKs8/frABEz\n",
              "AH/84x/1wQcf6NChQxo3bpyeeOIJf48EPxiJz4Mf//jHqq+vV1FRkb9H8Zu/fQxeeeUVffjhh/rg\n",
              "gw9033336aGHHvLzhPZ5+eWX1dDQoBdeeEHPPvusv8fxi94eg5HwWvCnP/1J27dv1/PPP+/vUbwN\n",
              "yYdWN7A///nP1pe//GV/jzEkvvi5b0tLixUcHGx1dnZalmVZPT091q233mqdOHHCjxPaq7/PvUfC\n",
              "8+A//uM/rLvuusvruoBbbrnFampq8txOT0+3du/e7YfphkZvj8Hfcjqd1scffzx0Q/lJUFCQ1dzc\n",
              "POJeB74oKCjoqv/WN+prQWlpqRUZGWnFxsZasbGxltPptMaPH2+Vlpb69XWAd2J8dOHCBZ07d85z\n",
              "e/PmzUpNTfXfQH5yvd9SfqMaac+D4uJibd68Wbt37/a6LuBb3/qWysrKJEkHDhzQmTNndP/99/tp\n",
              "Snv19hh0dXWppaXFs8/27dt16623Kjw83E9T2uPcuXP685//7Ln92muvKTw8fES9DvT1GAQFBY2I\n",
              "14KnnnpKTU1NcrlccrlcyszM1IYNG/TUU0/59XWA707y0UcffaSFCxequ7tblmVp4sSJKikpUVxc\n",
              "nL9Hs01+fr527dql5uZmhYeHKzg4WPX19Tp27JiWLFmiTz75RCEhIaqsrNS0adP8Pe6g6+38f/vb\n",
              "346Y50FjY6MmTJigiRMnKjg4WNKVL37bv3+/Wlpa9Pjjj+vUqVO6+eab9Z//+Z+aNWuWnycefH09\n",
              "Bm+++abuv/9+dXR0aNSoURo3bpyKi4uVnJzs54kH1+nTp/Wtb31LFy9e1KhRozR+/Hj95Cc/UUpK\n",
              "yoh5HejrMQgJCRkxrwVf9MADD+iZZ57RggUL/Po6QMQAAAAj8XESAAAwEhEDAACMRMQAAAAjETEA\n",
              "AMBIRAwAADASEQMAAIxExAAAACMRMQAAwEhEDAAAMBIRAwAAjPR/Ytqj/8PGo6AAAAAASUVORK5C\n",
              "YII=\n",
              "\">\n",
              "      </div>\n",
              "      <script type=\"text/javascript\">\n",
              "        (() => {\n",
              "          const chartElement = document.getElementById(\"chart-0443ab30-04b9-4550-9c7a-cc8a51ed5427\");\n",
              "          async function getCodeForChartHandler(event) {\n",
              "            const chartCodeResponse =  await google.colab.kernel.invokeFunction(\n",
              "                'getCodeForChart', [\"chart-0443ab30-04b9-4550-9c7a-cc8a51ed5427\"], {});\n",
              "            const responseJson = chartCodeResponse.data['application/json'];\n",
              "            await google.colab.notebook.addCell(responseJson.code, 'code');\n",
              "          }\n",
              "          chartElement.onclick = getCodeForChartHandler;\n",
              "        })();\n",
              "      </script>\n",
              "      <style>\n",
              "        .colab-quickchart-chart-with-code  {\n",
              "            display: block;\n",
              "            float: left;\n",
              "            border: 1px solid transparent;\n",
              "        }\n",
              "\n",
              "        .colab-quickchart-chart-with-code:hover {\n",
              "            cursor: pointer;\n",
              "            border: 1px solid #aaa;\n",
              "        }\n",
              "      </style>"
            ],
            "text/plain": [
              "from matplotlib import pyplot as plt\n",
              "_df_0['Age'].plot(kind='hist', bins=20, title='Age')\n",
              "plt.gca().spines[['top', 'right',]].set_visible(False)"
            ]
          },
          "metadata": {},
          "output_type": "display_data"
        },
        {
          "data": {
            "text/html": [
              "      <div class=\"colab-quickchart-chart-with-code\" id=\"chart-8f0289fb-8515-458f-bbfb-82001f70079d\">\n",
              "        <img style=\"width: 180px;\" src=\"data:image/png;base64,iVBORw0KGgoAAAANSUhEUgAAAioAAAGrCAYAAADuNLxTAAAAOnRFWHRTb2Z0d2FyZQBNYXRwbG90\n",
              "bGliIHZlcnNpb24zLjEwLjAsIGh0dHBzOi8vbWF0cGxvdGxpYi5vcmcvlHJYcgAAAAlwSFlzAAAP\n",
              "YQAAD2EBqD+naQAAHw5JREFUeJzt3XuQ1fV9//HXCmbjhYvgBRRWVC4RFRACY9HxWifqzyCVJE0s\n",
              "qWi4aGM1MR2V2EzUWqEzbY21k7iKpbE0mgRIymguU5Vak2gA70JVUGFJgmK9sDrqCsv39wfT/bk/\n",
              "xLpkD/tZfTxmzgz7PZ/98j582TPPOee751tXVVUVAIAC7dbVAwAA7IhQAQCKJVQAgGIJFQCgWEIF\n",
              "ACiWUAEAiiVUAIBiCRUAoFhCBQAollABilNXV5e77767q8cACiBUgE73/PPP5wtf+EIOPPDA7L33\n",
              "3jnwwANzxhlnZMOGDV09GtDNCBWg051xxhnp1atXnnzyybzxxht55JFH8sd//Mepq6vbJX//5s2b\n",
              "d8nfA9SeUAE61csvv5ynnnoqF1xwQfr165ckOeCAA3LuuedmwIAB2bBhQ84888wccMAB6dWrV0aN\n",
              "GpUf/vCHO9zfB1lfV1eX66+/PhMnTsxee+2V22+/PXvvvXfuu+++dusuuuiiTJ48udMfM1A7QgXo\n",
              "VP37989RRx2VWbNmZf78+Xn88cezdevWtvtbW1tz/vnn59lnn80rr7ySSy65JOecc05Wrlz5nvv7\n",
              "oOsbGxszb968vPHGG/nsZz+bc845JzfffHPb/W+++WYWLFiQCy64oDYPHKgJoQJ0uqVLl+b000/P\n",
              "d77znUyYMCH77rtv/uIv/iItLS0ZNGhQzj777Oy9997Zfffd86UvfSkjR47Mvffe+577+qDrv/rV\n",
              "r2bkyJGpq6vLHnvskQsvvDCLFi3Kyy+/nCS544470q9fv3zqU5+q+eMHOo9QATpd//79c80112TZ\n",
              "smXZtGlT/umf/im33HJL5syZk1dffTUzZszIIYcckt69e6dv375ZuXJlNm7c+J77+qDrDznkkHZf\n",
              "H3300Tn66KPz3e9+N8m2V1xmzJixy86TATqHUAFqqr6+PpMnT84f/uEf5uGHH84VV1yRp556Kvfd\n",
              "d182bdqU1157LUcccUSqqnrP7/+g63fbbfunswsvvDC33HJLHnnkkTzyyCM5//zza/IYgdoRKkCn\n",
              "evXVV3PFFVfk8ccfT0tLS1pbW3PPPfdk6dKlOf7447Np06bsueee6d+/fzZv3pwbb7xxh+enJOnw\n",
              "+nf73Oc+l5deeinTp0/P5MmTc8ABB3TWwwR2EaECdKqPfexj+e///u989rOfzb777pv+/fvnkksu\n",
              "yeWXX56vfe1rufbaa/PWW2/lgAMOyJAhQ/Liiy/m2GOP3eH+Orr+3T7+8Y/nvPPOy8MPP+wkWuim\n",
              "6qodvd4K8CHwne98J9dff32efvpp56dAN+QVFeBD65VXXskNN9yQr371qyIFuimhAnwozZ49O4MG\n",
              "DcpRRx2VGTNmdPU4wE7y1g8AUCyvqAAAxRIqAECxhAoAUCyhAgAU60MRKjfccENXjwAA1MCHIlTW\n",
              "rVvX1SMAADXwoQgVAODDSagAAMUSKgBAsYQKAFAsoQIAFEuoAADFEioAQLGECgBQLKECABRLqAAA\n",
              "xRIqAECxhAoAUKyahsrFF1+cIUOGpK6uLo8++ugO1916660ZNmxYDjvssMyYMSObN2+u5VgAQDdR\n",
              "01D5zGc+k1/84hc5+OCDd7jm+eefzze+8Y3cf//9WbNmTV588cXcfPPNtRwLAOgmahoqxx9/fAYN\n",
              "GvS+axYuXJhJkyZlwIABqaurywUXXJDbb799h+tbWlrS3Nzc7tba2trZowMABejZ1QM0NTW1e8Vl\n",
              "yJAhaWpq2uH6OXPm5Oqrr2637ZhjjqnJbEOuuKsm+02StXP/T8323R3V6t/av3N7tfw/XSu1Oobd\n",
              "8ee7O87cXXXH56TuOPMH0e1Opp09e3Y2bdrU7jZhwoSuHgsAqIEuf0WloaEhzz77bNvXa9euTUND\n",
              "ww7X19fXp76+vt22Hj161Gw+AKDrdPkrKlOmTMmSJUvywgsvpKqq3HTTTfn85z/f1WMBAAWoaajM\n",
              "mjUrgwYNym9+85t86lOfytChQ5Mk06dPz5IlS5Ikhx56aK6++uoce+yxGTp0aPbbb7/MmjWrlmMB\n",
              "AN1ETd/6aWxsfM/t8+bNa/f1jBkzMmPGjFqOAgB0Q13+1g8AwI4IFQCgWEIFACiWUAEAiiVUAIBi\n",
              "CRUAoFhCBQAollABAIolVACAYgkVAKBYQgUAKJZQAQCKJVQAgGIJFQCgWEIFACiWUAEAiiVUAIBi\n",
              "CRUAoFhCBQAollABAIolVACAYgkVAKBYQgUAKJZQAQCKJVQAgGIJFQCgWEIFACiWUAEAiiVUAIBi\n",
              "CRUAoFhCBQAollABAIolVACAYgkVAKBYQgUAKJZQAQCKJVQAgGIJFQCgWEIFACiWUAEAiiVUAIBi\n",
              "CRUAoFhCBQAollABAIolVACAYgkVAKBYQgUAKJZQAQCKJVQAgGIJFQCgWEIFACiWUAEAiiVUAIBi\n",
              "CRUAoFhCBQAollABAIolVACAYgkVAKBYQgUAKJZQAQCKJVQAgGLVNFRWr16diRMnZvjw4Rk/fnxW\n",
              "rly53ZqtW7fm0ksvzciRIzNq1KicdNJJWbNmTS3HAgC6iZqGyqxZszJz5sw888wzufzyyzNt2rTt\n",
              "1ixZsiS//OUv89hjj+Xxxx/PKaeckq9//eu1HAsA6CZqFiobN27MihUrMnXq1CTJlClTsn79+u1e\n",
              "Lamrq0tLS0vefvvtVFWV5ubmDBo0qFZjAQDdSM9a7Xj9+vUZOHBgevbc9lfU1dWloaEhTU1NGTp0\n",
              "aNu6T3/601m6dGkGDBiQXr165aCDDsp99923w/22tLSkpaWl3bbW1tbaPAgAoEt1+cm0K1asyJNP\n",
              "Ppnf/va3+d3vfpdTTjklF1xwwQ7Xz5kzJ3369Gl3W7Zs2S6cGADYVWoWKoMHD86GDRuyZcuWJElV\n",
              "VWlqakpDQ0O7dbfddltOPvnk9O3bN7vttlvOPffcLF26dIf7nT17djZt2tTuNmHChFo9DACgC9Us\n",
              "VPbff/+MHTs2CxYsSJIsWrQogwYNave2T5Iceuihuffee/POO+8kSe68884ceeSRO9xvfX19evfu\n",
              "3e7Wo0ePWj0MAKAL1ewclSRpbGzMtGnTct1116V3796ZP39+kmT69OmZNGlSJk2alC9/+cv5r//6\n",
              "r4wePTq77757BgwYkJtuuqmWYwEA3URNQ2XEiBF54IEHtts+b968tj/X19fnlltuqeUYAEA31eUn\n",
              "0wIA7IhQAQCKJVQAgGIJFQCgWEIFACiWUAEAiiVUAIBiCRUAoFhCBQAollABAIolVACAYgkVAKBY\n",
              "QgUAKJZQAQCKJVQAgGIJFQCgWEIFACiWUAEAiiVUAIBiCRUAoFhCBQAollABAIolVACAYgkVAKBY\n",
              "QgUAKJZQAQCKJVQAgGIJFQCgWEIFACiWUAEAiiVUAIBiCRUAoFhCBQAollABAIolVACAYgkVAKBY\n",
              "QgUAKJZQAQCKJVQAgGIJFQCgWEIFACiWUAEAiiVUAIBiCRUAoFhCBQAollABAIolVACAYgkVAKBY\n",
              "QgUAKJZQAQCKJVQAgGIJFQCgWEIFACiWUAEAiiVUAIBiCRUAoFhCBQAollABAIolVACAYgkVAKBY\n",
              "QgUAKJZQAQCKVdNQWb16dSZOnJjhw4dn/PjxWbly5Xuue+KJJ3LiiSfm8MMPz+GHH57FixfXciwA\n",
              "oJvoWcudz5o1KzNnzsy0adOycOHCTJs2LcuXL2+35s0338xZZ52V2267Lccdd1xaW1vzyiuv1HIs\n",
              "AKCbqNkrKhs3bsyKFSsyderUJMmUKVOyfv36rFmzpt26733veznmmGNy3HHHJUl69OiR/fbbb4f7\n",
              "bWlpSXNzc7tba2trrR4GANCFahYq69evz8CBA9Oz57YXberq6tLQ0JCmpqZ261atWpX6+vqceeaZ\n",
              "GTNmTP70T/80L7300g73O2fOnPTp06fdbdmyZbV6GABAF+pwqPz85z/v1AG2bNmSu+++O42NjXnk\n",
              "kUdy0EEH5cILL9zh+tmzZ2fTpk3tbhMmTOjUmQCAMnQ4VK655pqMGDEiN9xwQ5qbm3e4bvDgwdmw\n",
              "YUO2bNmSJKmqKk1NTWloaGi3rqGhISeddFIOOuig1NXVZerUqXnwwQd3uN/6+vr07t273a1Hjx4d\n",
              "fRgAQDfQ4VD55S9/mTvuuCNPPvlkhg8fnj/7sz/LqlWrtlu3//77Z+zYsVmwYEGSZNGiRRk0aFCG\n",
              "Dh3abt3nPve5LF++vC16fvKTn2T06NE781gAgA+ZnTpH5eijj84tt9ySn/3sZ7nzzjszatSonHrq\n",
              "qXniiSfarWtsbExjY2OGDx+euXPnZv78+UmS6dOnZ8mSJUm2vaLy9a9/PRMnTsyoUaNy77335qab\n",
              "bvo9HxYA8GGwU7+efPfdd+fGG2/ME088kS9/+cv50pe+lP/4j//IH/3RH7X7rZ4RI0bkgQce2O77\n",
              "582b1+7rL37xi/niF7+4M6MAAB9iHQ6Vww8/PPvuu28uvvjinH322W3nh3zmM5/Jrbfe2ukDAgAf\n",
              "XR0OlQULFmTcuHHved9Pf/rT33sgAID/0eFzVB566KF2nxz78ssv55ZbbunUoQAAkp0IlW9/+9vp\n",
              "169f29f9+/fPt7/97U4dCgAg2YlQqapqu20+wh4AqIUOh8rAgQPzgx/8oO3r73//+xk4cGCnDgUA\n",
              "kOzEybTf+ta3ctZZZ+Wyyy5Lkuy55575t3/7t04fDACgw6HyiU98IqtWrcrTTz+dZNtnpfgIewCg\n",
              "FnbqA9/q6urSt2/fbNmyJb/97W+TZLtr+AAA/L46HCr//M//nIsvvji77757dttt2ykudXV12bhx\n",
              "Y6cPBwB8tHU4VP7qr/4qy5cvz4gRI2oxDwBAmw7/1s++++4rUgCAXaLDoTJ58uR861vfysaNG9Pc\n",
              "3Nx2AwDobB1+6+fKK69Mklx66aWpq6tLVVWpq6vzoW8AQKfrcKhs3bq1FnMAAGynw2/9JNsuTPgv\n",
              "//IvSZLXXnstGzZs6NShAACSnbwo4fnnn5+rrroqybarJ59zzjmdPRcAQMdD5eabb86DDz6Y3r17\n",
              "J0kOO+ywvPTSS50+GABAh0Olvr4+e+yxR7ttPXvu1AfcAgC8rw6Hyn777ZdnnnkmdXV1SbZ9Uq2P\n",
              "zwcAamGnrp78hS98IU899VQGDx6c3r17584776zFbADAR1yHQ2Xo0KH59a9/naeffjpVVbl6MgBQ\n",
              "Mx0OlaampiTJXnvtlSSungwA1EyHQ2XcuHFtn0j79ttv580330z//v1dPRkA6HQdDpX//1eRFy9e\n",
              "nMcee6zTBgIA+B879cm073b22Wfnrrvu6oxZAADa6fArKu++UnJra2t+/etfu3oyAFATHQ6Vvn37\n",
              "tp2j0qNHjwwbNiz/8A//UIvZAICPOFdPBgCK9XufowIAUCsdfkVlt912a/v4/Herqip1dXVpbW3t\n",
              "lMEAADocKtdcc03eeuutXHjhhUmSm266KXvssUe+8pWvdPZsAMBHXIdD5Uc/+lEeeuihtq+vvfba\n",
              "jBs3LldeeWWnDgYA0OFzVF5//fV2n0K7cePGvP766506FABAshOvqHzta1/L6NGjc8YZZyRJfvaz\n",
              "n+Wqq67q7LkAADoeKrNmzcqxxx6bpUuXJkkuvfTSHHHEEZ0+GABAh0MlSfr375+jjjoqJ554YrZs\n",
              "2ZJ33nknH/vYxzp7NgDgI67D56gsXLgwxxxzTM4777wkycqVKzN58uTOngsAoOOhMmfOnDz88MPp\n",
              "27dvkmT06NFZt25dZ88FANDxUOnRo0f69+/fbpu3fQCAWuhwqPTq1Ssvvvhi26fT3nPPPenXr1+n\n",
              "DwYA0OGTaf/mb/4mp59+ep577rkcd9xxef7553PXXXfVYjYA4COuQ6GydevWtLa2ZunSpfnVr36V\n",
              "qqoyceLEtvNVAAA6U4dCZbfddsvMmTPz2GOP5fTTT6/VTAAASXbiHJVhw4ZlzZo1tZgFAKCdDp+j\n",
              "8sorr2TMmDGZOHFi9t5777btixcv7tTBAAA+cKjMnDkzN998c84999xMmjQp++yzTy3nAgD44KGy\n",
              "YsWKJMm5556bsWPH5uGHH67ZUAAAyU6co5IkVVV19hwAANv5wK+ovPXWW3niiSdSVVXefvvttj//\n",
              "j1GjRtVkQADgo6tDoTJp0qS2r9/957q6ujz33HOdOxkA8JH3gUNl7dq1NRwDAGB7O3WOCgDAriBU\n",
              "AIBiCRUAoFhCBQAollABAIolVACAYgkVAKBYQgUAKJZQAQCKVdNQWb16dSZOnJjhw4dn/PjxWbly\n",
              "5Q7XVlWVk08+OX379q3lSABAN1LTUJk1a1ZmzpyZZ555JpdffnmmTZu2w7XXX399DjvssFqOAwB0\n",
              "MzULlY0bN2bFihWZOnVqkmTKlClZv3591qxZs93alStX5sc//nGuuOKK/3W/LS0taW5ubndrbW3t\n",
              "9PkBgK5Xs1BZv359Bg4cmJ49t133sK6uLg0NDWlqamq3bvPmzZkxY0YaGxvTo0eP/3W/c+bMSZ8+\n",
              "fdrdli1bVpPHAAB0rS4/mfbqq6/O2WefncMPP/wDrZ89e3Y2bdrU7jZhwoQaTwkAdIWetdrx4MGD\n",
              "s2HDhmzZsiU9e/ZMVVVpampKQ0NDu3X33Xdfmpqa8o//+I/ZsmVLmpubM2TIkCxfvjz77bffdvut\n",
              "r69PfX19u20f5JUYAKD7qdkrKvvvv3/Gjh2bBQsWJEkWLVqUQYMGZejQoe3W3X///Vm3bl3Wrl2b\n",
              "X/ziF+ndu3fWrl37npECAHy01PStn8bGxjQ2Nmb48OGZO3du5s+fnySZPn16lixZUsu/GgD4EKjZ\n",
              "Wz9JMmLEiDzwwAPbbZ83b957rh8yZEhee+21Wo4EAHQjXX4yLQDAjggVAKBYQgUAKJZQAQCKJVQA\n",
              "gGIJFQCgWEIFACiWUAEAiiVUAIBiCRUAoFhCBQAollABAIolVACAYgkVAKBYQgUAKJZQAQCKJVQA\n",
              "gGIJFQCgWEIFACiWUAEAiiVUAIBiCRUAoFhCBQAollABAIolVACAYgkVAKBYQgUAKJZQAQCKJVQA\n",
              "gGIJFQCgWEIFACiWUAEAiiVUAIBiCRUAoFhCBQAollABAIolVACAYgkVAKBYQgUAKJZQAQCKJVQA\n",
              "gGIJFQCgWEIFACiWUAEAiiVUAIBiCRUAoFhCBQAollABAIolVACAYgkVAKBYQgUAKJZQAQCKJVQA\n",
              "gGIJFQCgWEIFACiWUAEAiiVUAIBiCRUAoFhCBQAollABAIolVACAYgkVAKBYNQ2V1atXZ+LEiRk+\n",
              "fHjGjx+flStXbrfm3nvvzYQJEzJy5MgcccQRueyyy7J169ZajgUAdBM1DZVZs2Zl5syZeeaZZ3L5\n",
              "5Zdn2rRp263ZZ599cscdd2TVqlV56KGH8qtf/Sq33XZbLccCALqJmoXKxo0bs2LFikydOjVJMmXK\n",
              "lKxfvz5r1qxpt+7oo4/OoYcemiT5+Mc/njFjxmTt2rU73G9LS0uam5vb3VpbW2v1MACALlSzUFm/\n",
              "fn0GDhyYnj17Jknq6urS0NCQpqamHX7PCy+8kIULF+bMM8/c4Zo5c+akT58+7W7Lli3r9PkBgK5X\n",
              "zMm0zc3N+fSnP53LLrssn/zkJ3e4bvbs2dm0aVO724QJE3bhpADArtKzVjsePHhwNmzYkC1btqRn\n",
              "z56pqipNTU1paGjYbu3rr7+e0047LWeddVYuvfTS991vfX196uvr223r0aNHp84OAJShZq+o7L//\n",
              "/hk7dmwWLFiQJFm0aFEGDRqUoUOHtlv3xhtv5LTTTstpp52Wv/zLv6zVOABAN1TTt34aGxvT2NiY\n",
              "4cOHZ+7cuZk/f36SZPr06VmyZEmS5IYbbsiyZcuyePHijBkzJmPGjMlf//Vf13IsAKCbqNlbP0ky\n",
              "YsSIPPDAA9ttnzdvXtufr7zyylx55ZW1HAMA6KaKOZkWAOD/J1QAgGIJFQCgWEIFACiWUAEAiiVU\n",
              "AIBiCRUAoFhCBQAollABAIolVACAYgkVAKBYQgUAKJZQAQCKJVQAgGIJFQCgWEIFACiWUAEAiiVU\n",
              "AIBiCRUAoFhCBQAollABAIolVACAYgkVAKBYQgUAKJZQAQCKJVQAgGIJFQCgWEIFACiWUAEAiiVU\n",
              "AIBiCRUAoFhCBQAollABAIolVACAYgkVAKBYQgUAKJZQAQCKJVQAgGIJFQCgWEIFACiWUAEAiiVU\n",
              "AIBiCRUAoFhCBQAollABAIolVACAYgkVAKBYQgUAKJZQAQCKJVQAgGIJFQCgWEIFACiWUAEAiiVU\n",
              "AIBiCRUAoFhCBQAollABAIolVACAYgkVAKBYQgUAKJZQAQCKVdNQWb16dSZOnJjhw4dn/PjxWbly\n",
              "5Xuuu/XWWzNs2LAcdthhmTFjRjZv3lzLsQCAbqKmoTJr1qzMnDkzzzzzTC6//PJMmzZtuzXPP/98\n",
              "vvGNb+T+++/PmjVr8uKLL+bmm2+u5VgAQDdRs1DZuHFjVqxYkalTpyZJpkyZkvXr12fNmjXt1i1c\n",
              "uDCTJk3KgAEDUldXlwsuuCC33377Dvfb0tKS5ubmdrfW1tZaPQwAoAvVVVVV1WLHDz30UM4555w8\n",
              "/fTTbdsmTJiQuXPn5uSTT27b9ud//uc58MADM3v27CTJqlWrctppp6Wpqek993vVVVfl6quvbrft\n",
              "E5/4RE4//fROnb+1tTXLli3LhAkT0qNHj07dNzvHMSmL41EWx6MsjscHc/DBB+eSSy553zU9d9Es\n",
              "nWb27Nm59NJL222rr69PfX19p/49zc3N6dOnT37+85+nd+/enbpvdo5jUhbHoyyOR1kcj85Ts1AZ\n",
              "PHhwNmzYkC1btqRnz56pqipNTU1paGhot66hoSHPPvts29dr167dbs271SJKAIAy1ewclf333z9j\n",
              "x47NggULkiSLFi3KoEGDMnTo0HbrpkyZkiVLluSFF15IVVW56aab8vnPf75WYwEA3UhNf+unsbEx\n",
              "jY2NGT58eObOnZv58+cnSaZPn54lS5YkSQ499NBcffXVOfbYYzN06NDst99+mTVrVi3HAgC6iZqe\n",
              "ozJixIg88MAD222fN29eu69nzJiRGTNm1HKUDquvr883v/lNbzMVxDEpi+NRFsejLI5H56nZb/0A\n",
              "APy+fIQ+AFAsoQIAFEuoAADFEioAQLGEyg580Cs/88G9/fbbmTx5coYPH57Ro0fn1FNPbbv208aN\n",
              "G3Paaadl2LBhOfLII/Of//mfbd9Xi/tob/78+amrq8uPf/zjJI5HV2lpaclFF12UYcOG5aijjmq7\n",
              "Vtr7PR/V4j62+clPfpKxY8dmzJgxOfLII/Pd7343iZ+PXa7iPZ100knV/Pnzq6qqqh/+8IfVJz/5\n",
              "ya4d6EPgrbfequ66665q69atVVVV1Y033lidcMIJVVVV1XnnnVd985vfrKqqqpYtW1YddNBB1Tvv\n",
              "vFOz+/h/nn/++eoP/uAPqmOOOab60Y9+VFWV49FVvvKVr1QXXXRR28/Ihg0bqqp6/+ejWtxHVW3d\n",
              "urXaZ599qscee6yqqm0/J/X19VVzc7Ofj11MqLyHF198serVq1e1efPmqqq2/Yc94IADqtWrV3fx\n",
              "ZB8uy5cvrw4++OCqqqpqr732antSrqqqGj9+fPXv//7vNbuPbVpbW6tTTjmlWrFiRXXCCSe0hYrj\n",
              "seu98cYbVa9evapNmza12/5+z0e1uI9ttm7dWvXr16+67777qqqqqscee6w68MADq5aWFj8fu1i3\n",
              "uyjhrrB+/foMHDgwPXtu++epq6tLQ0NDmpqatrsEADvvhhtuyFlnnZWXX345mzdvzoABA9ruGzJk\n",
              "SJqammpyH//P3//93+fYY4/NuHHj2rY5Hl3j2WefTb9+/XLdddfl7rvvzh577JGrrroqffv23eHz\n",
              "UZ8+fTr9Ps9x29TV1eX73/9+zj777Oy111559dVXs3jx4rz++ut+PnYxoUKXuO6667JmzZrcc889\n",
              "eeutt7p6nI+kJ598MosWLfJeeCG2bNmSdevWZeTIkZk7d24eeeSRnHrqqbnrrru6erSPpC1btuTa\n",
              "a6/N4sWLc/zxx2f58uWZNGlSHn300a4e7SPHybTv4d1Xfk6ywys/s3P+9m//NosXL85Pf/rT7Lnn\n",
              "nunfv3969uyZF154oW3N/1xFuxb3sc3999+ftWvXZtiwYRkyZEgefPDBzJw5Mz/4wQ8cjy7Q0NCQ\n",
              "3XbbLX/yJ3+SJDn66KNzyCGHZN26dTt8Pnq/56qdvY9tHn300fzud7/L8ccfnyQZP358Bg0alMcf\n",
              "f9zPx67WpW88FeyEE05od6LZuHHjunagD4m/+7u/q8aOHVu98sor7bafe+657U4kO/DAA9tOJKvF\n",
              "fWzv3eeoOB5d49RTT63uuuuuqqqq6rnnnqv69+9f/eY3v3nf56Na3EdVvfDCC9Xee+9drVq1qqqq\n",
              "qlq9enW1zz77VOvWrfPzsYsJlR146qmnqmOOOaYaNmxYNW7cuOrxxx/v6pG6vfXr11dJqkMPPbQa\n",
              "PXp0NXr06GrChAlVVW17Ujj11FOroUOHViNHjqzuvffetu+rxX1s792h4nh0jWeffbY68cQTqyOP\n",
              "PLIaNWpUtXDhwqqq3v/5qBb3sc33vve9tmNx5JFHVv/6r/9aVZWfj13NRQkBgGI5RwUAKJZQAQCK\n",
              "JVQAgGIJFQCgWEIFACiWUAEAiiVUAIBiCRUAoFhCBQAollABAIr1fwH52PN36gSWGAAAAABJRU5E\n",
              "rkJggg==\n",
              "\">\n",
              "      </div>\n",
              "      <script type=\"text/javascript\">\n",
              "        (() => {\n",
              "          const chartElement = document.getElementById(\"chart-8f0289fb-8515-458f-bbfb-82001f70079d\");\n",
              "          async function getCodeForChartHandler(event) {\n",
              "            const chartCodeResponse =  await google.colab.kernel.invokeFunction(\n",
              "                'getCodeForChart', [\"chart-8f0289fb-8515-458f-bbfb-82001f70079d\"], {});\n",
              "            const responseJson = chartCodeResponse.data['application/json'];\n",
              "            await google.colab.notebook.addCell(responseJson.code, 'code');\n",
              "          }\n",
              "          chartElement.onclick = getCodeForChartHandler;\n",
              "        })();\n",
              "      </script>\n",
              "      <style>\n",
              "        .colab-quickchart-chart-with-code  {\n",
              "            display: block;\n",
              "            float: left;\n",
              "            border: 1px solid transparent;\n",
              "        }\n",
              "\n",
              "        .colab-quickchart-chart-with-code:hover {\n",
              "            cursor: pointer;\n",
              "            border: 1px solid #aaa;\n",
              "        }\n",
              "      </style>"
            ],
            "text/plain": [
              "from matplotlib import pyplot as plt\n",
              "_df_1['Salary'].plot(kind='hist', bins=20, title='Salary')\n",
              "plt.gca().spines[['top', 'right',]].set_visible(False)"
            ]
          },
          "metadata": {},
          "output_type": "display_data"
        },
        {
          "data": {
            "text/html": [
              "<h4 class=\"colab-quickchart-section-title\">2-d distributions</h4>\n",
              "<style>\n",
              "  .colab-quickchart-section-title {\n",
              "      clear: both;\n",
              "  }\n",
              "</style>"
            ],
            "text/plain": [
              "<google.colab._quickchart_helpers.SectionTitle at 0x7867342e7e10>"
            ]
          },
          "metadata": {},
          "output_type": "display_data"
        },
        {
          "data": {
            "text/html": [
              "      <div class=\"colab-quickchart-chart-with-code\" id=\"chart-083391a0-2661-4e8f-9758-9771fb7ae7f2\">\n",
              "        <img style=\"width: 180px;\" src=\"data:image/png;base64,iVBORw0KGgoAAAANSUhEUgAAAjwAAAGkCAYAAAA10v8pAAAAOnRFWHRTb2Z0d2FyZQBNYXRwbG90\n",
              "bGliIHZlcnNpb24zLjEwLjAsIGh0dHBzOi8vbWF0cGxvdGxpYi5vcmcvlHJYcgAAAAlwSFlzAAAP\n",
              "YQAAD2EBqD+naQAAJGJJREFUeJzt3X9wFPd9//HX3e1pT9FJWEGAICDJNpInsbD5jWSHX9PSAu3U\n",
              "rl3qVgiHDi7gFBoP7RRo62Yyk0LceJQvhXgcOozacIYxHaibqQutx52BNEbCngq70NiWYk7CgCSE\n",
              "bZAUaXV72u8fJGpkywk0t7fwuedj5mbg9k5671lentrd2wt5nucJAADAYOGgBwAAAPAbwQMAAIxH\n",
              "8AAAAOMRPAAAwHgEDwAAMB7BAwAAjEfwAAAA4xE8AADAeATPT+zatSvoEQAAgE8Inp9ob28PegQA\n",
              "AOATggcAABiP4AEAAMYjeAAAgPEIHgAAYDyCBwAAGI/gAQAAxiN4AACA8QgeAABgPIIHAAAYj+AB\n",
              "AADGI3gAAICvBlNp9fQ5GkylA5vBCuw7AwAAo13udZRoSurYmS4NpNLKj0a0orpU9bXlKonbWZ2F\n",
              "PTwAACDjLvc62nywRS80d6jfcWWFQ+p3XCWa27XpQIt6+pyszkPwAACAjEs0JdXW3asJcVvFBXkq\n",
              "sC0VF+RpQtxWW3evEifbszoPwQMAADJqMJXWsTNdilkRWZHRqWFFwrKtiI6e7czqOT0EDwAAyKg+\n",
              "x9VAKq08a+zMsK2wBobS6nPcrM1E8AAAgIyK25byoxENucNjLnfcYeXnRRS3s/feKYIHAABkVCwa\n",
              "0fLqSRp003LTo6PHTQ/LcdNacW+pYtFI1mbibekAACDj1tRWqPnch2rr7pVtRWRbYTnu9dipnFio\n",
              "+tryrM7DHh4AAJBxJXFbe+pmqX5BueIxS+6wp3jMUv2Ccu2um5X16/CwhwcAAPiiJG7rqWVV2rjk\n",
              "bvU5ruK2ldXDWD+L4AEAAL6KRSOBhc5PcUgLAAAYj+ABAADGI3gAAIDxCB4AAGA8ggcAABiP4AEA\n",
              "AMYjeAAAgPEIHgAAYDyCBwAAGI/gAQAAxiN4AACA8QgeAABgPIIHAAAYj+ABAADGI3gAAIDxCB4A\n",
              "AGA8ggcAABiP4AEAAMYjeAAAgPEIHgAAYDyCBwAAGI/gAQAAxiN4AACA8QgeAABgPIIHAAAYj+AB\n",
              "AMBHg6m0evocDabSQY+S06ygBwAAwESXex0lmpI6dqZLA6m08qMRraguVX1tuUridtDj5Rxf9/D8\n",
              "67/+q2bPnq2ZM2equrpa//AP/yBJ6u7u1vLly1VZWanq6mqdOHFi5Dl+LAMAIJsu9zrafLBFLzR3\n",
              "qN9xZYVD6ndcJZrbtelAi3r6nKBHzDm+BY/neaqvr9ff//3f6/Tp0/qXf/kXbdiwQb29vdq2bZtq\n",
              "amrU2tqqxsZG1dXVKZVKSZIvywAAyKZEU1Jt3b2aELdVXJCnAttScUGeJsRttXX3KnGyPegRc46v\n",
              "e3hCoZA++ugjSdK1a9c0fvx42batQ4cOaePGjZKkefPmacqUKTp+/Lgk+bLs4xzH0bVr10bd0mmO\n",
              "rQIAfnmDqbSOnelSzIrIioz+Z9aKhGVbER0928k5PVnm2zk8oVBIL774oh555BEVFBToww8/1JEj\n",
              "R9Tb26tUKqXS0tKRx1ZUVKijo0NXrlzJ+LKx7Ny5U1/72tdG3VdTU5OpVQcA5LA+x9VAKq08a+x9\n",
              "CrYV1sBQWn2Oq1g0kuXpcpdve3hc19XXv/51HTlyRO3t7Xr11Ve1Zs0aua7r17e8Ydu3b9fVq1dH\n",
              "3ebPnx/0WAAAA8RtS/nRiIbc4TGXO+6w8vMiitu8byibfAue06dP6+LFi1q0aJGk64eZpk6dqrfe\n",
              "ekuWZamzs3PksclkUmVlZRo/fnzGl43Ftm0VFRWNukUiVDYA4JcXi0a0vHqSBt203PTo6HHTw3Lc\n",
              "tFbcW8renSzzLXimTZumS5cu6Yc//KEkqa2tTT/60Y90zz33aNWqVXr++eclSa+//rouXLigxYsX\n",
              "S5IvywAAyKY1tRWaPrFQl/scfdA/pH7H1Qf9Q7rc56hyYqHqa8uDHjHn+LY/bdKkSdq7d69+93d/\n",
              "V+FwWMPDw9qzZ4/Kysr0zDPPaM2aNaqsrFReXp4SiYSi0agk+bIMAIBsKonb2lM3S4mT7Tp6tlMD\n",
              "Q2nFY5ZW3TuV6/AEJOR5nhf0ELeCLVu2qKGhIegxAACGGUxdP0E5blscxgoQZ0wBAOCjWDRC6NwC\n",
              "+CwtAABgPIIHAAAYj+ABAADGI3gAAIDxCB4AAGA8ggcAABiP4AEAAMYjeAAAgPEIHgAAYDyCBwAA\n",
              "GI/gAQAAxiN4AACA8QgeAABgPIIHAAAYj+ABAADGI3gAAIDxCB4AAGA8ggcAABiP4AEAAMYjeAAA\n",
              "gPEIHgAAYDyCBwAAGI/gAQAAxiN4AACA8QgeAABgPIIHAAAYj+ABAADGI3gAAIDxCB4AAGA8ggcA\n",
              "ABiP4AEAAMYjeAAAgPEIHgAAYDyCBwAAGI/gAQAAxiN4AACA8QgeAABgPIIHAAAYj+ABAADGI3gA\n",
              "AIDxCB4AAGA8ggcAABiP4AEAAMYjeAAAgPEIHgAAYDyCBwAAGI/gAQAAxiN4AACA8QgeAABgPIIH\n",
              "AAAYj+ABAADGI3gAAIDxCB4AAGA8ggcAABiP4AEAAMYjeAAAgPEIHgAAYDyCBwAAGI/gAQAAxiN4\n",
              "AABZN5hKq6fP0WAqHfQoyBFW0AMAAHLH5V5Hiaakjp3p0kAqrfxoRCuqS1VfW66SuB30eDAYe3gA\n",
              "AFlxudfR5oMteqG5Q/2OKyscUr/jKtHcrk0HWtTT5wQ9IgxG8AAAsiLRlFRbd68mxG0VF+SpwLZU\n",
              "XJCnCXFbbd29SpxsD3pEGIzgAQD4bjCV1rEzXYpZEVmR0f/0WJGwbCuio2c7OacHviF4AAC+63Nc\n",
              "DaTSyrPG/mfHtsIaGEqrz3GzPBlyha/B4ziONm3apMrKSs2YMUP19fWSpNbWVj3wwAOqqqrSvHnz\n",
              "dPbs2ZHn+LEMABCsuG0pPxrRkDs85nLHHVZ+XkRxm/fSwB++Bs+2bdsUCoX07rvv6r//+7/17LPP\n",
              "SpI2bNig9evX691339XWrVu1du3akef4sQwAEKxYNKLl1ZM06KblpkdHj5seluOmteLeUsWikYAm\n",
              "hOlCnud5fnzh/v5+TZ48We+//76KiopG7u/u7tb06dP1wQcfyLIseZ6nyZMn6z//8z9VVFSU8WXT\n",
              "p0//xGyO48hxRr8b4Omnn9auXbv8eCkAAJJ6+hxtOtCitu5e2VZEthWW416PncqJhdpdN4u3psM3\n",
              "vu3h+dGPfqTPfvaz2rFjh+bOnauFCxfq1Vdf1fnz5zV58mRZ1vXdlqFQSGVlZero6PBl2Vh27typ\n",
              "cePGjbqdOnXKr5cCACCpJG5rT90s1S8oVzxmyR32FI9Zql9QTuzAd74dLHVdV+3t7frCF76gb3zj\n",
              "G2ppadGyZcv08ssv+/Utb9j27du1ZcuWUfc9/fTTAU0DALmjJG7rqWVV2rjkbvU5ruK2xWEsZIVv\n",
              "wVNWVqZwOKzVq1dLkmbNmqU777xT7e3tunTpklzXHTn81NHRobKyMhUVFWV82Vhs25Ztj/5NIhLh\n",
              "fzgAyJZYNELoIKt8O6RVUlKiX/mVX9G//du/SZLOnTunc+fO6cEHH9Ts2bOVSCQkSYcPH9bUqVM1\n",
              "ffp0TZw4MePLAAAAfDtpWZLee+89rVu3Tj09PQqHw/qrv/orPfroo3rnnXe0du1aXblyRUVFRWps\n",
              "bNSMGTMkyZdlN2LLli1qaGjI/IsAAAAC52vw3E4IHgAAzMWVlgEAgPEIHgAAYDyCBwAAGI/gAQAA\n",
              "xiN4AACA8QgeAABgPIIHAAAYj+ABAADGI3gAAIDxCB4AAGA8ggcAABiP4AEAAMYjeAAAgPEIHgAA\n",
              "YDyCBwAAGI/gAQAAxiN4AACA8QgeAABgPIIHAAAYj+ABAADGI3gAAIDxCB4AAGA8ggcAABiP4AEA\n",
              "AMYjeAAAgPEIHgAAYDyCBwDgq8FUWj19jgZT6aBHQQ6zgh4AAGCmy72OEk1JHTvTpYFUWvnRiFZU\n",
              "l6q+tlwlcTvo8ZBj2MMDAMi4y72ONh9s0QvNHep3XFnhkPodV4nmdm060KKePifoEZFjCB4AQMYl\n",
              "mpJq6+7VhLit4oI8FdiWigvyNCFuq627V4mT7UGPiBxD8AAAMmowldaxM12KWRFZkdH/zFiRsGwr\n",
              "oqNnOzmnB1lF8AAAMqrPcTWQSivPGvufGNsKa2AorT7HzfJkyGUEDwAgo+K2pfxoREPu8JjLHXdY\n",
              "+XkRxW3eN4PsIXgAABkVi0a0vHqSBt203PTo6HHTw3LctFbcW6pYNBLQhMhF5DUAIOPW1Fao+dyH\n",
              "auvulW1FZFthOe712KmcWKj62vKgR0SOuek9PL//+7+v1157zY9ZAACGKInb2lM3S/ULyhWPWXKH\n",
              "PcVjluoXlGt33Syuw4Osu+k9PEuXLtWXv/xlhcNh/dEf/ZFWr16tWCzmx2wAgNtYSdzWU8uqtHHJ\n",
              "3epzXMVti8NYCMxN7+FZv369Tp8+rb/927/Vq6++qjvvvFN/9md/pvZ2rqkAAPikWDSikrhN7CBQ\n",
              "/+eTlu+55x59/vOfl2VZevvtt/XFL35RzzzzTCZnAwAAyIibDp6mpiatXr1aM2fO1ODgoJqamvS9\n",
              "731Pb7/9tr797W/7MSMAAMAv5abP4Vm/fr2+8pWvaN++faPO3SkoKNBf/MVfZHQ4AACATLip4Emn\n",
              "01q+fLnWrVs35vINGzZkZCgAAIBMuqlDWpFIRMePH/drFgAAAF/c9Dk8K1as0F//9V/r4sWLunbt\n",
              "2sgNAADgVhXyPM+7mSeEw//bSKFQSJ7nKRQKKZ2+vT/1dsuWLWpoaAh6DAAA4IObPml5eHjsD4MD\n",
              "AHzSYCrNRfeAWwCfpQUAPrjc6yjRlNSxM10aSKWVH41oRXWp6mvL+VgFIAA3fQ5Pa2urVqxYoSlT\n",
              "puizn/3syA0AcN3lXkebD7boheYO9TuurHBI/Y6rRHO7Nh1oUU+fE/SIQM656eD5wz/8Q61du1bF\n",
              "xcU6fvy4fud3fkd/+qd/6sdsAHBbSjQl1dbdqwlxW8UFeSqwLRUX5GlC3FZbd68SJ/koHiDbbjp4\n",
              "rl27pscee0zhcFgzZszQd77zHb300ks+jAYAt5/BVFrHznQpZkVkRUZvYq1IWLYV0dGznRpM3d5v\n",
              "9ABuNzcdPNFoVJJUWFioZDIpx3HU09OT8cEA4HbU57gaSKWVZ429ebWtsAaGrp/IDCB7bvqk5UWL\n",
              "FunKlSvatGmT5syZo7y8PP3e7/2eH7MBwG0nblvKj0bU77gqGOPcZMcdVjxmKW7znhEgm276/7hv\n",
              "fvObkqS6ujotXLhQV69eVXV1dcYHA4DbUSwa0fLqSXqhuUNuenjUYS03PSzHTWvVvVN5izqQZTcc\n",
              "PGNdTXncuHEaN26crl27pqKioowOBgC3qzW1FWo+96HauntlWxHZVliOez12KicWqr62POgRgZxz\n",
              "w8Fzxx13jFxZ+adMutIyAGRKSdzWnrpZSpxs19GznRoYSises7Tq3qlchwcIyA0HD1dYBoAbVxK3\n",
              "9dSyKm1ccjdXWgZuAZw1BwA+ikUjhA5wC+BKywAAwHhcaRkAABiPKy0DAADjcaVlAABgvIxcafmx\n",
              "xx7zYzYAAICM+D9fabmmpkZPPfWU7rjjDm3evDnjgwEAAGTKDR/S+tVf/VWdPn1aknTx4kXNnTtX\n",
              "r732mr797W/rmWee8Ws+AACAX9oNB8+FCxc0c+ZMSdKBAwe0ePFiHT16VCdPntQLL7zg13wAcEMG\n",
              "U2n19DkaTHHVdwCfdMPBk5+fP/Ln1157TStXrpQkFRcXy7J+/pGxxsZGhUKhkXdzdXd3a/ny5aqs\n",
              "rFR1dbVOnDgx8lg/lgEw1+VeR9965R09tOcHeuS51/TQnh/o/73yrnr6nKBHA3ALueHgCYfDev/9\n",
              "99XX16fjx49r8eLFI8t+/OMff+rzksmk/u7v/k41NTUj923btk01NTVqbW1VY2Oj6urqlEqlfFsG\n",
              "wEyXex1tPtiiF5o71O+4ssIh9TuuEs3t2nSghegBMOKGg+fP//zPNWvWLFVWVmrp0qWqqqqSdH1v\n",
              "T0VFxZjPGR4e1hNPPKHdu3fLtv/3w/IOHTqkjRs3SpLmzZunKVOm6Pjx474tA2CmRFNSbd29mhC3\n",
              "VVyQpwLbUnFBnibEbbV19ypxsj3oEQHcIm74XVqPPPKIHnjgAXV1dem+++4bub+iokJ79+4d8zkN\n",
              "DQ168MEHNWfOnJH7rly5olQqpdLS0lFfo6Ojw5dlY3EcR44z+jc/Pu0duL0MptI6dqZLMSsiKzL6\n",
              "dzcrEpZtRXT0bKc2Lrmbz7ICcHNvSy8tLR0VFZI0ZcqUMR975swZHT58+JY8l2bnzp362te+Nuq+\n",
              "nz3kBuDW1+e4GkillWeNvaPatsIaGEqrz3EJHgA3f6XlG/X9739fyWRSlZWVqqioUFNTk9avX69D\n",
              "hw7Jsix1dnaOPDaZTKqsrEzjx4/P+LKxbN++XVevXh11mz9/vg+vAgC/xG1L+dGIhtzhMZc77rDy\n",
              "8yKK2zd9uTEABvIteJ588kldunRJyWRSyWRSNTU12rt3r5588kmtWrVKzz//vCTp9ddf14ULF0ZO\n",
              "gvZj2cfZtq2ioqJRt0iE3wCB20ksGtHy6kkadNNy06Ojx00Py3HTWnFvKXt3AEj6P1xpOROeeeYZ\n",
              "rVmzRpWVlcrLy1MikRj5jC4/lgEw05raCjWf+1Bt3b2yrYhsKyzHvR47lRMLVV9bHvSIAG4RIc/z\n",
              "vKCHuBVs2bJFDQ0NQY8B4Cb19DlKnGzX0bOdGhhKKz8vohX3lqq+tlwlcfsXfwEAOYGD2wBuayVx\n",
              "W08tq9LGJXerz3EVty0OYwH4BIIHgBFi0QihA+BT+XbSMgAAwK2C4AEAAMYjeAAAgPEIHgAAYDyC\n",
              "BwAAGI/gAQAAxiN4AACA8QgeAABgPIIHAAAYj+ABAADGI3gAAIDxCB4AAGA8ggcAABiP4AEAAMYj\n",
              "eAAAgPEIHgAAYDyCBwAAGI/gAQAAxiN4AACA8QgeAABgPIIHAAAYj+ABAADGI3gAAIDxCB4AAGA8\n",
              "ggcAABiP4AEAAMYjeAAAgPEIHgAAYDyCBwAAGI/gAQAAxiN4AACA8QgeAABgPIIHAAAYj+ABAADG\n",
              "I3gAAIDxCB4AAGA8ggcAABiP4AEAAMYjeAAAgPEIHgAAYDyCBwAAGI/gAQAAxiN4AACA8QgeAABg\n",
              "PIIHAAAYj+ABAADGI3gAAIDxCB4AAGA8ggcAABiP4AEAAMYjeAAAgPEIHgAAYDyCBwAAGI/gMdBg\n",
              "Kq2ePkeDqXTQowAAcEuwgh4AmXO511GiKaljZ7o0kEorPxrRiupS1deWqyRuBz0eAACBYQ+PIS73\n",
              "Otp8sEUvNHeo33FlhUPqd1wlmtu16UCLevqcoEcEACAwBI8hEk1JtXX3akLcVnFBngpsS8UFeZoQ\n",
              "t9XW3avEyfagRwQAIDAEjwEGU2kdO9OlmBWRFRn9n9SKhGVbER0928k5PQCAnEXwGKDPcTWQSivP\n",
              "Gvs/p22FNTCUVp/jZnkyAABuDQSPAeK2pfxoREPu8JjLHXdY+XkRxW3OUQcA5CaCxwCxaETLqydp\n",
              "0E3LTY+OHjc9LMdNa8W9pYpFIwFNCABAsPiV3xBraivUfO5DtXX3yrYisq2wHPd67FROLFR9bXnQ\n",
              "IwIAEBj28BiiJG5rT90s1S8oVzxmyR32FI9Zql9Qrt11s7gODwAgp7GHxyAlcVtPLavSxiV3q89x\n",
              "FbctDmMBACAf9/AMDg7q4YcfVlVVle6//34tW7ZMbW1tkqTu7m4tX75clZWVqq6u1okTJ0ae58ey\n",
              "XBOLRlQSt4kdAAB+wtdDWuvXr9c777yjN998Uw899JCeeOIJSdK2bdtUU1Oj1tZWNTY2qq6uTqlU\n",
              "yrdlAAAgt/kWPLFYTCtXrlQoFJIk1dTUKJlMSpIOHTqkjRs3SpLmzZunKVOm6Pjx474t+zjHcXTt\n",
              "2rVRt3Sai/IBAGCqrJ20vGvXLj300EO6cuWKUqmUSktLR5ZVVFSoo6PDl2Vj2blzp8aNGzfqdurU\n",
              "KR/WGgAA3AqyEjw7duxQW1ubdu7cmY1v9wtt375dV69eHXWbP39+0GMBAACf+B48zz77rI4cOaKj\n",
              "R4/qM5/5jMaPHy/LstTZ2TnymGQyqbKyMl+WjcW2bRUVFY26RSKc4AsAgKl8DZ6GhgYdPHhQr7zy\n",
              "iu64446R+1etWqXnn39ekvT666/rwoULWrx4sW/LAABAbgt5nuf58YXff/99TZs2TXfddZcKCwsl\n",
              "Xd+z0tzcrK6uLq1Zs0bnzp1TXl6e9uzZo6VLl0qSL8tuxJYtW9TQ0JDhVwEAANwKfAue2w3BAwCA\n",
              "ufhoCQAAYDyCBwAAGI/gAQAAxiN4AACA8QgeAABgPIIHAAAYj+ABAADGI3gAAIDxCB4AAGA8ggcA\n",
              "ABiP4AEAAMYjeAAAgPEIHgAAYDyCBwAAGI/gAQAAxiN4AACA8QgeAABgPIIHAAAYj+ABAADGI3gA\n",
              "AIDxCB4AAGA8ggcAABiP4AEAAMYjeAAAgPEIHgAAYDyCBwAAGI/gAQAAxiN4AACA8QgeAABgPIIH\n",
              "AAAYj+ABAADGI3gAAIDxCB4AAGA8ggcAABiP4AEAAMYjeAAAgPEIHgAAYDyCBwAAGI/gAQAAxiN4\n",
              "AACA8QgeAABgPIIHAAAYj+ABAADGI3gAAIDxCB4AAGA8ggcAABiP4AEAAMYjeAAAgPEIHgAAYDyC\n",
              "BwAAGI/gAQAAxiN4AACA8QgeAABgPIIHAAAYj+ABAADGI3gAAIDxCB4AAGA8ggcAABiP4AEAAMYj\n",
              "eAAAgPEIHgAAYDyCBwAAGI/gAQAAxiN4AACA8Qgenw2m0urpczSYSgc9CgAAOcsKegBTXe51lGhK\n",
              "6tiZLg2k0sqPRrSiulT1teUqidtBjwcAQE4xag9Pa2urHnjgAVVVVWnevHk6e/ZsIHNc7nW0+WCL\n",
              "XmjuUL/jygqH1O+4SjS3a9OBFvX0OYHMBQBArjIqeDZs2KD169fr3Xff1datW7V27dpA5kg0JdXW\n",
              "3asJcVvFBXkqsC0VF+RpQtxWW3evEifbA5kLAIBcZUzwdHd364033lB9fb0k6dFHH9X58+fV1tb2\n",
              "icc6jqNr166NuqXTmTnHZjCV1rEzXYpZEVmR0S+vFQnLtiI6eraTc3oAAMgiY4Ln/Pnzmjx5sizr\n",
              "+mlJoVBIZWVl6ujo+MRjd+7cqXHjxo26nTp1KiNz9DmuBlJp5Vljv7S2FdbAUFp9jpuR7wcAAH4x\n",
              "Y4LnZmzfvl1Xr14ddZs/f35GvnbctpQfjWjIHR5zueMOKz8vorjN+eIAAGSLMcEzbdo0Xbp0Sa57\n",
              "fc+J53nq6OhQWVnZJx5r27aKiopG3SKRSEbmiEUjWl49SYNuWm56dPS46WE5blor7i1VLJqZ7wcA\n",
              "AH4xY4Jn4sSJmj17thKJhCTp8OHDmjp1qqZPn571WdbUVmj6xEJd7nP0Qf+Q+h1XH/QP6XKfo8qJ\n",
              "haqvLc/6TAAA5DKjjqt85zvf0dq1a7Vjxw4VFRWpsbExkDlK4rb21M1S4mS7jp7t1MBQWvGYpVX3\n",
              "TuU6PAAABCDkeZ4X9BC3gi1btqihoSHjX3cwdf0E5bhtcRgLAICAGLWH51YUi0YIHQAAAmbMOTwA\n",
              "AACfhuABAADGI3gAAIDxCB4AAGA8ggcAABiP4AEAAMYjeAAAgPEIHgAAYDyCBwAAGI/gAQAAxuOz\n",
              "tH7ikUceUUVFRca/bjqd1qlTpzR//nxFIrn3ERO5vv4SrwHrn9vrL/Ea5Pr6S/6+BuXl5frKV77y\n",
              "Cx9H8Pjs2rVrGjdunK5evaqioqKgx8m6XF9/ideA9c/t9Zd4DXJ9/aVb4zXgkBYAADAewQMAAIxH\n",
              "8AAAAOMRPD6zbVtf/epXZdt20KMEItfXX+I1YP1ze/0lXoNcX3/p1ngNOGkZAAAYjz08AADAeAQP\n",
              "AAAwHsEDAACMR/D4qKKiQvfcc49mzpypmTNn6sUXXwx6JF/98R//sSoqKhQKhXT69OmR+1tbW/XA\n",
              "Aw+oqqpK8+bN09mzZ4Mb0mef9hrkys/C4OCgHn74YVVVVen+++/XsmXL1NbWJknq7u7W8uXLVVlZ\n",
              "qerqap04cSLgaTPv563/kiVLdOedd478DHzrW98KeFr//Nqv/Zruu+8+zZw5UwsXLlRLS4uk3NkW\n",
              "fNr658p24KcaGxsVCoX00ksvSboFtgEefFNeXu61tLQEPUbWHD9+3Dt//vwn1nvp0qVeY2Oj53me\n",
              "94//+I/e3LlzgxkwCz7tNciVn4WBgQHv5Zdf9oaHhz3P87zdu3d7ixcv9jzP8/7gD/7A++pXv+p5\n",
              "nuedOnXK+9znPucNDQ0FNKk/ft76L1682Punf/qn4IbLog8//HDkz0eOHPHuu+8+z/NyZ1vwaeuf\n",
              "K9sBz/O8c+fOebW1tV5NTc3Iz33Q2wD28CBjFi1apKlTp466r7u7W2+88Ybq6+slSY8++qjOnz8/\n",
              "8luvacZ6DXJJLBbTypUrFQqFJEk1NTVKJpOSpEOHDmnjxo2SpHnz5mnKlCk6fvx4UKP64uetfy65\n",
              "4447Rv589epVhUKhnNoWjLX+uWR4eFhPPPGEdu/ePept6EFvAwgenz3++OOaMWOG1q1bp8uXLwc9\n",
              "TtadP39ekydPlmVZkqRQKKSysjJ1dHQEPFn25eLPwq5du/TQQw/pypUrSqVSKi0tHVlWUVFh/M/B\n",
              "T9f/p7Zt26YZM2boscce03vvvRfgZP57/PHHNW3aND399NPav39/zm0LPr7+P3u/6duBhoYGPfjg\n",
              "g5ozZ87IfbfCNoDg8dGJEyf01ltv6b/+679UUlKiL33pS0GPhIDk4s/Cjh071NbWpp07dwY9SiA+\n",
              "vv779+/X22+/rbfeeksLFy7Ub/7mbwY8ob+++93v6vz58/r617+urVu3Bj1O1o21/rmwHThz5owO\n",
              "Hz6sv/zLvwx6lE/K2sGzHHfx4kUvHo8HPUZW/Oxx6q6uLq+wsNBLpVKe53ne8PCwN2nSJK+1tTXA\n",
              "Cf33847V58LPwje/+U1vzpw5o85l+MxnPuNdunRp5O/z5s3zXnnllQCm899Y6/9xtm17PT092Rsq\n",
              "QLFYzOvs7MzJbYHnXV//j/+3NnU78Nxzz3mlpaVeeXm5V15e7tm27U2YMMF77rnnAt8GsIfHJ/39\n",
              "/froo49G/n7w4EHNmjUruIECMnHiRM2ePVuJREKSdPjwYU2dOlXTp08PeLLsybWfhYaGBh08eFCv\n",
              "vPLKqHMZVq1apeeff16S9Prrr+vChQtavHhxQFP6Z6z1d11XXV1dI485fPiwJk2apPHjxwc0pX8+\n",
              "+ugjXbx4ceTvL730ksaPH58z24JPW/9YLJYT24Enn3xSly5dUjKZVDKZVE1Njfbu3asnn3wy8G0A\n",
              "Hy3hk/fee0+PPvqo0um0PM/TXXfdpV27dqmioiLo0XyzYcMGvfzyy+rs7NT48eNVWFiotrY2vfPO\n",
              "O1q7dq2uXLmioqIiNTY2asaMGUGP64uxXoN///d/z5mfhffff1/Tpk3TXXfdpcLCQknXP0OnublZ\n",
              "XV1dWrNmjc6dO6e8vDzt2bNHS5cuDXjizPq09f+P//gPLV68WI7jKBwOq6SkRA0NDbr//vsDnjjz\n",
              "2tvbtWrVKg0MDCgcDmvChAl69tlnNXPmzJzYFnza+hcVFeXMduBnLVmyRE899ZQefvjhwLcBBA8A\n",
              "ADAeh7QAAIDxCB4AAGA8ggcAABiP4AFw2+vt7VU8Hte6deuCHgXALYrgAXDbe/HFFzVnzhwdOXJE\n",
              "fX19QY8D4BZE8AC47e3bt09bt27VokWLRj6BOpVK6ctf/rKqqqpUU1OjP/mTP9GSJUtGnrN//34t\n",
              "WLBAs2fP1qJFi/Tmm28GND2AbLCCHgAAfhn/8z//o/Pnz+vXf/3X5bquvvGNb2jdunXau3evWltb\n",
              "dfbsWUnSypUrR57zgx/8QAcPHtSJEydk27a+//3vq66ubuSxAMzDHh4At7V9+/bp8ccfVyQS0cqV\n",
              "K3Xu3Dn98Ic/1Kuvvqr6+npFo1FFo9FRn1v0z//8z3rzzTe1YMECzZw5U5s3b9YHH3yggYGBANcE\n",
              "gJ/YwwPgtpVKpbR//35Fo1EdOHBAkvTjH/9Y+/bt+8RjQ6HQyJ89z9OXvvQl7dixI2uzAggWe3gA\n",
              "3La+973v6a677tKFCxdGPrunqalJ+/fv19KlS3XgwAGlUimlUil997vfHXneb/3WbymRSKijo0OS\n",
              "NDw8rDfeeCOo1QCQBezhAXDb2rdvn1avXj3qvs9//vP63Oc+p4kTJ6qiokJf+MIXVFxcrLlz5458\n",
              "qOPChQv1N3/zN/rt3/5tua6roaEh/cZv/Ibmzp0bxGoAyAI+SwuAsXp7e1VYWKhUKqXVq1drzpw5\n",
              "2rp1a9BjAQgAwQPAWAsWLJDjOBocHNQXv/hF7d69W/n5+UGPBSAABA8AADAeJy0DAADjETwAAMB4\n",
              "BA8AADAewQMAAIxH8AAAAOMRPAAAwHgEDwAAMB7BAwAAjPf/AQzNlzj97PJFAAAAAElFTkSuQmCC\n",
              "\">\n",
              "      </div>\n",
              "      <script type=\"text/javascript\">\n",
              "        (() => {\n",
              "          const chartElement = document.getElementById(\"chart-083391a0-2661-4e8f-9758-9771fb7ae7f2\");\n",
              "          async function getCodeForChartHandler(event) {\n",
              "            const chartCodeResponse =  await google.colab.kernel.invokeFunction(\n",
              "                'getCodeForChart', [\"chart-083391a0-2661-4e8f-9758-9771fb7ae7f2\"], {});\n",
              "            const responseJson = chartCodeResponse.data['application/json'];\n",
              "            await google.colab.notebook.addCell(responseJson.code, 'code');\n",
              "          }\n",
              "          chartElement.onclick = getCodeForChartHandler;\n",
              "        })();\n",
              "      </script>\n",
              "      <style>\n",
              "        .colab-quickchart-chart-with-code  {\n",
              "            display: block;\n",
              "            float: left;\n",
              "            border: 1px solid transparent;\n",
              "        }\n",
              "\n",
              "        .colab-quickchart-chart-with-code:hover {\n",
              "            cursor: pointer;\n",
              "            border: 1px solid #aaa;\n",
              "        }\n",
              "      </style>"
            ],
            "text/plain": [
              "from matplotlib import pyplot as plt\n",
              "_df_2.plot(kind='scatter', x='Age', y='Salary', s=32, alpha=.8)\n",
              "plt.gca().spines[['top', 'right',]].set_visible(False)"
            ]
          },
          "metadata": {},
          "output_type": "display_data"
        },
        {
          "data": {
            "text/html": [
              "<h4 class=\"colab-quickchart-section-title\">Values</h4>\n",
              "<style>\n",
              "  .colab-quickchart-section-title {\n",
              "      clear: both;\n",
              "  }\n",
              "</style>"
            ],
            "text/plain": [
              "<google.colab._quickchart_helpers.SectionTitle at 0x786733bcdb90>"
            ]
          },
          "metadata": {},
          "output_type": "display_data"
        },
        {
          "data": {
            "text/html": [
              "      <div class=\"colab-quickchart-chart-with-code\" id=\"chart-71ae369a-9ba3-4d5b-a648-75bf52b509fc\">\n",
              "        <img style=\"width: 180px;\" src=\"data:image/png;base64,iVBORw0KGgoAAAANSUhEUgAAApcAAAFuCAYAAADUGTPdAAAAOnRFWHRTb2Z0d2FyZQBNYXRwbG90\n",
              "bGliIHZlcnNpb24zLjEwLjAsIGh0dHBzOi8vbWF0cGxvdGxpYi5vcmcvlHJYcgAAAAlwSFlzAAAP\n",
              "YQAAD2EBqD+naQAAU1VJREFUeJzt3Xd4VGXCNvB7JmVCek9IT0hCgEBCSQi9BAGxIR1UjKyiawFW\n",
              "3VW+fX13dVdZ91UUXdvuahCRKsWyrEovoQZICCWQkN4L6WUy5fn+mGQ0SguZ5Ey5f9c112Wm3mec\n",
              "ZG7OOc/zyIQQAkREREREBiCXOgARERERmQ+WSyIiIiIyGJZLIiIiIjIYlksiIiIiMhiWSyIiIiIy\n",
              "GJZLIiIiIjIYlksiIiIiMhiWSyIiIiIyGJZLIiIiIjIYlksiIiIiMhiWSyKiLkpOToZMJsPLL78s\n",
              "dRQiIqMj49riRERdExcXh9zcXMjlchQWFkKhUEgdiYjIaHDPJRFRF5w6dQqpqalYv3496urqsHXr\n",
              "Vv1tDQ0NSEpKgoeHBwICArBmzRoEBARg7dq1+vtkZmbi3nvvhY+PD/z9/fH000+jqalJgi0hIuoZ\n",
              "LJdERF3w4YcfIjY2FtOnT8eDDz6IDz/8UH/b8uXLcfHiRWRkZODKlSvIyMhAeXm5/vaqqiqMGzcO\n",
              "iYmJKCgoQHp6Oq5cuYIVK1ZIsCVERD2Dh8WJiG5TTU0N/P398fbbb+O3v/0t9u3bh8TERKSlpSE6\n",
              "Ohr29vbYsWMHZsyYAQCor6+Hm5sbPv30UyQlJWH16tXYunUrjh07pn/OlJQUTJ48Gc3NzbCyspJq\n",
              "04iIDIZ7LomIblPHQJ6HHnoIADBp0iSEh4fjww8/RFVVFdra2hAcHKy/v7OzM9zc3PQ/Z2Vl4fTp\n",
              "03B1ddVfZsyYAZlMhrKysl7fHiKinsBySUR0G4QQ+Pjjj9HW1obIyEj4+vqib9++KCoqwpdffgk7\n",
              "OzvY2toiPz9f/5j6+nrU1NTof/b19cXYsWNRW1urv9TV1aG1tRX+/v5SbBYRkcGxXBIR3Ybdu3cj\n",
              "KysLP/74I9LS0vSXc+fOAQDWrVuHRYsW4bXXXkNpaSmam5vx+9//HnL5T39mH3vsMZw9exYffvgh\n",
              "mpubIYRAYWEhdu7cKdFWEREZHsslEdFt+OijjzBlyhRMmjQJvr6++ktERAQef/xxfPTRR1izZg0i\n",
              "IyMxaNAgREREYODAgXB3d4ednR0AICgoCMeOHcPu3bvRr18/uLq6Ytq0acjIyJB464iIDIcDeoiI\n",
              "ekhNTQ08PDyQkpKCUaNGSR2HiKhXcM8lEZGBFBQU4ODBg9BoNKiursbTTz+NiIgIxMXFSR2NiKjX\n",
              "sFwSERlIW1sbnnvuObi6uiIiIgK1tbX45ptvYG1tLXU0IqJew8PiRERERGQw3HNJRERERAbDcklE\n",
              "REREBsNySUREREQGw3JJRERERAZjNOVyzZo1UkcgIiIiom4ymnL58/V4iYiIiMg0GU25JCIiIiLT\n",
              "x3JJRERERAbDcklEREREBsNySUREREQGw3JJRERERAbDcklEREREBsNySUREREQGw3JJRERERAZz\n",
              "x+UyOTkZMpkMO3fuBABUVFRg+vTpiIiIQHR0NA4dOmSojERERERkIu6oXObl5eFf//oXEhIS9Ne9\n",
              "/PLLSEhIQFZWFpKTk7Fo0SKoVCqDBSUiIiIi49flcqnVavH444/j/fffh0Kh0F+/ZcsWPPXUUwCA\n",
              "uLg4+Pn54eDBg4ZLSkRERER6QgioNVqpY/yKdVcfsHr1aowZMwbDhw/XX1ddXQ2VSgVfX1/9dSEh\n",
              "ISgoKLjucyiVSiiVyk7XaTSarkYhIiIisjhCCOy+WI739mVhZqw/Hh8XJnWkTrpULs+fP49t27Z1\n",
              "+3zKVatW4dVXX+103c8PsRMRERFRZ1qtwI8Xy/He3ixcLK0HADS2qrFkTCjkcpnE6X7SpcPihw8f\n",
              "Rl5eHiIiIhASEoLjx49j6dKl2LJlC6ytrVFWVqa/b15eHoKCgq77PCtXrkRdXV2nS3x8fPe2hIiI\n",
              "iMgMabUC358vxYz3DuOp9adxsbQeDrZWeGZSP2x/eoxRFUsAkAkhxJ0+eOLEiVixYgVmzpyJpKQk\n",
              "hISE4M9//jNOnTqFmTNnIi8vDzY2Nrf1XM8//zxWr159p1GIiIiIzIpWK/D9hTK8tzcLmWUNAABH\n",
              "hTWSRofgN2ND4eZgK3HC6+vyOZc38uabb+KRRx5BREQEbG1tsX79+tsulkRERESko9UK7Dpfivf3\n",
              "ZuNyua5UOims8diYECwZGwpXe+MslR26VS4PHDig/28fHx/8+OOP3c1DREREZJE0WoFdGaV4b28W\n",
              "sioaAQBOdtZYMiYUS8aEwsXeNHbaGWzPJRERERF1nUYr8N25Ery/LxvZ7aXS2c4aS8aG4rExoXDp\n",
              "YxqlsgPLJREREZEENFqBb9NL8P6+LFytbAKgK5WPjwtD0pgQONuZVqnswHJJRERE1IvUGi2+PVeC\n",
              "9/dmI6dKVypd+tjg8bGheNSES2UHlksiIiKiXqDWaPF1Wgn+sT8bue2l0tXeBk+MC8PiUcFwMvFS\n",
              "2YHlkoiIiKgHqTVa7DhbjA/2ZyOvuhkA4GZvgyfGh2HxqBA4KsyrjpnX1hAREREZCVV7qfzHvmwU\n",
              "XNOVSncHW/2eSgczK5UdzHOriIiIiCSi0mix/UwR/rE/G4XXWgAAHg62WDo+DA8nmG+p7GDeW0dE\n",
              "RETUS9rUWmw7U4QP9mejqEZXKj0dbfHk+H54KCEI9raWUbssYyuJiIiIekibWouvTutKZXFtR6lU\n",
              "4KkJYXhoZDD62FpJnLB3sVwSERER3QGlWoOtqUX46MBVfan0clLgqQn9sCg+yOJKZQeWSyIiIqIu\n",
              "UKo12HKqEB8euIrSulYAgLeTAr+d2A8L44NgZ2OZpbIDyyURERHRbWhVabAltRAf7r+KsnpdqfRx\n",
              "VuC3E/phAUulHsslERER0U20qjTYdLIAHx28ivJ6JQDA19kOT0/qh3kjAlkqf4HlkoiIiOg6WlUa\n",
              "bDhRgI8PXkVFg65U9nWxw9OTwjFvRAAU1iyV18NySURERPQzrSoNvmwvlZXtpdKvvVTOZam8JZZL\n",
              "IiIiIgAtbRp8eSIfHx/MQVWjrlT6u/bBM5PCMWd4AGyt5RInNA0sl0RERGTRmtvUWH88H/88lIOq\n",
              "xjYAQIBbHzw7KRyzhrFUdhXLJREREVmkJqUaXxzPx78O5aC6SVcqA91/KpU2ViyVd4LlkoiIiCxK\n",
              "k1KNdcfy8a/DObjWXiqDPezxzKRwPDjUn6Wym1guiYiIyCI0KtX4/Gge/n04BzXNKgC6Uvnc5AjM\n",
              "jPWDNUulQbBcEhERkVlraFXpSuWRXNS2l8pQTwc8OykcD7BUGhzLJREREZml+lYVPk/Rlcq6Fl2p\n",
              "DPN0wHOJ4bhvCEtlT2G5JCIiIrNS36pC8pE8fHokB/WtagBAmJcDlk2OwH0xfrCSyyROaN5YLomI\n",
              "iMgs1LWo8NmRXHyWkouG9lIZ7u2I5yaH494hLJW9heWSiIiITFpdswqfpuQi+WelMsLbEcsSIzBj\n",
              "cF+Wyl7GcklEREQmqba5DZ8eycXalDw0KHWlMtKnvVRG94WcpVISLJdERERkUmqa2kvl0Tw0tpfK\n",
              "KF8nLEuMwPRBviyVEmO5JCIiIpNwrakN/z6cg8+P5qGpTQNAVypXTInA1IEslcaC5ZKIiIiMWnWj\n",
              "Ev86nIt1x/LQ3F4qB/Z1xrLECEwd6MNSaWRYLomIiMgoVTUq8a9DOfjieL6+VA7yc8byxAjcNdAH\n",
              "MhlLpTFiuSQiIiKjUtWoxD8P5eCLY/loUelKZbS/M1YkRiJxgDdLpZHrcrmcOnUqysrKIJfL4eTk\n",
              "hPfeew9Dhw5FSEgIFAoF+vTpAwBYuXIl5s+fb/DAREREZJ4qGlrxz4M5WH8iH60qLQBgSIALlidG\n",
              "YHIUS6Wp6HK53LJlC1xdXQEAO3bsQFJSEtLT0wEAmzdvRmxsrCHzERERkZmrqG/Fxwdz8OWJfCjV\n",
              "ulIZE+iKFYkRmNjfi6XSxHS5XHYUSwCoq6vj/3AiIiK6IxX1rfjo4FVsOFGgL5Wxga5YMSUCEyJZ\n",
              "Kk3VHZ1zuXjxYuzfvx8AsGvXrk7XCyEQHx+Pv/3tb/Dy8rru45VKJZRKZafrNBrNnUQhIiIiE1NW\n",
              "14qPD17FhpMFaGsvlcOCXLF8SiTGR3iyVJo4mRBC3OmDP//8c2zevBm7du1CQUEBgoKCoFKp8D//\n",
              "8z/IyMjoVDx/7s9//jNeffXVTtclJCTg2LFjdxqFiIiIjFxpXQs+OnAVm04V6kvliGA3LJ8SgbHh\n",
              "LJXmolvlEgD69OmDoqIieHh46K8rLS1FZGQkGhoarvuY6+25fOWVV7BmzZruRCEiIiIjVFKrK5Wb\n",
              "TxWiTaMrlXEhblieGIkx4R4slWamS4fFa2tr0dzcDD8/PwDAzp074eHhATs7O9TW1urPx9y4cSOG\n",
              "Dh16w+dRKBRQKBSdrrOysupidCIiIjJmxbUt+HB/NramFulLZXyoO1YkRmBUP5ZKc9WlcllXV4e5\n",
              "c+eipaUFcrkcXl5e+O6771BeXo7Zs2dDo9FACIGwsDCsW7eupzITERGRESuqacaHB65ia2ohVBrd\n",
              "AdKRoe5YMSUSo/p53OLRZOq6VC6Dg4Nx8uTJ69529uxZgwQiIiIi01R4rRkfHsjGV6eL9KVyVJgH\n",
              "lk+JQEIYS6Wl4Ao9RERE1C0F1c34YH82tp0pglqrK5Vjwj2wPDES8aHuEqej3sZySURERHekoLoZ\n",
              "/9ifhW1niqFpL5Vjwz2xfEoE4kJYKi0VyyURERF1SV5VE/6xPxs7zv5UKsdFeGLFlAgMD2aptHQs\n",
              "l0RERHRbcqua8P6+LHydVqIvlRMivbAsMQLDg90kTkfGguWSiIiIbiqnshH/2JeNnWnFaO+UmNjf\n",
              "C8sTIzA0iKWSOmO5JCIiouvKrmjEP/Zl4Zv0En2pnBzljWWJEYgNdJU0GxkvlksiIiLqJLuiAe/t\n",
              "zca350rQsY7flAG6UjkkwFXSbGT8WC6JiIgIAJBV3oD39mXju06l0gfLEyMwOMBF2nBkMlguiYiI\n",
              "LNzlsga8ty8LuzJK9aVy6kAfLEuMQLQ/SyV1DcslERGRhcosq8d7e7OwK6NMf930Qb54LjEcg/xY\n",
              "KunOsFwSERFZmEululL53/M/lcq7o32xLDECA/o6S5iMzAHLJRERkYW4UFKH9/Zm4YcL5QAAmQyY\n",
              "Ed0XzyWGI8qXpZIMg+WSiIjIzJ0vrsOavVnYffGnUnnP4L5YlhiBSB8nidORuWG5JCIiMlMZRbpS\n",
              "uefST6Xy3iF+WDY5HBEsldRDWC6JiIjMzLmiWqzZk4W9mRUAALkMuC/GD89NDke4N0sl9SyWSyIi\n",
              "IjORVliLNXuuYP/lSgC6UvlArD+enRyOfl6OEqcjS8FySUREZOLOFtRgzd4sHPhZqZzZXirDWCqp\n",
              "l7FcEhERmajT+bpSeeiKrlRayWX6Uhnq6SBxOrJULJdEREQm5nT+Nby7JwuHs6oA6ErlrKH+eGZS\n",
              "OEJYKkliLJdEREQm4lTeNazZk4Uj2bpSaS2XYdYwXakM9mCpJOPAcklERGTkTuRUY83eLBy9Wg1A\n",
              "VyrnDA/AM5PCEehuL3E6os5YLomIiIzU8ZxqrNmThWM5P5XKuSMC8fTEfiyVZLRYLomIiIyIEALH\n",
              "2kvlidxrAAAbq59KZYAbSyUZN5ZLIiIiIyCEwLGr1Xh3TxZO5ulKpa2VHPPiAvDbieHwd+0jcUKi\n",
              "28NySUREJCEhBFKyq7Fm7xWcyqsBoCuV8+MC8duJ/eDHUkkmhuWSiIhIAkIIHM6qwpq9WTid314q\n",
              "reVYGBeIpyb2Q18XlkoyTSyXREREvUgIgUNZVXh3zxWcLagFoCuVi+KD8NuJ/eDjbCdtQKJuYrkk\n",
              "IiLqBUIIHLhSiTV7spBWWAsAUFjLsWhkEJ6awFJJ5oPlkoiIqAcJIbD/cgXW7M1GenuptLOR46GR\n",
              "wXhyfBi8WSrJzLBcEhER9QAhBPZlVmDN3iycK6oDoCuVjyQEY+n4fvByUkickKhnsFwSEREZkBAC\n",
              "ey5V4L29Wcgo1pXKPjZWeGRUMJ4YF8ZSSWavy+Vy6tSpKCsrg1wuh5OTE9577z0MHToUWVlZePTR\n",
              "R1FVVQUXFxesXbsWgwYN6onMJLGTudfwu81peOXeAZge3VfqOERERkEIgR8vluO9vVm4UFIPALC3\n",
              "/alUejqyVJJl6HK53LJlC1xdXQEAO3bsQFJSEtLT0/Hkk09i6dKlSEpKwldffYWkpCScOnXK0HnJ\n",
              "CLy75wqKa1uw6r+ZuGugL6zkMqkjERFJRqvVlco1e7NwqVRXKh1srbB4dAgeHxsKD5ZKsjBdLpcd\n",
              "xRIA6urqIJPJUFFRgdTUVPz4448AgNmzZ+PZZ59FdnY2wsPDDRaWpJdX1YSjV3Vr3OZXN2NfZgXu\n",
              "GugjcSoiot6n1Qr8cKEMa/ZmIbOsAYCuVD46OgSPjwuDu4OtxAmJpHFH51wuXrwY+/fvBwDs2rUL\n",
              "hYWF6Nu3L6ytdU8nk8kQFBSEgoKC65ZLpVIJpVLZ6TqNRnMnUaiXbTpVCACwksug0Qokp+SyXBKR\n",
              "RdFqBf57vgzv7/upVDoqrJE0OgS/GRsKN5ZKsnDyO3nQunXrUFhYiL/+9a946aWXuvz4VatWwcXF\n",
              "pdPl5MmTdxKFelGbWouvTuvK5Sv3DICVXIajV6v1h4GIiMyZVivw3bkSTF9zCM9sOIPMsgY4Kayx\n",
              "bHI4jrw0CS9O689iSYQ7LJcdHn30Uezfvx8BAQEoLS2FWq0GoDupuaCgAEFBQdd93MqVK1FXV9fp\n",
              "Eh8f350o1Av2XipHVWMbvJ0UeCghGNMH+QIAklNyJU5GRNRzNFqBb9JLMO3dQ3h2w1lcKW+Ek501\n",
              "liVG4MhLk/H81P5wtWepJOrQpcPitbW1aG5uhp+fHwBg586d8PDwgLe3N4YNG4b169cjKSkJ27Zt\n",
              "Q0BAwA3Pt1QoFFAoOp/gbGVldYebQL1lw8kCAMDcEQGwsZJjydgQ/CejFDvTSvDS9CietE5EZkXT\n",
              "vqfy/X3ZyK5oBAA42VnjN2ND8diYULj0sZE4IZFx6lK5rKurw9y5c9HS0gK5XA4vLy989913kMlk\n",
              "+OSTT5CUlIQ33ngDzs7OSE5O7qnMJIHCa804kl0FAFgQp9sjPSzIDUMCXHCuqA4bThTgucQIKSMS\n",
              "ERmERivwbXoJ3tuXhZzKJgCAs501fjM2DEljQlgqiW6hS+UyODj4hudG9u/fH8eOHTNIKDI+m08V\n",
              "QghgXIQnAt3tAegGbi0ZE4oVm9PwxfF8PDmhH2ytu3WmBRGRZNQaLb5JL8E/9mUjp0pXKl362ODx\n",
              "saF4dEwInO1YKoluB1fooVtSa7TY2j6QZ2F85/NoZwzuizd2XUJFgxK7Mkoxc6i/FBGJiO6YWqPF\n",
              "zrQSfLA/G7ntpdLV3gZPjAvD4lHBcGKpJOoSlku6pf2XK1Fer4SHgy2mDOg87ZCttW6d3Ld3X8Fn\n",
              "Kbl4INYPMhknVSci46fWaLHjbDH+sT8b+dXNAAA3exs8Pi4Mj44OgaOCX5FEd4K/OXRLG9sH8swZ\n",
              "HnDdw96LRgbh/f3ZOFdUhzMFNRge7N7bEYmIbptKo8WOM7pSWXBNVyrdHWz1eyodWCqJuoW/QXRT\n",
              "JbUtOHC5AgAwPy7wuvfxcFRgZqwftqQW4bOUPJZLIjJKKo0W204X4YMD2Si81gIA8HCwxdLxYXg4\n",
              "gaWSyFD4m0Q3tSW1EFoBJIS5I8zL8Yb3e2xMKLakFuH782UoqW2Bn2ufXkxJRHRjbWottp0pwj/2\n",
              "ZaO4VlcqPR1/KpX2tvwqJDIk/kbRDWm0AltOXX8gzy8N6OuMUWEeOJZTjXXH8vHy3VG9EZGI6Iba\n",
              "1LrBiB/uv/qzUqnAUxPC8NDIYPSx5fzKRD2B5ZJu6NCVSpTUtcLV3gbT2lfjuZklY0NxLKcaG08W\n",
              "YFliOPcGEJEklGoNtqQW4aP92SipawUAeDkp8NSEflgUH8RSSdTD+O1PN9QxkGf2sADY2dz6j/Hk\n",
              "KG8Euduj4Foztp8pxsMJwT0dkYhIT6nWYMupQnx44CpK20uld0epHBl0W3/HiKj7WC7puirqW7E3\n",
              "UzeQZ2H89Qfy/JKVXIak0SF47buLSE7JxaL4IMjlnJaIiHpWq0qDzacK8dGBqyir15VKH2cFfjuh\n",
              "HxbEs1QS9TaWS7quraeLoNEKxIW4Idzb6bYfN3dEAFbvvoKrlU04nF2FCZFePZiSiCxZq0qDjScL\n",
              "8PHBqyivVwIAfJ3t8PSkfpg3IpClkkgiLJf0K1qtwKZTukPiHeuI3y4nOxvMHRGA5JQ8JKfkslwS\n",
              "kcG1qjTYcEJXKisadKWyr4sdnp7YD/PiAqGwZqkkkhLLJf1KytUqFF5rgZOdNWYM7tvlxyeNDsHa\n",
              "o3k4cLkS2RWNCPe+8RRGRES3q6VNgy9P5OOTQzmobC+Vfi52eHpSOOaOCGCpJDISLJf0K5tO6qYf\n",
              "mjXU/45GVQZ7OCAxygd7LpXj86N5+MvMaENHJCIL0tymxpfHC/DJoRxUNepKpb9rHzwzKfyGK4cR\n",
              "kXRYLqmTqkYlfrxYBgBYcIu5LW9myZgQ7LlUjq9OF+HFqf3hYm9jqIhEZCGa29RYfzwf/zyUg6rG\n",
              "NgBAgJuuVM4exlJJZKxYLqmTbaeLoNIIxAa6YkBf5zt+nlH9PBDl64TMsgZsTi3A0vH9DJiSiMxZ\n",
              "k1KNL47n41+HclDdpCuVge598OykcMwaFgAbK5ZKImPGckl6Qghs0q/Ic3vTD92ITCbDY2NC8NK2\n",
              "DHx+NB9LxoTCml8IRHQTjUo11h3Lw78P5+Jae6kMcrfHs5PD8eBQf5ZKIhPBckl6x3OuIbeqCY4K\n",
              "a9w7xK/bz/dArD/e/P4yimtbsPtiOe6+g8FBRGT+GpVqfH40D/8+nIOaZhUAINjDHs9OCsdMlkoi\n",
              "k8NySXodK/LcH+sHB0X3Pxp2NlZ4aGQQ3t+Xjc9SclkuiaiThlaVrlQeyUVte6kM9XTAs5PC8UCs\n",
              "H492EJkolksCANQ0teH787qBPIu6MZDnlx5OCMZHB67iVF4NMorqMDjAxWDPTUSmqb5VhbUpefj0\n",
              "SC7qWnSlMszTAc8lhuO+ISyVRKaO5ZIAANvPFqNNo0W0vzOi/Q1XAH2c7XDvkL7YmVaC5JRcrJ4f\n",
              "a7DnJiLTUtfSUSpzUN+qBgCEeTlg2eQI3BfjBysuF0tkFlguCUII/SHxrq7IczseGxOKnWkl+PZc\n",
              "CV6+OwreznYGfw0iMl51LSp8diQXn6XkoqG9VIZ7O+K5yeG4dwhLJZG5YbkknM6vQXZFI/rYWOGB\n",
              "2O4P5PmlmEBXDA92w+n8Gqw/UYDn74o0+GsQkfGpa1bh05RcJP+sVEZ4O2JZYgRmDO7LUklkplgu\n",
              "CRva91reF9MXTnY9M9n5Y2NCcDq/Bl8ez8fTE/vBzobLtBGZq9rmNnx6JBdrU/LQoNSVykif9lIZ\n",
              "3Rdylkois8ZyaeHqmlX4z7lSAMBCAw7k+aXpg3zh52KHkrpWfJtegrkjujePJhEZn5qmNvz7SA4+\n",
              "P5qPxvZSGeXrhGWJEZg+yJelkshCsFxauJ1pxVCqtYjydUJsoGuPvY61lRyPjArBm99n4rOUPMwZ\n",
              "HgCZjF80RObgWlMb/n04B58fzUNTmwaArlSumBKBqQNZKoksDculBfv5QJ6F8UE9XvYWxgdizd4r\n",
              "uFRajxO515AQ5tGjr0dEPau6UYl/Hc7FumN5aG4vlQP7OmNZYgSmDvRhqSSyUCyXFiytsBaZZQ1Q\n",
              "WMsxM9a/x1/P1d4Ws4YFYMOJAnx2JJflkshEVTUq8a9DOfjieL6+VA7yc8byxAjcNdCHRyWILBzL\n",
              "pQXbdFK3jvg9g/vCxb5nBvL80mOjQ7DhRAF2XypHQXUzgjzse+V1iaj7KhuU+NfhHHxxLB8tKl2p\n",
              "jPZ3xorESCQO8GapJCIALJcWq6FVhW/PlQAAFo7suYE8vxTh44TxkV44dKUSnx/Lwyv3Duy11yai\n",
              "O1PR0Ip/HszB+hP5aFVpAQBDAlywPDECk6NYKomoM5ZLC/VNegma2zQI93bEiGC3Xn3tx8aE4NCV\n",
              "Smw5VYjf3RUJRwOsY05EhldR34qPD+bgyxP5UKp1pTIm0BUrEiMwsb8XSyURXRe/1S1UxyHxBXGB\n",
              "vf4FMSHCC2FeDsipbMJXqYVIGhPaq69PRDdXXt+Kjw9exYYTBfpSGRvoihVTIjAhkqWSiG6uS+Wy\n",
              "tbUVCxYswMWLF9GnTx94e3vjo48+Qnh4OCZOnIj8/Hy4uOjWpX700Ufxu9/9rkdCU/ecL65DRnEd\n",
              "bK3kmDUsoNdfXy6X4bHRIXjl6wtYezQPi0eFcFQpkREoq2svlScL0NZeKocFuWL5lEiMj/BkqSSi\n",
              "29LlPZdLly7F3XffDZlMhn/84x94/PHHceDAAQDAO++8g5kzZxo4Ihlax/RD06N94e5gK0mGWcMC\n",
              "8H8/XEZedTP2X65A4gAfSXIQEVBa14KPDlzFplOF+lI5ItgNy6dEYGw4SyURdU2XyqWdnR1mzJih\n",
              "/zkhIQFvvfWWwUNRz2lSqvF1mm4gz4J46VbJcVBYY0F8EP55KAefpeSyXBJJoKRWVyo3nypEm0ZX\n",
              "KuNC3LBiSiRG9/NgqSSiO9Ktcy7XrFmDBx54QP/zyy+/jFdeeQUDBw7EqlWrEBYWdt3HKZVKKJXK\n",
              "TtdpNJruRKHb9J9zpWhUqhHiYY9REs8zuXhUMP59OAcp2dW4XNaA/r5OkuYhsgT1rSocvlKF3RfL\n",
              "sCujTF8q40PdsSIxAqNYKomom+64XL7xxhvIzs7G3r17AQBffPEFAgMDIYTABx98gHvvvRcXL168\n",
              "7mNXrVqFV199tdN1CQkJdxqFumBD+yHxBb2wIs+tBLjZY9ogX/z3fBmSU3Lxt9lDJM1DZK7yqpqw\n",
              "51I59mVW4GTuNai1Qn/byFB3rJgSiVH9uKgBERmGTAghbn23zt566y1s2rQJe/bsgaur63XvY2dn\n",
              "h+LiYnh4/PoP1vX2XL7yyitYs2ZNV6NQF2SW1WP6u4dhLZfh2MpEeDkppI6EU3nXMPfjY1BYy3Fs\n",
              "ZaJk54ASmROVRovT+TXYe6kcezMrkFPZ1On2MC8HJEZ5Y3p0Xwzv5anIiMj8dXnP5erVq7Fx48ZO\n",
              "xVKtVqO6uho+Prrz5rZt2wYfH5/rFksAUCgUUCg6FxsrK6uuRqEu6ph+aOogH6MoloBu0EC0vzPO\n",
              "F9dj48kCPDMpXOpIRCaptrkNB69UYs+lChy8XIH6VrX+Nmu5DPGh7pgc5Y3EAT4I9XSQMCkRmbsu\n",
              "lcuioiK88MILCAsLw6RJkwDoiuK+fftwzz33QKlUQi6Xw9PTE998802PBKY706rSYPuZIgDAgrje\n",
              "W5HnVmQyGZaMCcXzW9Kx7lgelo4Pg42VXOpYREZPCIGrlY3Ye6kCey9VIDX/Gn52tBtu9jaY1F9X\n",
              "JsdFesLZrneWeCUi6lK5DAgIwI2OoqemphokEPWMXRmlqG9VI8CtD8aGe0odp5N7hvTFqv9morxe\n",
              "iV0ZpXgg1l/qSERGqU2txcnca/rzJwuuNXe6vb+PEyYP8MaUAd6IDXSDFeePJSIJcIUeC9Ext+WC\n",
              "uECjm7BcYW2Fh0cG4509V5CcksdySfQzVY1KHLhcib2XynE4qwqNyp8Od9tayZHQzwOJUd6YHOWN\n",
              "QHd7CZMSEemwXFqA7IoGnMqrgZVchrkjpJvb8mYeSgjCB/uzkVZYizMFNRgWxEEGZJmEEMgsa8C+\n",
              "zArsuVSOtMJa/PyAkaejApOjvJA4wAdjwz3hoOCfcSIyLvyrZAE2tg/kmRzlDR9nO4nTXJ+nowL3\n",
              "x/rhq9NFSE7JY7kki9Kq0uBYTjX2XarAvswKFNe2dLp9kJ8zEtsH4wz2dzG6ow9ERD/Hcmnmfj6Q\n",
              "Z1G88QzkuZ7HxoTgq9NF2JVRiv83Iwp9XfpIHYmox1TUt2JfZgX2ZlbgSFYVWlQ/LSShsJZjbLgn\n",
              "Jg/QHe7m7wIRmRKWSzP3w4Uy1DSr4Odih/GRXlLHualBfi4YGeqOE7nXsO5YPl6aHiV1JCKD0WoF\n",
              "LpTUY29mOfZeqkBGcV2n232d7TB5gDcSo7wxup8n+thyejYiMk0sl2auY27LuSMCTWLk6JKxoTiR\n",
              "ew0bTxZg2eQIfsGSSWtuUyMluxr72gtlRUPnxSNiAl31g3EG+TlLvmoWEZEhsFyasdyqJhzLqYZc\n",
              "BsyLM86BPL80ZYAPAt37oPBaC3acLcaikcZ9KJ/ol4prW7AvswL7LpXj6NVqKNVa/W32tlYYF+GJ\n",
              "xCgfTIzygreTcZ4DTUTUHSyXZmzTKd30QxMiveDvahrnbFnJZXh0VAj++p9LSE7JxcL4QO7NIaOm\n",
              "1QqkFdVi3yXd+ZOXSus73e7v2gdTBnhj8gAfJIS5Q2HNvfFEZN5YLs1Um1qLbad1A3kWGvlAnl+a\n",
              "FxeId3ZfQVZFI45kV2FchHGfK0qWp6FVhSNZVdibWYH9mRWobmrT3yaXAcOC3NonM/dBhLcj/4FE\n",
              "RBaF5dJM7blUjqrGNng7KTA5ylvqOF3ibGeDuSMCsfZoHpJT8lguySgUVDdjb6ZuZZzjOdVQaX6a\n",
              "fNJJYY3x/b2QGOWNif294e5gK2FSIiJpsVyaqY4VeeaNCIS1Ca7V/ejoEHx+LA/7MiuQU9mIMC9H\n",
              "qSORhVFrtDhTUKsrlJcqkFXR2On2EA97JA7wQWKUN+JC3WFjgr9nREQ9geXSDBVea8bhrCoAwHwT\n",
              "GcjzS6GeDpjc3xt7Myvw+dE8vPpAtNSRyALUtahw8Eol9l0qx4ErlahtVulvs5LLEBfihsQoHyQO\n",
              "8OY/eIiIboDl0gxtPqWbfmhchKdJrzW8ZGwo9mZWYOvpIjw/tT9c+thIHYnMUE5lI/ZeqsDezHKc\n",
              "yquBRvvT4W6XPjaY1N8Lkwf4YEKkFz+DRES3geXSzKg1WmxJ1ZVLUxvI80uj+3mgv48TLpc3YGtq\n",
              "IR4fFyZ1JDIDKo0Wp3KvYW+mbqnF3KqmTrdHeDu2T2bug2FBriZ5WgkRkZRYLs3MvkzdRM0eDraY\n",
              "MsBH6jjdIpPJ8NiYELy8PQPJKXlIGh3CL3q6I9ea2nDgsm6qoEOXK9GgVOtvs7GSISHMA5PbJzMP\n",
              "9nCQMCkRkeljuTQzm9oPic8ZEQBba9MvYjOH+uPN7zNRXNuCPZfKMT26r9SRyAQIIZBV0Yg9l3SD\n",
              "cc4U1OBnR7vh4WCLSVG6pRbHRnjCyY6Hu4mIDIXl0oyU1LbgwOUKAMCCONM+JN7BzsYKi0YG4YP9\n",
              "V/FZSh7LJd2QUq3BiZxr2HupHHszK1BU09Lp9gF9nXVLLQ7wRmyAK+QmsBwqEZEpYrk0I1tSC6EV\n",
              "wKgwD4R6ms+hvUcSQvDJwRyczL2G88V1iPZ3kToSGYnKBiX2Z+oG4xzOqkJzm0Z/m621HGP6eWDy\n",
              "AB9MjvI2mVWqiIhMHculmdBoBba0HxJfEG+a0w/diK+LHWYM7otv0kuQnJKHt+fFSB2JJJZT2Yg/\n",
              "fHUOqfk1na73dlIgcYA3Jkf5YEy4B+xt+SeOiKi38S+vmTh0pRIlda1ws7fBtEG+UscxuMfGhOCb\n",
              "9BJ8m16Cl++OgpeTQupIJJE2tRbPbDirX8N7SIALJkfpRncP8nPm4W4iIomxXJqJDe0r8swaFgA7\n",
              "GyuJ0xje0CA3DA1yxdmCWnx5Ih8rpkRKHYkksmbvFVwqrYebvQ2+fmYsgjxMdy5XIiJzZPrDiQnl\n",
              "9a3Yl6kbyLPQzA6J/9ySMaEAgPXH86FUa25xbzJHZwpq8NGBqwCA1x8czGJJRGSEWC7NwNbUQmi0\n",
              "AnEhbgj3dpI6To+ZHu0LX2c7VDW24bv0UqnjUC9radPgxS3p0ArggVg/zBjMmQOIiIwRy6WJ02qF\n",
              "fm5Lc5l+6EZsrORYPDoYAPBZSi6EELd4BJmTN7/PRE5VE3ycFXjtfq41T0RkrFguTdyR7CoU1bTA\n",
              "2c4a9wwx/z05C+OCYGcjx4WSepzKq7n1A8gspGRXYe3RPADA3+fEwMWek54TERkrlksTt+mUbiDP\n",
              "g0P9zXIgzy+5OdjiwaEBAIDPjuRKnIZ6Q32rCr/fmg4AeGhkECZEekmciIiIbobl0oRVNijx44Vy\n",
              "AMDCkeZ9SPznHhsTAgD48WIZCq81SxuGetyr31xESV0rgtzt8f9mDJA6DhER3QLLpQnbdqYIaq1A\n",
              "bKAronydpY7TayJ9nDAuwhNaAaw7lid1HOpBP1wow7YzRZDJgNXzYuCg4OxpRETGjuXSRAkhsKl9\n",
              "bstF8Zaz17JDx97LTacK0aRUSxuGekRVoxL/b3sGAGDp+DCMCHGXOBEREd0OlksTdSynGnnVzXBU\n",
              "WOPeGPMfyPNLEyO9EerpgIZWNbadKZI6DhmYEAJ/3JGB6qY29PdxwvN3cdJ8IiJTwXJpojad1E0/\n",
              "dH+sn0WunyyXy5A0OgQAkJySB62W0xKZkx1ni/HDhXLYWMmwen4MFNbmP1iNiMhcdKlctra2YubM\n",
              "mYiMjERMTAzuuusuZGdnAwAqKiowffp0REREIDo6GocOHeqRwARca2rD9+fLAFjmIfEOc4YHwMnO\n",
              "GrlVTTh4pVLqOGQgJbUt+NPXFwAAyxMjMMjPReJERETUFV3ec7l06VJcvnwZ6enpeOCBB/D4448D\n",
              "AF5++WUkJCQgKysLycnJWLRoEVQqlcEDE7D9TBHaNFpE+zsj2t9yv3gdFNZYEKdb7vKzFE5LZA60\n",
              "WoE/fHUODUo1YgNd8dSEflJHIiKiLupSubSzs8OMGTMgk8kAAAkJCcjLywMAbNmyBU899RQAIC4u\n",
              "Dn5+fjh48KBh0xKEENjYPpBnoQXvteyweFQI5DLgcFYVrpQ3SB2Humn9iXwcya6CnY0cb8+LgbUV\n",
              "z9whIjI13frLvWbNGjzwwAOorq6GSqWCr6+v/raQkBAUFBRc93FKpRL19fWdLhqNpjtRLEZqfg2u\n",
              "Vjahj40V7o/xkzqO5ALd7TF1oO5zl5ySJ20Y6pacyka8sesSAODl6VHo5+UocSIiIroTd1wu33jj\n",
              "DWRnZ2PVqlVdfuyqVavg4uLS6XLy5Mk7jWJROvZa3h/jByc7LoEH/DQt0Y6zRahpapM2DN0RtUaL\n",
              "F7amo1Wlxeh+Hlg8KkTqSEREdIfuqFy+9dZb2L59O/773//C3t4eHh4esLa2RllZmf4+eXl5CAq6\n",
              "/mHblStXoq6urtMlPj7+zrbAgtQ1q/Cfc6UAgAXxgRKnMR7xoe4Y5OeMVpUWG09df285GbdPDuXg\n",
              "bEEtnBTW+L+5MZDLZVJHIiKiO9Tlcrl69Wps3LgRu3fvhqurq/76uXPn4uOPPwYAnDp1CsXFxZgw\n",
              "YcJ1n0OhUMDZ2bnTxcqKU43cys60YijVWkT5OiE20FXqOEZDJpPhsTGhAIAvjuVDpdFKnIi64mJJ\n",
              "Pd7dcwUA8Kf7B8HftY/EiYiIqDu6VC6LiorwwgsvoLa2FpMmTUJsbCxGjhwJAHjzzTdx9OhRRERE\n",
              "ICkpCevXr4eNDQ/bGsovB/J0DKoinfti+sLT0Ralda36aZrI+CnVGjy/JQ0qjcBdA30we5i/1JGI\n",
              "iKibujT7dkBAAIS4/mTVPj4++PHHHw0Sin4trbAWmWUNUFjLMTOWX8C/pLC2wkMjg7FmbxY+S8nF\n",
              "fRzsZBLe3ZOFzLIGuDvYYtWswfxHExGRGeA8HyaiY6/lPUP6wsWee4Sv56GEINhayXG2oBZnC2qk\n",
              "jkO3cDr/Gj45eBUA8MaDg+HpqJA4ERERGQLLpQloaFXh23TdQB7ObXlj3k52+nXWOS2RcWtuU+P5\n",
              "LenQCmDWUH9Mj/a99YOIiMgksFyagK/TStCi0iDc2xEjgt2kjmPUlrQP7NmVUYqyulaJ09CNrNqV\n",
              "ifzqZvR1scOf7h8kdRwiIjIglksTsKl9ep0FcYE8J+0Wov1dEB/qDrVW4IvjeVLHoes4nFWJL47n\n",
              "AwD+PmcIXPrwNA8iInPCcmnkMorqcL64HrZWcsweFiB1HJOwpH1S9Q0nCtCq4spPxqSuWYXfbz0H\n",
              "AFg8KhjjIrwkTkRERIbGcmnkOiYFnx7tCzcHW4nTmIa7BvoiwK0PappV2Hm2WOo49DN//vYCyupb\n",
              "EeJhj5fvjpI6DhER9QCWSyPWpFTjm7QSABzI0xVWchkebV8+MDkl74bTZ1Hv+v58KXacLYZcBrw9\n",
              "Lxb2tl2aCY2IiEwEy6UR++5cCRqVaoR6OiAhzF3qOCZlXlwg7G2tcLm8AUevVksdx+JVNijx/3ac\n",
              "BwA8NaEfhnNgGhGR2WK5NGIbTxYCAOZzIE+XufSxwZzhunNUk1NyJU5j2YQQWLk9A9ea2hDl64Tl\n",
              "UyKkjkRERD2I5dJIXSqtR1phLWysZPqSRF2TNDoEALA3swK5VU3ShrFgX50uwp5L5bCxkuGd+bFQ\n",
              "WFtJHYmIiHoQy6WR2tS+Is9dA324cskdCvNyxKT+XhAC+PxontRxLFJRTTNe+/YiAGDFlEgM6Oss\n",
              "cSIiIuppLJdGqKVNg+3to5w5kKd7lozVTaq+NbUQ9a0qidNYFq1W4Pdbz6FBqcawIFc8OT5M6khE\n",
              "RNQLWC6N0K6MUjS0qhHo3gdj+nlKHcekjQ33RIS3I5raNNhyqlDqOBbl82N5OJZTjT42Vnh7Xiys\n",
              "rfjnhojIEvCvvRH6aUWeIMjlHMjTHTKZDI+1Lwn5+bE8aLSclqg3XK1sxN/+mwkAWDkjCqGeDhIn\n",
              "IiKi3sJyaWSyyhtwKq8GVnIZ5nIgj0E8ONQfrvY2KLzWgj2XyqWOY/bUGi2e35IOpVqLcRGeeHhk\n",
              "sNSRiIioF7FcGplN7YduE6O84e1sJ3Ea89DH1kp/7iqnJep5Hx24ivTCWjjZWePvc4Zw7zsRkYVh\n",
              "uTQirSoNtp0pAsCBPIa2eFQwrOQyHM+5hgsldVLHMVvni+uwZm8WAODV+wehr0sfiRMREVFvY7k0\n",
              "Ij9cKENtswp+LnYYH+kldRyz0telD+6O9gUArE3JkzaMmWpVafDClnSotQLTB/niwaH+UkciIiIJ\n",
              "sFwakY3tc1vOiwuEFQ8lGlzHtERfp5WgqlEpcRrz887uK7hc3gBPR1u8/mA0V5UiIrJQLJdGIqey\n",
              "EcdzrkEuA+aNCJQ6jlkaFuSGmEBXtGm02HCiQOo4ZuVU3jX883AOAOCNBwfDgxP/ExFZLJZLI7G5\n",
              "fSDPxP7e8HPleWo9ZcmYEADAF8fz0abWShvGTDQp1XhhSzqEAGYPC8DUQb5SRyIiIgmxXBqBNrUW\n",
              "X53WDeRZEMe9lj1pxuC+8HFWoLJBif9klEgdxyy8sesSCq41w8/FDn+6f6DUcYiISGIsl0Zgz6Vy\n",
              "VDe1wdtJgclR3lLHMWs2VnIsHhUCAPj0SC6E4KTq3XHgcgW+bD/F4K25MXC2s5E4ERERSY3l0gjo\n",
              "B/KMCOQSeb1gYXwQFNZynC+uR2p+jdRxTFZdswovbTsHAEgaHYLR4VyqlIiIWC4lV3itGYezqgAA\n",
              "83lIvFe4O9jqp8nhpOp37n+/OY/yeiXCPB3w0vQoqeMQEZGRYLmUWMc64uMiPBHobi9xGsvRsd74\n",
              "9+fLUFTTLHEa0/Ofc6X4Oq0Echnw9rwY9LG1kjoSEREZCZZLCak0WmxN5Yo8Uujv64Qx4R7QCuCL\n",
              "Y/lSxzEpFQ2t+J+dGQCApyeGY2iQm8SJiIjImLBcSmhfZgUqGpTwdLTFlAE+UsexOEva915uPFmA\n",
              "5ja1xGlMgxACK7dloKZZhYF9nbEsMULqSEREZGRYLiW0qX0gz+zhAbC15v+K3japvzdCPOxR36rG\n",
              "tjPFUscxCVtTi7A3swK2VnKsnh/Dzy0REf0KvxkkUlzbggNXKgEAC+J4SFwKcrkMSaNDAOgG9mi1\n",
              "nJboZgqvNePVby8AAJ6fGokoX2eJExERkTFiuZTIllOFEAIYFeaBUE8HqeNYrDkjAuGksEZOZRMO\n",
              "ZVVKHcdoabUCL25NR1ObBiOC3fDEuDCpIxERkZHqUrlctmwZQkJCIJPJkJaWpr8+JCQE/fv3R2xs\n",
              "LGJjY7F582ZD5zQrGq3AllTdco8LR3KvpZQcFdaY1z4F1GcpedKGMWLJR/NwIvca7G2t8Pa8GFjJ\n",
              "ZVJHIiIiI9WlcjlnzhwcOXIEwcHBv7pt8+bNSEtLQ1paGubPn2+wgObo4JUKlNa1ws3eBtMGcSCP\n",
              "1B4dFQKZDDh0pRLZFQ1SxzE62RUNePP7TADA/5sxAMEe3NNOREQ31qVyOX78eAQEBPRUFoux8aRu\n",
              "r+WsYQFQWHN+QKkFedjjrvbR+snce9mJSqPF81vS0abWYnykFx7innYiIroFg51zuXjxYgwePBi/\n",
              "+c1vUFl583PXlEol6uvrO100Go2hohi18vpW7MusAAAsjOeKPMaiY1L1bWeKUNvcJnEa4/Hh/qs4\n",
              "V1QHZztr/H32EMhkPBxOREQ3Z5ByeejQIZw7dw5nzpyBp6cnHn300Zvef9WqVXBxcel0OXnypCGi\n",
              "GL2tqYXQaAXiQtwQ7u0kdRxqlxDmjgF9ndGq0mLTqUKp4xiFjKI6vL8vCwDwl5nR8HWxkzgRERGZ\n",
              "AoOUy6Ag3aEyGxsbrFixAocPH77p/VeuXIm6urpOl/j4eENEMWpardAXF67IY1xkMhmWjAkBAKw7\n",
              "mge1RittIIm1qjR4fksa1FqBGYN9cX+Mn9SRiIjIRHS7XDY1NaG2tlb/88aNGzF06NCbPkahUMDZ\n",
              "2bnTxcrK/M89PJJdhaKaFjjbWWPG4L5Sx6FfuC/GDx4Otiipa8UPF8qljiOpt3+8jKyKRng6KvDX\n",
              "mYN5OJyIiG5bl8rlk08+iYCAABQVFWHatGkIDw9HeXk5Jk2ahCFDhmDw4ME4ePAg1q1b11N5TdrG\n",
              "9hV5Zg0LgJ2N+ZdpU2NnY4WHEnQzIXyWkitxGumcyKnGv4/otv9vswbD3cFW4kRERGRKrLty508+\n",
              "+eS61589e9YgYcxZZYMSuy/q9oYt4EAeo/VwQhA+OpCN0/k1SC+sRUygq9SRelWjUo0XtqZDCGDe\n",
              "iABMGcipsoiIqGu4Qk8v2XamCGqtwNAgVy6bZ8S8nexw3xDd+YXJFrj38vX/XERRTQv8XfvglXsH\n",
              "Sh2HiIhMEMtlLxBCYFP7IfGFXEfc6HVMS/SfjFKU17dKnKb37M+s0M/B+tbcGDjZ2UiciIiITBHL\n",
              "ZS84llONvOpmOCqscW8MB/IYu8EBLogLcYNKI7D+eL7UcXpFTVMbXtp2DgCwZEwoRvXzkDgRERGZ\n",
              "KpbLXtCxN+iBWD/Y23bpNFeSSMfeyy9PFKBVZf4T/L/y9XlUNCjRz8sBf5jeX+o4RERkwlgue9i1\n",
              "pjb8cL4MAOe2NCVTB/rA37UPrjW14Zu0Eqnj9Khv00vw3blSWMllWD0vljMZEBFRt7Bc9rDtZ4rQ\n",
              "ptFisL8Lov1dpI5Dt8naSo7Fo36alkgIIXGinlFe34pXvj4PAHhmUrjFjY4nIiLDY7nsQUII/dyW\n",
              "nH7I9CyIC0IfGytkljXgWE611HEMTgiBl7adQ22zCtH+znhucrjUkYiIyAywXPagU3k1uFrZBHtb\n",
              "Ky6fZ4Jc7G0wZ3gAAOCzI3nShukBm04V4sDlSthay7F6XixsrPjngIiIuo/fJj2oY/qh+4b4cVoX\n",
              "E5XUvt743sxy5Fc3SRvGgAqvNeOv310EAPx+an9E+jhJnIiIiMwFy2UPqWtW4T8ZpQCAhSM5kMdU\n",
              "9fNyxMT+XhACWHs0T+o4BqHRCrywJR1NbRrEh7hjydhQqSMREZEZYbnsITvOFkGp1iLK1wkxARzI\n",
              "Y8o6piXamlqEhlaVxGm677MjuTiZdw32tlZ4a24MrOQyqSMREZEZYbnsAUIIbDqlm9tyYXwQZDJ+\n",
              "eZuy8RGeCPd2RKNSja2pRVLH6ZYr5Q34vx8vAwD+556BCPKwlzgRERGZG5bLHnC2sBaZZQ1QWMsx\n",
              "c6i/1HGom2QyGZJGhwAAPj+WB43WNKclUmm0eH5LGtrUWkzs74WFnMGAiIh6AMtlD+gYyHPPkL5w\n",
              "6cOBPOZg1jB/uPSxQX51M/ZlVkgd5468vy8b54vr4dLHBm/OHsI96kRE1CNYLg2soVWFb9N1A3kW\n",
              "cUUes2Fva62fqzQ5JVfiNF2XXliLD/ZnAwD+MjMaPs52EiciIiJzxXJpYF+nlaBFpUG4tyOGB7tJ\n",
              "HYcMaPGoEFjJZTh6tRqXSuuljnPbWlUaPL8lDRqtwL1D+nLOVSIi6lEslwbWsSIPB/KYH3/XPpg+\n",
              "yBcAsDYlT9owXfB/P1zG1comeDkp8JcHoqWOQ0REZo7l0oAyiupwoaQetlZyzOJAHrO0ZGwIAGBH\n",
              "WjGqG5XShrkNx65W49MjusP4f589BG4OthInIiIic8dyaUAb2vda3j3Yl1/iZmpYkBtiAlzQptZi\n",
              "w4kCqePcVEOrCi9uTQcALIwPxKQob4kTERGRJWC5NJAmpRrfpBUDABbEcSCPuZLJZPpJ1b84no82\n",
              "tVbiRDf21+8uobi2BYHuffDHewZKHYeIiCwEy6WBfHeuBE1tGoR6OiAhzF3qONSDZgzuC28nBSoa\n",
              "lNjVvsSnsdlzsRybUwshkwFvzYmBo8Ja6khERGQhWC4NZMNJ3Yo8C+ICOZDHzNlay/FIQjAA4LOU\n",
              "XAhhXJOqX2tqw8vbMwAAvxkTipFhHhInIiIiS8JyaQAXS+qRXlgLGysZZg8PkDoO9YJFI4Ngay3H\n",
              "uaI6nCmokTqOnhAC/7MzA1WNSkR4O+LFaf2ljkRERBaG5dIANp3SDeyYOtAXno4KidNQb/BwVGBm\n",
              "rG6+yM+MaFqib9JLsCujDNZyGVbPi4WdjZXUkYiIyMKwXHZTS5sGO862D+ThWs0WpWNgz/fny1BS\n",
              "2yJxGqCsrhWv7DwPAHh2cjgGB7hInIiIiCwRy2U3/SejFA2tagS698GYfp5Sx6FeNKCvM0aFeUCj\n",
              "FVh3LF/SLEIIvLTtHOpb1RgS4IJnJoVLmoeIiCwXy2U3bWqf23JBXBDkcg7ksTRLxur2Xm48WYDm\n",
              "NrVkOTacLMDBK5WwtZZj9bwY2FjxV5uIiKTBb6BuuFLegNT8GljJZZjLgTwWaXKUN4Lc7VHXotKf\n",
              "HtHb8qub8Pp/LgEA/jCtP8K9nSTJQUREBLBcdsum9umHEqO84e1sJ3EakoKVXIak0SEAgOSUvF6f\n",
              "lkijFXhhSzqa2zQYGeqOJe3ngRIREUmF5fIOtao02H62CACwMJ4r8liyuSMC4KiwRnZFIw5nVfXq\n",
              "a//7cA5S82vgYGuFt+bG8NQMIiKSHMvlHfrhQhlqm1Xwc7HD+EgvqeOQhJzsbDB3hO60iM9Scnvt\n",
              "dTPL6vH2j1cAAP9730AEutv32msTERHdSJfK5bJlyxASEgKZTIa0tDT99VlZWRg9ejQiIyMRFxeH\n",
              "CxcuGDqn0dnYPpBnXlwgrLi3yOIljQ6BTAYcuFyJ7IrGHn+9NrUWz29OR5tGi8lR3pg3gtNgERGR\n",
              "cehSuZwzZw6OHDmC4ODgTtc/+eSTWLp0Ka5cuYKXXnoJSUlJhsxodHIqG3E85xrkMvBLnQAAwR4O\n",
              "SIzyAQB8fjSvx1/v/X1ZuFhaDzd7G/xt9mAuOUpEREajS+Vy/PjxCAjoPCq6oqICqampePjhhwEA\n",
              "s2fPRmFhIbKzsw2X0shsPqUbyDOxvzf8XPtInIaMxZKxIQCAr04Xoa5Z1WOvc7agBh8euAoA+OvM\n",
              "wfB24mAyIiIyHt0+57KwsBB9+/aFtbU1AEAmkyEoKAgFBQU3fIxSqUR9fX2ni0aj6W6UXtGm1uKr\n",
              "0xzIQ782KswDUb5OaFFpsDn1xp//7mhp0+CFLenQaAXuj/HDPUP69sjrEBER3SlJBvSsWrUKLi4u\n",
              "nS4nT56UIkqX7b5YjuqmNvg4KzCpPwfy0E9kMpl+KqDPj+ZDrdEa/DXe/D4TOVVN8HFW4LUHBhn8\n",
              "+YmIiLqr2+UyMDAQpaWlUKt1q5MIIVBQUICgoBvv1Vu5ciXq6uo6XeLj47sbpVd0DOSZOzwQ1lwF\n",
              "hX7h/lg/uDvYori2Bbsvlhv0uY9mV2Ft+/mcb84eAld7W4M+PxERkSF0ux15e3tj2LBhWL9+PQBg\n",
              "27ZtCAgIQHj4jdc2VigUcHZ27nSxsrLqbpQeV1DdjCPZVZDJgPlxHMhDv2ZnY4WHRur+YWXIaYnq\n",
              "W1V4cWs6AGDRyCBM7O9tsOcmIiIypC6VyyeffBIBAQEoKirCtGnT9AXyk08+wSeffILIyEj87W9/\n",
              "Q3Jyco+ElVrHeXRjwz05pyDd0MMJwbCWy3AqrwYZRXUGec7Xvr2IkrpWBLnb448zBhjkOYmIiHqC\n",
              "dVfu/Mknn1z3+v79++PYsWMGCWSsVBottqTqBvIs4kAeugkfZzvcO6QvdqaVIDklF6vnx3br+XZf\n",
              "LMdXp4sgkwFvz4uBg6JLv7ZERES9iicN3qZ9mRWobFDC09EWiQN8pI5DRm7JWN3Anm/PlaCiofWO\n",
              "n6e6UYmV288BAJaOC0NciLtB8hEREfUUlsvb1DGQZ87wQNha822jmxsS4IrhwW5QaQTWH7+zaYmE\n",
              "EPjjjvOoamxDpI8jfndXpIFTEhERGR5b0m0orm3BwSuVAIAFHMhDt6ljWqIvj+ejVdX1eVx3phXj\n",
              "+wtlsJbLsHpeLOxsjH/QGxEREcvlbdh8qhBCAKP7eSDE00HqOGQipg3ygZ+LHaqb2vBtekmXHlta\n",
              "14L//foCAGB5YgSi/V16IiIREZHBsVzeglqjxdZU3XKPCziQh7rA2kqOxaNDAACfpeRBCHFbjxNC\n",
              "4A9fnUNDqxoxga747cR+PZiSiIjIsFgub+HglUqU1rXCzd4G0wZxIA91zYK4QNjZyHGptB4ncq/d\n",
              "1mPWH8/H4awqKKzleHtuDCfrJyIik8JvrVvYeFK313L2sAAorHnOG3WNq70tZg8LAAB8duTWk6rn\n",
              "VTXhjV2ZAICX745CuLdjj+YjIiIyNJbLmyira8X+yxUAgAXxHMhDd+axMSEAgN2XylFQ3XzD+2m0\n",
              "As9vSUOLSoNRYR54dFRI7wQkIiIyIJbLm9iaWgiNViA+xB3h3k5SxyETFe7thPGRXhAC+PxY3g3v\n",
              "98mhqzhTUAtHhTX+b+4QyOWy3gtJRERkICyXN6DVCmw61TGQh3stqXs69l5uOVWIRqX6V7dfKq3H\n",
              "O7uvAAD+dN9ABLhxeVEiIjJNLJc3cDi7CsW1LXC2s8aMwX2ljkMmbkKEF8K8HNCgVOOr9tkHOijV\n",
              "GvxucxpUGoEpA3wwZ3iARCmJiIi6j+XyBja1r8gza1gAJ6+mbpPLZXisfVL1tUfzoNX+NC3Rmj1Z\n",
              "yCxrgLuDLVbNGgyZjIfDiYjIdLFcXkdlgxK7L5YD4CFxMpzZw/zhbGeNvOpm/UCx0/k1+PjgVQDA\n",
              "6zOj4eWkkDIiERFRt7FcXsdXp4ug1goMDXJFlK+z1HHITNjbWmNh+0T8ySl5aG5T48Wt6dAK4MGh\n",
              "/ribp18QEZEZYLn8Bd1AHt0h8YVxXJGHDOuRUcGQy4Aj2VV45sszyK1qgq+zHf58/yCpoxERERkE\n",
              "y+UvHM+pRn51MxwV1rg3hnuSyLAC3OwxPdoXALD/ciUA4O9zhsClj42UsYiIiAyG5fIXNrZPP/RA\n",
              "rB/sba0lTkPmqGNgDwA8khCM8ZFeEqYhIiIyLLann7nW1IYfzpcBgP7cOCJDGxHshnkjAlBer8TK\n",
              "GVFSxyEiIjIolsuf2X6mCG0aLQb7uyDa30XqOGSmZDIZ/j4nRuoYREREPYKHxdsJIbChfW5L7rUk\n",
              "IiIiujMsl+1O5dUgp7IJ9rZWuD/WT+o4RERERCaJ5bLdxva9lvfH+MFRwbMFiIiIiO4EyyWA2uY2\n",
              "/CejFACwgIfEiYiIiO4YyyWAHWeL0abWIsrXCTEBHMhDREREdKcsvlwKIbDppG5uy0UjgyCTySRO\n",
              "RERERGS6LL5cni2sxeXyBtjZyPFArL/UcYiIiIhMmsWXy40ndAN57hnsxyX4iIiIiLrJostlfasK\n",
              "353TDeRZGB8ocRoiIiIi02fR5fLrtBK0qDSI8HbE8GA3qeMQERERmTyLLZdCCP0h8QXxHMhDRERE\n",
              "ZAgWWy4ziutwsbQetlZyzBrKgTxEREREhmDQchkSEoL+/fsjNjYWsbGx2Lx5syGf3qA2tk8/dPdg\n",
              "X7g52EqchoiIiMg8GHydw82bNyM2NtbQT2tQTUo1vkkrBgAsiOOKPERERESGYpGHxb9NL0FTmwah\n",
              "ng5ICHOXOg4RERGR2TD4nsvFixdDCIH4+Hj87W9/g5eX16/uo1QqoVQqO12n0WgMHeWGNp7SHRJf\n",
              "EBfIgTxEREREBmTQPZeHDh3CuXPncObMGXh6euLRRx+97v1WrVoFFxeXTpeTJ08aMsoNZVc0Ir2w\n",
              "FjZWMsweHtArr0lERERkKWRCCNETT1xaWorIyEg0NDT86rbr7bl85ZVXsGbNmp6I8ivni+twvrgO\n",
              "C+J5viURERGRIRnssHhTUxNUKhVcXV0BABs3bsTQoUOve1+FQgGFQtHpOisrK0NFuaVofxdE+7v0\n",
              "2usRERERWQqDlcvy8nLMnj0bGo0GQgiEhYVh3bp1hnp6IiIiIjIBBiuXYWFhOHv2rKGejoiIiIhM\n",
              "kEVORUREREREPYPlkoiIiIgMhuWSiIiIiAyG5ZKIiIiIDIblkoiIiIgMhuWSiIiIiAyG5ZKIiIiI\n",
              "DIblkoiIiIgMhuWSiIiIiAxGJoQQUocAgFmzZiEkJKRXXkuj0eDkyZOIj4/v1TXNzQnfw+7h+9d9\n",
              "fA+7h+9f9/E97B6+f90nxXsYHByM5cuX3/Q+RlMue1N9fT1cXFxQV1cHZ2dnqeOYJL6H3cP3r/v4\n",
              "HnYP37/u43vYPXz/us9Y30MeFiciIiIig2G5JCIiIiKDYbkkIiIiIoOxyHKpUCjwpz/9CQqFQuoo\n",
              "JovvYffw/es+vofdw/ev+/gedg/fv+4z1vfQIgf0EBEREVHPsMg9l0RERETUM1guiYiIiMhgWC6J\n",
              "iIiIyGBYLm/Tu+++i7KyMqljkInLy8vDxx9/fNP7jBgxAgcOHOidQCaupKQE48aNkzqGUWltbcXM\n",
              "mTMRGRmJmJgY3HXXXcjOzgYATJw4EaGhoYiNjUVsbCzeeecd/eOefPJJDB48GJMnT0ZdXR0AQAiB\n",
              "u+++G1evXpVkW6QSEhKC/v3769+nzZs3AwCysrIwevRoREZGIi4uDhcuXAAAqFQqzJw5EzExMZg1\n",
              "axbUajUA3f+L8ePHo6amRrJtkUJ1dbX+vYuNjUVkZCSsra1x7do1fgYtBMvlbWK5JEO4nXJJt8/P\n",
              "zw+HDx+WOobRWbp0KS5fvoz09HQ88MADePzxx/W3vfPOO0hLS0NaWhp+97vfAQDOnz+PrKwsZGRk\n",
              "YOLEifjiiy8AAP/+978xadIk9OvXT5LtkNLmzZv179P8+fMB6MrP0qVLceXKFbz00ktISkoCAPzw\n",
              "ww9wd3dHeno6XF1d8f333wMA/vKXv+DZZ5+Fm5ubVJshCQ8PD/17l5aWhqVLl+Luu++Gu7s7AH4G\n",
              "LYHJl8tjx45h7NixiImJwZAhQ/D1118jNTUVo0ePxpAhQxAfH4+UlBQAui92V1dX/WMbGxshk8n0\n",
              "P8tkMrzxxhuIj49HaGgokpOTAQCvvfYaSkpKMH/+fMTGxiItLa03N7FHyWQyvP766xg5ciRCQkKw\n",
              "c+dOrFq1CiNGjEBERESnPWg//PADxo4di+HDhyM+Ph779+8HAJSVlWHSpEkYPnw4Bg0ahGeffRZa\n",
              "rRYAsHbtWkyZMgULFy7E4MGDMWLECOTk5Eixqb2upaUF8+fPx8CBAxETE4OpU6fiqaeewuXLlxEb\n",
              "G4v7778fAHD06FHExsYiOjoajz32mH6vhyW73c/lL3+nb/Q7bEns7OwwY8YM/d+2hIQE5OXl3fQx\n",
              "NjY2UCqV0Gq1aGpqgq2tLUpLS7Fx40Y8//zzvZDa+FVUVCA1NRUPP/wwAGD27NkoLCxEdnY2bGxs\n",
              "0NzcDABobm6Gra0tzp07h8zMTMybN0/K2Ebh008/xW9+85ub3oefwZ/c7t8/tVqNadOmYcSIERg0\n",
              "aBAWLVqEpqYmAMCXX36JESNGQKlUQgiB++67D6+//nrvbYQwYdXV1cLb21scOnRICCGERqMR5eXl\n",
              "IjAwUHz//fdCCCEOHz4sfHx8RENDg8jNzRUuLi76xzc0NIifvwUAxFtvvSWEEOLSpUvC0dFRqFQq\n",
              "IYQQwcHB4uzZs72zYb0IgHj33XeFEELs2bNHODg4iOTkZCGEEFu2bBEjRowQQghx9epVkZCQIOrq\n",
              "6oQQQmRlZQlfX1/R2toqWlpaRENDgxBCCLVaLe655x6xceNGIYQQycnJwtnZWeTk5AghhHjppZfE\n",
              "0qVLe3MTJbN9+3YxdepU/c/V1dVi//79IiYmRn+dUqkUAQEBYvfu3UIIIX744QcBQOzfv7+X0xqX\n",
              "2/1c/vJ3+ma/w5bq4YcfFsuWLRNCCDFhwgTRv39/ER0dLebNmyeuXr2qv98f//hHERMTI+bMmSOa\n",
              "mprE/PnzRWpqqlSxJRUcHCwGDx4soqOjxZIlS0RFRYVITU0VkZGRne4XFxcn9u7dKzQajXj88cfF\n",
              "kCFDxNKlS4VKpRKJiYmisLBQoi0wHikpKcLHx0f/e8jP4K3d7t8/rVYrqqqq9P/91FNPiVWrVumf\n",
              "Z+nSpeKZZ54Rf//738X06dOFVqvtvW3otVfqAd99950YN25cp+vOnTsngoODO103ZMgQcfjw4dsq\n",
              "l6WlpfqfXV1d9X8czLlcdmxzbW2tACBaWlqEEELk5eXp368PPvhAeHp6ipiYGP3Fz89PXLlyRTQ1\n",
              "NYmnn35aDBkyRAwePFj4+PiIl156SQihK5fTpk3Tv97OnTtFYmJi726kRK5evSoCAwPFb3/7W7Fp\n",
              "0yZRX1//q3KZnp4uQkJCOj0uLCyM5fI2P5fXK5c3+h22RK+//rpISEgQTU1NQgghCgoKhBC6L6L3\n",
              "339fDBgw4LqP27lzp3jxxRdFVVWVSEpKErNmzRKbNm3qtdxSy8/PF0II0dbWJv7whz+Iu++++6bl\n",
              "8pfeeecd8f7774vc3FyxcOFCMWvWrOvezxIsWbJE/P73v9f/zM/grd3u3z+NRiP++Mc/itjYWBEd\n",
              "HS0CAwPF/Pnz9c/T0tIihgwZIgIDA0VlZWWvboPJHxa/HR2Hh6ytraHRaPTXt7a2/uq+dnZ2+v+2\n",
              "srKyiEOUHdtsZWX1q587tl8IgbvuuqvTeTTFxcWIiIjA6tWrUVFRgRMnTuDcuXNYtGhRp/fWEt9T\n",
              "AAgLC8PFixcxffp0pKSkIDo6+rZO7P/5qRqW7HY+lzd73O3c15y99dZb2L59O/773//C3t4eABAY\n",
              "GAhA9xl79tlnkZOTg+rq6k6Pq6+vx1tvvYVXX30V7777LiZMmIDNmzfjtddeQ0tLS69vhxSCgoIA\n",
              "6A7VrlixAocPH0ZgYCBKS0s7/U0sKCjQ37dDfn4+du3ahaeffhqvvPIKli5dirVr1+K5557r9e2Q\n",
              "WmNjI7Zs2YIlS5bor+Nn8Pbczt+/DRs2YN++fTh48CAyMjLw4osvdvruraioQE1NDbRaLWpra3s1\n",
              "v0mXy9GjRyMrK0t/Qr9Wq4WPjw+0Wi12794NQHc+W1lZGWJjY+Hr6wshBC5evAgAWLdu3W2/lrOz\n",
              "s370miWaNm0a9uzZg3PnzumvO3nyJACgpqYGvr6+sLOzQ1lZGbZu3SpVTKNSVFQEmUyG+++/H2+9\n",
              "9RaEEPDw8Oj0OYqKioJardafv7pnzx6OiqRuW716NTZu3Ijdu3frz0lVq9UoLy/X32fbtm3w8fGB\n",
              "h4dHp8e+/PLL+N///V/Y29ujqakJMpkMMpkMKpUKbW1tvbkZkmhqaur0Rbxx40YMHToU3t7eGDZs\n",
              "GNavXw9A9/4FBAQgPDy80+OXL1+Od955B3K5XP/+dfy3pdm8eTNiYmIQFRUFgJ9BQ6upqYGnpyec\n",
              "nZ3R0NCAtWvX6m9Tq9VYsGAB/vKXv2D16tWYN28elEplr2Wz7rVX6gFubm7YsWMHXnjhBTQ0NEAu\n",
              "l+Mvf/kLtm/fjmXLluGFF16AnZ0dvvrqKzg6OgIA3n//fdx7773w8PDAnDlzbvu1li1bhieeeAL2\n",
              "9vZYu3YtYmNje2irjFN4eDg2bNiAJ598Es3NzWhra8PQoUOxYcMGLF++HHPmzMGgQYPg5+eHKVOm\n",
              "SB3XKGRkZGDlypUQQkCtVuORRx7B6NGjMWjQIERHRyMsLAzffPMNNm/ejKeffhoajQZxcXGIiYmR\n",
              "OjqZsKKiIrzwwgsICwvDpEmTAOjWH963bx/uueceKJVKyOVyeHp64ptvvun02JSUFLS0tOCuu+4C\n",
              "ADzzzDNYuHAh3nzzTTzyyCNwcXHp9e3pbeXl5Zg9ezY0Gg2EEAgLC9PviPjkk0+QlJSEN954A87O\n",
              "zr8aMLZhwwbExMRg0KBBAHQl6YknnkBbWxteeeWVXt8WqX366ad44okn9D8rlUp+Bg1o8eLF+Prr\n",
              "r9G/f394eXlh3LhxyM/PB6D77PXv3x+PPvooAODgwYNYsWIFPvroo17JxrXFiYiIiMhgTPqwOBER\n",
              "EREZF5ZLIiIiIjIYlksiIiIiMhiWSyIiIiIyGJZLIiIiIjIYlksiIiIiMhiWSyIiIiIyGJZLIiIi\n",
              "IjIYlksiIiIiMhiWSyIiIiIyGJZLIiIiIjKY/w/VUl0v2/iA2gAAAABJRU5ErkJggg==\n",
              "\">\n",
              "      </div>\n",
              "      <script type=\"text/javascript\">\n",
              "        (() => {\n",
              "          const chartElement = document.getElementById(\"chart-71ae369a-9ba3-4d5b-a648-75bf52b509fc\");\n",
              "          async function getCodeForChartHandler(event) {\n",
              "            const chartCodeResponse =  await google.colab.kernel.invokeFunction(\n",
              "                'getCodeForChart', [\"chart-71ae369a-9ba3-4d5b-a648-75bf52b509fc\"], {});\n",
              "            const responseJson = chartCodeResponse.data['application/json'];\n",
              "            await google.colab.notebook.addCell(responseJson.code, 'code');\n",
              "          }\n",
              "          chartElement.onclick = getCodeForChartHandler;\n",
              "        })();\n",
              "      </script>\n",
              "      <style>\n",
              "        .colab-quickchart-chart-with-code  {\n",
              "            display: block;\n",
              "            float: left;\n",
              "            border: 1px solid transparent;\n",
              "        }\n",
              "\n",
              "        .colab-quickchart-chart-with-code:hover {\n",
              "            cursor: pointer;\n",
              "            border: 1px solid #aaa;\n",
              "        }\n",
              "      </style>"
            ],
            "text/plain": [
              "from matplotlib import pyplot as plt\n",
              "_df_3['Age'].plot(kind='line', figsize=(8, 4), title='Age')\n",
              "plt.gca().spines[['top', 'right']].set_visible(False)"
            ]
          },
          "metadata": {},
          "output_type": "display_data"
        },
        {
          "data": {
            "text/html": [
              "      <div class=\"colab-quickchart-chart-with-code\" id=\"chart-d87354b9-7d8b-4841-b28c-c8354f7cc704\">\n",
              "        <img style=\"width: 180px;\" src=\"data:image/png;base64,iVBORw0KGgoAAAANSUhEUgAAAqwAAAFuCAYAAABECkoSAAAAOnRFWHRTb2Z0d2FyZQBNYXRwbG90\n",
              "bGliIHZlcnNpb24zLjEwLjAsIGh0dHBzOi8vbWF0cGxvdGxpYi5vcmcvlHJYcgAAAAlwSFlzAAAP\n",
              "YQAAD2EBqD+naQAAS8BJREFUeJzt3XlcVXXi//HXZZdVAQFBEE1xAcUFTC21pk1tM3NpccvS9r2Z\n",
              "cvo2M9WUUz9Ha5qZtplcMktNbZuyskXNJcEd9w1BdgEB2e+95/cHyoxpJQr33Avv5+PBQz33XO77\n",
              "Hi/w5tzP53MshmEYiIiIiIg4KTezA4iIiIiI/BIVVhERERFxaiqsIiIiIuLUVFhFRERExKmpsIqI\n",
              "iIiIU1NhFRERERGnpsIqIiIiIk5NhVVEREREnJoKq4iIiIg4NRVWEREnZ7FYWLlypdkxRERMo8Iq\n",
              "ItLEDh8+zK233kpkZCT+/v5ERkYyYsQIcnJyzI4mIuISVFhFRJrYiBEjCAgIIC0tjRMnTrBlyxbG\n",
              "jRuHxWJxyOPX1tY65HFERJqKCquISBMqLCxkz5493HPPPQQHBwMQHh7OpEmTiIiIICcnh+uuu47w\n",
              "8HACAgLo1asXS5Ys+dnPdy77WywWZs+ezaBBg/Dz8+P999/H39+fVatWnbbfAw88wMiRIxv9OYuI\n",
              "NDYVVhGRJhQSEkLPnj25++67mTNnDtu3b8dut9ffbrPZmDJlCgcPHqSoqIiHH36Y2267jZ07d571\n",
              "853r/m+++Sb/+te/OHHiBGPGjOG2227jrbfeqr+9oqKCBQsWcM899zTNExcRaUQqrCIiTey7775j\n",
              "+PDhvP766/Tv35/Q0FCeeOIJqqurad++PaNGjcLf3x9PT0/uvPNOevTowbfffnvWz3Wu+z/66KP0\n",
              "6NEDi8VCq1atuPfee1m6dCmFhYUAfPDBBwQHB3PNNdc0+fMXEblQKqwiIk0sJCSE5557jo0bN1JS\n",
              "UsI777zD22+/zYwZMyguLmbq1Kl07NiRwMBAWrduzc6dO8nPzz/r5zrX/Tt27Hjav/v06UOfPn2Y\n",
              "N28eUHcGdurUqQ4bRysiciFUWEVEHMjb25uRI0dy5ZVXsnnzZp566in27NnDqlWrKCkp4fjx48TH\n",
              "x2MYxlnvf677u7md+e393nvv5e2332bLli1s2bKFKVOmNMlzFBFpbCqsIiJNqLi4mKeeeort27dT\n",
              "XV2NzWbjm2++4bvvvmPIkCGUlJTg6+tLSEgItbW1vPbaaz87fhVo8P7/a+zYsRQUFHDXXXcxcuRI\n",
              "wsPDG+tpiog0KRVWEZEm5OXlxbFjxxgzZgyhoaGEhITw8MMP8+STT/L444/z5z//mcrKSsLDw4mN\n",
              "jSUvL49LLrnkZz9fQ/f/Xz4+Ptxxxx1s3rxZk61ExKVYjJ9730lERJqd119/ndmzZ7N3716NXxUR\n",
              "l6EzrCIiLURRURGvvvoqjz76qMqqiLgUFVYRkRZg+vTptG/fnp49ezJ16lSz44iINIiGBIiIiIiI\n",
              "U9MZVhERERFxaiqsIiIiIuLUVFhFRERExKmpsIqIiIiIU2vWhfXVV181O4KIiIiIXKBmXViPHDli\n",
              "dgQRERERuUDNurCKiIiIiOtTYRURERERp6bCKiIiIiJOTYVVRERERJyaCquIiIiIODUVVhERERFx\n",
              "aiqsIiIiIuLUVFhFRERExKmpsIqIiIiIU1NhFRERERGnpsIqIiIiIvXsdsPsCGdQYRURERFp4cqq\n",
              "anl/YwYj/7GWf35/wOw4Z/AwO4CIiIiIOJ5hGKQeKWZRSib/2Z5DZa0NgNKqWu6/vDMWi8XkhP+l\n",
              "wioiIiLSguSXVbFscxaLUzM5VFBev71TWz/GJUVzU98opyqroMIqIiIi0uxZbXa+21vAopRMvtub\n",
              "j+3kONVWnu5c16sd45Kj6dehjdMV1VNUWEVERESaqUMFJ1icepSlm49SUFZdv71PTGvGJUVzXWIk\n",
              "/t7OXwedP6GIiIiInLOKGiuf78hlcUomG9OL6rcH+3kxqk8U45Kj6RIeYGLChlNhFREREXFxhmGw\n",
              "7WgJi1Iy+XRbNieqrQC4WWBoXFvGJkVzRfdwvDxcc4EoFVYRERERF1VUXsPyLVksTslkb15Z/faY\n",
              "YF/GJrXn5n7taRfUysSEjUOFVURERMSF2OwGa/YXsCT1KF/tyqXWVjeBytvDjeEJEYxNjmZAxxDc\n",
              "3JxzAtX5UGEVERERcQGZRRUsSc3kw01HyS6pqt+eEBXIuKRobugdRVArTxMTNh0VVhEREREnVVVr\n",
              "48uduSxOzWTtgcL67UGtPBnZO5KxydHERwaZmNAxVFhFREREnMzO7BIWp2Ty0dZsSipr67df0jmE\n",
              "sUnRXBMfgY+nu4kJHUuFVURERMQJlFTW8snWLBalZpKWVVq/PTLIh9FJ0Yzp157oYF8TE5pHhVVE\n",
              "RETEJHa7wYZDhSxKzWRFWi7VVjsAnu4Wru5RN4Hq0s6huDejCVTnQ4VVRERExMFySir5MPUoSzYd\n",
              "JaOoon571/AAxiZHc1OfKIL9vExM6FxUWEVEREQcoMZq55vdeSxKzWT1vgLsdatR4e/twfWJkYxL\n",
              "jiaxfRAWS8s+m3o2KqwiIiIiTWh/XhmLUjJZviWLwvKa+u39OwYzNimaET0j8PVSJfslOjoiIiIi\n",
              "jexEtZVPt2WzODWTLRnH67e3DfBmdL/2jE2KpmOon3kBXYwKq4iIiEgjMAyD1CPFLErJ5D/bc6is\n",
              "tQHg7mbhN93CGJcUzWVd2+Lh7mZyUtejwioiIiJyAfLLqli2OYvFqZkcKiiv394p1I+xydGM6htF\n",
              "WICPiQldnwqriIiISANZbXa+31vAotRMvt2Tj+3kDKpWnu5c26sd45KjSerQRhOoGokKq4iIiMg5\n",
              "OnysnMWpmSzddJT8sur67b2jWzMuOZrrerUjwMfTxITNkwqriIiIyC+oqLHy+Y5cFqdksjG9qH57\n",
              "sJ8Xo/pEMTY5mrjwABMTNn8qrCIiIiI/YRgG246WsCglk0+3ZXOi2gqAmwWGxLVlXFI0V3QPx8tD\n",
              "E6gcQYVVRERE5KSi8hqWb8licUome/PK6rdHB7dibL9oRie1p11QKxMTtkwqrCIiItKi2ewGPxw4\n",
              "xuKUTL7elUeNzQ6Al4cbwxMiGJcUzYBOIbi5aQKVWVRYRUREpEXKLKpgyaajfJiaSXZJVf32hKhA\n",
              "xiVFc0NiFEG+mkDlDFRYRUREpMWoqrXx5c5clqQeZe3BYxh1q1ER6OPBTScnUMVHBpkbUs7Q4JHC\n",
              "n3/+OX379qV3794kJCQwb948APLz8xk2bBhdunQhISGB1atX19+nKW4TEREROVc7s0v448dpXPzi\n",
              "Nzz8wVZ+OFBXVi/pHMKrt/Rm49NX8uyNCSqrTqpBZ1gNw2D8+PF8//339OrVi/T0dLp168aoUaN4\n",
              "6qmnGDBgACtWrCAlJYWbbrqJw4cP4+np2SS3iYiIiPySkspaPtmaxaLUTNKySuu3twvyYUy/9oxJ\n",
              "iiY62NfEhHKuGjwkwGKxcPz4cQBKS0sJCQnB29ubxYsXc+DAAQCSk5OJjIxk1apVXHnllU1ym4iI\n",
              "iMhP2e0GGw4Xsjglky/Scqm21k2g8nS3cFWPcMYmRTO4S1vcNYHKpTSosFosFhYtWsSoUaPw8/Oj\n",
              "uLiYZcuWUVZWRm1tLREREfX7xsbGkpGRQWFhYaPfdjbV1dVUV1efts1mszXk6YmIiIgLW7b5KK+s\n",
              "3E9GUUX9trhwf8YmRXNTnyhC/L1NTCcXokGF1Wq18uc//5lly5YxZMgQUlJSuOGGG9i6dWsTxTt3\n",
              "M2bM4Nlnnz1t24ABA0xKIyIiIo702fZsHlu8DQB/bw+uT4xkXHI0ie2DsFh0NtXVNWjS1datW8nO\n",
              "zmbIkCFA3dv07du3Z/v27Xh4eJCbm1u/b3p6OjExMYSEhDT6bWczffp0SkpKTvvo379/Q56eiIiI\n",
              "uKBNR4rqy+rtF8ew8ekrmDGqJ72jW6usNhMNKqzR0dHk5OSwe/duAA4cOMDBgwfp2rUrY8aM4Y03\n",
              "3gAgJSWFrKwshg4dCtAkt/2Ut7c3gYGBp324u7s36GCIiIiIazlSWM7U+Zuosdq5sns4z92YgK+X\n",
              "Vu1sbhr0PxoeHs5bb73F2LFjcXNzw2638/e//52YmBheeuklJkyYQJcuXfDy8mLBggX1s/mb4jYR\n",
              "ERFp2YrLa7hjTgpF5TX0jArib7f21mSqZspiGKeWzG1+HnvsMWbNmmV2DBEREWlk1VYbE/61kY3p\n",
              "RUQG+fDR/ZcQFuhjdixpIg2+cICIiIiImQzD4MkPt7MxvQh/bw/euSNZZbWZU2EVERERlzJ75X4+\n",
              "2pqNu5uFf97el24RgWZHkiamwioiIiIu48NNR/nbN/sBeGFkAkPi2pqcSBxBhVVERERcwrqDx5i+\n",
              "bDsA9152Ebf0P/tSl9L8qLCKiIiI0zuQX8bd726i1mZwXa92/PbqrmZHEgdSYRURERGnVlBWzeQ5\n",
              "KZRVWenXoQ0zxyTipuWrWhQVVhEREXFalTU27pqfytHiSmKCfXlrQj98PHVhoJZGhVVERESckt1u\n",
              "8NjirWzLPE5QK0/m3JFMiL+32bHEBCqsIiIi4pT+smIPX6Tl4uXuxlsT+nFRW3+zI4lJVFhFRETE\n",
              "6SzYcIS3Vh8C4OXRvbi4U4jJicRMKqwiIiLiVL7bm88fPk4D4LGr4hjZJ8rkRGI2FVYRERFxGruy\n",
              "S3ngvc3YDRjdrz0P/qaz2ZHECaiwioiIiFPILaliytwUymtsDOwUwos39cRi0fJVosIqIiIiTuBE\n",
              "tZUpc1PILa3iorZ+vDG+H14eqilSR68EERERMZXVZufBhZvZlVNKqL8Xc+/oT5Cvp9mxxImosIqI\n",
              "iIhpDMPg2U938d3eArw93Hh7YhLRwb5mxxIno8IqIiIipvn3D4d5d8MRLBZ49Zbe9IlpY3YkcUIq\n",
              "rCIiImKKFWm5vPD5bgB+P7w7wxLamZxInJUKq4iIiDjc1szjPLJoC4YB4wfEcNfgjmZHEiemwioi\n",
              "IiIOlVlUwV3zUqiqtXNZ17b86fp4LV8lv0iFVURERBympLKWO+amcOxEDd3bBfL32/ri4a46Ir9M\n",
              "rxARERFxiBqrnXsXbOJA/gnCA715Z3IS/t4eZscSF6DCKiIiIk3OMAx+v3wH6w4W4uflzjuTk2kX\n",
              "1MrsWOIiVFhFRESkyf392wN8uOkobhb4+219iY8MMjuSuBAVVhEREWlSH2/N4q9f7wPg2RsTuLxb\n",
              "mMmJxNWosIqIiEiT2Xi4iN8u2Q7A1MEdmTCgg8mJxBWpsIqIiEiTOFRwgmnvplJjs3NNfDjTh3c3\n",
              "O5K4KBVWERERaXRF5TVMmZvC8YpaEqNb88q4Pri5aa1VOT8qrCIiItKoqmptTJ2fSnphBe3btOJf\n",
              "E5No5eVudixxYSqsIiIi0mjsdoMnlmxj05FiAnw8mDM5mbYB3mbHEhenwioiIiKNZuZXe/lsew4e\n",
              "bhbeHN+PLuEBZkeSZkCFVURERBrFopQM/vn9QQD+cnMvBnUONTmRNBcqrCIiInLBfth/jKeXpwHw\n",
              "0G86M7pfe5MTSXOiwioiIiIXZG9uGfcu2ITVbnBj70gevSrO7EjSzKiwioiIyHnLL61iytwUyqqt\n",
              "9I8N5uXRvbBYtHyVNC4VVhERETkvFTVW7pyXStbxSjqG+vHmhH54e2j5Kml8KqwiIiLSYDa7wUPv\n",
              "b2VHVgnBfl7MmZxMGz8vs2NJM6XCKiIiIg32wn92s3J3Hl4ebrw9sR+xoX5mR5JmTIVVREREGmTe\n",
              "unTeWXsYgL+OSaRfh2CTE0lzp8IqIiIi5+yb3Xk8++lOAH57TVeuT4w0OZG0BCqsIiIick7Sskp4\n",
              "YOEW7AaMS4rmvssuMjuStBAqrCIiIvKrso9XMmVuCpW1NgZ3CeXPNyVo+SpxGBVWERER+UVlVbVM\n",
              "mZtCflk1XcMD+MftffF0V4UQx9GrTURERH5Wrc3Ofe9tZk9uGW0DvHnnjmQCfTzNjiUtjAqriIiI\n",
              "nJVhGPzh4zTW7D9GK0933pmUTFTrVmbHkhZIhVVERETO6s3Vh3h/YyYWC/zt1j70bB9kdiRpoVRY\n",
              "RURE5Az/2Z7DX77YA8Az1/bgqh7hJieSlkyFVURERE6z6Ugxjy7eCsDkQbFMubSjuYGkxVNhFRER\n",
              "kXpHCsuZOj+VGqudK7uH8cx1PcyOJKLCKiIiInWOV9Rwx9wUisprSIgK5NVb+uDuprVWxXwqrCIi\n",
              "IkK11ca0dzdxqKCcyCAf3pmUjJ+3h9mxRAAVVhERkRbPMAymL93BxsNF+Ht78M4dyYQF+pgdS6Se\n",
              "CquIiEgL98rK/SzbkoW7m4V/3t6XbhGBZkcSOY0KqziFsqpa3lp9kPzSKrOjiIi0KEs3HeXVb/YD\n",
              "8OeRCQyJa2tyIpEzNbiwVldX88ADD9ClSxd69uzJ+PHjAdi/fz+DBg0iLi6O5ORkdu7cWX+fprhN\n",
              "mpeXV+zlxc/3MPXdTVhtdrPjiIi0COsPFvLUsu0A3DP0Im7tH2NyIpGza3Bhfeqpp7BYLOzbt48d\n",
              "O3Ywc+ZMAO6++26mTZvGvn37ePLJJ5k8eXL9fZriNmk+SqtqWbr5KADbMo/z1ppDJicSEWn+DuSX\n",
              "cfe7qdTaDK7t1Y7fXdPV7EgiP8tiGIZxrjuXl5fTrl07jh49SmDgf8e35Ofn07lzZ4qKivDw8MAw\n",
              "DNq1a8cPP/xAYGBgo9/WuXPnc8r72GOPMWvWrIYfFXGod344zHOf7cLf24MT1Va83N349MFL6RoR\n",
              "YHY0EZFm6diJam7651oyiyrpG9OahVMH4OPpbnYskZ/VoDOsBw8eJDg4mBdffJGkpCQGDx7MN998\n",
              "Q2ZmJu3atcPDo275C4vFQkxMDBkZGU1y29lUV1dTWlp62ofNZjvvAyOOYbcbvLvhCABPDuvKld3D\n",
              "qLHZeWLJNmo1NEBEpNFV1dqYOj+VzKJKYoJ9eXtiksqqOL0GFVar1cqRI0fo0aMHqamp/O1vf2Pc\n",
              "uHFYrdamynfOZsyYQVBQ0GkfGzduNDuW/IrV+ws4fKycAG8PRvVtz4s39SSolSc7skp44/uDZscT\n",
              "EWlW7HaDRxdtZUvGcYJaeTLnjmRC/L3NjiXyqxpUWGNiYnBzc+P2228HoE+fPnTs2JEjR46Qk5NT\n",
              "X1wNwyAjI4OYmBiio6Mb/bazmT59OiUlJad99O/f//yOijjMvHXpAIxOao+ftwdhgT48d2M8AH/7\n",
              "dj+7sktNTCci0ry8tGIPX6Tl4ulu4c0J/biorb/ZkUTOSYMKa2hoKFdccQVffvklAIcPH+bw4cNc\n",
              "cskl9O3blwULFgCwdOlS2rdvT+fOnQkLC2v0287G29ubwMDA0z7c3fUWhzNLP1bO9/sKAJg4MLZ+\n",
              "+w2JkVwTH06tzeCJJduosWpogIjIhXrvxyO8ubpuUuvLo3sxoFOIyYlEzl2DJl0BHDp0iDvvvJNj\n",
              "x47h5ubGH/7wB26++Wb27t3L5MmTKSwsJDAwkDlz5tCzZ0+AJrntXGjSlXN7/rNd/PuHwwyNa8u8\n",
              "KaefDS8oq+bq2asorqjl4Su68OhVcSalFBFxfd/vzefOeanY7AaPXhnHw1d2MTuSSIM0uLC6EhVW\n",
              "51VRY+XiF7+hrMrKnMnJXN4t7Ix9PtuezQMLt+DhZuGj+y8hISrIhKQiIq5tV3YpY95YR3mNjZv7\n",
              "tmfmmF5YLBazY4k0iK50JaZYviWLsiorHUJ8GfozV1W5rlck1/Zsh9VeNzSg2qpVH0REGiK3pIop\n",
              "c1Mor7ExsFMIM0b1VFkVl6TCKg5nGEb9ZKsJAzrg5vbz3zyfuzGeED8v9uSW8do3BxyUUETE9ZVX\n",
              "W7lzXgq5pVVc1NaPN8b3w8tDP/bFNemVKw634VAR+/JO0MrTnTFJ0b+4b4i/N38emQDA66sOsi3z\n",
              "uAMSioi4NqvNzoPvb2Fndikhfl7MvaM/Qb6eZscSOW8qrOJwp86u3tQ3iqBWv/4NdHjPdlyfGInt\n",
              "5NCAqloNDRAR+TmGYfDcZ7v4dk8+3h5u/GtSEtHBvmbHErkgKqziUFnHK/lqVy4Ak/5nKatf89wN\n",
              "8YT6e7M//wSvrNzfROlERFzfv384zPz1R7BY4JVxvekT08bsSCIXTIVVHOq9DUewGzCwUwhdIwLO\n",
              "+X5t/Lx48aa6oQFvrT7I5ozipoooIuKyVqTl8sLnuwGYPrwbw3u2MzmRSONQYRWHqaq18UFKJgCT\n",
              "BnVo8P2vjo/gpj5R2A00NEBE5Ce2ZR7nkUVbMAy4/eIYpg7uZHYkkUajwioO89n2HIrKa4gM8uHK\n",
              "7uHn9Tn+eH0PwgK8OVRQzl+/2tvICUVEXFNmUQV3zkulqtbOZV3b8uwN8Vq+SpoVFVZxiP9dymr8\n",
              "wA54uJ/fS6+1rxczRtVd7exfPxwmNb2osSKKiLikkspapsxN4diJarpFBPD32/qe9/dYEWelV7Q4\n",
              "xOaM4+zIKsHLw41bkmMu6HNd0T2c0f3aY5wcGlBZo6EBItIy1Vjt3PfeJvbnnyA80Js5dyTj7+1h\n",
              "diyRRqfCKg4xf306ADckRhLs53XBn++Z63oQEehDemEFL3+554I/n4iIqzEMg6eX72DtgUJ8vdz5\n",
              "96Rk2gW1MjuWSJNQYZUml19Wxec7coCGLWX1S4JaefKXm+uGBsxZm86GQ4WN8nlFRFzFP747wJJN\n",
              "R3GzwD9u60tCVJDZkUSajAqrNLmFP2ZQazPoG9Oanu0b7xvqZV3DuCW57kpZv/twO+XV1kb73CIi\n",
              "zuzjrVnM/GofAM/eEM/l3cJMTiTStFRYpUnVWO2892MGAJMGxTb653/62u5EBvmQUVTBSys0NEBE\n",
              "mr+U9CJ+u2Q7AHdd2pEJjfTOlYgzU2GVJrViZy4FZdW0DfBmeELjL2Ad4OPJy6MTAZi//gjrDh5r\n",
              "9McQEXEWh4+VM3V+KjU2O9fEh/P7Ed3NjiTiECqs0qTmn1zK6rb+MXh5NM3L7dIuodx+cd3KA7/7\n",
              "cDsnNDRARJqhovIa7pizkeMVtSS2D+KVcX1wc9Naq9IyqLBKk0nLKiH1SDEebpb6QtlUpo/oTvs2\n",
              "rThaXMmMk5clFBFpLqpqbUybn0p6YQVRrVvxr0nJtPJyNzuWiMOosEqTOXWhgOE92xEW6NOkj+Xv\n",
              "7cHLo3sB8N6PGazZX9Ckjyci4ih2u8FvP9xO6pFiAnw8mHtHMm0DvM2OJeJQKqzSJIrLa/h4WzYA\n",
              "kwd1cMhjDroolEkD6x7ryQ+3U1ZV65DHFRFpSrO+3sen27LxcLPwxvh+dAkPMDuSiMOpsEqT+CAl\n",
              "kxqrnfjIQPrGtHHY4z45vBsxwb5kl1Txwn80NEBEXNvilEz+/t0BAGaM6sklnUNNTiRiDhVWaXQ2\n",
              "u8GCDUeAuqWsLBbHTQrw9fJg5phELJa60vz93nyHPbaISGP6Yf8xfr98BwAP/qYzY5KiTU4kYh4V\n",
              "Vml0K3fnkXW8kja+ntyQGOnwx+/fMZg7BnUE4KmlOyip1NAAEXEt+/LKuHfBJqx2gxt7R/LYVXFm\n",
              "RxIxlQqrNLpTk63GJcfg42nOLNbfXtOVjqF+5JZW8fxnu0zJICJyPvLLqrhjTgpl1VaSY9vw8uhe\n",
              "Dn2nSsQZqbBKo9qfV8a6g4W4WWD8gKZdyuqXtPJyZ+aYXlgs8OGmo3yzO8+0LCIi56qixspd81LJ\n",
              "Ol5Jx1A/3pqQhLeHlq8SUWGVRjVvfToAV3YPp30bX1Oz9OsQzNTBnQCYvmwHxytqTM0jIvJzDMPg\n",
              "aHEFD3+wle1HS2jj68mcycm08fMyO5qIU/AwO4A0H6VVtSzbnAXA5EGx5oY56bGr4vhmdx4HC8p5\n",
              "9tNdzB7X2+xIItLC2e0GhwvLScsqYVd2KWnZJezMLuV4Rd14ey8PN96emERsqJ/JSUWchwqrNJoP\n",
              "U49SUWOjS5g/Ay8KMTsOAD6e7swck8jNr69j+ZYshiVEcE18hNmxRKSFqLHa2Z9fxs7sUnZm1RXT\n",
              "XTmlVNTYztjXw81CXHgAT1wTR1JssAlpRZyXCqs0CrvdYP7J4QATHbyU1a/pE9OGaUMu4o1VB3l6\n",
              "+Q6SY4MJ1ttsItLIKmqs7M4pY1d2CWlZpezMKWFf7glqbPYz9vXxdKN7u0DiIwNJiAwiPjKIuAh/\n",
              "jVcV+RkqrNIoVu8vIL2wggAfD0b1iTI7zhkeubIL3+zOY3/+Cf74yU5eu7WP2ZFExIWVVNSyM6eE\n",
              "nVml7MwuIS27lEMFJ7AbZ+4b4ONxspQGkhBV92entv64uznPL/Yizk6FVRrFqaWsxvSLxs/b+V5W\n",
              "p4YGjHp9HZ9uy2Z4QgQjerYzO5aIuID80qq6t/T/58xpZlHlWfcN9fcmISrwtILavk0rp3rXScQV\n",
              "OV+zEJeTfqyc7/cVADBhYAeT0/y8xOjW3Dv0Iv7+3QH+76M0+ncMJtTf2+xYIuIk6mbqV5J2cqzp\n",
              "qclQBWXVZ92/fZtWZ5w5DQv0cXBqkZZBhVUu2LsbjmAYcFnXtnR08lmtD17RmZW789iTW8YzH6Xx\n",
              "z9v76syHSAtksxscKjhRV0xPFtSd2SWUVlnP2NfNAp3a+pMQGUh8ZBDxUYHEtwsiyNfThOQiLZMK\n",
              "q1yQ8mori1MzAZg0MNbcMOfA26NuaMDIf6zli7RcPtuew/UmXD5WRByn2mpjX+6Jk2NN68rpnpwy\n",
              "KmvPnKnv6W6ha0QA8e2CSIgKpEdkEN3bBeDrpR+XImbSV6BckOVbsiirshIb4svQuLZmxzknCVFB\n",
              "3H95Z179Zj/PfJzGxZ2CCQvQ23gizUF5tZXdOaX/87Z+KfvzyrCeZTaUr5c7PU7O1D915rRLWABe\n",
              "HrqmjoizUWGV82YY/13KasLAWNxcaMbr/Zd35utdeezKKeXp5Wm8NaGfhgaIuJji8pr/ToY6+efh\n",
              "Y+UYZ5mp39rXs34JqR4nx5zGhvhppr6Ii1BhlfO2/lAh+/JO0MrTndH92psdp0G8PNyYOSaRG//x\n",
              "A1/vyuPjrdmMdMLluESk7pfjvNLq0yZD7couJev42Wfqhwd610+Gij85GSqqtWbqi7gyFVY5b/PX\n",
              "HQFgVN8oglq53uSDHpGBPPSbLvz163388ZOdDLwohHDN8BUxld1ukFFUcdos/Z1ZJRSW15x1/w4h\n",
              "vv99S//kn20DtPqHSHOjwirnJet4JV/tygVg0qBYc8NcgHsuu4ivduWxI6uE3y/bwb8mJeksjIiD\n",
              "WG12DhScYGfWf8vp7uxSyqrPPlO/S1jAaWdNe0QGEujjer8si0jDqbDKeVmw4Qh2AwZ2CiEuPMDs\n",
              "OOfN071uaMD1r/3AN3vyWbo5y+WGN4i4gqpaG3tzy047a7ont4xq65mXLfXycKNbRED9WdOEqCC6\n",
              "RQTg46nLloq0VCqs0mBVtTY+2JgBuPbZ1VO6RgTwyFVdeHnFXp79dCeXdA6hXVArs2OJuKyyqlp2\n",
              "ZZeeNt50f/4JbGeZqe/v7VE3Uz/qv2/rdw7zx9NdM/VF5L9UWKXBPt2WTXFFLZFBPlzZPczsOI1i\n",
              "2uBOfLkzj22Zx3lq6Q7m3pGsoQEi5+DYier6mfo7s+r+TC+sOOu+wX5e9eNME04W1A7Bvi61woiI\n",
              "mEOFVRrEMAzmnVzKavzADng0k7MgHu5u/HVML0b87QdW7StgcWom45JjzI4l4jQMwyC7pIqdWXVL\n",
              "SO3KLiEtq5Tc0qqz7h8Z5EOP/ymmCVGBRAT66BdBETkvKqzSIJszjpOWVYqXhxu3NLNC1zksgCeu\n",
              "juPFz/fw/Ge7ubRLW6Jaa2iAtDx2u0F6YXn92qanzpwWV9Sedf9OoX70+J+Z+glRQQT7eTk4tYg0\n",
              "Zyqs0iDz1qUDcENiZLP8gXTnpZ1YkZbL5ozjPLV0O/On9NcZIWnWam129uedqB9rmpZVwu6cUspr\n",
              "zrxsqYebhc5h/iRE/beYdm8XiL+3fpSISNPSdxk5Z/mlVXy+IweAyc1gstXZuLtZmDkmkeGvrmHN\n",
              "/mO8vzGT2y5uXmeSpeWqrLGxO7e0fpb+zuxS9uaWUWM7c6a+j6cb3SIC69/Sj48MJC5cM/VFxBwq\n",
              "rHLOFm7MwGo36NehDQlRQWbHaTKd2vrzu2HdeP6zXbzwn10M7hJKdLCv2bFEGqSkspadJ8+a7jx5\n",
              "5vRgwQnOMlGfAB+PMyZDdQr1azZj1EXE9amwyjmpsdp578e6pawmDuxgcpqmd8egWL5My2VjehFP\n",
              "Lt3Ogjsv1kxmcVr5ZVWnnTVNyy4hs+jsly0N9fc++Xb+yYIaGUR0sC5bKiLOTYVVzsmKnbkUlFXT\n",
              "NsCb4QntzI7T5NzcLLw8uhfDX13DuoOFvPfjESYMjDU7lrRwhmFwtLiybiLUybOmO7NLyS+rPuv+\n",
              "7du0qiunkUHER9X9GabLD4uIC1JhlXNyarLVbf1j8PJoGW8Txob68dTwbvzxk528+PkehsaFEROi\n",
              "oQHiGDa7weFjJ0g7OUM/LauUXTmllFSeOVPfYqmbqV8/GSoyiB6RgbT2bX4TI0WkZVJhlV+VllXC\n",
              "piPFeLhZuL2FTUCaMKADX6TlsOFQEU98uI0Ppg7Q0ABpdNVWG/vzTtQX053ZJezOKaOy9syZ+p7u\n",
              "FuLCA+rPmsZHBtItIhA/zdQXkWZM3+HkV506uzqiZ7sW93aim5uF/zc6kWteWc3Gw0XMW5/OHZd0\n",
              "NDuWuLCKGiu7c0pPO3O6P7+MWtuZs6FaebqfXN/0v2dN48IDWsy7HCIip6iwyi8qKq/h423ZAEwa\n",
              "1PwnW51NdLAv00d055mP0nhpxR4u6xpGx1A/s2OJCzheUXPaWNOd2SUcOlaOcZaZ+kGtPOvXNj01\n",
              "Y79jqB/uOqMvIqLCKr9sUUomNVY7CVGB9I1pY3Yc09zeP4YVaTmsPVDIb5dsY9HdA1UkpJ5hGOSX\n",
              "VdcX01N/Zh0/+0z98EDvkzP0A+svXxrVWjP1RUR+znkX1jlz5jBlyhSWL1/OyJEjyc/PZ+LEiRw8\n",
              "eBBvb2/++c9/MmTIEIAmuU2antVmZ8GGIwBMHBjbon+YurlZeOnmXlwzezWpR4qZs/Ywdw3uZHYs\n",
              "MYFhGGQUVZxx5vTYiZqz7h8T7Hva4vvxkUG0DfB2cGoREdd2XoU1PT2dt99+mwEDBtRve+qppxgw\n",
              "YAArVqwgJSWFm266icOHD+Pp6dkkt0nTW7k7n6zjlbTx9eSGxEiz45iufRtf/u+6HkxftoP/9+Ve\n",
              "LusaRucwf7NjSROy2uwcLCg/bTLUruxSyqqtZ+zrZqHusqUnx5rGn/wzqJW+X4mIXKgGF1a73c5d\n",
              "d93Fa6+9xuOPP16/ffHixRw4cACA5ORkIiMjWbVqFVdeeWWT3CZNb/76dABu6R+jyzGedEtyNJ/v\n",
              "yGHN/mM8sWQbS+8dpKEBzYRhGOzKKWVbZkldQc0uZU9OKdXWMy9b6uXuRrd2AfVnTE/N1G/lpa8T\n",
              "EZGm0ODCOmvWLC655BL69etXv62wsJDa2loiIiLqt8XGxpKRkdEkt51NdXU11dWnL55ts525JIyc\n",
              "m315Zaw7WIibhRa3lNUvsVj+OzRga+Zx3l5ziHuGXmR2LLlABWXVPL18B1/tyjvjNj8v9/ozpqcm\n",
              "RXUO88dTly0VEXGYBhXWtLQ0li5dyurVq5sqz3mbMWMGzz777Gnb/nfIgjTMqbOrV/UIp30bLZb/\n",
              "vyJbt+KZ63vwuw+3M+urfVzRLYwu4QFmx5Lz9PmOHP7vozSKymvwdLcwoFPIaeW0Q7Cv1t4VETFZ\n",
              "g04RrFmzhvT0dLp06UJsbCwbNmxg2rRpLF68GA8PD3Jzc+v3TU9PJyYmhpCQkEa/7WymT59OSUnJ\n",
              "aR/9+/dvyNOTk0qralm2OQuASYNizQ3jpMb0a8/lXdtSY7Pz+JJtWG1nvm0szq24vIYH39/Cfe9t\n",
              "pqi8hm4RAXx8/6W8e+fFPDW8G9cnRtIx1E9lVUTECTSosN57773k5OSQnp5Oeno6AwYM4K233uLe\n",
              "e+9lzJgxvPHGGwCkpKSQlZXF0KFDAZrktp/y9vYmMDDwtA93d40nOx9LUo9SUWMjLtyfgZ1CzI7j\n",
              "lCwWCzNG9SLQx4PtR0t4c/UhsyNJA3yzO4+rX1nNp9uycXez8OBvOvPJA5fSIzLQ7GgiInIWjbYO\n",
              "60svvcSECRPo0qULXl5eLFiwoH42f1PcJk3Dbjd49+RwgJa+lNWviQjy4U83xPPY4m28snIfV3QP\n",
              "o1uECo8zK62q5blPd/HhpqNA3az+v45JJDG6tbnBRETkF1kM42zXXGkeHnvsMWbNmmV2DJfy3d58\n",
              "7piTQoCPBxumX6Hrk/8KwzCYOn8TK3fnER8ZyEf3X6LJOE5qzf4CnvxwO9klVVgsMHVwJx67Kk4r\n",
              "YIiIuAD9ZJXTzF+XDsCYftEqq+fAYrHw4qgEWvt6sjO7lH9+d9DsSPIT5dVW/u+jHUz490ayS6ro\n",
              "EOLL4rsH8vsR3VVWRURchAqr1Es/Vs73+woAmDiwg8lpXEdYgA/P3hAPwGvf7mdndonJieSUHw8V\n",
              "MvzVNSzYULcc3qSBHfji4cEkxwabnExERBpChVXqzV9/BMOAy7q2JTbUz+w4LuWGxEiGxUdgtRs8\n",
              "vngbNWdZbF4cp6rWxvOf7eKWtzeQUVRBVOtWvHfXxTx7YwK+XnrnQETE1aiwClD3tumSTZmAlrI6\n",
              "HxaLhT/flECwnxd7csv4+7f7zY7UYm3JKGbE39bw7x8OYxgwLimaFY8M5pLOoWZHExGR86TCKgAs\n",
              "35JFWZWV2BBfhnZpa3YclxTq783zNyYA8I/vD7LjqIYGOFK11cbLK/Zw8+vrOFRQTliAN3MmJ/PS\n",
              "6F4E+Gh1ERERV6bCKhiGUX9lqwkDY7VQ+gW4tlc7ru3VDpvd4PElW6m26vLAjpCWVcKNf1/LP78/\n",
              "iN2Akb0j+erRIVzeLczsaCIi0ghUWIX1hwrZl3cCXy93Rvdrb3Ycl/f8jQmE+nuxL+8Er67U0ICm\n",
              "VGuz8+rK/Yz8x1r25JYR4ufFG+P78cotfWjt62V2PBERaSQqrMK8k0tZ3dQniqBWeuv0QgX7efHn\n",
              "kT0BeGPVQbZmHjc3UDO1L6+MUf9cx+yV+7DaDYYnRPDVo0MYlhBhdjQREWlkKqwtXNbxSr7elQdo\n",
              "slVjGpYQwY29I7Eb8PjirVTVamhAY7HZDd5YdZDr/vYDO7JKCGrlyau39Oaft/clxN/b7HgiItIE\n",
              "VFhbuAUbjmA3YNBFIcSFB5gdp1n50/XxtA3w5mBBObO/3md2nGbhUMEJxryxjr98sYcam53fdAvj\n",
              "q0eHcGPvKF1GWESkGVNhbcGqam18sLFuQfWJA2PNDdMMtfHz4sWb6oYGvLXmEJuOFJmcyHXZ7QZz\n",
              "1h5mxN/WsDnjOP7eHrw8uhf/npREeKCP2fFERKSJqbC2YJ9uy6a4opao1q24srtmUzeFq3qEM6pv\n",
              "FIYBv12yXUMDzkNmUQW3/WsDz366i6paO5d2DuXLR4cwNilaZ1VFRFoIFdYWyjAM5p1cyur2ATF4\n",
              "uOul0FT+eF084YHeHDpWzswv95odx2UYhsHCHzMY9spqNhwqopWnO8+PTODdO/sT1bqV2fFERMSB\n",
              "1FJaqM0ZxaRlleLl4cYtyTFmx2nWgnw9mTGqbmjAv9ceJiVdQwN+TU5JJZPmpPD75Tsor7HRPzaY\n",
              "FY8MZsKADjqrKiLSAqmwtlDz1h0B4MbESIL9tF5lU/tNt3DG9Gt/cmjANipqrGZHckqGYbB001Gu\n",
              "nr2a1fsK8PJw4/+u7c770wbQIcTP7HgiImISFdYWKL+0is935ABaysqR/u+6HrQL8iG9sIKXV2ho\n",
              "wE8VlFUz7d1NPL5kG2VVVhKjW/P5Q4O5a3An3HX1NRGRFk2FtQVauDEDq92gX4c2JEQFmR2nxQhq\n",
              "5clfbu4FwNx16Ww4VGhyIufxn+05XD17FV/vysPT3cJvr+nK0nsG0jnM3+xoIiLiBFRYW5gaq533\n",
              "fqxbykpnVx1vaFxbbu0fDcBvP9xGeXXLHhpQXF7DAws3c//CzRRX1NKjXSCfPHAp91/eWRMBRUSk\n",
              "nn4itDBfpOVQUFZN2wBvhsXrEpZm+P2I7kS1bkVmUSV/+WKP2XFM8/WuPK6avZrPtufg7mbhod90\n",
              "5qP7L6F7u0Czo4mIiJNRYW1h5q+vm2x1+8UxeHnov98MAT6evHRyaMC7G46w9sAxkxM5VkllLY8v\n",
              "3sbU+akcO1FN5zB/lt83iMeu7qrXpIiInJV+OrQgaVklbDpSjIebhdv6aykrM13aJZTxA+r+D373\n",
              "4XbKqmpNTuQYq/cVMOyV1SzdfBSLBe4e0onPHryUXu1bmx1NREScmAprCzJvXToAI3q2I0yXszTd\n",
              "9OHdad+mFVnHK3nx8+Y9NOBEtZXfL9/BxHc2klNSRWyIL0vuHsj0Ed3x8XQ3O56IiDg5FdYWoqi8\n",
              "ho+3ZQOabOUs/Lw9+H+jEwF4f2MGq/cVmJyoaWw4VMjwV1ez8ORkv8mDYvn84cEkxQabnExERFyF\n",
              "CmsL8UFKBjVWOwlRgfSNaW12HDlp4EUhTD75C8STS7dT2oyGBlTW2Hj2053c8tYGMosqiWrdioV3\n",
              "XcyfbojH18vD7HgiIuJCVFhbAKvNznsbTi5lNTBWl7Z0Mr8b1pUOIb7klFTx5892mR2nUWzOKOba\n",
              "v61hztp0AG7tH82KRwYzqHOoucFERMQlqbC2ACt355N1vJI2vp5cnxhpdhz5CV+vuqEBFgssTj3K\n",
              "d3vyzY503qqtNv7yxR5Gv76OQ8fKCQ/0Zs4dycwY1YsAH0+z44mIiItSYW0BTk22uqV/jCa4OKn+\n",
              "HYOZcklHAJ5atp2SCtcbGpCWVcINr63ljVUHsRswqk8UXz0ylMu7hpkdTUREXJwKazO3L6+M9YcK\n",
              "cbPA+AEdzI4jv+CJq7vSKdSPvNJqnv1sp9lxzlmtzc4rK/cx8h9r2ZtXRqi/F29O6Mescb0J8tVZ\n",
              "VRERuXAqrM3cqbOrV/UIJ6p1K3PDyC9q5eXO/xuTiJsFlm3O4utdeWZH+lV7c8u46Z9reWXlfqx2\n",
              "gxE9I/jykSFco6uoiYhII1JhbcZKKmtZtjkL0FJWrqJfhzZMHdwJgN8v30FxeY3Jic7OZjd4/fuD\n",
              "XP/aD6RlldLa15O/3dqHf9zWlxB/b7PjiYhIM6PC2ox9uOkolbU24sL9GdgpxOw4co4evSqOi9r6\n",
              "UVBWzZ8+db6hAYcKTjD6jXW8tGIPNTY7V3QL46tHhnBDYqRWoBARkSahwtpM2e0G765PB2CilrJy\n",
              "KT6e7vx1bG/cLPDx1mxWpOWYHQmoe02988Nhhr+6hi0Zxwnw9uD/je7FvyYl6cppIiLSpFRYm6lV\n",
              "+wtIL6wgwMeDm/pEmR1HGqh3dGvuGXoRAE8vT6PwRLWpeTKLKrj17Q0899kuqq12BncJ5ctHhzAm\n",
              "KVq/DImISJNTYW2mTk22GpsUjZ+3rirkih6+sgtx4f4Ultfwh0/MGRpgGAbv/XiEa15ZzY+Hi/D1\n",
              "cufPIxOYP6U/kZrEJyIiDqLC2gwdPlbO93sLsFhggpayclneHu78dUxv3N0s/Gd7Dp9tz3bo42cf\n",
              "r2TiOxt5enkaFTU2+ncMZsXDQxg/oIPOqoqIiEOpsDZD764/AsBlcW2JDfUzOY1ciJ7tg7jvsrqh\n",
              "Ac98lEZBWdMPDTAMgw83HeWaV1azZv8xvD3ceOa6HnwwdQAxIb5N/vgiIiI/pcLazJRXW1mSmgnA\n",
              "RC1l1Sw8+JsudIsIoLiilv/7aAeGYTTZY+WXVTF1fipPLNlGWZWV3tGt+fzhwdx5aUfc3HRWVURE\n",
              "zKHC2sws35JFWbWVjqF+DO3S1uw40gi8PNyYOSYRDzcLX+7M45NtTTM04NNt2Vw9ezUrd+fj6W7h\n",
              "d8O68uE9A7morX+TPJ6IiMi5UmFtRgzDYP7JpawmDOigM2LNSEJUEA/8pjMAf/h4J/mlVY32uYvK\n",
              "a7h/4WYefH8LxytqiY8M5NMHL+W+yzrj4a5vESIiYj79NGpG1h8sZF/eCXy93Bmd1N7sONLI7r+8\n",
              "Mz3aBVJSWcvvlzfO0ICvduZy9exV/Gd7Du5uFh6+ogsf3X8J3SICGyGxiIhI41BhbUbmnTy7Oqpv\n",
              "FIE+nuaGkUbn6e7GX8cm4uluYeXufJZvyTrvz1VSWctji7cy7d1NHDtRQ1y4Px/ddwmPXhWHp86q\n",
              "ioiIk9FPpmbiaHEFX+/KA+qubCXNU/d2gTx8RRcA/vTJTvLOY2jAqn0FXDN7Ncs2Z+FmgbuHduKT\n",
              "By6lZ/ugxo4rIiLSKFRYm4n3fszAbsCgi0KICw8wO440oXuGXkTPqCBKq6xMX3buQwNOVNftP+md\n",
              "jeSWVhEb4suSewYyfXh3fDzdmzi1iIjI+VNhbQaqam18sDEDgElayqrZ8zg5NMDL3Y1v9+Tz4aaj\n",
              "v3qf9QcLGfbKat4/+TqZPCiWLx4eQr8OwU0dV0RE5IKpsDYDn2zLpriilqjWrbiiW5jZccQB4sID\n",
              "ePSqOACe+3QXOSWVZ92vssbGnz7Zya1vb+BocSVRrVuxcOrF/OmGeFp56ayqiIi4BhVWF2cYBvPW\n",
              "pQMwfkAHLUPUgkwd3JHe0a0pq7by5NIzhwZsOlLEiL+tYe7J18et/aP58tEhDLoo1IS0IiIi50/t\n",
              "xsVtzihmZ3Yp3h5u3JIcbXYccSAP97oLCnh5uLF6XwGLUuqucFZVa2PGF7sZ88Z6Dh8rJyLQh7l3\n",
              "JDNjVC/8vT1MTi0iItJw+unl4uauOwLADYmRtPHzMjmNOFrnMH9+e3VXXvh8N3/+z27a+Hnx16/2\n",
              "si/vBACj+kTxx+vjCfLVMmciIuK6VFhdWH5pFV/syAE02aolm3JpR1bszGXTkWLufncTAKH+Xrx4\n",
              "U0+ujo8wOZ2IiMiF05AAF/bejxlY7Qb9OrQhIUpraLZU7m4WZo5JxMez7sv52p7t+OrRoSqrIiLS\n",
              "bOgMq4uqsdpZqKWs5KSOoX58fP+lHK+o4eJOIWbHERERaVQqrC7qi7QcCsqqCQvwZpjOpAnQNUIX\n",
              "jBARkeZJQwJc1KmlrG67OAYvD/03ioiISPPVoKZTVVXFyJEjiYuLIzExkauuuooDBw4AkJ+fz7Bh\n",
              "w+jSpQsJCQmsXr26/n5NcVtLtuNoCZszjuPpbuG2i2PMjiMiIiLSpBp8am7atGns3buXbdu2ceON\n",
              "N3LXXXcB8NRTTzFgwAD279/PnDlzuO2226itrW2y21qyeevTARjRsx1hAT7mhhERERFpYg0qrD4+\n",
              "PowYMQKLxQLAgAEDSE9PB2Dx4sXcc889ACQnJxMZGcmqVaua7LaWqvBENZ9sywZg4sBYc8OIiIiI\n",
              "OMAFTbp69dVXufHGGyksLKS2tpaIiP9O/omNjSUjI6NJbjub6upqqqurT9tms9ku5Ok5pUWpmdRY\n",
              "7fSMCqJvTGuz44iIiIg0ufOerfPiiy9y4MABZsyY0Zh5ztuMGTMICgo67WPjxo1mx2pUVpudBevr\n",
              "rmw1cWCH+jPdIiIiIs3ZeRXWmTNnsmzZMr744gt8fX0JCQnBw8OD3Nzc+n3S09OJiYlpktvOZvr0\n",
              "6ZSUlJz20b9///N5ek5r5e58skuqCPbz4vrESLPjiIiIiDhEgwvrrFmzeP/99/n6669p3bp1/fYx\n",
              "Y8bwxhtvAJCSkkJWVhZDhw5tstt+ytvbm8DAwNM+3N3dG/r0nNqppaxuSY7Gx7N5PTcRERGRn9Og\n",
              "MaxHjx7l8ccfp1OnTlx++eVAXVH88ccfeemll5gwYQJdunTBy8uLBQsW4OnpCdAkt7U0e3PLWH+o\n",
              "EDcL3D6gg9lxRERERBzGYhiGYXaIpvLYY48xa9Yss2M0iqeX7+C9HzMYFh/BGxP6mR1HRERExGF0\n",
              "iSQXUFJZy7LNWQBMGhRrbhgRERERB1NhdQEfbjpKZa2NruEBDOgUbHYcEREREYdSYXVydrvBuyev\n",
              "bDVxkJayEhERkZZHhdXJrdpXQHphBQE+HozsHWV2HBERERGHU2F1cvNOnl0dmxSNn/cFXZhMRERE\n",
              "xCWpsDqxw8fK+X5vARYLTNBSViIiItJCqbA6sfknz65eFteW2FA/c8OIiIiImESF1UmVV1v5MPUo\n",
              "oKWsREREpGVTYXVSy7ZkUVZtpWOoH0O6tDU7joiIiIhpVFidkGEYzF+XDtSNXXVz01JWIiIi0nKp\n",
              "sDqh9QcL2Z9/Al8vd0YntTc7joiIiIipVFid0NyTZ1dH9Y0i0MfT3DAiIiIiJlNhdTJHiytYuTsP\n",
              "gEkDY80NIyIiIuIEVFidzIINGdgNuKRzCF3CA8yOIyIiImI6FVYnUlVr44OUDAAm6uyqiIiICKDC\n",
              "6lQ+2ZbN8Ypaolq34sru4WbHEREREXEKKqxOwjAM5p2cbDV+QAfctZSViIiICKDC6jQ2ZxSzM7sU\n",
              "bw83bkmONjuOiIiIiNNQYXUSc9cdAeDG3pG08fMyOY2IiIiI81BhdQJ5pVV8sSMH0GQrERERkZ9S\n",
              "YXUCC3/MwGo3SOrQhoSoILPjiIiIiDgVFVaT1VjtLNxYt5TVpEGx5oYRERERcUIqrCb7Ii2HgrJq\n",
              "wgK8GZYQYXYcEREREaejwmqyU0tZ3X5xBzzd9d8hIiIi8lNqSCbacbSEzRnH8XS3cOvFWspKRERE\n",
              "5GxUWE00b306ACN6tiMswMfcMCIiIiJOSoXVJIUnqvlkWzagyVYiIiIiv0SF1SQfpGRSY7XTMyqI\n",
              "PtGtzY4jIiIi4rRUWE1gtdl5b0Pdla0mDYrFYrGYnEhERETEeamwmmDl7jyyS6oI9vPiul7tzI4j\n",
              "IiIi4tRUWE0wb13d2dVbkqPx8XQ3OY2IiIiIc1NhdbC9uWWsP1SImwXGD+hgdhwRERERp6fC6mCn\n",
              "lrK6ukcEka1bmRtGRERExAWosDpQSWUtyzdnAVrKSkRERORcqbA60JLUTCprbXQND2BAp2Cz44iI\n",
              "iIi4BBVWB7HbDd49uZTVxEEdtJSViIiIyDlSYXWQVfsKOFJYQYCPBzf1iTI7joiIiIjLUGF1kLnr\n",
              "0gEYmxSNr5eHuWFEREREXIgKqwMcPlbOqn0FWCwwcaCWshIRERFpCBVWB5h/cimry7uG0SHEz9ww\n",
              "IiIiIi5GhbWJlVdb+TD1KKCzqyIiIiLnQ4W1iS3bkkVZtZWOoX4M6dLW7DgiIiIiLkeFtQkZhsH8\n",
              "k5OtJg7sgJublrISERERaSgV1ia0/mAh+/NP4Ovlzs392psdR0RERMQlqbA2oVNLWd3ctz2BPp7m\n",
              "hhERERFxUSqsTeRocQUrd+cBmmwlIiIiciFUWJvIgg0Z2A24pHMIXcIDzI4jIiIi4rJUWJtAVa2N\n",
              "D1IyAJg0MNbcMCIiIiIuToW1CXyyNZvjFbVEtW7FFd3DzY4jIiIi4tJUWBuZYRj1k60mDOyAu5ay\n",
              "EhEREbkgKqyNbNORYnbllOLt4ca4pGiz44iIiIi4PBXWRjZv/REAbuwdSRs/L5PTiIiIiLg+FdZG\n",
              "lFdaxRc7cgCYqMlWIiIiIo3C6Qvr/v37GTRoEHFxcSQnJ7Nz506zI/2s937MwGo3SOrQhoSoILPj\n",
              "iIiIiDQLTl9Y7777bqZNm8a+fft48sknmTx5stmRzqrGamfhjyeXshoUa24YERERkWbEqQtrfn4+\n",
              "qampjB8/HoCbb76ZzMxMDhw4YHKyM32RlsOxE9WEBXgzLCHC7DgiIiIizYaH2QF+SWZmJu3atcPD\n",
              "oy6mxWIhJiaGjIwMOnfufNq+1dXVVFdXn7bNZrM5LOuppaxuv7gDnu5O/XuAiIiIiEtpNs1qxowZ\n",
              "BAUFnfaxceNGhzz2gfwytmQcx9Pdwq0XaykrERERkcbk1IU1OjqanJwcrFYrULcof0ZGBjExMWfs\n",
              "O336dEpKSk776N+/v0Nydg4L4D8PXcrzNyYQFuDjkMcUERERaSmcurCGhYXRt29fFixYAMDSpUtp\n",
              "3779GcMBALy9vQkMDDztw93d3WFZ4yODuKX/mUVaRERERC6MU49hBXjzzTeZPHkyL774IoGBgcyZ\n",
              "M8fsSCIiIiLiQE5fWLt27cr69evNjiEiIiIiJnHqIQEiIiIiIiqsIiIiIuLUVFhFRERExKmpsIqI\n",
              "iIiIU1NhFRERERGnpsIqIiIiIk5NhVVEREREnJoKq4iIiIg4NRVWEREREXFqFsMwDLNDNJVRo0YR\n",
              "GxvrkMey2Wxs3LiR/v374+7u7pDHbG50DC+Mjt+F0zG8MDp+F07H8MLo+F04M45hhw4dePjhh39x\n",
              "n2ZdWB2ptLSUoKAgSkpKCAwMNDuOS9IxvDA6fhdOx/DC6PhdOB3DC6Pjd+Gc9RhqSICIiIiIODUV\n",
              "VhERERFxaiqsIiIiIuLUVFgbibe3N3/84x/x9vY2O4rL0jG8MDp+F07H8MLo+F04HcMLo+N34Zz1\n",
              "GGrSlYiIiIg4NZ1hFRERERGnpsIqIiIiIk5NhVVEREREnJoKq4leeeUVcnNzzY4hLi49PZ033njj\n",
              "F/dJSkri+++/d0wgF5ednc3gwYPNjuFUqqqqGDlyJHFxcSQmJnLVVVdx4MABAC677DI6duxI7969\n",
              "6d27N7Nnz66/3913303Pnj35zW9+Q0lJCQCGYTB8+HAOHjxoynMxS2xsLF27dq0/TosWLQJg//79\n",
              "DBo0iLi4OJKTk9m5cycAtbW1jBw5ksTEREaNGoXVagXq/i+GDBlCcXGxac/FDIWFhfXHrnfv3sTF\n",
              "xeHh4UFRUZFegy2ECquJVFilMZxLYZVzFxkZyZo1a8yO4XSmTZvG3r172bZtGzfeeCN33XVX/W2z\n",
              "Z89m69atbN26lUcffRSAtLQ09u/fz44dO7jssst49913AfjXv/7F5ZdfzkUXXWTK8zDTokWL6o/T\n",
              "uHHjgLpCNW3aNPbt28eTTz7J5MmTAfjyyy8JDg5m27ZttG7dmhUrVgDw/PPP88ADD9CmTRuznoYp\n",
              "QkJC6o/d1q1bmTZtGsOHDyc4OBjQa7AlUGE9i/Xr13PppZeSmJhIr169+Pjjj0lNTWXQoEH06tWL\n",
              "/v37s3btWqCuLLRu3br+vidOnMBisdT/22Kx8OKLL9K/f386duzInDlzAHjuuefIzs5m3Lhx9O7d\n",
              "m61btzryKTYpi8XCCy+8wMUXX0xsbCwfffQRM2bMICkpiS5dupx2pu/LL7/k0ksvpV+/fvTv35/v\n",
              "vvsOgNzcXC6//HL69etHfHw8DzzwAHa7HYC5c+dy5ZVXcuutt9KzZ0+SkpI4dOiQGU/V4SorKxk3\n",
              "bhw9evQgMTGRq6++mnvuuYe9e/fSu3dvbrjhBgDWrVtH7969SUhI4I477qg/O9OSnevr8qdf0z/3\n",
              "NdyS+Pj4MGLEiPrvbQMGDCA9Pf0X7+Pp6Ul1dTV2u53y8nK8vLzIycnh/fff57HHHnNAaueXn59P\n",
              "amoq48ePB+Dmm28mMzOTAwcO4OnpSUVFBQAVFRV4eXmxfft29uzZw9ixY82M7RT+/e9/c+edd/7i\n",
              "PnoN/te5fv+zWq1cc801JCUlER8fz2233UZ5eTkA7733HklJSVRXV2MYBtdffz0vvPCC456EIacp\n",
              "LCw0wsLCjNWrVxuGYRg2m83Iy8szoqOjjRUrVhiGYRhr1qwxwsPDjbKyMuPw4cNGUFBQ/f3LysqM\n",
              "/z2sgDFz5kzDMAxj9+7dhr+/v1FbW2sYhmF06NDB2LJli2OemAMBxiuvvGIYhmGsXLnS8PPzM+bM\n",
              "mWMYhmEsXrzYSEpKMgzDMA4ePGgMGDDAKCkpMQzDMPbv329EREQYVVVVRmVlpVFWVmYYhmFYrVbj\n",
              "2muvNd5//33DMAxjzpw5RmBgoHHo0CHDMAzjySefNKZNm+bIp2iaZcuWGVdffXX9vwsLC43vvvvO\n",
              "SExMrN9WXV1ttG/f3vj6668NwzCML7/80gCM7777zsFpncu5vi5/+jX9S1/DLdX48eONhx56yDAM\n",
              "wxg6dKjRtWtXIyEhwRg7dqxx8ODB+v2efvppIzEx0Rg9erRRXl5ujBs3zkhNTTUrtqk6dOhg9OzZ\n",
              "00hISDCmTJli5OfnG6mpqUZcXNxp+yUnJxvffPONYbPZjLvuusvo1auXMW3aNKO2tta44oorjMzM\n",
              "TJOegfNYu3atER4eXv91qNfgrzvX7392u904duxY/d/vueceY8aMGfWfZ9q0acb9999vvPzyy8aw\n",
              "YcMMu93uuOfgsEdyEZ999pkxePDg07Zt377d6NChw2nbevXqZaxZs+acCmtOTk79v1u3bl3/Dac5\n",
              "F9ZTz/n48eMGYFRWVhqGYRjp6en1x+sf//iHERoaaiQmJtZ/REZGGvv27TPKy8uN++67z+jVq5fR\n",
              "s2dPIzw83HjyyScNw6grrNdcc03943300UfGFVdc4dgnaZKDBw8a0dHRxr333mt88MEHRmlp6RmF\n",
              "ddu2bUZsbOxp9+vUqZMK6zm+Ls9WWH/ua7gleuGFF4wBAwYY5eXlhmEYRkZGhmEYdT/cXnvtNaN7\n",
              "9+5nvd9HH31kPPHEE8axY8eMyZMnG6NGjTI++OADh+U225EjRwzDMIyamhrjd7/7nTF8+PBfLKw/\n",
              "NXv2bOO1114zDh8+bNx6663GqFGjzrpfSzBlyhTjt7/9bf2/9Rr8def6/c9msxlPP/200bt3byMh\n",
              "IcGIjo42xo0bV/95KisrjV69ehnR0dFGQUGBQ5+DhgScp1NvjXl4eGCz2eq3V1VVnbGvj49P/d/d\n",
              "3d1bxNuzp56zu7v7Gf8+9fwNw+Cqq646bVxSVlYWXbp0YdasWeTn5/Pjjz+yfft2brvtttOObUs8\n",
              "pgCdOnVi165dDBs2jLVr15KQkHBOky/+d5hKS3Yur8tfut+57NuczZw5k2XLlvHFF1/g6+sLQHR0\n",
              "NFD3GnvggQc4dOgQhYWFp92vtLSUmTNn8uyzz/LKK68wdOhQFi1axHPPPUdlZaXDn4cZYmJigLq3\n",
              "qR955BHWrFlDdHQ0OTk5p31PzMjIqN/3lCNHjvD5559z33338cwzzzBt2jTmzp3Lgw8+6PDnYbYT\n",
              "J06wePFipkyZUr9Nr8Fzcy7f/xYuXMi3337LqlWr2LFjB0888cRpP3vz8/MpLi7Gbrdz/Phxh+ZX\n",
              "Yf2JQYMGsX///vpJF3a7nfDwcOx2O19//TVQNz4wNzeX3r17ExERgWEY7Nq1C4D58+ef82MFBgbW\n",
              "z1psia655hpWrlzJ9u3b67dt3LgRgOLiYiIiIvDx8SE3N5clS5aYFdOpHD16FIvFwg033MDMmTMx\n",
              "DIOQkJDTXkfdunXDarXWjwdeuXKlZsPKBZs1axbvv/8+X3/9df0YX6vVSl5eXv0+S5cuJTw8nJCQ\n",
              "kNPu+9RTT/GHP/wBX19fysvLsVgsWCwWamtrqampceTTMEV5eflpP9zff/99+vTpQ1hYGH379mXB\n",
              "ggVA3fFr3749nTt3Pu3+Dz/8MLNnz8bNza3++J36e0uzaNEiEhMT6datG6DXYGMrLi4mNDSUwMBA\n",
              "ysrKmDt3bv1tVquVW265heeff55Zs2YxduxYqqurHZbNw2GP5CLatGnD8uXLefzxxykrK8PNzY3n\n",
              "n3+eZcuW8dBDD/H444/j4+PDhx9+iL+/PwCvvfYa1113HSEhIYwePfqcH+uhhx5i6tSp+Pr6Mnfu\n",
              "XHr37t1Ez8o5de7cmYULF3L33XdTUVFBTU0Nffr0YeHChTz88MOMHj2a+Ph4IiMjufLKK82O6xR2\n",
              "7NjB9OnTMQwDq9XKhAkTGDRoEPHx8SQkJNCpUyc++eQTFi1axH333YfNZiM5OZnExESzo4sLO3r0\n",
              "KI8//jidOnXi8ssvB+quN/7tt99y7bXXUl1djZubG6GhoXzyySen3Xft2rVUVlZy1VVXAXD//fdz\n",
              "66238tJLLzFhwgSCgoIc/nwcLS8vj5tvvhmbzYZhGHTq1Kn+5Mabb77J5MmTefHFFwkMDDxjUt/C\n",
              "hQtJTEwkPj4eqCteU6dOpaamhmeeecbhz8Vs//73v5k6dWr9v6urq/UabEQTJ07k448/pmvXrrRt\n",
              "25bBgwdz5MgRoO6117VrVyZNmgTAqlWreOSRR3j99dcdks1iGIbhkEcSERERETkPGhIgIiIiIk5N\n",
              "hVVEREREnJoKq4iIiIg4NRVWEREREXFqKqwiIiIi4tRUWEVERETEqamwioiIiIhTU2EVEREREaem\n",
              "wioiIiIiTk2FVUREREScmgqriIiIiDi1/w9MHOsycHMP+wAAAABJRU5ErkJggg==\n",
              "\">\n",
              "      </div>\n",
              "      <script type=\"text/javascript\">\n",
              "        (() => {\n",
              "          const chartElement = document.getElementById(\"chart-d87354b9-7d8b-4841-b28c-c8354f7cc704\");\n",
              "          async function getCodeForChartHandler(event) {\n",
              "            const chartCodeResponse =  await google.colab.kernel.invokeFunction(\n",
              "                'getCodeForChart', [\"chart-d87354b9-7d8b-4841-b28c-c8354f7cc704\"], {});\n",
              "            const responseJson = chartCodeResponse.data['application/json'];\n",
              "            await google.colab.notebook.addCell(responseJson.code, 'code');\n",
              "          }\n",
              "          chartElement.onclick = getCodeForChartHandler;\n",
              "        })();\n",
              "      </script>\n",
              "      <style>\n",
              "        .colab-quickchart-chart-with-code  {\n",
              "            display: block;\n",
              "            float: left;\n",
              "            border: 1px solid transparent;\n",
              "        }\n",
              "\n",
              "        .colab-quickchart-chart-with-code:hover {\n",
              "            cursor: pointer;\n",
              "            border: 1px solid #aaa;\n",
              "        }\n",
              "      </style>"
            ],
            "text/plain": [
              "from matplotlib import pyplot as plt\n",
              "_df_4['Salary'].plot(kind='line', figsize=(8, 4), title='Salary')\n",
              "plt.gca().spines[['top', 'right']].set_visible(False)"
            ]
          },
          "metadata": {},
          "output_type": "display_data"
        }
      ],
      "source": [
        "print(\"Describe numerical columns\")\n",
        "df.describe()"
      ]
    },
    {
      "cell_type": "markdown",
      "metadata": {
        "id": "a1EFsx4I4IF0"
      },
      "source": [
        "**Flitering**"
      ]
    },
    {
      "cell_type": "code",
      "execution_count": null,
      "metadata": {
        "colab": {
          "base_uri": "https://localhost:8080/",
          "height": 130
        },
        "id": "agva7i2s4Nm0",
        "outputId": "ea32f5ea-f6e9-45b0-dd33-84861e67fa44"
      },
      "outputs": [
        {
          "name": "stdout",
          "output_type": "stream",
          "text": [
            "People with salary > 50000:\n"
          ]
        },
        {
          "data": {
            "application/vnd.google.colaboratory.intrinsic+json": {
              "summary": "{\n  \"name\": \"df[df['Salary']>50000]\",\n  \"rows\": 2,\n  \"fields\": [\n    {\n      \"column\": \"Name\",\n      \"properties\": {\n        \"dtype\": \"string\",\n        \"num_unique_values\": 2,\n        \"samples\": [\n          \"David\",\n          \"Bob\"\n        ],\n        \"semantic_type\": \"\",\n        \"description\": \"\"\n      }\n    },\n    {\n      \"column\": \"Age\",\n      \"properties\": {\n        \"dtype\": \"number\",\n        \"std\": 7,\n        \"min\": 30,\n        \"max\": 40,\n        \"num_unique_values\": 2,\n        \"samples\": [\n          40,\n          30\n        ],\n        \"semantic_type\": \"\",\n        \"description\": \"\"\n      }\n    },\n    {\n      \"column\": \"Departement\",\n      \"properties\": {\n        \"dtype\": \"string\",\n        \"num_unique_values\": 1,\n        \"samples\": [\n          \"Engeneering\"\n        ],\n        \"semantic_type\": \"\",\n        \"description\": \"\"\n      }\n    },\n    {\n      \"column\": \"Salary\",\n      \"properties\": {\n        \"dtype\": \"number\",\n        \"std\": 7071,\n        \"min\": 80000,\n        \"max\": 90000,\n        \"num_unique_values\": 2,\n        \"samples\": [\n          90000\n        ],\n        \"semantic_type\": \"\",\n        \"description\": \"\"\n      }\n    }\n  ]\n}",
              "type": "dataframe"
            },
            "text/html": [
              "\n",
              "  <div id=\"df-13b13032-6482-4cc6-aef4-9ac7585f3df4\" class=\"colab-df-container\">\n",
              "    <div>\n",
              "<style scoped>\n",
              "    .dataframe tbody tr th:only-of-type {\n",
              "        vertical-align: middle;\n",
              "    }\n",
              "\n",
              "    .dataframe tbody tr th {\n",
              "        vertical-align: top;\n",
              "    }\n",
              "\n",
              "    .dataframe thead th {\n",
              "        text-align: right;\n",
              "    }\n",
              "</style>\n",
              "<table border=\"1\" class=\"dataframe\">\n",
              "  <thead>\n",
              "    <tr style=\"text-align: right;\">\n",
              "      <th></th>\n",
              "      <th>Name</th>\n",
              "      <th>Age</th>\n",
              "      <th>Departement</th>\n",
              "      <th>Salary</th>\n",
              "    </tr>\n",
              "  </thead>\n",
              "  <tbody>\n",
              "    <tr>\n",
              "      <th>1</th>\n",
              "      <td>Bob</td>\n",
              "      <td>30</td>\n",
              "      <td>Engeneering</td>\n",
              "      <td>80000</td>\n",
              "    </tr>\n",
              "    <tr>\n",
              "      <th>3</th>\n",
              "      <td>David</td>\n",
              "      <td>40</td>\n",
              "      <td>Engeneering</td>\n",
              "      <td>90000</td>\n",
              "    </tr>\n",
              "  </tbody>\n",
              "</table>\n",
              "</div>\n",
              "    <div class=\"colab-df-buttons\">\n",
              "\n",
              "  <div class=\"colab-df-container\">\n",
              "    <button class=\"colab-df-convert\" onclick=\"convertToInteractive('df-13b13032-6482-4cc6-aef4-9ac7585f3df4')\"\n",
              "            title=\"Convert this dataframe to an interactive table.\"\n",
              "            style=\"display:none;\">\n",
              "\n",
              "  <svg xmlns=\"http://www.w3.org/2000/svg\" height=\"24px\" viewBox=\"0 -960 960 960\">\n",
              "    <path d=\"M120-120v-720h720v720H120Zm60-500h600v-160H180v160Zm220 220h160v-160H400v160Zm0 220h160v-160H400v160ZM180-400h160v-160H180v160Zm440 0h160v-160H620v160ZM180-180h160v-160H180v160Zm440 0h160v-160H620v160Z\"/>\n",
              "  </svg>\n",
              "    </button>\n",
              "\n",
              "  <style>\n",
              "    .colab-df-container {\n",
              "      display:flex;\n",
              "      gap: 12px;\n",
              "    }\n",
              "\n",
              "    .colab-df-convert {\n",
              "      background-color: #E8F0FE;\n",
              "      border: none;\n",
              "      border-radius: 50%;\n",
              "      cursor: pointer;\n",
              "      display: none;\n",
              "      fill: #1967D2;\n",
              "      height: 32px;\n",
              "      padding: 0 0 0 0;\n",
              "      width: 32px;\n",
              "    }\n",
              "\n",
              "    .colab-df-convert:hover {\n",
              "      background-color: #E2EBFA;\n",
              "      box-shadow: 0px 1px 2px rgba(60, 64, 67, 0.3), 0px 1px 3px 1px rgba(60, 64, 67, 0.15);\n",
              "      fill: #174EA6;\n",
              "    }\n",
              "\n",
              "    .colab-df-buttons div {\n",
              "      margin-bottom: 4px;\n",
              "    }\n",
              "\n",
              "    [theme=dark] .colab-df-convert {\n",
              "      background-color: #3B4455;\n",
              "      fill: #D2E3FC;\n",
              "    }\n",
              "\n",
              "    [theme=dark] .colab-df-convert:hover {\n",
              "      background-color: #434B5C;\n",
              "      box-shadow: 0px 1px 3px 1px rgba(0, 0, 0, 0.15);\n",
              "      filter: drop-shadow(0px 1px 2px rgba(0, 0, 0, 0.3));\n",
              "      fill: #FFFFFF;\n",
              "    }\n",
              "  </style>\n",
              "\n",
              "    <script>\n",
              "      const buttonEl =\n",
              "        document.querySelector('#df-13b13032-6482-4cc6-aef4-9ac7585f3df4 button.colab-df-convert');\n",
              "      buttonEl.style.display =\n",
              "        google.colab.kernel.accessAllowed ? 'block' : 'none';\n",
              "\n",
              "      async function convertToInteractive(key) {\n",
              "        const element = document.querySelector('#df-13b13032-6482-4cc6-aef4-9ac7585f3df4');\n",
              "        const dataTable =\n",
              "          await google.colab.kernel.invokeFunction('convertToInteractive',\n",
              "                                                    [key], {});\n",
              "        if (!dataTable) return;\n",
              "\n",
              "        const docLinkHtml = 'Like what you see? Visit the ' +\n",
              "          '<a target=\"_blank\" href=https://colab.research.google.com/notebooks/data_table.ipynb>data table notebook</a>'\n",
              "          + ' to learn more about interactive tables.';\n",
              "        element.innerHTML = '';\n",
              "        dataTable['output_type'] = 'display_data';\n",
              "        await google.colab.output.renderOutput(dataTable, element);\n",
              "        const docLink = document.createElement('div');\n",
              "        docLink.innerHTML = docLinkHtml;\n",
              "        element.appendChild(docLink);\n",
              "      }\n",
              "    </script>\n",
              "  </div>\n",
              "\n",
              "\n",
              "    <div id=\"df-ae23547a-1bf9-4eb2-aa4b-ad1665f28888\">\n",
              "      <button class=\"colab-df-quickchart\" onclick=\"quickchart('df-ae23547a-1bf9-4eb2-aa4b-ad1665f28888')\"\n",
              "                title=\"Suggest charts\"\n",
              "                style=\"display:none;\">\n",
              "\n",
              "<svg xmlns=\"http://www.w3.org/2000/svg\" height=\"24px\"viewBox=\"0 0 24 24\"\n",
              "     width=\"24px\">\n",
              "    <g>\n",
              "        <path d=\"M19 3H5c-1.1 0-2 .9-2 2v14c0 1.1.9 2 2 2h14c1.1 0 2-.9 2-2V5c0-1.1-.9-2-2-2zM9 17H7v-7h2v7zm4 0h-2V7h2v10zm4 0h-2v-4h2v4z\"/>\n",
              "    </g>\n",
              "</svg>\n",
              "      </button>\n",
              "\n",
              "<style>\n",
              "  .colab-df-quickchart {\n",
              "      --bg-color: #E8F0FE;\n",
              "      --fill-color: #1967D2;\n",
              "      --hover-bg-color: #E2EBFA;\n",
              "      --hover-fill-color: #174EA6;\n",
              "      --disabled-fill-color: #AAA;\n",
              "      --disabled-bg-color: #DDD;\n",
              "  }\n",
              "\n",
              "  [theme=dark] .colab-df-quickchart {\n",
              "      --bg-color: #3B4455;\n",
              "      --fill-color: #D2E3FC;\n",
              "      --hover-bg-color: #434B5C;\n",
              "      --hover-fill-color: #FFFFFF;\n",
              "      --disabled-bg-color: #3B4455;\n",
              "      --disabled-fill-color: #666;\n",
              "  }\n",
              "\n",
              "  .colab-df-quickchart {\n",
              "    background-color: var(--bg-color);\n",
              "    border: none;\n",
              "    border-radius: 50%;\n",
              "    cursor: pointer;\n",
              "    display: none;\n",
              "    fill: var(--fill-color);\n",
              "    height: 32px;\n",
              "    padding: 0;\n",
              "    width: 32px;\n",
              "  }\n",
              "\n",
              "  .colab-df-quickchart:hover {\n",
              "    background-color: var(--hover-bg-color);\n",
              "    box-shadow: 0 1px 2px rgba(60, 64, 67, 0.3), 0 1px 3px 1px rgba(60, 64, 67, 0.15);\n",
              "    fill: var(--button-hover-fill-color);\n",
              "  }\n",
              "\n",
              "  .colab-df-quickchart-complete:disabled,\n",
              "  .colab-df-quickchart-complete:disabled:hover {\n",
              "    background-color: var(--disabled-bg-color);\n",
              "    fill: var(--disabled-fill-color);\n",
              "    box-shadow: none;\n",
              "  }\n",
              "\n",
              "  .colab-df-spinner {\n",
              "    border: 2px solid var(--fill-color);\n",
              "    border-color: transparent;\n",
              "    border-bottom-color: var(--fill-color);\n",
              "    animation:\n",
              "      spin 1s steps(1) infinite;\n",
              "  }\n",
              "\n",
              "  @keyframes spin {\n",
              "    0% {\n",
              "      border-color: transparent;\n",
              "      border-bottom-color: var(--fill-color);\n",
              "      border-left-color: var(--fill-color);\n",
              "    }\n",
              "    20% {\n",
              "      border-color: transparent;\n",
              "      border-left-color: var(--fill-color);\n",
              "      border-top-color: var(--fill-color);\n",
              "    }\n",
              "    30% {\n",
              "      border-color: transparent;\n",
              "      border-left-color: var(--fill-color);\n",
              "      border-top-color: var(--fill-color);\n",
              "      border-right-color: var(--fill-color);\n",
              "    }\n",
              "    40% {\n",
              "      border-color: transparent;\n",
              "      border-right-color: var(--fill-color);\n",
              "      border-top-color: var(--fill-color);\n",
              "    }\n",
              "    60% {\n",
              "      border-color: transparent;\n",
              "      border-right-color: var(--fill-color);\n",
              "    }\n",
              "    80% {\n",
              "      border-color: transparent;\n",
              "      border-right-color: var(--fill-color);\n",
              "      border-bottom-color: var(--fill-color);\n",
              "    }\n",
              "    90% {\n",
              "      border-color: transparent;\n",
              "      border-bottom-color: var(--fill-color);\n",
              "    }\n",
              "  }\n",
              "</style>\n",
              "\n",
              "      <script>\n",
              "        async function quickchart(key) {\n",
              "          const quickchartButtonEl =\n",
              "            document.querySelector('#' + key + ' button');\n",
              "          quickchartButtonEl.disabled = true;  // To prevent multiple clicks.\n",
              "          quickchartButtonEl.classList.add('colab-df-spinner');\n",
              "          try {\n",
              "            const charts = await google.colab.kernel.invokeFunction(\n",
              "                'suggestCharts', [key], {});\n",
              "          } catch (error) {\n",
              "            console.error('Error during call to suggestCharts:', error);\n",
              "          }\n",
              "          quickchartButtonEl.classList.remove('colab-df-spinner');\n",
              "          quickchartButtonEl.classList.add('colab-df-quickchart-complete');\n",
              "        }\n",
              "        (() => {\n",
              "          let quickchartButtonEl =\n",
              "            document.querySelector('#df-ae23547a-1bf9-4eb2-aa4b-ad1665f28888 button');\n",
              "          quickchartButtonEl.style.display =\n",
              "            google.colab.kernel.accessAllowed ? 'block' : 'none';\n",
              "        })();\n",
              "      </script>\n",
              "    </div>\n",
              "\n",
              "    </div>\n",
              "  </div>\n"
            ],
            "text/plain": [
              "    Name  Age  Departement  Salary\n",
              "1    Bob   30  Engeneering   80000\n",
              "3  David   40  Engeneering   90000"
            ]
          },
          "execution_count": 14,
          "metadata": {},
          "output_type": "execute_result"
        }
      ],
      "source": [
        "print(\"People with salary > 50000:\")\n",
        "df[df['Salary']>50000]"
      ]
    },
    {
      "cell_type": "markdown",
      "metadata": {
        "id": "N3aoQ3ca4gY0"
      },
      "source": [
        "**Sorting**"
      ]
    },
    {
      "cell_type": "code",
      "execution_count": null,
      "metadata": {
        "colab": {
          "base_uri": "https://localhost:8080/",
          "height": 224
        },
        "id": "3WcPOskR4ick",
        "outputId": "549b9541-adf6-4e02-d270-354293b94aab"
      },
      "outputs": [
        {
          "name": "stdout",
          "output_type": "stream",
          "text": [
            "Sorted by Age:\n"
          ]
        },
        {
          "data": {
            "application/vnd.google.colaboratory.intrinsic+json": {
              "summary": "{\n  \"name\": \"df\",\n  \"rows\": 5,\n  \"fields\": [\n    {\n      \"column\": \"Name\",\n      \"properties\": {\n        \"dtype\": \"string\",\n        \"num_unique_values\": 5,\n        \"samples\": [\n          \"Alice\",\n          \"David\",\n          \"Bob\"\n        ],\n        \"semantic_type\": \"\",\n        \"description\": \"\"\n      }\n    },\n    {\n      \"column\": \"Age\",\n      \"properties\": {\n        \"dtype\": \"number\",\n        \"std\": 7,\n        \"min\": 22,\n        \"max\": 40,\n        \"num_unique_values\": 5,\n        \"samples\": [\n          25,\n          40,\n          30\n        ],\n        \"semantic_type\": \"\",\n        \"description\": \"\"\n      }\n    },\n    {\n      \"column\": \"Departement\",\n      \"properties\": {\n        \"dtype\": \"string\",\n        \"num_unique_values\": 3,\n        \"samples\": [\n          \"HR\",\n          \"Sales\",\n          \"Engeneering\"\n        ],\n        \"semantic_type\": \"\",\n        \"description\": \"\"\n      }\n    },\n    {\n      \"column\": \"Salary\",\n      \"properties\": {\n        \"dtype\": \"number\",\n        \"std\": 22472,\n        \"min\": 40000,\n        \"max\": 90000,\n        \"num_unique_values\": 5,\n        \"samples\": [\n          50000,\n          90000,\n          80000\n        ],\n        \"semantic_type\": \"\",\n        \"description\": \"\"\n      }\n    }\n  ]\n}",
              "type": "dataframe"
            },
            "text/html": [
              "\n",
              "  <div id=\"df-7dbd799d-954d-4103-a75e-4087ffade798\" class=\"colab-df-container\">\n",
              "    <div>\n",
              "<style scoped>\n",
              "    .dataframe tbody tr th:only-of-type {\n",
              "        vertical-align: middle;\n",
              "    }\n",
              "\n",
              "    .dataframe tbody tr th {\n",
              "        vertical-align: top;\n",
              "    }\n",
              "\n",
              "    .dataframe thead th {\n",
              "        text-align: right;\n",
              "    }\n",
              "</style>\n",
              "<table border=\"1\" class=\"dataframe\">\n",
              "  <thead>\n",
              "    <tr style=\"text-align: right;\">\n",
              "      <th></th>\n",
              "      <th>Name</th>\n",
              "      <th>Age</th>\n",
              "      <th>Departement</th>\n",
              "      <th>Salary</th>\n",
              "    </tr>\n",
              "  </thead>\n",
              "  <tbody>\n",
              "    <tr>\n",
              "      <th>4</th>\n",
              "      <td>Eva</td>\n",
              "      <td>22</td>\n",
              "      <td>HR</td>\n",
              "      <td>45000</td>\n",
              "    </tr>\n",
              "    <tr>\n",
              "      <th>0</th>\n",
              "      <td>Alice</td>\n",
              "      <td>25</td>\n",
              "      <td>Sales</td>\n",
              "      <td>50000</td>\n",
              "    </tr>\n",
              "    <tr>\n",
              "      <th>1</th>\n",
              "      <td>Bob</td>\n",
              "      <td>30</td>\n",
              "      <td>Engeneering</td>\n",
              "      <td>80000</td>\n",
              "    </tr>\n",
              "    <tr>\n",
              "      <th>2</th>\n",
              "      <td>charil</td>\n",
              "      <td>35</td>\n",
              "      <td>HR</td>\n",
              "      <td>40000</td>\n",
              "    </tr>\n",
              "    <tr>\n",
              "      <th>3</th>\n",
              "      <td>David</td>\n",
              "      <td>40</td>\n",
              "      <td>Engeneering</td>\n",
              "      <td>90000</td>\n",
              "    </tr>\n",
              "  </tbody>\n",
              "</table>\n",
              "</div>\n",
              "    <div class=\"colab-df-buttons\">\n",
              "\n",
              "  <div class=\"colab-df-container\">\n",
              "    <button class=\"colab-df-convert\" onclick=\"convertToInteractive('df-7dbd799d-954d-4103-a75e-4087ffade798')\"\n",
              "            title=\"Convert this dataframe to an interactive table.\"\n",
              "            style=\"display:none;\">\n",
              "\n",
              "  <svg xmlns=\"http://www.w3.org/2000/svg\" height=\"24px\" viewBox=\"0 -960 960 960\">\n",
              "    <path d=\"M120-120v-720h720v720H120Zm60-500h600v-160H180v160Zm220 220h160v-160H400v160Zm0 220h160v-160H400v160ZM180-400h160v-160H180v160Zm440 0h160v-160H620v160ZM180-180h160v-160H180v160Zm440 0h160v-160H620v160Z\"/>\n",
              "  </svg>\n",
              "    </button>\n",
              "\n",
              "  <style>\n",
              "    .colab-df-container {\n",
              "      display:flex;\n",
              "      gap: 12px;\n",
              "    }\n",
              "\n",
              "    .colab-df-convert {\n",
              "      background-color: #E8F0FE;\n",
              "      border: none;\n",
              "      border-radius: 50%;\n",
              "      cursor: pointer;\n",
              "      display: none;\n",
              "      fill: #1967D2;\n",
              "      height: 32px;\n",
              "      padding: 0 0 0 0;\n",
              "      width: 32px;\n",
              "    }\n",
              "\n",
              "    .colab-df-convert:hover {\n",
              "      background-color: #E2EBFA;\n",
              "      box-shadow: 0px 1px 2px rgba(60, 64, 67, 0.3), 0px 1px 3px 1px rgba(60, 64, 67, 0.15);\n",
              "      fill: #174EA6;\n",
              "    }\n",
              "\n",
              "    .colab-df-buttons div {\n",
              "      margin-bottom: 4px;\n",
              "    }\n",
              "\n",
              "    [theme=dark] .colab-df-convert {\n",
              "      background-color: #3B4455;\n",
              "      fill: #D2E3FC;\n",
              "    }\n",
              "\n",
              "    [theme=dark] .colab-df-convert:hover {\n",
              "      background-color: #434B5C;\n",
              "      box-shadow: 0px 1px 3px 1px rgba(0, 0, 0, 0.15);\n",
              "      filter: drop-shadow(0px 1px 2px rgba(0, 0, 0, 0.3));\n",
              "      fill: #FFFFFF;\n",
              "    }\n",
              "  </style>\n",
              "\n",
              "    <script>\n",
              "      const buttonEl =\n",
              "        document.querySelector('#df-7dbd799d-954d-4103-a75e-4087ffade798 button.colab-df-convert');\n",
              "      buttonEl.style.display =\n",
              "        google.colab.kernel.accessAllowed ? 'block' : 'none';\n",
              "\n",
              "      async function convertToInteractive(key) {\n",
              "        const element = document.querySelector('#df-7dbd799d-954d-4103-a75e-4087ffade798');\n",
              "        const dataTable =\n",
              "          await google.colab.kernel.invokeFunction('convertToInteractive',\n",
              "                                                    [key], {});\n",
              "        if (!dataTable) return;\n",
              "\n",
              "        const docLinkHtml = 'Like what you see? Visit the ' +\n",
              "          '<a target=\"_blank\" href=https://colab.research.google.com/notebooks/data_table.ipynb>data table notebook</a>'\n",
              "          + ' to learn more about interactive tables.';\n",
              "        element.innerHTML = '';\n",
              "        dataTable['output_type'] = 'display_data';\n",
              "        await google.colab.output.renderOutput(dataTable, element);\n",
              "        const docLink = document.createElement('div');\n",
              "        docLink.innerHTML = docLinkHtml;\n",
              "        element.appendChild(docLink);\n",
              "      }\n",
              "    </script>\n",
              "  </div>\n",
              "\n",
              "\n",
              "    <div id=\"df-741239fe-bace-4f67-981a-ed19bf74e525\">\n",
              "      <button class=\"colab-df-quickchart\" onclick=\"quickchart('df-741239fe-bace-4f67-981a-ed19bf74e525')\"\n",
              "                title=\"Suggest charts\"\n",
              "                style=\"display:none;\">\n",
              "\n",
              "<svg xmlns=\"http://www.w3.org/2000/svg\" height=\"24px\"viewBox=\"0 0 24 24\"\n",
              "     width=\"24px\">\n",
              "    <g>\n",
              "        <path d=\"M19 3H5c-1.1 0-2 .9-2 2v14c0 1.1.9 2 2 2h14c1.1 0 2-.9 2-2V5c0-1.1-.9-2-2-2zM9 17H7v-7h2v7zm4 0h-2V7h2v10zm4 0h-2v-4h2v4z\"/>\n",
              "    </g>\n",
              "</svg>\n",
              "      </button>\n",
              "\n",
              "<style>\n",
              "  .colab-df-quickchart {\n",
              "      --bg-color: #E8F0FE;\n",
              "      --fill-color: #1967D2;\n",
              "      --hover-bg-color: #E2EBFA;\n",
              "      --hover-fill-color: #174EA6;\n",
              "      --disabled-fill-color: #AAA;\n",
              "      --disabled-bg-color: #DDD;\n",
              "  }\n",
              "\n",
              "  [theme=dark] .colab-df-quickchart {\n",
              "      --bg-color: #3B4455;\n",
              "      --fill-color: #D2E3FC;\n",
              "      --hover-bg-color: #434B5C;\n",
              "      --hover-fill-color: #FFFFFF;\n",
              "      --disabled-bg-color: #3B4455;\n",
              "      --disabled-fill-color: #666;\n",
              "  }\n",
              "\n",
              "  .colab-df-quickchart {\n",
              "    background-color: var(--bg-color);\n",
              "    border: none;\n",
              "    border-radius: 50%;\n",
              "    cursor: pointer;\n",
              "    display: none;\n",
              "    fill: var(--fill-color);\n",
              "    height: 32px;\n",
              "    padding: 0;\n",
              "    width: 32px;\n",
              "  }\n",
              "\n",
              "  .colab-df-quickchart:hover {\n",
              "    background-color: var(--hover-bg-color);\n",
              "    box-shadow: 0 1px 2px rgba(60, 64, 67, 0.3), 0 1px 3px 1px rgba(60, 64, 67, 0.15);\n",
              "    fill: var(--button-hover-fill-color);\n",
              "  }\n",
              "\n",
              "  .colab-df-quickchart-complete:disabled,\n",
              "  .colab-df-quickchart-complete:disabled:hover {\n",
              "    background-color: var(--disabled-bg-color);\n",
              "    fill: var(--disabled-fill-color);\n",
              "    box-shadow: none;\n",
              "  }\n",
              "\n",
              "  .colab-df-spinner {\n",
              "    border: 2px solid var(--fill-color);\n",
              "    border-color: transparent;\n",
              "    border-bottom-color: var(--fill-color);\n",
              "    animation:\n",
              "      spin 1s steps(1) infinite;\n",
              "  }\n",
              "\n",
              "  @keyframes spin {\n",
              "    0% {\n",
              "      border-color: transparent;\n",
              "      border-bottom-color: var(--fill-color);\n",
              "      border-left-color: var(--fill-color);\n",
              "    }\n",
              "    20% {\n",
              "      border-color: transparent;\n",
              "      border-left-color: var(--fill-color);\n",
              "      border-top-color: var(--fill-color);\n",
              "    }\n",
              "    30% {\n",
              "      border-color: transparent;\n",
              "      border-left-color: var(--fill-color);\n",
              "      border-top-color: var(--fill-color);\n",
              "      border-right-color: var(--fill-color);\n",
              "    }\n",
              "    40% {\n",
              "      border-color: transparent;\n",
              "      border-right-color: var(--fill-color);\n",
              "      border-top-color: var(--fill-color);\n",
              "    }\n",
              "    60% {\n",
              "      border-color: transparent;\n",
              "      border-right-color: var(--fill-color);\n",
              "    }\n",
              "    80% {\n",
              "      border-color: transparent;\n",
              "      border-right-color: var(--fill-color);\n",
              "      border-bottom-color: var(--fill-color);\n",
              "    }\n",
              "    90% {\n",
              "      border-color: transparent;\n",
              "      border-bottom-color: var(--fill-color);\n",
              "    }\n",
              "  }\n",
              "</style>\n",
              "\n",
              "      <script>\n",
              "        async function quickchart(key) {\n",
              "          const quickchartButtonEl =\n",
              "            document.querySelector('#' + key + ' button');\n",
              "          quickchartButtonEl.disabled = true;  // To prevent multiple clicks.\n",
              "          quickchartButtonEl.classList.add('colab-df-spinner');\n",
              "          try {\n",
              "            const charts = await google.colab.kernel.invokeFunction(\n",
              "                'suggestCharts', [key], {});\n",
              "          } catch (error) {\n",
              "            console.error('Error during call to suggestCharts:', error);\n",
              "          }\n",
              "          quickchartButtonEl.classList.remove('colab-df-spinner');\n",
              "          quickchartButtonEl.classList.add('colab-df-quickchart-complete');\n",
              "        }\n",
              "        (() => {\n",
              "          let quickchartButtonEl =\n",
              "            document.querySelector('#df-741239fe-bace-4f67-981a-ed19bf74e525 button');\n",
              "          quickchartButtonEl.style.display =\n",
              "            google.colab.kernel.accessAllowed ? 'block' : 'none';\n",
              "        })();\n",
              "      </script>\n",
              "    </div>\n",
              "\n",
              "    </div>\n",
              "  </div>\n"
            ],
            "text/plain": [
              "     Name  Age  Departement  Salary\n",
              "4     Eva   22           HR   45000\n",
              "0   Alice   25        Sales   50000\n",
              "1     Bob   30  Engeneering   80000\n",
              "2  charil   35           HR   40000\n",
              "3   David   40  Engeneering   90000"
            ]
          },
          "execution_count": 15,
          "metadata": {},
          "output_type": "execute_result"
        }
      ],
      "source": [
        "print(\"Sorted by Age:\")\n",
        "df.sort_values(by='Age')"
      ]
    },
    {
      "cell_type": "markdown",
      "metadata": {
        "id": "GBSHDZkS5Q39"
      },
      "source": [
        "**Grouping and Aggregation**"
      ]
    },
    {
      "cell_type": "code",
      "execution_count": null,
      "metadata": {
        "colab": {
          "base_uri": "https://localhost:8080/",
          "height": 228
        },
        "id": "-EHwAmfc5Z60",
        "outputId": "3f5f69f6-1f0f-4d9a-a0b4-35ed9a129e04"
      },
      "outputs": [
        {
          "name": "stdout",
          "output_type": "stream",
          "text": [
            "Average salary by Departement:\n"
          ]
        },
        {
          "data": {
            "text/html": [
              "<div>\n",
              "<style scoped>\n",
              "    .dataframe tbody tr th:only-of-type {\n",
              "        vertical-align: middle;\n",
              "    }\n",
              "\n",
              "    .dataframe tbody tr th {\n",
              "        vertical-align: top;\n",
              "    }\n",
              "\n",
              "    .dataframe thead th {\n",
              "        text-align: right;\n",
              "    }\n",
              "</style>\n",
              "<table border=\"1\" class=\"dataframe\">\n",
              "  <thead>\n",
              "    <tr style=\"text-align: right;\">\n",
              "      <th></th>\n",
              "      <th>Salary</th>\n",
              "    </tr>\n",
              "    <tr>\n",
              "      <th>Departement</th>\n",
              "      <th></th>\n",
              "    </tr>\n",
              "  </thead>\n",
              "  <tbody>\n",
              "    <tr>\n",
              "      <th>Engeneering</th>\n",
              "      <td>85000.0</td>\n",
              "    </tr>\n",
              "    <tr>\n",
              "      <th>HR</th>\n",
              "      <td>42500.0</td>\n",
              "    </tr>\n",
              "    <tr>\n",
              "      <th>Sales</th>\n",
              "      <td>50000.0</td>\n",
              "    </tr>\n",
              "  </tbody>\n",
              "</table>\n",
              "</div><br><label><b>dtype:</b> float64</label>"
            ],
            "text/plain": [
              "Departement\n",
              "Engeneering    85000.0\n",
              "HR             42500.0\n",
              "Sales          50000.0\n",
              "Name: Salary, dtype: float64"
            ]
          },
          "execution_count": 17,
          "metadata": {},
          "output_type": "execute_result"
        }
      ],
      "source": [
        "grouped = df.groupby('Departement')['Salary'].mean()\n",
        "print(\"Average salary by Departement:\")\n",
        "grouped"
      ]
    },
    {
      "cell_type": "markdown",
      "metadata": {
        "id": "NlR0jPKR50zV"
      },
      "source": [
        "**Adding new columns**"
      ]
    },
    {
      "cell_type": "code",
      "execution_count": null,
      "metadata": {
        "colab": {
          "base_uri": "https://localhost:8080/",
          "height": 206
        },
        "id": "vez5rHFB5_cE",
        "outputId": "697bf002-a2aa-4305-c035-208782a76955"
      },
      "outputs": [
        {
          "data": {
            "application/vnd.google.colaboratory.intrinsic+json": {
              "summary": "{\n  \"name\": \"df\",\n  \"rows\": 5,\n  \"fields\": [\n    {\n      \"column\": \"Name\",\n      \"properties\": {\n        \"dtype\": \"string\",\n        \"num_unique_values\": 5,\n        \"samples\": [\n          \"Bob\",\n          \"Eva\",\n          \"charil\"\n        ],\n        \"semantic_type\": \"\",\n        \"description\": \"\"\n      }\n    },\n    {\n      \"column\": \"Age\",\n      \"properties\": {\n        \"dtype\": \"number\",\n        \"std\": 7,\n        \"min\": 22,\n        \"max\": 40,\n        \"num_unique_values\": 5,\n        \"samples\": [\n          30,\n          22,\n          35\n        ],\n        \"semantic_type\": \"\",\n        \"description\": \"\"\n      }\n    },\n    {\n      \"column\": \"Departement\",\n      \"properties\": {\n        \"dtype\": \"string\",\n        \"num_unique_values\": 3,\n        \"samples\": [\n          \"Sales\",\n          \"Engeneering\",\n          \"HR\"\n        ],\n        \"semantic_type\": \"\",\n        \"description\": \"\"\n      }\n    },\n    {\n      \"column\": \"Salary\",\n      \"properties\": {\n        \"dtype\": \"number\",\n        \"std\": 22472,\n        \"min\": 40000,\n        \"max\": 90000,\n        \"num_unique_values\": 5,\n        \"samples\": [\n          80000,\n          45000,\n          40000\n        ],\n        \"semantic_type\": \"\",\n        \"description\": \"\"\n      }\n    },\n    {\n      \"column\": \"Salary in lakh\",\n      \"properties\": {\n        \"dtype\": \"number\",\n        \"std\": 0.22472205054244235,\n        \"min\": 0.4,\n        \"max\": 0.9,\n        \"num_unique_values\": 5,\n        \"samples\": [\n          0.8,\n          0.45,\n          0.4\n        ],\n        \"semantic_type\": \"\",\n        \"description\": \"\"\n      }\n    }\n  ]\n}",
              "type": "dataframe",
              "variable_name": "df"
            },
            "text/html": [
              "\n",
              "  <div id=\"df-17e6736b-9f10-4886-961f-28d90052066c\" class=\"colab-df-container\">\n",
              "    <div>\n",
              "<style scoped>\n",
              "    .dataframe tbody tr th:only-of-type {\n",
              "        vertical-align: middle;\n",
              "    }\n",
              "\n",
              "    .dataframe tbody tr th {\n",
              "        vertical-align: top;\n",
              "    }\n",
              "\n",
              "    .dataframe thead th {\n",
              "        text-align: right;\n",
              "    }\n",
              "</style>\n",
              "<table border=\"1\" class=\"dataframe\">\n",
              "  <thead>\n",
              "    <tr style=\"text-align: right;\">\n",
              "      <th></th>\n",
              "      <th>Name</th>\n",
              "      <th>Age</th>\n",
              "      <th>Departement</th>\n",
              "      <th>Salary</th>\n",
              "      <th>Salary in lakh</th>\n",
              "    </tr>\n",
              "  </thead>\n",
              "  <tbody>\n",
              "    <tr>\n",
              "      <th>0</th>\n",
              "      <td>Alice</td>\n",
              "      <td>25</td>\n",
              "      <td>Sales</td>\n",
              "      <td>50000</td>\n",
              "      <td>0.50</td>\n",
              "    </tr>\n",
              "    <tr>\n",
              "      <th>1</th>\n",
              "      <td>Bob</td>\n",
              "      <td>30</td>\n",
              "      <td>Engeneering</td>\n",
              "      <td>80000</td>\n",
              "      <td>0.80</td>\n",
              "    </tr>\n",
              "    <tr>\n",
              "      <th>2</th>\n",
              "      <td>charil</td>\n",
              "      <td>35</td>\n",
              "      <td>HR</td>\n",
              "      <td>40000</td>\n",
              "      <td>0.40</td>\n",
              "    </tr>\n",
              "    <tr>\n",
              "      <th>3</th>\n",
              "      <td>David</td>\n",
              "      <td>40</td>\n",
              "      <td>Engeneering</td>\n",
              "      <td>90000</td>\n",
              "      <td>0.90</td>\n",
              "    </tr>\n",
              "    <tr>\n",
              "      <th>4</th>\n",
              "      <td>Eva</td>\n",
              "      <td>22</td>\n",
              "      <td>HR</td>\n",
              "      <td>45000</td>\n",
              "      <td>0.45</td>\n",
              "    </tr>\n",
              "  </tbody>\n",
              "</table>\n",
              "</div>\n",
              "    <div class=\"colab-df-buttons\">\n",
              "\n",
              "  <div class=\"colab-df-container\">\n",
              "    <button class=\"colab-df-convert\" onclick=\"convertToInteractive('df-17e6736b-9f10-4886-961f-28d90052066c')\"\n",
              "            title=\"Convert this dataframe to an interactive table.\"\n",
              "            style=\"display:none;\">\n",
              "\n",
              "  <svg xmlns=\"http://www.w3.org/2000/svg\" height=\"24px\" viewBox=\"0 -960 960 960\">\n",
              "    <path d=\"M120-120v-720h720v720H120Zm60-500h600v-160H180v160Zm220 220h160v-160H400v160Zm0 220h160v-160H400v160ZM180-400h160v-160H180v160Zm440 0h160v-160H620v160ZM180-180h160v-160H180v160Zm440 0h160v-160H620v160Z\"/>\n",
              "  </svg>\n",
              "    </button>\n",
              "\n",
              "  <style>\n",
              "    .colab-df-container {\n",
              "      display:flex;\n",
              "      gap: 12px;\n",
              "    }\n",
              "\n",
              "    .colab-df-convert {\n",
              "      background-color: #E8F0FE;\n",
              "      border: none;\n",
              "      border-radius: 50%;\n",
              "      cursor: pointer;\n",
              "      display: none;\n",
              "      fill: #1967D2;\n",
              "      height: 32px;\n",
              "      padding: 0 0 0 0;\n",
              "      width: 32px;\n",
              "    }\n",
              "\n",
              "    .colab-df-convert:hover {\n",
              "      background-color: #E2EBFA;\n",
              "      box-shadow: 0px 1px 2px rgba(60, 64, 67, 0.3), 0px 1px 3px 1px rgba(60, 64, 67, 0.15);\n",
              "      fill: #174EA6;\n",
              "    }\n",
              "\n",
              "    .colab-df-buttons div {\n",
              "      margin-bottom: 4px;\n",
              "    }\n",
              "\n",
              "    [theme=dark] .colab-df-convert {\n",
              "      background-color: #3B4455;\n",
              "      fill: #D2E3FC;\n",
              "    }\n",
              "\n",
              "    [theme=dark] .colab-df-convert:hover {\n",
              "      background-color: #434B5C;\n",
              "      box-shadow: 0px 1px 3px 1px rgba(0, 0, 0, 0.15);\n",
              "      filter: drop-shadow(0px 1px 2px rgba(0, 0, 0, 0.3));\n",
              "      fill: #FFFFFF;\n",
              "    }\n",
              "  </style>\n",
              "\n",
              "    <script>\n",
              "      const buttonEl =\n",
              "        document.querySelector('#df-17e6736b-9f10-4886-961f-28d90052066c button.colab-df-convert');\n",
              "      buttonEl.style.display =\n",
              "        google.colab.kernel.accessAllowed ? 'block' : 'none';\n",
              "\n",
              "      async function convertToInteractive(key) {\n",
              "        const element = document.querySelector('#df-17e6736b-9f10-4886-961f-28d90052066c');\n",
              "        const dataTable =\n",
              "          await google.colab.kernel.invokeFunction('convertToInteractive',\n",
              "                                                    [key], {});\n",
              "        if (!dataTable) return;\n",
              "\n",
              "        const docLinkHtml = 'Like what you see? Visit the ' +\n",
              "          '<a target=\"_blank\" href=https://colab.research.google.com/notebooks/data_table.ipynb>data table notebook</a>'\n",
              "          + ' to learn more about interactive tables.';\n",
              "        element.innerHTML = '';\n",
              "        dataTable['output_type'] = 'display_data';\n",
              "        await google.colab.output.renderOutput(dataTable, element);\n",
              "        const docLink = document.createElement('div');\n",
              "        docLink.innerHTML = docLinkHtml;\n",
              "        element.appendChild(docLink);\n",
              "      }\n",
              "    </script>\n",
              "  </div>\n",
              "\n",
              "\n",
              "    <div id=\"df-a22209a5-3cc0-4a1c-bc2b-308148f060be\">\n",
              "      <button class=\"colab-df-quickchart\" onclick=\"quickchart('df-a22209a5-3cc0-4a1c-bc2b-308148f060be')\"\n",
              "                title=\"Suggest charts\"\n",
              "                style=\"display:none;\">\n",
              "\n",
              "<svg xmlns=\"http://www.w3.org/2000/svg\" height=\"24px\"viewBox=\"0 0 24 24\"\n",
              "     width=\"24px\">\n",
              "    <g>\n",
              "        <path d=\"M19 3H5c-1.1 0-2 .9-2 2v14c0 1.1.9 2 2 2h14c1.1 0 2-.9 2-2V5c0-1.1-.9-2-2-2zM9 17H7v-7h2v7zm4 0h-2V7h2v10zm4 0h-2v-4h2v4z\"/>\n",
              "    </g>\n",
              "</svg>\n",
              "      </button>\n",
              "\n",
              "<style>\n",
              "  .colab-df-quickchart {\n",
              "      --bg-color: #E8F0FE;\n",
              "      --fill-color: #1967D2;\n",
              "      --hover-bg-color: #E2EBFA;\n",
              "      --hover-fill-color: #174EA6;\n",
              "      --disabled-fill-color: #AAA;\n",
              "      --disabled-bg-color: #DDD;\n",
              "  }\n",
              "\n",
              "  [theme=dark] .colab-df-quickchart {\n",
              "      --bg-color: #3B4455;\n",
              "      --fill-color: #D2E3FC;\n",
              "      --hover-bg-color: #434B5C;\n",
              "      --hover-fill-color: #FFFFFF;\n",
              "      --disabled-bg-color: #3B4455;\n",
              "      --disabled-fill-color: #666;\n",
              "  }\n",
              "\n",
              "  .colab-df-quickchart {\n",
              "    background-color: var(--bg-color);\n",
              "    border: none;\n",
              "    border-radius: 50%;\n",
              "    cursor: pointer;\n",
              "    display: none;\n",
              "    fill: var(--fill-color);\n",
              "    height: 32px;\n",
              "    padding: 0;\n",
              "    width: 32px;\n",
              "  }\n",
              "\n",
              "  .colab-df-quickchart:hover {\n",
              "    background-color: var(--hover-bg-color);\n",
              "    box-shadow: 0 1px 2px rgba(60, 64, 67, 0.3), 0 1px 3px 1px rgba(60, 64, 67, 0.15);\n",
              "    fill: var(--button-hover-fill-color);\n",
              "  }\n",
              "\n",
              "  .colab-df-quickchart-complete:disabled,\n",
              "  .colab-df-quickchart-complete:disabled:hover {\n",
              "    background-color: var(--disabled-bg-color);\n",
              "    fill: var(--disabled-fill-color);\n",
              "    box-shadow: none;\n",
              "  }\n",
              "\n",
              "  .colab-df-spinner {\n",
              "    border: 2px solid var(--fill-color);\n",
              "    border-color: transparent;\n",
              "    border-bottom-color: var(--fill-color);\n",
              "    animation:\n",
              "      spin 1s steps(1) infinite;\n",
              "  }\n",
              "\n",
              "  @keyframes spin {\n",
              "    0% {\n",
              "      border-color: transparent;\n",
              "      border-bottom-color: var(--fill-color);\n",
              "      border-left-color: var(--fill-color);\n",
              "    }\n",
              "    20% {\n",
              "      border-color: transparent;\n",
              "      border-left-color: var(--fill-color);\n",
              "      border-top-color: var(--fill-color);\n",
              "    }\n",
              "    30% {\n",
              "      border-color: transparent;\n",
              "      border-left-color: var(--fill-color);\n",
              "      border-top-color: var(--fill-color);\n",
              "      border-right-color: var(--fill-color);\n",
              "    }\n",
              "    40% {\n",
              "      border-color: transparent;\n",
              "      border-right-color: var(--fill-color);\n",
              "      border-top-color: var(--fill-color);\n",
              "    }\n",
              "    60% {\n",
              "      border-color: transparent;\n",
              "      border-right-color: var(--fill-color);\n",
              "    }\n",
              "    80% {\n",
              "      border-color: transparent;\n",
              "      border-right-color: var(--fill-color);\n",
              "      border-bottom-color: var(--fill-color);\n",
              "    }\n",
              "    90% {\n",
              "      border-color: transparent;\n",
              "      border-bottom-color: var(--fill-color);\n",
              "    }\n",
              "  }\n",
              "</style>\n",
              "\n",
              "      <script>\n",
              "        async function quickchart(key) {\n",
              "          const quickchartButtonEl =\n",
              "            document.querySelector('#' + key + ' button');\n",
              "          quickchartButtonEl.disabled = true;  // To prevent multiple clicks.\n",
              "          quickchartButtonEl.classList.add('colab-df-spinner');\n",
              "          try {\n",
              "            const charts = await google.colab.kernel.invokeFunction(\n",
              "                'suggestCharts', [key], {});\n",
              "          } catch (error) {\n",
              "            console.error('Error during call to suggestCharts:', error);\n",
              "          }\n",
              "          quickchartButtonEl.classList.remove('colab-df-spinner');\n",
              "          quickchartButtonEl.classList.add('colab-df-quickchart-complete');\n",
              "        }\n",
              "        (() => {\n",
              "          let quickchartButtonEl =\n",
              "            document.querySelector('#df-a22209a5-3cc0-4a1c-bc2b-308148f060be button');\n",
              "          quickchartButtonEl.style.display =\n",
              "            google.colab.kernel.accessAllowed ? 'block' : 'none';\n",
              "        })();\n",
              "      </script>\n",
              "    </div>\n",
              "\n",
              "  <div id=\"id_4410e5b0-0ba5-4519-bd86-d5dd857fc0dc\">\n",
              "    <style>\n",
              "      .colab-df-generate {\n",
              "        background-color: #E8F0FE;\n",
              "        border: none;\n",
              "        border-radius: 50%;\n",
              "        cursor: pointer;\n",
              "        display: none;\n",
              "        fill: #1967D2;\n",
              "        height: 32px;\n",
              "        padding: 0 0 0 0;\n",
              "        width: 32px;\n",
              "      }\n",
              "\n",
              "      .colab-df-generate:hover {\n",
              "        background-color: #E2EBFA;\n",
              "        box-shadow: 0px 1px 2px rgba(60, 64, 67, 0.3), 0px 1px 3px 1px rgba(60, 64, 67, 0.15);\n",
              "        fill: #174EA6;\n",
              "      }\n",
              "\n",
              "      [theme=dark] .colab-df-generate {\n",
              "        background-color: #3B4455;\n",
              "        fill: #D2E3FC;\n",
              "      }\n",
              "\n",
              "      [theme=dark] .colab-df-generate:hover {\n",
              "        background-color: #434B5C;\n",
              "        box-shadow: 0px 1px 3px 1px rgba(0, 0, 0, 0.15);\n",
              "        filter: drop-shadow(0px 1px 2px rgba(0, 0, 0, 0.3));\n",
              "        fill: #FFFFFF;\n",
              "      }\n",
              "    </style>\n",
              "    <button class=\"colab-df-generate\" onclick=\"generateWithVariable('df')\"\n",
              "            title=\"Generate code using this dataframe.\"\n",
              "            style=\"display:none;\">\n",
              "\n",
              "  <svg xmlns=\"http://www.w3.org/2000/svg\" height=\"24px\"viewBox=\"0 0 24 24\"\n",
              "       width=\"24px\">\n",
              "    <path d=\"M7,19H8.4L18.45,9,17,7.55,7,17.6ZM5,21V16.75L18.45,3.32a2,2,0,0,1,2.83,0l1.4,1.43a1.91,1.91,0,0,1,.58,1.4,1.91,1.91,0,0,1-.58,1.4L9.25,21ZM18.45,9,17,7.55Zm-12,3A5.31,5.31,0,0,0,4.9,8.1,5.31,5.31,0,0,0,1,6.5,5.31,5.31,0,0,0,4.9,4.9,5.31,5.31,0,0,0,6.5,1,5.31,5.31,0,0,0,8.1,4.9,5.31,5.31,0,0,0,12,6.5,5.46,5.46,0,0,0,6.5,12Z\"/>\n",
              "  </svg>\n",
              "    </button>\n",
              "    <script>\n",
              "      (() => {\n",
              "      const buttonEl =\n",
              "        document.querySelector('#id_4410e5b0-0ba5-4519-bd86-d5dd857fc0dc button.colab-df-generate');\n",
              "      buttonEl.style.display =\n",
              "        google.colab.kernel.accessAllowed ? 'block' : 'none';\n",
              "\n",
              "      buttonEl.onclick = () => {\n",
              "        google.colab.notebook.generateWithVariable('df');\n",
              "      }\n",
              "      })();\n",
              "    </script>\n",
              "  </div>\n",
              "\n",
              "    </div>\n",
              "  </div>\n"
            ],
            "text/plain": [
              "     Name  Age  Departement  Salary  Salary in lakh\n",
              "0   Alice   25        Sales   50000            0.50\n",
              "1     Bob   30  Engeneering   80000            0.80\n",
              "2  charil   35           HR   40000            0.40\n",
              "3   David   40  Engeneering   90000            0.90\n",
              "4     Eva   22           HR   45000            0.45"
            ]
          },
          "execution_count": 18,
          "metadata": {},
          "output_type": "execute_result"
        }
      ],
      "source": [
        "df['Salary in lakh'] = df['Salary']/100000\n",
        "df"
      ]
    },
    {
      "cell_type": "markdown",
      "metadata": {
        "id": "q-ts7zc86QsV"
      },
      "source": [
        "# **Matplotlib**"
      ]
    },
    {
      "cell_type": "markdown",
      "metadata": {
        "id": "WcFRpqVl_NWF"
      },
      "source": [
        "**Line Plot**"
      ]
    },
    {
      "cell_type": "code",
      "execution_count": null,
      "metadata": {
        "colab": {
          "base_uri": "https://localhost:8080/",
          "height": 472
        },
        "id": "9xsYicQO_TKl",
        "outputId": "b95db33c-b898-4353-f0cd-f3d862d521f6"
      },
      "outputs": [
        {
          "output_type": "display_data",
          "data": {
            "text/plain": [
              "<Figure size 640x480 with 1 Axes>"
            ],
            "image/png": "[encoded data removed]"
          },
          "metadata": {}
        }
      ],
      "source": [
        "import matplotlib.pyplot as plt\n",
        "\n",
        "years = [2019,2020,2021,2022]\n",
        "revenu = [100,140,110,180]\n",
        "plt.plot(years,revenu,marker='o', linestyle='--',color='blue')\n",
        "plt.title(\"Company Revenu Over Years\")\n",
        "plt.xlabel(\"Year\")\n",
        "plt.ylabel(\"Revenue(in Croes)\")\n",
        "plt.xticks(years)\n",
        "plt.grid(True)\n",
        "plt.show()\n"
      ]
    },
    {
      "cell_type": "markdown",
      "metadata": {
        "id": "JRJY-bAcDvHv"
      },
      "source": [
        "**Bar Chart**"
      ]
    },
    {
      "cell_type": "code",
      "execution_count": null,
      "metadata": {
        "colab": {
          "base_uri": "https://localhost:8080/",
          "height": 546
        },
        "id": "d-cdJ0ctD_9A",
        "outputId": "c07f03a1-5142-413f-de15-e0e8acc76321"
      },
      "outputs": [
        {
          "data": {
            "image/png": "[encoded data removed]",
            "text/plain": [
              "<Figure size 640x480 with 1 Axes>"
            ]
          },
          "metadata": {},
          "output_type": "display_data"
        }
      ],
      "source": [
        "departments = df['Departement'].value_counts()\n",
        "departments.plot(kind='bar',color='teal',edgecolor='black')\n",
        "plt.title('Employee Count by Departement')\n",
        "plt.xlabel('Departement')\n",
        "plt.ylabel('Count')\n",
        "plt.show()"
      ]
    },
    {
      "cell_type": "markdown",
      "metadata": {
        "id": "8wrKeXC3GFVY"
      },
      "source": [
        "**Histogram**"
      ]
    },
    {
      "cell_type": "code",
      "execution_count": null,
      "metadata": {
        "colab": {
          "base_uri": "https://localhost:8080/",
          "height": 472
        },
        "id": "PnXmnmGXGLAP",
        "outputId": "af673276-5c17-45b3-ef2c-bbd6dba0847e"
      },
      "outputs": [
        {
          "data": {
            "image/png": "[encoded data removed]",
            "text/plain": [
              "<Figure size 640x480 with 1 Axes>"
            ]
          },
          "metadata": {},
          "output_type": "display_data"
        }
      ],
      "source": [
        "ages = df['Age']\n",
        "plt.hist(ages,bins=5, color='coral',edgecolor='black')\n",
        "plt.title('Age Distribution')\n",
        "plt.xlabel('Age')\n",
        "plt.ylabel('Frequence')\n",
        "plt.show()\n"
      ]
    },
    {
      "cell_type": "markdown",
      "metadata": {
        "id": "52oaww0tJHPI"
      },
      "source": [
        "**Pie Chart**"
      ]
    },
    {
      "cell_type": "code",
      "execution_count": null,
      "metadata": {
        "colab": {
          "base_uri": "https://localhost:8080/",
          "height": 428
        },
        "id": "IRQWldr6JLJh",
        "outputId": "4dc2dea1-121f-400a-d1d6-7691a529ff5a"
      },
      "outputs": [
        {
          "data": {
            "image/png": "[encoded data removed]",
            "text/plain": [
              "<Figure size 640x480 with 1 Axes>"
            ]
          },
          "metadata": {},
          "output_type": "display_data"
        }
      ],
      "source": [
        "df.groupby('Departement').size().plot(kind='pie',autopct='%1.1f%%')\n",
        "plt.title(\"Departement Proporation\")\n",
        "plt.ylabel('')\n",
        "plt.show()"
      ]
    },
    {
      "cell_type": "markdown",
      "metadata": {
        "id": "bdb6B0bRQtAZ"
      },
      "source": [
        "# **Seaborn**"
      ]
    },
    {
      "cell_type": "markdown",
      "metadata": {
        "id": "5Y3J21G6Q6aJ"
      },
      "source": [
        "**Load Sample Dataset**"
      ]
    },
    {
      "cell_type": "code",
      "execution_count": null,
      "metadata": {
        "colab": {
          "base_uri": "https://localhost:8080/",
          "height": 206
        },
        "id": "hvNo4YofReX6",
        "outputId": "02dfbc5a-baf9-4251-a04b-9a0688eb1bd8"
      },
      "outputs": [
        {
          "output_type": "execute_result",
          "data": {
            "text/plain": [
              "   total_bill   tip     sex smoker  day    time  size\n",
              "0       16.99  1.01  Female     No  Sun  Dinner     2\n",
              "1       10.34  1.66    Male     No  Sun  Dinner     3\n",
              "2       21.01  3.50    Male     No  Sun  Dinner     3\n",
              "3       23.68  3.31    Male     No  Sun  Dinner     2\n",
              "4       24.59  3.61  Female     No  Sun  Dinner     4"
            ],
            "text/html": [
              "\n",
              "  <div id=\"df-53d4194b-433a-4d34-a790-4490661a564b\" class=\"colab-df-container\">\n",
              "    <div>\n",
              "<style scoped>\n",
              "    .dataframe tbody tr th:only-of-type {\n",
              "        vertical-align: middle;\n",
              "    }\n",
              "\n",
              "    .dataframe tbody tr th {\n",
              "        vertical-align: top;\n",
              "    }\n",
              "\n",
              "    .dataframe thead th {\n",
              "        text-align: right;\n",
              "    }\n",
              "</style>\n",
              "<table border=\"1\" class=\"dataframe\">\n",
              "  <thead>\n",
              "    <tr style=\"text-align: right;\">\n",
              "      <th></th>\n",
              "      <th>total_bill</th>\n",
              "      <th>tip</th>\n",
              "      <th>sex</th>\n",
              "      <th>smoker</th>\n",
              "      <th>day</th>\n",
              "      <th>time</th>\n",
              "      <th>size</th>\n",
              "    </tr>\n",
              "  </thead>\n",
              "  <tbody>\n",
              "    <tr>\n",
              "      <th>0</th>\n",
              "      <td>16.99</td>\n",
              "      <td>1.01</td>\n",
              "      <td>Female</td>\n",
              "      <td>No</td>\n",
              "      <td>Sun</td>\n",
              "      <td>Dinner</td>\n",
              "      <td>2</td>\n",
              "    </tr>\n",
              "    <tr>\n",
              "      <th>1</th>\n",
              "      <td>10.34</td>\n",
              "      <td>1.66</td>\n",
              "      <td>Male</td>\n",
              "      <td>No</td>\n",
              "      <td>Sun</td>\n",
              "      <td>Dinner</td>\n",
              "      <td>3</td>\n",
              "    </tr>\n",
              "    <tr>\n",
              "      <th>2</th>\n",
              "      <td>21.01</td>\n",
              "      <td>3.50</td>\n",
              "      <td>Male</td>\n",
              "      <td>No</td>\n",
              "      <td>Sun</td>\n",
              "      <td>Dinner</td>\n",
              "      <td>3</td>\n",
              "    </tr>\n",
              "    <tr>\n",
              "      <th>3</th>\n",
              "      <td>23.68</td>\n",
              "      <td>3.31</td>\n",
              "      <td>Male</td>\n",
              "      <td>No</td>\n",
              "      <td>Sun</td>\n",
              "      <td>Dinner</td>\n",
              "      <td>2</td>\n",
              "    </tr>\n",
              "    <tr>\n",
              "      <th>4</th>\n",
              "      <td>24.59</td>\n",
              "      <td>3.61</td>\n",
              "      <td>Female</td>\n",
              "      <td>No</td>\n",
              "      <td>Sun</td>\n",
              "      <td>Dinner</td>\n",
              "      <td>4</td>\n",
              "    </tr>\n",
              "  </tbody>\n",
              "</table>\n",
              "</div>\n",
              "    <div class=\"colab-df-buttons\">\n",
              "\n",
              "  <div class=\"colab-df-container\">\n",
              "    <button class=\"colab-df-convert\" onclick=\"convertToInteractive('df-53d4194b-433a-4d34-a790-4490661a564b')\"\n",
              "            title=\"Convert this dataframe to an interactive table.\"\n",
              "            style=\"display:none;\">\n",
              "\n",
              "  <svg xmlns=\"http://www.w3.org/2000/svg\" height=\"24px\" viewBox=\"0 -960 960 960\">\n",
              "    <path d=\"M120-120v-720h720v720H120Zm60-500h600v-160H180v160Zm220 220h160v-160H400v160Zm0 220h160v-160H400v160ZM180-400h160v-160H180v160Zm440 0h160v-160H620v160ZM180-180h160v-160H180v160Zm440 0h160v-160H620v160Z\"/>\n",
              "  </svg>\n",
              "    </button>\n",
              "\n",
              "  <style>\n",
              "    .colab-df-container {\n",
              "      display:flex;\n",
              "      gap: 12px;\n",
              "    }\n",
              "\n",
              "    .colab-df-convert {\n",
              "      background-color: #E8F0FE;\n",
              "      border: none;\n",
              "      border-radius: 50%;\n",
              "      cursor: pointer;\n",
              "      display: none;\n",
              "      fill: #1967D2;\n",
              "      height: 32px;\n",
              "      padding: 0 0 0 0;\n",
              "      width: 32px;\n",
              "    }\n",
              "\n",
              "    .colab-df-convert:hover {\n",
              "      background-color: #E2EBFA;\n",
              "      box-shadow: 0px 1px 2px rgba(60, 64, 67, 0.3), 0px 1px 3px 1px rgba(60, 64, 67, 0.15);\n",
              "      fill: #174EA6;\n",
              "    }\n",
              "\n",
              "    .colab-df-buttons div {\n",
              "      margin-bottom: 4px;\n",
              "    }\n",
              "\n",
              "    [theme=dark] .colab-df-convert {\n",
              "      background-color: #3B4455;\n",
              "      fill: #D2E3FC;\n",
              "    }\n",
              "\n",
              "    [theme=dark] .colab-df-convert:hover {\n",
              "      background-color: #434B5C;\n",
              "      box-shadow: 0px 1px 3px 1px rgba(0, 0, 0, 0.15);\n",
              "      filter: drop-shadow(0px 1px 2px rgba(0, 0, 0, 0.3));\n",
              "      fill: #FFFFFF;\n",
              "    }\n",
              "  </style>\n",
              "\n",
              "    <script>\n",
              "      const buttonEl =\n",
              "        document.querySelector('#df-53d4194b-433a-4d34-a790-4490661a564b button.colab-df-convert');\n",
              "      buttonEl.style.display =\n",
              "        google.colab.kernel.accessAllowed ? 'block' : 'none';\n",
              "\n",
              "      async function convertToInteractive(key) {\n",
              "        const element = document.querySelector('#df-53d4194b-433a-4d34-a790-4490661a564b');\n",
              "        const dataTable =\n",
              "          await google.colab.kernel.invokeFunction('convertToInteractive',\n",
              "                                                    [key], {});\n",
              "        if (!dataTable) return;\n",
              "\n",
              "        const docLinkHtml = 'Like what you see? Visit the ' +\n",
              "          '<a target=\"_blank\" href=https://colab.research.google.com/notebooks/data_table.ipynb>data table notebook</a>'\n",
              "          + ' to learn more about interactive tables.';\n",
              "        element.innerHTML = '';\n",
              "        dataTable['output_type'] = 'display_data';\n",
              "        await google.colab.output.renderOutput(dataTable, element);\n",
              "        const docLink = document.createElement('div');\n",
              "        docLink.innerHTML = docLinkHtml;\n",
              "        element.appendChild(docLink);\n",
              "      }\n",
              "    </script>\n",
              "  </div>\n",
              "\n",
              "\n",
              "    <div id=\"df-c5a03ce7-fd26-43d3-899c-e8a3c59ea4e5\">\n",
              "      <button class=\"colab-df-quickchart\" onclick=\"quickchart('df-c5a03ce7-fd26-43d3-899c-e8a3c59ea4e5')\"\n",
              "                title=\"Suggest charts\"\n",
              "                style=\"display:none;\">\n",
              "\n",
              "<svg xmlns=\"http://www.w3.org/2000/svg\" height=\"24px\"viewBox=\"0 0 24 24\"\n",
              "     width=\"24px\">\n",
              "    <g>\n",
              "        <path d=\"M19 3H5c-1.1 0-2 .9-2 2v14c0 1.1.9 2 2 2h14c1.1 0 2-.9 2-2V5c0-1.1-.9-2-2-2zM9 17H7v-7h2v7zm4 0h-2V7h2v10zm4 0h-2v-4h2v4z\"/>\n",
              "    </g>\n",
              "</svg>\n",
              "      </button>\n",
              "\n",
              "<style>\n",
              "  .colab-df-quickchart {\n",
              "      --bg-color: #E8F0FE;\n",
              "      --fill-color: #1967D2;\n",
              "      --hover-bg-color: #E2EBFA;\n",
              "      --hover-fill-color: #174EA6;\n",
              "      --disabled-fill-color: #AAA;\n",
              "      --disabled-bg-color: #DDD;\n",
              "  }\n",
              "\n",
              "  [theme=dark] .colab-df-quickchart {\n",
              "      --bg-color: #3B4455;\n",
              "      --fill-color: #D2E3FC;\n",
              "      --hover-bg-color: #434B5C;\n",
              "      --hover-fill-color: #FFFFFF;\n",
              "      --disabled-bg-color: #3B4455;\n",
              "      --disabled-fill-color: #666;\n",
              "  }\n",
              "\n",
              "  .colab-df-quickchart {\n",
              "    background-color: var(--bg-color);\n",
              "    border: none;\n",
              "    border-radius: 50%;\n",
              "    cursor: pointer;\n",
              "    display: none;\n",
              "    fill: var(--fill-color);\n",
              "    height: 32px;\n",
              "    padding: 0;\n",
              "    width: 32px;\n",
              "  }\n",
              "\n",
              "  .colab-df-quickchart:hover {\n",
              "    background-color: var(--hover-bg-color);\n",
              "    box-shadow: 0 1px 2px rgba(60, 64, 67, 0.3), 0 1px 3px 1px rgba(60, 64, 67, 0.15);\n",
              "    fill: var(--button-hover-fill-color);\n",
              "  }\n",
              "\n",
              "  .colab-df-quickchart-complete:disabled,\n",
              "  .colab-df-quickchart-complete:disabled:hover {\n",
              "    background-color: var(--disabled-bg-color);\n",
              "    fill: var(--disabled-fill-color);\n",
              "    box-shadow: none;\n",
              "  }\n",
              "\n",
              "  .colab-df-spinner {\n",
              "    border: 2px solid var(--fill-color);\n",
              "    border-color: transparent;\n",
              "    border-bottom-color: var(--fill-color);\n",
              "    animation:\n",
              "      spin 1s steps(1) infinite;\n",
              "  }\n",
              "\n",
              "  @keyframes spin {\n",
              "    0% {\n",
              "      border-color: transparent;\n",
              "      border-bottom-color: var(--fill-color);\n",
              "      border-left-color: var(--fill-color);\n",
              "    }\n",
              "    20% {\n",
              "      border-color: transparent;\n",
              "      border-left-color: var(--fill-color);\n",
              "      border-top-color: var(--fill-color);\n",
              "    }\n",
              "    30% {\n",
              "      border-color: transparent;\n",
              "      border-left-color: var(--fill-color);\n",
              "      border-top-color: var(--fill-color);\n",
              "      border-right-color: var(--fill-color);\n",
              "    }\n",
              "    40% {\n",
              "      border-color: transparent;\n",
              "      border-right-color: var(--fill-color);\n",
              "      border-top-color: var(--fill-color);\n",
              "    }\n",
              "    60% {\n",
              "      border-color: transparent;\n",
              "      border-right-color: var(--fill-color);\n",
              "    }\n",
              "    80% {\n",
              "      border-color: transparent;\n",
              "      border-right-color: var(--fill-color);\n",
              "      border-bottom-color: var(--fill-color);\n",
              "    }\n",
              "    90% {\n",
              "      border-color: transparent;\n",
              "      border-bottom-color: var(--fill-color);\n",
              "    }\n",
              "  }\n",
              "</style>\n",
              "\n",
              "      <script>\n",
              "        async function quickchart(key) {\n",
              "          const quickchartButtonEl =\n",
              "            document.querySelector('#' + key + ' button');\n",
              "          quickchartButtonEl.disabled = true;  // To prevent multiple clicks.\n",
              "          quickchartButtonEl.classList.add('colab-df-spinner');\n",
              "          try {\n",
              "            const charts = await google.colab.kernel.invokeFunction(\n",
              "                'suggestCharts', [key], {});\n",
              "          } catch (error) {\n",
              "            console.error('Error during call to suggestCharts:', error);\n",
              "          }\n",
              "          quickchartButtonEl.classList.remove('colab-df-spinner');\n",
              "          quickchartButtonEl.classList.add('colab-df-quickchart-complete');\n",
              "        }\n",
              "        (() => {\n",
              "          let quickchartButtonEl =\n",
              "            document.querySelector('#df-c5a03ce7-fd26-43d3-899c-e8a3c59ea4e5 button');\n",
              "          quickchartButtonEl.style.display =\n",
              "            google.colab.kernel.accessAllowed ? 'block' : 'none';\n",
              "        })();\n",
              "      </script>\n",
              "    </div>\n",
              "\n",
              "    </div>\n",
              "  </div>\n"
            ],
            "application/vnd.google.colaboratory.intrinsic+json": {
              "type": "dataframe",
              "variable_name": "tips",
              "summary": "{\n  \"name\": \"tips\",\n  \"rows\": 244,\n  \"fields\": [\n    {\n      \"column\": \"total_bill\",\n      \"properties\": {\n        \"dtype\": \"number\",\n        \"std\": 8.902411954856856,\n        \"min\": 3.07,\n        \"max\": 50.81,\n        \"num_unique_values\": 229,\n        \"samples\": [\n          22.12,\n          20.23,\n          14.78\n        ],\n        \"semantic_type\": \"\",\n        \"description\": \"\"\n      }\n    },\n    {\n      \"column\": \"tip\",\n      \"properties\": {\n        \"dtype\": \"number\",\n        \"std\": 1.3836381890011826,\n        \"min\": 1.0,\n        \"max\": 10.0,\n        \"num_unique_values\": 123,\n        \"samples\": [\n          3.35,\n          1.5,\n          6.73\n        ],\n        \"semantic_type\": \"\",\n        \"description\": \"\"\n      }\n    },\n    {\n      \"column\": \"sex\",\n      \"properties\": {\n        \"dtype\": \"category\",\n        \"num_unique_values\": 2,\n        \"samples\": [\n          \"Male\",\n          \"Female\"\n        ],\n        \"semantic_type\": \"\",\n        \"description\": \"\"\n      }\n    },\n    {\n      \"column\": \"smoker\",\n      \"properties\": {\n        \"dtype\": \"category\",\n        \"num_unique_values\": 2,\n        \"samples\": [\n          \"Yes\",\n          \"No\"\n        ],\n        \"semantic_type\": \"\",\n        \"description\": \"\"\n      }\n    },\n    {\n      \"column\": \"day\",\n      \"properties\": {\n        \"dtype\": \"category\",\n        \"num_unique_values\": 4,\n        \"samples\": [\n          \"Sat\",\n          \"Fri\"\n        ],\n        \"semantic_type\": \"\",\n        \"description\": \"\"\n      }\n    },\n    {\n      \"column\": \"time\",\n      \"properties\": {\n        \"dtype\": \"category\",\n        \"num_unique_values\": 2,\n        \"samples\": [\n          \"Lunch\",\n          \"Dinner\"\n        ],\n        \"semantic_type\": \"\",\n        \"description\": \"\"\n      }\n    },\n    {\n      \"column\": \"size\",\n      \"properties\": {\n        \"dtype\": \"number\",\n        \"std\": 0,\n        \"min\": 1,\n        \"max\": 6,\n        \"num_unique_values\": 6,\n        \"samples\": [\n          2,\n          3\n        ],\n        \"semantic_type\": \"\",\n        \"description\": \"\"\n      }\n    }\n  ]\n}"
            }
          },
          "metadata": {},
          "execution_count": 4
        }
      ],
      "source": [
        "import seaborn as sns\n",
        "tips = sns.load_dataset('tips')\n",
        "tips.head()"
      ]
    },
    {
      "cell_type": "code",
      "execution_count": null,
      "metadata": {
        "id": "w4aK8DhZQx7B",
        "colab": {
          "base_uri": "https://localhost:8080/",
          "height": 706
        },
        "outputId": "303a0e11-2e73-400b-e3b1-682c21d76452"
      },
      "outputs": [
        {
          "output_type": "stream",
          "name": "stdout",
          "text": [
            "\n",
            " Info about the tips dataset:\n",
            "<class 'pandas.core.frame.DataFrame'>\n",
            "RangeIndex: 244 entries, 0 to 243\n",
            "Data columns (total 7 columns):\n",
            " #   Column      Non-Null Count  Dtype   \n",
            "---  ------      --------------  -----   \n",
            " 0   total_bill  244 non-null    float64 \n",
            " 1   tip         244 non-null    float64 \n",
            " 2   sex         244 non-null    category\n",
            " 3   smoker      244 non-null    category\n",
            " 4   day         244 non-null    category\n",
            " 5   time        244 non-null    category\n",
            " 6   size        244 non-null    int64   \n",
            "dtypes: category(4), float64(2), int64(1)\n",
            "memory usage: 7.4 KB\n",
            "\n",
            " Description the tips dataset:\n"
          ]
        },
        {
          "output_type": "execute_result",
          "data": {
            "text/plain": [
              "        total_bill         tip   sex smoker  day    time        size\n",
              "count   244.000000  244.000000   244    244  244     244  244.000000\n",
              "unique         NaN         NaN     2      2    4       2         NaN\n",
              "top            NaN         NaN  Male     No  Sat  Dinner         NaN\n",
              "freq           NaN         NaN   157    151   87     176         NaN\n",
              "mean     19.785943    2.998279   NaN    NaN  NaN     NaN    2.569672\n",
              "std       8.902412    1.383638   NaN    NaN  NaN     NaN    0.951100\n",
              "min       3.070000    1.000000   NaN    NaN  NaN     NaN    1.000000\n",
              "25%      13.347500    2.000000   NaN    NaN  NaN     NaN    2.000000\n",
              "50%      17.795000    2.900000   NaN    NaN  NaN     NaN    2.000000\n",
              "75%      24.127500    3.562500   NaN    NaN  NaN     NaN    3.000000\n",
              "max      50.810000   10.000000   NaN    NaN  NaN     NaN    6.000000"
            ],
            "text/html": [
              "\n",
              "  <div id=\"df-38849452-70f1-4dd9-8f08-fb6853eed839\" class=\"colab-df-container\">\n",
              "    <div>\n",
              "<style scoped>\n",
              "    .dataframe tbody tr th:only-of-type {\n",
              "        vertical-align: middle;\n",
              "    }\n",
              "\n",
              "    .dataframe tbody tr th {\n",
              "        vertical-align: top;\n",
              "    }\n",
              "\n",
              "    .dataframe thead th {\n",
              "        text-align: right;\n",
              "    }\n",
              "</style>\n",
              "<table border=\"1\" class=\"dataframe\">\n",
              "  <thead>\n",
              "    <tr style=\"text-align: right;\">\n",
              "      <th></th>\n",
              "      <th>total_bill</th>\n",
              "      <th>tip</th>\n",
              "      <th>sex</th>\n",
              "      <th>smoker</th>\n",
              "      <th>day</th>\n",
              "      <th>time</th>\n",
              "      <th>size</th>\n",
              "    </tr>\n",
              "  </thead>\n",
              "  <tbody>\n",
              "    <tr>\n",
              "      <th>count</th>\n",
              "      <td>244.000000</td>\n",
              "      <td>244.000000</td>\n",
              "      <td>244</td>\n",
              "      <td>244</td>\n",
              "      <td>244</td>\n",
              "      <td>244</td>\n",
              "      <td>244.000000</td>\n",
              "    </tr>\n",
              "    <tr>\n",
              "      <th>unique</th>\n",
              "      <td>NaN</td>\n",
              "      <td>NaN</td>\n",
              "      <td>2</td>\n",
              "      <td>2</td>\n",
              "      <td>4</td>\n",
              "      <td>2</td>\n",
              "      <td>NaN</td>\n",
              "    </tr>\n",
              "    <tr>\n",
              "      <th>top</th>\n",
              "      <td>NaN</td>\n",
              "      <td>NaN</td>\n",
              "      <td>Male</td>\n",
              "      <td>No</td>\n",
              "      <td>Sat</td>\n",
              "      <td>Dinner</td>\n",
              "      <td>NaN</td>\n",
              "    </tr>\n",
              "    <tr>\n",
              "      <th>freq</th>\n",
              "      <td>NaN</td>\n",
              "      <td>NaN</td>\n",
              "      <td>157</td>\n",
              "      <td>151</td>\n",
              "      <td>87</td>\n",
              "      <td>176</td>\n",
              "      <td>NaN</td>\n",
              "    </tr>\n",
              "    <tr>\n",
              "      <th>mean</th>\n",
              "      <td>19.785943</td>\n",
              "      <td>2.998279</td>\n",
              "      <td>NaN</td>\n",
              "      <td>NaN</td>\n",
              "      <td>NaN</td>\n",
              "      <td>NaN</td>\n",
              "      <td>2.569672</td>\n",
              "    </tr>\n",
              "    <tr>\n",
              "      <th>std</th>\n",
              "      <td>8.902412</td>\n",
              "      <td>1.383638</td>\n",
              "      <td>NaN</td>\n",
              "      <td>NaN</td>\n",
              "      <td>NaN</td>\n",
              "      <td>NaN</td>\n",
              "      <td>0.951100</td>\n",
              "    </tr>\n",
              "    <tr>\n",
              "      <th>min</th>\n",
              "      <td>3.070000</td>\n",
              "      <td>1.000000</td>\n",
              "      <td>NaN</td>\n",
              "      <td>NaN</td>\n",
              "      <td>NaN</td>\n",
              "      <td>NaN</td>\n",
              "      <td>1.000000</td>\n",
              "    </tr>\n",
              "    <tr>\n",
              "      <th>25%</th>\n",
              "      <td>13.347500</td>\n",
              "      <td>2.000000</td>\n",
              "      <td>NaN</td>\n",
              "      <td>NaN</td>\n",
              "      <td>NaN</td>\n",
              "      <td>NaN</td>\n",
              "      <td>2.000000</td>\n",
              "    </tr>\n",
              "    <tr>\n",
              "      <th>50%</th>\n",
              "      <td>17.795000</td>\n",
              "      <td>2.900000</td>\n",
              "      <td>NaN</td>\n",
              "      <td>NaN</td>\n",
              "      <td>NaN</td>\n",
              "      <td>NaN</td>\n",
              "      <td>2.000000</td>\n",
              "    </tr>\n",
              "    <tr>\n",
              "      <th>75%</th>\n",
              "      <td>24.127500</td>\n",
              "      <td>3.562500</td>\n",
              "      <td>NaN</td>\n",
              "      <td>NaN</td>\n",
              "      <td>NaN</td>\n",
              "      <td>NaN</td>\n",
              "      <td>3.000000</td>\n",
              "    </tr>\n",
              "    <tr>\n",
              "      <th>max</th>\n",
              "      <td>50.810000</td>\n",
              "      <td>10.000000</td>\n",
              "      <td>NaN</td>\n",
              "      <td>NaN</td>\n",
              "      <td>NaN</td>\n",
              "      <td>NaN</td>\n",
              "      <td>6.000000</td>\n",
              "    </tr>\n",
              "  </tbody>\n",
              "</table>\n",
              "</div>\n",
              "    <div class=\"colab-df-buttons\">\n",
              "\n",
              "  <div class=\"colab-df-container\">\n",
              "    <button class=\"colab-df-convert\" onclick=\"convertToInteractive('df-38849452-70f1-4dd9-8f08-fb6853eed839')\"\n",
              "            title=\"Convert this dataframe to an interactive table.\"\n",
              "            style=\"display:none;\">\n",
              "\n",
              "  <svg xmlns=\"http://www.w3.org/2000/svg\" height=\"24px\" viewBox=\"0 -960 960 960\">\n",
              "    <path d=\"M120-120v-720h720v720H120Zm60-500h600v-160H180v160Zm220 220h160v-160H400v160Zm0 220h160v-160H400v160ZM180-400h160v-160H180v160Zm440 0h160v-160H620v160ZM180-180h160v-160H180v160Zm440 0h160v-160H620v160Z\"/>\n",
              "  </svg>\n",
              "    </button>\n",
              "\n",
              "  <style>\n",
              "    .colab-df-container {\n",
              "      display:flex;\n",
              "      gap: 12px;\n",
              "    }\n",
              "\n",
              "    .colab-df-convert {\n",
              "      background-color: #E8F0FE;\n",
              "      border: none;\n",
              "      border-radius: 50%;\n",
              "      cursor: pointer;\n",
              "      display: none;\n",
              "      fill: #1967D2;\n",
              "      height: 32px;\n",
              "      padding: 0 0 0 0;\n",
              "      width: 32px;\n",
              "    }\n",
              "\n",
              "    .colab-df-convert:hover {\n",
              "      background-color: #E2EBFA;\n",
              "      box-shadow: 0px 1px 2px rgba(60, 64, 67, 0.3), 0px 1px 3px 1px rgba(60, 64, 67, 0.15);\n",
              "      fill: #174EA6;\n",
              "    }\n",
              "\n",
              "    .colab-df-buttons div {\n",
              "      margin-bottom: 4px;\n",
              "    }\n",
              "\n",
              "    [theme=dark] .colab-df-convert {\n",
              "      background-color: #3B4455;\n",
              "      fill: #D2E3FC;\n",
              "    }\n",
              "\n",
              "    [theme=dark] .colab-df-convert:hover {\n",
              "      background-color: #434B5C;\n",
              "      box-shadow: 0px 1px 3px 1px rgba(0, 0, 0, 0.15);\n",
              "      filter: drop-shadow(0px 1px 2px rgba(0, 0, 0, 0.3));\n",
              "      fill: #FFFFFF;\n",
              "    }\n",
              "  </style>\n",
              "\n",
              "    <script>\n",
              "      const buttonEl =\n",
              "        document.querySelector('#df-38849452-70f1-4dd9-8f08-fb6853eed839 button.colab-df-convert');\n",
              "      buttonEl.style.display =\n",
              "        google.colab.kernel.accessAllowed ? 'block' : 'none';\n",
              "\n",
              "      async function convertToInteractive(key) {\n",
              "        const element = document.querySelector('#df-38849452-70f1-4dd9-8f08-fb6853eed839');\n",
              "        const dataTable =\n",
              "          await google.colab.kernel.invokeFunction('convertToInteractive',\n",
              "                                                    [key], {});\n",
              "        if (!dataTable) return;\n",
              "\n",
              "        const docLinkHtml = 'Like what you see? Visit the ' +\n",
              "          '<a target=\"_blank\" href=https://colab.research.google.com/notebooks/data_table.ipynb>data table notebook</a>'\n",
              "          + ' to learn more about interactive tables.';\n",
              "        element.innerHTML = '';\n",
              "        dataTable['output_type'] = 'display_data';\n",
              "        await google.colab.output.renderOutput(dataTable, element);\n",
              "        const docLink = document.createElement('div');\n",
              "        docLink.innerHTML = docLinkHtml;\n",
              "        element.appendChild(docLink);\n",
              "      }\n",
              "    </script>\n",
              "  </div>\n",
              "\n",
              "\n",
              "    <div id=\"df-227008ab-70de-4bce-9f5f-56b7bb0c35c5\">\n",
              "      <button class=\"colab-df-quickchart\" onclick=\"quickchart('df-227008ab-70de-4bce-9f5f-56b7bb0c35c5')\"\n",
              "                title=\"Suggest charts\"\n",
              "                style=\"display:none;\">\n",
              "\n",
              "<svg xmlns=\"http://www.w3.org/2000/svg\" height=\"24px\"viewBox=\"0 0 24 24\"\n",
              "     width=\"24px\">\n",
              "    <g>\n",
              "        <path d=\"M19 3H5c-1.1 0-2 .9-2 2v14c0 1.1.9 2 2 2h14c1.1 0 2-.9 2-2V5c0-1.1-.9-2-2-2zM9 17H7v-7h2v7zm4 0h-2V7h2v10zm4 0h-2v-4h2v4z\"/>\n",
              "    </g>\n",
              "</svg>\n",
              "      </button>\n",
              "\n",
              "<style>\n",
              "  .colab-df-quickchart {\n",
              "      --bg-color: #E8F0FE;\n",
              "      --fill-color: #1967D2;\n",
              "      --hover-bg-color: #E2EBFA;\n",
              "      --hover-fill-color: #174EA6;\n",
              "      --disabled-fill-color: #AAA;\n",
              "      --disabled-bg-color: #DDD;\n",
              "  }\n",
              "\n",
              "  [theme=dark] .colab-df-quickchart {\n",
              "      --bg-color: #3B4455;\n",
              "      --fill-color: #D2E3FC;\n",
              "      --hover-bg-color: #434B5C;\n",
              "      --hover-fill-color: #FFFFFF;\n",
              "      --disabled-bg-color: #3B4455;\n",
              "      --disabled-fill-color: #666;\n",
              "  }\n",
              "\n",
              "  .colab-df-quickchart {\n",
              "    background-color: var(--bg-color);\n",
              "    border: none;\n",
              "    border-radius: 50%;\n",
              "    cursor: pointer;\n",
              "    display: none;\n",
              "    fill: var(--fill-color);\n",
              "    height: 32px;\n",
              "    padding: 0;\n",
              "    width: 32px;\n",
              "  }\n",
              "\n",
              "  .colab-df-quickchart:hover {\n",
              "    background-color: var(--hover-bg-color);\n",
              "    box-shadow: 0 1px 2px rgba(60, 64, 67, 0.3), 0 1px 3px 1px rgba(60, 64, 67, 0.15);\n",
              "    fill: var(--button-hover-fill-color);\n",
              "  }\n",
              "\n",
              "  .colab-df-quickchart-complete:disabled,\n",
              "  .colab-df-quickchart-complete:disabled:hover {\n",
              "    background-color: var(--disabled-bg-color);\n",
              "    fill: var(--disabled-fill-color);\n",
              "    box-shadow: none;\n",
              "  }\n",
              "\n",
              "  .colab-df-spinner {\n",
              "    border: 2px solid var(--fill-color);\n",
              "    border-color: transparent;\n",
              "    border-bottom-color: var(--fill-color);\n",
              "    animation:\n",
              "      spin 1s steps(1) infinite;\n",
              "  }\n",
              "\n",
              "  @keyframes spin {\n",
              "    0% {\n",
              "      border-color: transparent;\n",
              "      border-bottom-color: var(--fill-color);\n",
              "      border-left-color: var(--fill-color);\n",
              "    }\n",
              "    20% {\n",
              "      border-color: transparent;\n",
              "      border-left-color: var(--fill-color);\n",
              "      border-top-color: var(--fill-color);\n",
              "    }\n",
              "    30% {\n",
              "      border-color: transparent;\n",
              "      border-left-color: var(--fill-color);\n",
              "      border-top-color: var(--fill-color);\n",
              "      border-right-color: var(--fill-color);\n",
              "    }\n",
              "    40% {\n",
              "      border-color: transparent;\n",
              "      border-right-color: var(--fill-color);\n",
              "      border-top-color: var(--fill-color);\n",
              "    }\n",
              "    60% {\n",
              "      border-color: transparent;\n",
              "      border-right-color: var(--fill-color);\n",
              "    }\n",
              "    80% {\n",
              "      border-color: transparent;\n",
              "      border-right-color: var(--fill-color);\n",
              "      border-bottom-color: var(--fill-color);\n",
              "    }\n",
              "    90% {\n",
              "      border-color: transparent;\n",
              "      border-bottom-color: var(--fill-color);\n",
              "    }\n",
              "  }\n",
              "</style>\n",
              "\n",
              "      <script>\n",
              "        async function quickchart(key) {\n",
              "          const quickchartButtonEl =\n",
              "            document.querySelector('#' + key + ' button');\n",
              "          quickchartButtonEl.disabled = true;  // To prevent multiple clicks.\n",
              "          quickchartButtonEl.classList.add('colab-df-spinner');\n",
              "          try {\n",
              "            const charts = await google.colab.kernel.invokeFunction(\n",
              "                'suggestCharts', [key], {});\n",
              "          } catch (error) {\n",
              "            console.error('Error during call to suggestCharts:', error);\n",
              "          }\n",
              "          quickchartButtonEl.classList.remove('colab-df-spinner');\n",
              "          quickchartButtonEl.classList.add('colab-df-quickchart-complete');\n",
              "        }\n",
              "        (() => {\n",
              "          let quickchartButtonEl =\n",
              "            document.querySelector('#df-227008ab-70de-4bce-9f5f-56b7bb0c35c5 button');\n",
              "          quickchartButtonEl.style.display =\n",
              "            google.colab.kernel.accessAllowed ? 'block' : 'none';\n",
              "        })();\n",
              "      </script>\n",
              "    </div>\n",
              "\n",
              "    </div>\n",
              "  </div>\n"
            ],
            "application/vnd.google.colaboratory.intrinsic+json": {
              "type": "dataframe",
              "summary": "{\n  \"name\": \"tips\",\n  \"rows\": 11,\n  \"fields\": [\n    {\n      \"column\": \"total_bill\",\n      \"properties\": {\n        \"dtype\": \"number\",\n        \"std\": 80.57800601480773,\n        \"min\": 3.07,\n        \"max\": 244.0,\n        \"num_unique_values\": 8,\n        \"samples\": [\n          19.78594262295082,\n          17.795,\n          244.0\n        ],\n        \"semantic_type\": \"\",\n        \"description\": \"\"\n      }\n    },\n    {\n      \"column\": \"tip\",\n      \"properties\": {\n        \"dtype\": \"number\",\n        \"std\": 85.10953159599222,\n        \"min\": 1.0,\n        \"max\": 244.0,\n        \"num_unique_values\": 8,\n        \"samples\": [\n          2.99827868852459,\n          2.9,\n          244.0\n        ],\n        \"semantic_type\": \"\",\n        \"description\": \"\"\n      }\n    },\n    {\n      \"column\": \"sex\",\n      \"properties\": {\n        \"dtype\": \"category\",\n        \"num_unique_values\": 4,\n        \"samples\": [\n          2,\n          \"157\",\n          \"244\"\n        ],\n        \"semantic_type\": \"\",\n        \"description\": \"\"\n      }\n    },\n    {\n      \"column\": \"smoker\",\n      \"properties\": {\n        \"dtype\": \"category\",\n        \"num_unique_values\": 4,\n        \"samples\": [\n          2,\n          \"151\",\n          \"244\"\n        ],\n        \"semantic_type\": \"\",\n        \"description\": \"\"\n      }\n    },\n    {\n      \"column\": \"day\",\n      \"properties\": {\n        \"dtype\": \"category\",\n        \"num_unique_values\": 4,\n        \"samples\": [\n          4,\n          \"87\",\n          \"244\"\n        ],\n        \"semantic_type\": \"\",\n        \"description\": \"\"\n      }\n    },\n    {\n      \"column\": \"time\",\n      \"properties\": {\n        \"dtype\": \"category\",\n        \"num_unique_values\": 4,\n        \"samples\": [\n          2,\n          \"176\",\n          \"244\"\n        ],\n        \"semantic_type\": \"\",\n        \"description\": \"\"\n      }\n    },\n    {\n      \"column\": \"size\",\n      \"properties\": {\n        \"dtype\": \"number\",\n        \"std\": 85.39686221774684,\n        \"min\": 0.9510998047322332,\n        \"max\": 244.0,\n        \"num_unique_values\": 7,\n        \"samples\": [\n          244.0,\n          2.569672131147541,\n          3.0\n        ],\n        \"semantic_type\": \"\",\n        \"description\": \"\"\n      }\n    }\n  ]\n}"
            }
          },
          "metadata": {},
          "execution_count": 7
        }
      ],
      "source": [
        "print(\"\\n Info about the tips dataset:\")\n",
        "tips.info()\n",
        "print(\"\\n Description the tips dataset:\")\n",
        "tips.describe(include='all')"
      ]
    },
    {
      "cell_type": "code",
      "source": [
        "print(\"\\nDiscription of numerical columns:\")\n",
        "tips.describe()"
      ],
      "metadata": {
        "id": "ETdo3cGKTgiN",
        "colab": {
          "base_uri": "https://localhost:8080/",
          "height": 335
        },
        "outputId": "0a6ecebc-f42e-4711-ddd1-5513bad69305"
      },
      "execution_count": null,
      "outputs": [
        {
          "output_type": "stream",
          "name": "stdout",
          "text": [
            "\n",
            "Discription of numerical columns:\n"
          ]
        },
        {
          "output_type": "execute_result",
          "data": {
            "text/plain": [
              "       total_bill         tip        size\n",
              "count  244.000000  244.000000  244.000000\n",
              "mean    19.785943    2.998279    2.569672\n",
              "std      8.902412    1.383638    0.951100\n",
              "min      3.070000    1.000000    1.000000\n",
              "25%     13.347500    2.000000    2.000000\n",
              "50%     17.795000    2.900000    2.000000\n",
              "75%     24.127500    3.562500    3.000000\n",
              "max     50.810000   10.000000    6.000000"
            ],
            "text/html": [
              "\n",
              "  <div id=\"df-290d74ff-cfb1-4131-a373-4551d2cd4701\" class=\"colab-df-container\">\n",
              "    <div>\n",
              "<style scoped>\n",
              "    .dataframe tbody tr th:only-of-type {\n",
              "        vertical-align: middle;\n",
              "    }\n",
              "\n",
              "    .dataframe tbody tr th {\n",
              "        vertical-align: top;\n",
              "    }\n",
              "\n",
              "    .dataframe thead th {\n",
              "        text-align: right;\n",
              "    }\n",
              "</style>\n",
              "<table border=\"1\" class=\"dataframe\">\n",
              "  <thead>\n",
              "    <tr style=\"text-align: right;\">\n",
              "      <th></th>\n",
              "      <th>total_bill</th>\n",
              "      <th>tip</th>\n",
              "      <th>size</th>\n",
              "    </tr>\n",
              "  </thead>\n",
              "  <tbody>\n",
              "    <tr>\n",
              "      <th>count</th>\n",
              "      <td>244.000000</td>\n",
              "      <td>244.000000</td>\n",
              "      <td>244.000000</td>\n",
              "    </tr>\n",
              "    <tr>\n",
              "      <th>mean</th>\n",
              "      <td>19.785943</td>\n",
              "      <td>2.998279</td>\n",
              "      <td>2.569672</td>\n",
              "    </tr>\n",
              "    <tr>\n",
              "      <th>std</th>\n",
              "      <td>8.902412</td>\n",
              "      <td>1.383638</td>\n",
              "      <td>0.951100</td>\n",
              "    </tr>\n",
              "    <tr>\n",
              "      <th>min</th>\n",
              "      <td>3.070000</td>\n",
              "      <td>1.000000</td>\n",
              "      <td>1.000000</td>\n",
              "    </tr>\n",
              "    <tr>\n",
              "      <th>25%</th>\n",
              "      <td>13.347500</td>\n",
              "      <td>2.000000</td>\n",
              "      <td>2.000000</td>\n",
              "    </tr>\n",
              "    <tr>\n",
              "      <th>50%</th>\n",
              "      <td>17.795000</td>\n",
              "      <td>2.900000</td>\n",
              "      <td>2.000000</td>\n",
              "    </tr>\n",
              "    <tr>\n",
              "      <th>75%</th>\n",
              "      <td>24.127500</td>\n",
              "      <td>3.562500</td>\n",
              "      <td>3.000000</td>\n",
              "    </tr>\n",
              "    <tr>\n",
              "      <th>max</th>\n",
              "      <td>50.810000</td>\n",
              "      <td>10.000000</td>\n",
              "      <td>6.000000</td>\n",
              "    </tr>\n",
              "  </tbody>\n",
              "</table>\n",
              "</div>\n",
              "    <div class=\"colab-df-buttons\">\n",
              "\n",
              "  <div class=\"colab-df-container\">\n",
              "    <button class=\"colab-df-convert\" onclick=\"convertToInteractive('df-290d74ff-cfb1-4131-a373-4551d2cd4701')\"\n",
              "            title=\"Convert this dataframe to an interactive table.\"\n",
              "            style=\"display:none;\">\n",
              "\n",
              "  <svg xmlns=\"http://www.w3.org/2000/svg\" height=\"24px\" viewBox=\"0 -960 960 960\">\n",
              "    <path d=\"M120-120v-720h720v720H120Zm60-500h600v-160H180v160Zm220 220h160v-160H400v160Zm0 220h160v-160H400v160ZM180-400h160v-160H180v160Zm440 0h160v-160H620v160ZM180-180h160v-160H180v160Zm440 0h160v-160H620v160Z\"/>\n",
              "  </svg>\n",
              "    </button>\n",
              "\n",
              "  <style>\n",
              "    .colab-df-container {\n",
              "      display:flex;\n",
              "      gap: 12px;\n",
              "    }\n",
              "\n",
              "    .colab-df-convert {\n",
              "      background-color: #E8F0FE;\n",
              "      border: none;\n",
              "      border-radius: 50%;\n",
              "      cursor: pointer;\n",
              "      display: none;\n",
              "      fill: #1967D2;\n",
              "      height: 32px;\n",
              "      padding: 0 0 0 0;\n",
              "      width: 32px;\n",
              "    }\n",
              "\n",
              "    .colab-df-convert:hover {\n",
              "      background-color: #E2EBFA;\n",
              "      box-shadow: 0px 1px 2px rgba(60, 64, 67, 0.3), 0px 1px 3px 1px rgba(60, 64, 67, 0.15);\n",
              "      fill: #174EA6;\n",
              "    }\n",
              "\n",
              "    .colab-df-buttons div {\n",
              "      margin-bottom: 4px;\n",
              "    }\n",
              "\n",
              "    [theme=dark] .colab-df-convert {\n",
              "      background-color: #3B4455;\n",
              "      fill: #D2E3FC;\n",
              "    }\n",
              "\n",
              "    [theme=dark] .colab-df-convert:hover {\n",
              "      background-color: #434B5C;\n",
              "      box-shadow: 0px 1px 3px 1px rgba(0, 0, 0, 0.15);\n",
              "      filter: drop-shadow(0px 1px 2px rgba(0, 0, 0, 0.3));\n",
              "      fill: #FFFFFF;\n",
              "    }\n",
              "  </style>\n",
              "\n",
              "    <script>\n",
              "      const buttonEl =\n",
              "        document.querySelector('#df-290d74ff-cfb1-4131-a373-4551d2cd4701 button.colab-df-convert');\n",
              "      buttonEl.style.display =\n",
              "        google.colab.kernel.accessAllowed ? 'block' : 'none';\n",
              "\n",
              "      async function convertToInteractive(key) {\n",
              "        const element = document.querySelector('#df-290d74ff-cfb1-4131-a373-4551d2cd4701');\n",
              "        const dataTable =\n",
              "          await google.colab.kernel.invokeFunction('convertToInteractive',\n",
              "                                                    [key], {});\n",
              "        if (!dataTable) return;\n",
              "\n",
              "        const docLinkHtml = 'Like what you see? Visit the ' +\n",
              "          '<a target=\"_blank\" href=https://colab.research.google.com/notebooks/data_table.ipynb>data table notebook</a>'\n",
              "          + ' to learn more about interactive tables.';\n",
              "        element.innerHTML = '';\n",
              "        dataTable['output_type'] = 'display_data';\n",
              "        await google.colab.output.renderOutput(dataTable, element);\n",
              "        const docLink = document.createElement('div');\n",
              "        docLink.innerHTML = docLinkHtml;\n",
              "        element.appendChild(docLink);\n",
              "      }\n",
              "    </script>\n",
              "  </div>\n",
              "\n",
              "\n",
              "    <div id=\"df-b02bff49-c218-48b8-869c-dd14c6c8ff09\">\n",
              "      <button class=\"colab-df-quickchart\" onclick=\"quickchart('df-b02bff49-c218-48b8-869c-dd14c6c8ff09')\"\n",
              "                title=\"Suggest charts\"\n",
              "                style=\"display:none;\">\n",
              "\n",
              "<svg xmlns=\"http://www.w3.org/2000/svg\" height=\"24px\"viewBox=\"0 0 24 24\"\n",
              "     width=\"24px\">\n",
              "    <g>\n",
              "        <path d=\"M19 3H5c-1.1 0-2 .9-2 2v14c0 1.1.9 2 2 2h14c1.1 0 2-.9 2-2V5c0-1.1-.9-2-2-2zM9 17H7v-7h2v7zm4 0h-2V7h2v10zm4 0h-2v-4h2v4z\"/>\n",
              "    </g>\n",
              "</svg>\n",
              "      </button>\n",
              "\n",
              "<style>\n",
              "  .colab-df-quickchart {\n",
              "      --bg-color: #E8F0FE;\n",
              "      --fill-color: #1967D2;\n",
              "      --hover-bg-color: #E2EBFA;\n",
              "      --hover-fill-color: #174EA6;\n",
              "      --disabled-fill-color: #AAA;\n",
              "      --disabled-bg-color: #DDD;\n",
              "  }\n",
              "\n",
              "  [theme=dark] .colab-df-quickchart {\n",
              "      --bg-color: #3B4455;\n",
              "      --fill-color: #D2E3FC;\n",
              "      --hover-bg-color: #434B5C;\n",
              "      --hover-fill-color: #FFFFFF;\n",
              "      --disabled-bg-color: #3B4455;\n",
              "      --disabled-fill-color: #666;\n",
              "  }\n",
              "\n",
              "  .colab-df-quickchart {\n",
              "    background-color: var(--bg-color);\n",
              "    border: none;\n",
              "    border-radius: 50%;\n",
              "    cursor: pointer;\n",
              "    display: none;\n",
              "    fill: var(--fill-color);\n",
              "    height: 32px;\n",
              "    padding: 0;\n",
              "    width: 32px;\n",
              "  }\n",
              "\n",
              "  .colab-df-quickchart:hover {\n",
              "    background-color: var(--hover-bg-color);\n",
              "    box-shadow: 0 1px 2px rgba(60, 64, 67, 0.3), 0 1px 3px 1px rgba(60, 64, 67, 0.15);\n",
              "    fill: var(--button-hover-fill-color);\n",
              "  }\n",
              "\n",
              "  .colab-df-quickchart-complete:disabled,\n",
              "  .colab-df-quickchart-complete:disabled:hover {\n",
              "    background-color: var(--disabled-bg-color);\n",
              "    fill: var(--disabled-fill-color);\n",
              "    box-shadow: none;\n",
              "  }\n",
              "\n",
              "  .colab-df-spinner {\n",
              "    border: 2px solid var(--fill-color);\n",
              "    border-color: transparent;\n",
              "    border-bottom-color: var(--fill-color);\n",
              "    animation:\n",
              "      spin 1s steps(1) infinite;\n",
              "  }\n",
              "\n",
              "  @keyframes spin {\n",
              "    0% {\n",
              "      border-color: transparent;\n",
              "      border-bottom-color: var(--fill-color);\n",
              "      border-left-color: var(--fill-color);\n",
              "    }\n",
              "    20% {\n",
              "      border-color: transparent;\n",
              "      border-left-color: var(--fill-color);\n",
              "      border-top-color: var(--fill-color);\n",
              "    }\n",
              "    30% {\n",
              "      border-color: transparent;\n",
              "      border-left-color: var(--fill-color);\n",
              "      border-top-color: var(--fill-color);\n",
              "      border-right-color: var(--fill-color);\n",
              "    }\n",
              "    40% {\n",
              "      border-color: transparent;\n",
              "      border-right-color: var(--fill-color);\n",
              "      border-top-color: var(--fill-color);\n",
              "    }\n",
              "    60% {\n",
              "      border-color: transparent;\n",
              "      border-right-color: var(--fill-color);\n",
              "    }\n",
              "    80% {\n",
              "      border-color: transparent;\n",
              "      border-right-color: var(--fill-color);\n",
              "      border-bottom-color: var(--fill-color);\n",
              "    }\n",
              "    90% {\n",
              "      border-color: transparent;\n",
              "      border-bottom-color: var(--fill-color);\n",
              "    }\n",
              "  }\n",
              "</style>\n",
              "\n",
              "      <script>\n",
              "        async function quickchart(key) {\n",
              "          const quickchartButtonEl =\n",
              "            document.querySelector('#' + key + ' button');\n",
              "          quickchartButtonEl.disabled = true;  // To prevent multiple clicks.\n",
              "          quickchartButtonEl.classList.add('colab-df-spinner');\n",
              "          try {\n",
              "            const charts = await google.colab.kernel.invokeFunction(\n",
              "                'suggestCharts', [key], {});\n",
              "          } catch (error) {\n",
              "            console.error('Error during call to suggestCharts:', error);\n",
              "          }\n",
              "          quickchartButtonEl.classList.remove('colab-df-spinner');\n",
              "          quickchartButtonEl.classList.add('colab-df-quickchart-complete');\n",
              "        }\n",
              "        (() => {\n",
              "          let quickchartButtonEl =\n",
              "            document.querySelector('#df-b02bff49-c218-48b8-869c-dd14c6c8ff09 button');\n",
              "          quickchartButtonEl.style.display =\n",
              "            google.colab.kernel.accessAllowed ? 'block' : 'none';\n",
              "        })();\n",
              "      </script>\n",
              "    </div>\n",
              "\n",
              "    </div>\n",
              "  </div>\n"
            ],
            "application/vnd.google.colaboratory.intrinsic+json": {
              "type": "dataframe",
              "summary": "{\n  \"name\": \"tips\",\n  \"rows\": 8,\n  \"fields\": [\n    {\n      \"column\": \"total_bill\",\n      \"properties\": {\n        \"dtype\": \"number\",\n        \"std\": 80.57800601480773,\n        \"min\": 3.07,\n        \"max\": 244.0,\n        \"num_unique_values\": 8,\n        \"samples\": [\n          19.78594262295082,\n          17.795,\n          244.0\n        ],\n        \"semantic_type\": \"\",\n        \"description\": \"\"\n      }\n    },\n    {\n      \"column\": \"tip\",\n      \"properties\": {\n        \"dtype\": \"number\",\n        \"std\": 85.10953159599222,\n        \"min\": 1.0,\n        \"max\": 244.0,\n        \"num_unique_values\": 8,\n        \"samples\": [\n          2.99827868852459,\n          2.9,\n          244.0\n        ],\n        \"semantic_type\": \"\",\n        \"description\": \"\"\n      }\n    },\n    {\n      \"column\": \"size\",\n      \"properties\": {\n        \"dtype\": \"number\",\n        \"std\": 85.39686221774684,\n        \"min\": 0.9510998047322332,\n        \"max\": 244.0,\n        \"num_unique_values\": 7,\n        \"samples\": [\n          244.0,\n          2.569672131147541,\n          3.0\n        ],\n        \"semantic_type\": \"\",\n        \"description\": \"\"\n      }\n    }\n  ]\n}"
            }
          },
          "metadata": {},
          "execution_count": 8
        }
      ]
    },
    {
      "cell_type": "markdown",
      "source": [
        "**PairPlot**"
      ],
      "metadata": {
        "id": "UgMgfJUx449L"
      }
    },
    {
      "cell_type": "code",
      "source": [
        "sns.pairplot(tips,hue='sex')\n",
        "plt.show()"
      ],
      "metadata": {
        "colab": {
          "base_uri": "https://localhost:8080/",
          "height": 758
        },
        "id": "QRNqS_3s4-2h",
        "outputId": "4612da8e-79ce-49bc-9d3c-6c3d53ecddac"
      },
      "execution_count": null,
      "outputs": [
        {
          "output_type": "display_data",
          "data": {
            "text/plain": [
              "<Figure size 850.25x750 with 12 Axes>"
            ],
            "image/png": "[encoded data removed]"
          },
          "metadata": {}
        }
      ]
    },
    {
      "cell_type": "code",
      "source": [
        "corr=tips.corr(numeric_only=True)\n",
        "sns.heatmap(corr,annot=True,cmap='coolwarm')\n",
        "plt.title(\"Correlation\")\n",
        "plt.show()\n"
      ],
      "metadata": {
        "colab": {
          "base_uri": "https://localhost:8080/",
          "height": 452
        },
        "id": "tNZA4aYn5yJ2",
        "outputId": "f4f3ce5e-ba04-42a0-df1e-1fb839c5ed3d"
      },
      "execution_count": null,
      "outputs": [
        {
          "output_type": "display_data",
          "data": {
            "text/plain": [
              "<Figure size 640x480 with 2 Axes>"
            ],
            "image/png": "[encoded data removed]"
          },
          "metadata": {}
        }
      ]
    },
    {
      "cell_type": "markdown",
      "source": [
        "**Count plot**"
      ],
      "metadata": {
        "id": "UtYPeQzP550R"
      }
    },
    {
      "cell_type": "code",
      "source": [
        "sns.countplot(x='day',data=tips,palette='viridis',hue='day',legend=False)\n",
        "plt.title(\"Count of Bills by Day\")\n",
        "plt.show()"
      ],
      "metadata": {
        "colab": {
          "base_uri": "https://localhost:8080/",
          "height": 472
        },
        "id": "Nwma3Fo56Dko",
        "outputId": "23dbc7d0-0b6b-4d2e-ca08-5b20561a6583"
      },
      "execution_count": null,
      "outputs": [
        {
          "output_type": "display_data",
          "data": {
            "text/plain": [
              "<Figure size 640x480 with 1 Axes>"
            ],
            "image/png": "[encoded data removed]"
          },
          "metadata": {}
        }
      ]
    },
    {
      "cell_type": "markdown",
      "source": [
        "**BoxPlot**"
      ],
      "metadata": {
        "id": "u5sarCaB6ZJV"
      }
    },
    {
      "cell_type": "code",
      "source": [
        "sns.boxplot(x='day',y='total_bill',data=tips)\n",
        "plt.title(\"Boxplot of Total Bill by Day\")\n",
        "plt.show()"
      ],
      "metadata": {
        "colab": {
          "base_uri": "https://localhost:8080/",
          "height": 472
        },
        "id": "LVB-RiDG6dXX",
        "outputId": "9c3c20a8-4a26-4785-ad22-121a9d965fda"
      },
      "execution_count": null,
      "outputs": [
        {
          "output_type": "display_data",
          "data": {
            "text/plain": [
              "<Figure size 640x480 with 1 Axes>"
            ],
            "image/png": "[encoded data removed]"
          },
          "metadata": {}
        }
      ]
    },
    {
      "cell_type": "markdown",
      "source": [
        "# **Data Prepocessing in Python**"
      ],
      "metadata": {
        "id": "axf_ImkdRbCE"
      }
    },
    {
      "cell_type": "markdown",
      "source": [
        "**Why Data Prepocessing?**\n",
        "\n",
        "it can have missing values,wrong formats,different scales, or categories that need conversion"
      ],
      "metadata": {
        "id": "XVALu3iPRkoq"
      }
    },
    {
      "cell_type": "markdown",
      "source": [
        "**Handling Missing values**\n",
        "\n",
        "\n",
        "*   human errror\n",
        "*   data corruption\n",
        "*   not applicable fields\n",
        "\n",
        "\n",
        "\n"
      ],
      "metadata": {
        "id": "l6zz6UmbSWdr"
      }
    },
    {
      "cell_type": "markdown",
      "source": [
        "**Cheack for Missing values**"
      ],
      "metadata": {
        "id": "26iehaDaTRzr"
      }
    },
    {
      "cell_type": "code",
      "source": [
        "import pandas as pd\n",
        "\n",
        "df = pd.read_csv('https://raw.githubusercontent.com/datasciencedojo/datasets/master/titanic.csv')\n",
        "df.isnull().sum()"
      ],
      "metadata": {
        "colab": {
          "base_uri": "https://localhost:8080/",
          "height": 460
        },
        "id": "1qy94wDjSccL",
        "outputId": "19f7b47a-1d3c-4e75-cccb-417dc35b07bb"
      },
      "execution_count": null,
      "outputs": [
        {
          "output_type": "execute_result",
          "data": {
            "text/plain": [
              "PassengerId      0\n",
              "Survived         0\n",
              "Pclass           0\n",
              "Name             0\n",
              "Sex              0\n",
              "Age            177\n",
              "SibSp            0\n",
              "Parch            0\n",
              "Ticket           0\n",
              "Fare             0\n",
              "Cabin          687\n",
              "Embarked         2\n",
              "dtype: int64"
            ],
            "text/html": [
              "<div>\n",
              "<style scoped>\n",
              "    .dataframe tbody tr th:only-of-type {\n",
              "        vertical-align: middle;\n",
              "    }\n",
              "\n",
              "    .dataframe tbody tr th {\n",
              "        vertical-align: top;\n",
              "    }\n",
              "\n",
              "    .dataframe thead th {\n",
              "        text-align: right;\n",
              "    }\n",
              "</style>\n",
              "<table border=\"1\" class=\"dataframe\">\n",
              "  <thead>\n",
              "    <tr style=\"text-align: right;\">\n",
              "      <th></th>\n",
              "      <th>0</th>\n",
              "    </tr>\n",
              "  </thead>\n",
              "  <tbody>\n",
              "    <tr>\n",
              "      <th>PassengerId</th>\n",
              "      <td>0</td>\n",
              "    </tr>\n",
              "    <tr>\n",
              "      <th>Survived</th>\n",
              "      <td>0</td>\n",
              "    </tr>\n",
              "    <tr>\n",
              "      <th>Pclass</th>\n",
              "      <td>0</td>\n",
              "    </tr>\n",
              "    <tr>\n",
              "      <th>Name</th>\n",
              "      <td>0</td>\n",
              "    </tr>\n",
              "    <tr>\n",
              "      <th>Sex</th>\n",
              "      <td>0</td>\n",
              "    </tr>\n",
              "    <tr>\n",
              "      <th>Age</th>\n",
              "      <td>177</td>\n",
              "    </tr>\n",
              "    <tr>\n",
              "      <th>SibSp</th>\n",
              "      <td>0</td>\n",
              "    </tr>\n",
              "    <tr>\n",
              "      <th>Parch</th>\n",
              "      <td>0</td>\n",
              "    </tr>\n",
              "    <tr>\n",
              "      <th>Ticket</th>\n",
              "      <td>0</td>\n",
              "    </tr>\n",
              "    <tr>\n",
              "      <th>Fare</th>\n",
              "      <td>0</td>\n",
              "    </tr>\n",
              "    <tr>\n",
              "      <th>Cabin</th>\n",
              "      <td>687</td>\n",
              "    </tr>\n",
              "    <tr>\n",
              "      <th>Embarked</th>\n",
              "      <td>2</td>\n",
              "    </tr>\n",
              "  </tbody>\n",
              "</table>\n",
              "</div><br><label><b>dtype:</b> int64</label>"
            ]
          },
          "metadata": {},
          "execution_count": 3
        }
      ]
    },
    {
      "cell_type": "code",
      "source": [
        "df[df.isnull().any(axis=1)]"
      ],
      "metadata": {
        "colab": {
          "base_uri": "https://localhost:8080/",
          "height": 424
        },
        "id": "g4PjRahWVAbc",
        "outputId": "bdfada3f-4b33-48d5-9be7-b71e9423b762"
      },
      "execution_count": null,
      "outputs": [
        {
          "output_type": "execute_result",
          "data": {
            "text/plain": [
              "     PassengerId  Survived  Pclass                                      Name  \\\n",
              "0              1         0       3                   Braund, Mr. Owen Harris   \n",
              "2              3         1       3                    Heikkinen, Miss. Laina   \n",
              "4              5         0       3                  Allen, Mr. William Henry   \n",
              "5              6         0       3                          Moran, Mr. James   \n",
              "7              8         0       3            Palsson, Master. Gosta Leonard   \n",
              "..           ...       ...     ...                                       ...   \n",
              "884          885         0       3                    Sutehall, Mr. Henry Jr   \n",
              "885          886         0       3      Rice, Mrs. William (Margaret Norton)   \n",
              "886          887         0       2                     Montvila, Rev. Juozas   \n",
              "888          889         0       3  Johnston, Miss. Catherine Helen \"Carrie\"   \n",
              "890          891         0       3                       Dooley, Mr. Patrick   \n",
              "\n",
              "        Sex   Age  SibSp  Parch            Ticket     Fare Cabin Embarked  \n",
              "0      male  22.0      1      0         A/5 21171   7.2500   NaN        S  \n",
              "2    female  26.0      0      0  STON/O2. 3101282   7.9250   NaN        S  \n",
              "4      male  35.0      0      0            373450   8.0500   NaN        S  \n",
              "5      male   NaN      0      0            330877   8.4583   NaN        Q  \n",
              "7      male   2.0      3      1            349909  21.0750   NaN        S  \n",
              "..      ...   ...    ...    ...               ...      ...   ...      ...  \n",
              "884    male  25.0      0      0   SOTON/OQ 392076   7.0500   NaN        S  \n",
              "885  female  39.0      0      5            382652  29.1250   NaN        Q  \n",
              "886    male  27.0      0      0            211536  13.0000   NaN        S  \n",
              "888  female   NaN      1      2        W./C. 6607  23.4500   NaN        S  \n",
              "890    male  32.0      0      0            370376   7.7500   NaN        Q  \n",
              "\n",
              "[708 rows x 12 columns]"
            ],
            "text/html": [
              "\n",
              "  <div id=\"df-e28188b5-c507-4214-9c28-a50486dd4d3f\" class=\"colab-df-container\">\n",
              "    <div>\n",
              "<style scoped>\n",
              "    .dataframe tbody tr th:only-of-type {\n",
              "        vertical-align: middle;\n",
              "    }\n",
              "\n",
              "    .dataframe tbody tr th {\n",
              "        vertical-align: top;\n",
              "    }\n",
              "\n",
              "    .dataframe thead th {\n",
              "        text-align: right;\n",
              "    }\n",
              "</style>\n",
              "<table border=\"1\" class=\"dataframe\">\n",
              "  <thead>\n",
              "    <tr style=\"text-align: right;\">\n",
              "      <th></th>\n",
              "      <th>PassengerId</th>\n",
              "      <th>Survived</th>\n",
              "      <th>Pclass</th>\n",
              "      <th>Name</th>\n",
              "      <th>Sex</th>\n",
              "      <th>Age</th>\n",
              "      <th>SibSp</th>\n",
              "      <th>Parch</th>\n",
              "      <th>Ticket</th>\n",
              "      <th>Fare</th>\n",
              "      <th>Cabin</th>\n",
              "      <th>Embarked</th>\n",
              "    </tr>\n",
              "  </thead>\n",
              "  <tbody>\n",
              "    <tr>\n",
              "      <th>0</th>\n",
              "      <td>1</td>\n",
              "      <td>0</td>\n",
              "      <td>3</td>\n",
              "      <td>Braund, Mr. Owen Harris</td>\n",
              "      <td>male</td>\n",
              "      <td>22.0</td>\n",
              "      <td>1</td>\n",
              "      <td>0</td>\n",
              "      <td>A/5 21171</td>\n",
              "      <td>7.2500</td>\n",
              "      <td>NaN</td>\n",
              "      <td>S</td>\n",
              "    </tr>\n",
              "    <tr>\n",
              "      <th>2</th>\n",
              "      <td>3</td>\n",
              "      <td>1</td>\n",
              "      <td>3</td>\n",
              "      <td>Heikkinen, Miss. Laina</td>\n",
              "      <td>female</td>\n",
              "      <td>26.0</td>\n",
              "      <td>0</td>\n",
              "      <td>0</td>\n",
              "      <td>STON/O2. 3101282</td>\n",
              "      <td>7.9250</td>\n",
              "      <td>NaN</td>\n",
              "      <td>S</td>\n",
              "    </tr>\n",
              "    <tr>\n",
              "      <th>4</th>\n",
              "      <td>5</td>\n",
              "      <td>0</td>\n",
              "      <td>3</td>\n",
              "      <td>Allen, Mr. William Henry</td>\n",
              "      <td>male</td>\n",
              "      <td>35.0</td>\n",
              "      <td>0</td>\n",
              "      <td>0</td>\n",
              "      <td>373450</td>\n",
              "      <td>8.0500</td>\n",
              "      <td>NaN</td>\n",
              "      <td>S</td>\n",
              "    </tr>\n",
              "    <tr>\n",
              "      <th>5</th>\n",
              "      <td>6</td>\n",
              "      <td>0</td>\n",
              "      <td>3</td>\n",
              "      <td>Moran, Mr. James</td>\n",
              "      <td>male</td>\n",
              "      <td>NaN</td>\n",
              "      <td>0</td>\n",
              "      <td>0</td>\n",
              "      <td>330877</td>\n",
              "      <td>8.4583</td>\n",
              "      <td>NaN</td>\n",
              "      <td>Q</td>\n",
              "    </tr>\n",
              "    <tr>\n",
              "      <th>7</th>\n",
              "      <td>8</td>\n",
              "      <td>0</td>\n",
              "      <td>3</td>\n",
              "      <td>Palsson, Master. Gosta Leonard</td>\n",
              "      <td>male</td>\n",
              "      <td>2.0</td>\n",
              "      <td>3</td>\n",
              "      <td>1</td>\n",
              "      <td>349909</td>\n",
              "      <td>21.0750</td>\n",
              "      <td>NaN</td>\n",
              "      <td>S</td>\n",
              "    </tr>\n",
              "    <tr>\n",
              "      <th>...</th>\n",
              "      <td>...</td>\n",
              "      <td>...</td>\n",
              "      <td>...</td>\n",
              "      <td>...</td>\n",
              "      <td>...</td>\n",
              "      <td>...</td>\n",
              "      <td>...</td>\n",
              "      <td>...</td>\n",
              "      <td>...</td>\n",
              "      <td>...</td>\n",
              "      <td>...</td>\n",
              "      <td>...</td>\n",
              "    </tr>\n",
              "    <tr>\n",
              "      <th>884</th>\n",
              "      <td>885</td>\n",
              "      <td>0</td>\n",
              "      <td>3</td>\n",
              "      <td>Sutehall, Mr. Henry Jr</td>\n",
              "      <td>male</td>\n",
              "      <td>25.0</td>\n",
              "      <td>0</td>\n",
              "      <td>0</td>\n",
              "      <td>SOTON/OQ 392076</td>\n",
              "      <td>7.0500</td>\n",
              "      <td>NaN</td>\n",
              "      <td>S</td>\n",
              "    </tr>\n",
              "    <tr>\n",
              "      <th>885</th>\n",
              "      <td>886</td>\n",
              "      <td>0</td>\n",
              "      <td>3</td>\n",
              "      <td>Rice, Mrs. William (Margaret Norton)</td>\n",
              "      <td>female</td>\n",
              "      <td>39.0</td>\n",
              "      <td>0</td>\n",
              "      <td>5</td>\n",
              "      <td>382652</td>\n",
              "      <td>29.1250</td>\n",
              "      <td>NaN</td>\n",
              "      <td>Q</td>\n",
              "    </tr>\n",
              "    <tr>\n",
              "      <th>886</th>\n",
              "      <td>887</td>\n",
              "      <td>0</td>\n",
              "      <td>2</td>\n",
              "      <td>Montvila, Rev. Juozas</td>\n",
              "      <td>male</td>\n",
              "      <td>27.0</td>\n",
              "      <td>0</td>\n",
              "      <td>0</td>\n",
              "      <td>211536</td>\n",
              "      <td>13.0000</td>\n",
              "      <td>NaN</td>\n",
              "      <td>S</td>\n",
              "    </tr>\n",
              "    <tr>\n",
              "      <th>888</th>\n",
              "      <td>889</td>\n",
              "      <td>0</td>\n",
              "      <td>3</td>\n",
              "      <td>Johnston, Miss. Catherine Helen \"Carrie\"</td>\n",
              "      <td>female</td>\n",
              "      <td>NaN</td>\n",
              "      <td>1</td>\n",
              "      <td>2</td>\n",
              "      <td>W./C. 6607</td>\n",
              "      <td>23.4500</td>\n",
              "      <td>NaN</td>\n",
              "      <td>S</td>\n",
              "    </tr>\n",
              "    <tr>\n",
              "      <th>890</th>\n",
              "      <td>891</td>\n",
              "      <td>0</td>\n",
              "      <td>3</td>\n",
              "      <td>Dooley, Mr. Patrick</td>\n",
              "      <td>male</td>\n",
              "      <td>32.0</td>\n",
              "      <td>0</td>\n",
              "      <td>0</td>\n",
              "      <td>370376</td>\n",
              "      <td>7.7500</td>\n",
              "      <td>NaN</td>\n",
              "      <td>Q</td>\n",
              "    </tr>\n",
              "  </tbody>\n",
              "</table>\n",
              "<p>708 rows × 12 columns</p>\n",
              "</div>\n",
              "    <div class=\"colab-df-buttons\">\n",
              "\n",
              "  <div class=\"colab-df-container\">\n",
              "    <button class=\"colab-df-convert\" onclick=\"convertToInteractive('df-e28188b5-c507-4214-9c28-a50486dd4d3f')\"\n",
              "            title=\"Convert this dataframe to an interactive table.\"\n",
              "            style=\"display:none;\">\n",
              "\n",
              "  <svg xmlns=\"http://www.w3.org/2000/svg\" height=\"24px\" viewBox=\"0 -960 960 960\">\n",
              "    <path d=\"M120-120v-720h720v720H120Zm60-500h600v-160H180v160Zm220 220h160v-160H400v160Zm0 220h160v-160H400v160ZM180-400h160v-160H180v160Zm440 0h160v-160H620v160ZM180-180h160v-160H180v160Zm440 0h160v-160H620v160Z\"/>\n",
              "  </svg>\n",
              "    </button>\n",
              "\n",
              "  <style>\n",
              "    .colab-df-container {\n",
              "      display:flex;\n",
              "      gap: 12px;\n",
              "    }\n",
              "\n",
              "    .colab-df-convert {\n",
              "      background-color: #E8F0FE;\n",
              "      border: none;\n",
              "      border-radius: 50%;\n",
              "      cursor: pointer;\n",
              "      display: none;\n",
              "      fill: #1967D2;\n",
              "      height: 32px;\n",
              "      padding: 0 0 0 0;\n",
              "      width: 32px;\n",
              "    }\n",
              "\n",
              "    .colab-df-convert:hover {\n",
              "      background-color: #E2EBFA;\n",
              "      box-shadow: 0px 1px 2px rgba(60, 64, 67, 0.3), 0px 1px 3px 1px rgba(60, 64, 67, 0.15);\n",
              "      fill: #174EA6;\n",
              "    }\n",
              "\n",
              "    .colab-df-buttons div {\n",
              "      margin-bottom: 4px;\n",
              "    }\n",
              "\n",
              "    [theme=dark] .colab-df-convert {\n",
              "      background-color: #3B4455;\n",
              "      fill: #D2E3FC;\n",
              "    }\n",
              "\n",
              "    [theme=dark] .colab-df-convert:hover {\n",
              "      background-color: #434B5C;\n",
              "      box-shadow: 0px 1px 3px 1px rgba(0, 0, 0, 0.15);\n",
              "      filter: drop-shadow(0px 1px 2px rgba(0, 0, 0, 0.3));\n",
              "      fill: #FFFFFF;\n",
              "    }\n",
              "  </style>\n",
              "\n",
              "    <script>\n",
              "      const buttonEl =\n",
              "        document.querySelector('#df-e28188b5-c507-4214-9c28-a50486dd4d3f button.colab-df-convert');\n",
              "      buttonEl.style.display =\n",
              "        google.colab.kernel.accessAllowed ? 'block' : 'none';\n",
              "\n",
              "      async function convertToInteractive(key) {\n",
              "        const element = document.querySelector('#df-e28188b5-c507-4214-9c28-a50486dd4d3f');\n",
              "        const dataTable =\n",
              "          await google.colab.kernel.invokeFunction('convertToInteractive',\n",
              "                                                    [key], {});\n",
              "        if (!dataTable) return;\n",
              "\n",
              "        const docLinkHtml = 'Like what you see? Visit the ' +\n",
              "          '<a target=\"_blank\" href=https://colab.research.google.com/notebooks/data_table.ipynb>data table notebook</a>'\n",
              "          + ' to learn more about interactive tables.';\n",
              "        element.innerHTML = '';\n",
              "        dataTable['output_type'] = 'display_data';\n",
              "        await google.colab.output.renderOutput(dataTable, element);\n",
              "        const docLink = document.createElement('div');\n",
              "        docLink.innerHTML = docLinkHtml;\n",
              "        element.appendChild(docLink);\n",
              "      }\n",
              "    </script>\n",
              "  </div>\n",
              "\n",
              "\n",
              "    <div id=\"df-c4d14225-d066-4a4f-a537-ec0962f80d7f\">\n",
              "      <button class=\"colab-df-quickchart\" onclick=\"quickchart('df-c4d14225-d066-4a4f-a537-ec0962f80d7f')\"\n",
              "                title=\"Suggest charts\"\n",
              "                style=\"display:none;\">\n",
              "\n",
              "<svg xmlns=\"http://www.w3.org/2000/svg\" height=\"24px\"viewBox=\"0 0 24 24\"\n",
              "     width=\"24px\">\n",
              "    <g>\n",
              "        <path d=\"M19 3H5c-1.1 0-2 .9-2 2v14c0 1.1.9 2 2 2h14c1.1 0 2-.9 2-2V5c0-1.1-.9-2-2-2zM9 17H7v-7h2v7zm4 0h-2V7h2v10zm4 0h-2v-4h2v4z\"/>\n",
              "    </g>\n",
              "</svg>\n",
              "      </button>\n",
              "\n",
              "<style>\n",
              "  .colab-df-quickchart {\n",
              "      --bg-color: #E8F0FE;\n",
              "      --fill-color: #1967D2;\n",
              "      --hover-bg-color: #E2EBFA;\n",
              "      --hover-fill-color: #174EA6;\n",
              "      --disabled-fill-color: #AAA;\n",
              "      --disabled-bg-color: #DDD;\n",
              "  }\n",
              "\n",
              "  [theme=dark] .colab-df-quickchart {\n",
              "      --bg-color: #3B4455;\n",
              "      --fill-color: #D2E3FC;\n",
              "      --hover-bg-color: #434B5C;\n",
              "      --hover-fill-color: #FFFFFF;\n",
              "      --disabled-bg-color: #3B4455;\n",
              "      --disabled-fill-color: #666;\n",
              "  }\n",
              "\n",
              "  .colab-df-quickchart {\n",
              "    background-color: var(--bg-color);\n",
              "    border: none;\n",
              "    border-radius: 50%;\n",
              "    cursor: pointer;\n",
              "    display: none;\n",
              "    fill: var(--fill-color);\n",
              "    height: 32px;\n",
              "    padding: 0;\n",
              "    width: 32px;\n",
              "  }\n",
              "\n",
              "  .colab-df-quickchart:hover {\n",
              "    background-color: var(--hover-bg-color);\n",
              "    box-shadow: 0 1px 2px rgba(60, 64, 67, 0.3), 0 1px 3px 1px rgba(60, 64, 67, 0.15);\n",
              "    fill: var(--button-hover-fill-color);\n",
              "  }\n",
              "\n",
              "  .colab-df-quickchart-complete:disabled,\n",
              "  .colab-df-quickchart-complete:disabled:hover {\n",
              "    background-color: var(--disabled-bg-color);\n",
              "    fill: var(--disabled-fill-color);\n",
              "    box-shadow: none;\n",
              "  }\n",
              "\n",
              "  .colab-df-spinner {\n",
              "    border: 2px solid var(--fill-color);\n",
              "    border-color: transparent;\n",
              "    border-bottom-color: var(--fill-color);\n",
              "    animation:\n",
              "      spin 1s steps(1) infinite;\n",
              "  }\n",
              "\n",
              "  @keyframes spin {\n",
              "    0% {\n",
              "      border-color: transparent;\n",
              "      border-bottom-color: var(--fill-color);\n",
              "      border-left-color: var(--fill-color);\n",
              "    }\n",
              "    20% {\n",
              "      border-color: transparent;\n",
              "      border-left-color: var(--fill-color);\n",
              "      border-top-color: var(--fill-color);\n",
              "    }\n",
              "    30% {\n",
              "      border-color: transparent;\n",
              "      border-left-color: var(--fill-color);\n",
              "      border-top-color: var(--fill-color);\n",
              "      border-right-color: var(--fill-color);\n",
              "    }\n",
              "    40% {\n",
              "      border-color: transparent;\n",
              "      border-right-color: var(--fill-color);\n",
              "      border-top-color: var(--fill-color);\n",
              "    }\n",
              "    60% {\n",
              "      border-color: transparent;\n",
              "      border-right-color: var(--fill-color);\n",
              "    }\n",
              "    80% {\n",
              "      border-color: transparent;\n",
              "      border-right-color: var(--fill-color);\n",
              "      border-bottom-color: var(--fill-color);\n",
              "    }\n",
              "    90% {\n",
              "      border-color: transparent;\n",
              "      border-bottom-color: var(--fill-color);\n",
              "    }\n",
              "  }\n",
              "</style>\n",
              "\n",
              "      <script>\n",
              "        async function quickchart(key) {\n",
              "          const quickchartButtonEl =\n",
              "            document.querySelector('#' + key + ' button');\n",
              "          quickchartButtonEl.disabled = true;  // To prevent multiple clicks.\n",
              "          quickchartButtonEl.classList.add('colab-df-spinner');\n",
              "          try {\n",
              "            const charts = await google.colab.kernel.invokeFunction(\n",
              "                'suggestCharts', [key], {});\n",
              "          } catch (error) {\n",
              "            console.error('Error during call to suggestCharts:', error);\n",
              "          }\n",
              "          quickchartButtonEl.classList.remove('colab-df-spinner');\n",
              "          quickchartButtonEl.classList.add('colab-df-quickchart-complete');\n",
              "        }\n",
              "        (() => {\n",
              "          let quickchartButtonEl =\n",
              "            document.querySelector('#df-c4d14225-d066-4a4f-a537-ec0962f80d7f button');\n",
              "          quickchartButtonEl.style.display =\n",
              "            google.colab.kernel.accessAllowed ? 'block' : 'none';\n",
              "        })();\n",
              "      </script>\n",
              "    </div>\n",
              "\n",
              "    </div>\n",
              "  </div>\n"
            ],
            "application/vnd.google.colaboratory.intrinsic+json": {
              "type": "dataframe",
              "summary": "{\n  \"name\": \"df[df\",\n  \"rows\": 708,\n  \"fields\": [\n    {\n      \"column\": \"PassengerId\",\n      \"properties\": {\n        \"dtype\": \"number\",\n        \"std\": 260,\n        \"min\": 1,\n        \"max\": 891,\n        \"num_unique_values\": 708,\n        \"samples\": [\n          146,\n          303,\n          406\n        ],\n        \"semantic_type\": \"\",\n        \"description\": \"\"\n      }\n    },\n    {\n      \"column\": \"Survived\",\n      \"properties\": {\n        \"dtype\": \"number\",\n        \"std\": 0,\n        \"min\": 0,\n        \"max\": 1,\n        \"num_unique_values\": 2,\n        \"samples\": [\n          1,\n          0\n        ],\n        \"semantic_type\": \"\",\n        \"description\": \"\"\n      }\n    },\n    {\n      \"column\": \"Pclass\",\n      \"properties\": {\n        \"dtype\": \"number\",\n        \"std\": 0,\n        \"min\": 1,\n        \"max\": 3,\n        \"num_unique_values\": 3,\n        \"samples\": [\n          3,\n          2\n        ],\n        \"semantic_type\": \"\",\n        \"description\": \"\"\n      }\n    },\n    {\n      \"column\": \"Name\",\n      \"properties\": {\n        \"dtype\": \"string\",\n        \"num_unique_values\": 708,\n        \"samples\": [\n          \"Nicholls, Mr. Joseph Charles\",\n          \"Johnson, Mr. William Cahoone Jr\"\n        ],\n        \"semantic_type\": \"\",\n        \"description\": \"\"\n      }\n    },\n    {\n      \"column\": \"Sex\",\n      \"properties\": {\n        \"dtype\": \"category\",\n        \"num_unique_values\": 2,\n        \"samples\": [\n          \"female\",\n          \"male\"\n        ],\n        \"semantic_type\": \"\",\n        \"description\": \"\"\n      }\n    },\n    {\n      \"column\": \"Age\",\n      \"properties\": {\n        \"dtype\": \"number\",\n        \"std\": 13.537508736891258,\n        \"min\": 0.42,\n        \"max\": 74.0,\n        \"num_unique_values\": 83,\n        \"samples\": [\n          0.83,\n          22.0\n        ],\n        \"semantic_type\": \"\",\n        \"description\": \"\"\n      }\n    },\n    {\n      \"column\": \"SibSp\",\n      \"properties\": {\n        \"dtype\": \"number\",\n        \"std\": 1,\n        \"min\": 0,\n        \"max\": 8,\n        \"num_unique_values\": 7,\n        \"samples\": [\n          1,\n          0\n        ],\n        \"semantic_type\": \"\",\n        \"description\": \"\"\n      }\n    },\n    {\n      \"column\": \"Parch\",\n      \"properties\": {\n        \"dtype\": \"number\",\n        \"std\": 0,\n        \"min\": 0,\n        \"max\": 6,\n        \"num_unique_values\": 7,\n        \"samples\": [\n          0,\n          1\n        ],\n        \"semantic_type\": \"\",\n        \"description\": \"\"\n      }\n    },\n    {\n      \"column\": \"Ticket\",\n      \"properties\": {\n        \"dtype\": \"string\",\n        \"num_unique_values\": 568,\n        \"samples\": [\n          \"PC 17612\",\n          \"231919\"\n        ],\n        \"semantic_type\": \"\",\n        \"description\": \"\"\n      }\n    },\n    {\n      \"column\": \"Fare\",\n      \"properties\": {\n        \"dtype\": \"number\",\n        \"std\": 30.073449523083763,\n        \"min\": 0.0,\n        \"max\": 512.3292,\n        \"num_unique_values\": 188,\n        \"samples\": [\n          164.8667,\n          8.1375\n        ],\n        \"semantic_type\": \"\",\n        \"description\": \"\"\n      }\n    },\n    {\n      \"column\": \"Cabin\",\n      \"properties\": {\n        \"dtype\": \"category\",\n        \"num_unique_values\": 20,\n        \"samples\": [\n          \"B78\",\n          \"B102\"\n        ],\n        \"semantic_type\": \"\",\n        \"description\": \"\"\n      }\n    },\n    {\n      \"column\": \"Embarked\",\n      \"properties\": {\n        \"dtype\": \"category\",\n        \"num_unique_values\": 3,\n        \"samples\": [\n          \"S\",\n          \"Q\"\n        ],\n        \"semantic_type\": \"\",\n        \"description\": \"\"\n      }\n    }\n  ]\n}"
            }
          },
          "metadata": {},
          "execution_count": 4
        }
      ]
    },
    {
      "cell_type": "code",
      "source": [
        "# pd.set_option(\"display.max_rows\",None)\n",
        "df[df['Age'].isnull()]"
      ],
      "metadata": {
        "colab": {
          "base_uri": "https://localhost:8080/",
          "height": 424
        },
        "id": "JxSYR1m1VLk7",
        "outputId": "7242bd60-5459-486f-da01-9d95401cd2b2"
      },
      "execution_count": null,
      "outputs": [
        {
          "output_type": "execute_result",
          "data": {
            "text/plain": [
              "     PassengerId  Survived  Pclass                                      Name  \\\n",
              "5              6         0       3                          Moran, Mr. James   \n",
              "17            18         1       2              Williams, Mr. Charles Eugene   \n",
              "19            20         1       3                   Masselmani, Mrs. Fatima   \n",
              "26            27         0       3                   Emir, Mr. Farred Chehab   \n",
              "28            29         1       3             O'Dwyer, Miss. Ellen \"Nellie\"   \n",
              "..           ...       ...     ...                                       ...   \n",
              "859          860         0       3                          Razi, Mr. Raihed   \n",
              "863          864         0       3         Sage, Miss. Dorothy Edith \"Dolly\"   \n",
              "868          869         0       3               van Melkebeke, Mr. Philemon   \n",
              "878          879         0       3                        Laleff, Mr. Kristo   \n",
              "888          889         0       3  Johnston, Miss. Catherine Helen \"Carrie\"   \n",
              "\n",
              "        Sex  Age  SibSp  Parch      Ticket     Fare Cabin Embarked  \n",
              "5      male  NaN      0      0      330877   8.4583   NaN        Q  \n",
              "17     male  NaN      0      0      244373  13.0000   NaN        S  \n",
              "19   female  NaN      0      0        2649   7.2250   NaN        C  \n",
              "26     male  NaN      0      0        2631   7.2250   NaN        C  \n",
              "28   female  NaN      0      0      330959   7.8792   NaN        Q  \n",
              "..      ...  ...    ...    ...         ...      ...   ...      ...  \n",
              "859    male  NaN      0      0        2629   7.2292   NaN        C  \n",
              "863  female  NaN      8      2    CA. 2343  69.5500   NaN        S  \n",
              "868    male  NaN      0      0      345777   9.5000   NaN        S  \n",
              "878    male  NaN      0      0      349217   7.8958   NaN        S  \n",
              "888  female  NaN      1      2  W./C. 6607  23.4500   NaN        S  \n",
              "\n",
              "[177 rows x 12 columns]"
            ],
            "text/html": [
              "\n",
              "  <div id=\"df-f07520c9-264e-4512-852b-562a6063b19a\" class=\"colab-df-container\">\n",
              "    <div>\n",
              "<style scoped>\n",
              "    .dataframe tbody tr th:only-of-type {\n",
              "        vertical-align: middle;\n",
              "    }\n",
              "\n",
              "    .dataframe tbody tr th {\n",
              "        vertical-align: top;\n",
              "    }\n",
              "\n",
              "    .dataframe thead th {\n",
              "        text-align: right;\n",
              "    }\n",
              "</style>\n",
              "<table border=\"1\" class=\"dataframe\">\n",
              "  <thead>\n",
              "    <tr style=\"text-align: right;\">\n",
              "      <th></th>\n",
              "      <th>PassengerId</th>\n",
              "      <th>Survived</th>\n",
              "      <th>Pclass</th>\n",
              "      <th>Name</th>\n",
              "      <th>Sex</th>\n",
              "      <th>Age</th>\n",
              "      <th>SibSp</th>\n",
              "      <th>Parch</th>\n",
              "      <th>Ticket</th>\n",
              "      <th>Fare</th>\n",
              "      <th>Cabin</th>\n",
              "      <th>Embarked</th>\n",
              "    </tr>\n",
              "  </thead>\n",
              "  <tbody>\n",
              "    <tr>\n",
              "      <th>5</th>\n",
              "      <td>6</td>\n",
              "      <td>0</td>\n",
              "      <td>3</td>\n",
              "      <td>Moran, Mr. James</td>\n",
              "      <td>male</td>\n",
              "      <td>NaN</td>\n",
              "      <td>0</td>\n",
              "      <td>0</td>\n",
              "      <td>330877</td>\n",
              "      <td>8.4583</td>\n",
              "      <td>NaN</td>\n",
              "      <td>Q</td>\n",
              "    </tr>\n",
              "    <tr>\n",
              "      <th>17</th>\n",
              "      <td>18</td>\n",
              "      <td>1</td>\n",
              "      <td>2</td>\n",
              "      <td>Williams, Mr. Charles Eugene</td>\n",
              "      <td>male</td>\n",
              "      <td>NaN</td>\n",
              "      <td>0</td>\n",
              "      <td>0</td>\n",
              "      <td>244373</td>\n",
              "      <td>13.0000</td>\n",
              "      <td>NaN</td>\n",
              "      <td>S</td>\n",
              "    </tr>\n",
              "    <tr>\n",
              "      <th>19</th>\n",
              "      <td>20</td>\n",
              "      <td>1</td>\n",
              "      <td>3</td>\n",
              "      <td>Masselmani, Mrs. Fatima</td>\n",
              "      <td>female</td>\n",
              "      <td>NaN</td>\n",
              "      <td>0</td>\n",
              "      <td>0</td>\n",
              "      <td>2649</td>\n",
              "      <td>7.2250</td>\n",
              "      <td>NaN</td>\n",
              "      <td>C</td>\n",
              "    </tr>\n",
              "    <tr>\n",
              "      <th>26</th>\n",
              "      <td>27</td>\n",
              "      <td>0</td>\n",
              "      <td>3</td>\n",
              "      <td>Emir, Mr. Farred Chehab</td>\n",
              "      <td>male</td>\n",
              "      <td>NaN</td>\n",
              "      <td>0</td>\n",
              "      <td>0</td>\n",
              "      <td>2631</td>\n",
              "      <td>7.2250</td>\n",
              "      <td>NaN</td>\n",
              "      <td>C</td>\n",
              "    </tr>\n",
              "    <tr>\n",
              "      <th>28</th>\n",
              "      <td>29</td>\n",
              "      <td>1</td>\n",
              "      <td>3</td>\n",
              "      <td>O'Dwyer, Miss. Ellen \"Nellie\"</td>\n",
              "      <td>female</td>\n",
              "      <td>NaN</td>\n",
              "      <td>0</td>\n",
              "      <td>0</td>\n",
              "      <td>330959</td>\n",
              "      <td>7.8792</td>\n",
              "      <td>NaN</td>\n",
              "      <td>Q</td>\n",
              "    </tr>\n",
              "    <tr>\n",
              "      <th>...</th>\n",
              "      <td>...</td>\n",
              "      <td>...</td>\n",
              "      <td>...</td>\n",
              "      <td>...</td>\n",
              "      <td>...</td>\n",
              "      <td>...</td>\n",
              "      <td>...</td>\n",
              "      <td>...</td>\n",
              "      <td>...</td>\n",
              "      <td>...</td>\n",
              "      <td>...</td>\n",
              "      <td>...</td>\n",
              "    </tr>\n",
              "    <tr>\n",
              "      <th>859</th>\n",
              "      <td>860</td>\n",
              "      <td>0</td>\n",
              "      <td>3</td>\n",
              "      <td>Razi, Mr. Raihed</td>\n",
              "      <td>male</td>\n",
              "      <td>NaN</td>\n",
              "      <td>0</td>\n",
              "      <td>0</td>\n",
              "      <td>2629</td>\n",
              "      <td>7.2292</td>\n",
              "      <td>NaN</td>\n",
              "      <td>C</td>\n",
              "    </tr>\n",
              "    <tr>\n",
              "      <th>863</th>\n",
              "      <td>864</td>\n",
              "      <td>0</td>\n",
              "      <td>3</td>\n",
              "      <td>Sage, Miss. Dorothy Edith \"Dolly\"</td>\n",
              "      <td>female</td>\n",
              "      <td>NaN</td>\n",
              "      <td>8</td>\n",
              "      <td>2</td>\n",
              "      <td>CA. 2343</td>\n",
              "      <td>69.5500</td>\n",
              "      <td>NaN</td>\n",
              "      <td>S</td>\n",
              "    </tr>\n",
              "    <tr>\n",
              "      <th>868</th>\n",
              "      <td>869</td>\n",
              "      <td>0</td>\n",
              "      <td>3</td>\n",
              "      <td>van Melkebeke, Mr. Philemon</td>\n",
              "      <td>male</td>\n",
              "      <td>NaN</td>\n",
              "      <td>0</td>\n",
              "      <td>0</td>\n",
              "      <td>345777</td>\n",
              "      <td>9.5000</td>\n",
              "      <td>NaN</td>\n",
              "      <td>S</td>\n",
              "    </tr>\n",
              "    <tr>\n",
              "      <th>878</th>\n",
              "      <td>879</td>\n",
              "      <td>0</td>\n",
              "      <td>3</td>\n",
              "      <td>Laleff, Mr. Kristo</td>\n",
              "      <td>male</td>\n",
              "      <td>NaN</td>\n",
              "      <td>0</td>\n",
              "      <td>0</td>\n",
              "      <td>349217</td>\n",
              "      <td>7.8958</td>\n",
              "      <td>NaN</td>\n",
              "      <td>S</td>\n",
              "    </tr>\n",
              "    <tr>\n",
              "      <th>888</th>\n",
              "      <td>889</td>\n",
              "      <td>0</td>\n",
              "      <td>3</td>\n",
              "      <td>Johnston, Miss. Catherine Helen \"Carrie\"</td>\n",
              "      <td>female</td>\n",
              "      <td>NaN</td>\n",
              "      <td>1</td>\n",
              "      <td>2</td>\n",
              "      <td>W./C. 6607</td>\n",
              "      <td>23.4500</td>\n",
              "      <td>NaN</td>\n",
              "      <td>S</td>\n",
              "    </tr>\n",
              "  </tbody>\n",
              "</table>\n",
              "<p>177 rows × 12 columns</p>\n",
              "</div>\n",
              "    <div class=\"colab-df-buttons\">\n",
              "\n",
              "  <div class=\"colab-df-container\">\n",
              "    <button class=\"colab-df-convert\" onclick=\"convertToInteractive('df-f07520c9-264e-4512-852b-562a6063b19a')\"\n",
              "            title=\"Convert this dataframe to an interactive table.\"\n",
              "            style=\"display:none;\">\n",
              "\n",
              "  <svg xmlns=\"http://www.w3.org/2000/svg\" height=\"24px\" viewBox=\"0 -960 960 960\">\n",
              "    <path d=\"M120-120v-720h720v720H120Zm60-500h600v-160H180v160Zm220 220h160v-160H400v160Zm0 220h160v-160H400v160ZM180-400h160v-160H180v160Zm440 0h160v-160H620v160ZM180-180h160v-160H180v160Zm440 0h160v-160H620v160Z\"/>\n",
              "  </svg>\n",
              "    </button>\n",
              "\n",
              "  <style>\n",
              "    .colab-df-container {\n",
              "      display:flex;\n",
              "      gap: 12px;\n",
              "    }\n",
              "\n",
              "    .colab-df-convert {\n",
              "      background-color: #E8F0FE;\n",
              "      border: none;\n",
              "      border-radius: 50%;\n",
              "      cursor: pointer;\n",
              "      display: none;\n",
              "      fill: #1967D2;\n",
              "      height: 32px;\n",
              "      padding: 0 0 0 0;\n",
              "      width: 32px;\n",
              "    }\n",
              "\n",
              "    .colab-df-convert:hover {\n",
              "      background-color: #E2EBFA;\n",
              "      box-shadow: 0px 1px 2px rgba(60, 64, 67, 0.3), 0px 1px 3px 1px rgba(60, 64, 67, 0.15);\n",
              "      fill: #174EA6;\n",
              "    }\n",
              "\n",
              "    .colab-df-buttons div {\n",
              "      margin-bottom: 4px;\n",
              "    }\n",
              "\n",
              "    [theme=dark] .colab-df-convert {\n",
              "      background-color: #3B4455;\n",
              "      fill: #D2E3FC;\n",
              "    }\n",
              "\n",
              "    [theme=dark] .colab-df-convert:hover {\n",
              "      background-color: #434B5C;\n",
              "      box-shadow: 0px 1px 3px 1px rgba(0, 0, 0, 0.15);\n",
              "      filter: drop-shadow(0px 1px 2px rgba(0, 0, 0, 0.3));\n",
              "      fill: #FFFFFF;\n",
              "    }\n",
              "  </style>\n",
              "\n",
              "    <script>\n",
              "      const buttonEl =\n",
              "        document.querySelector('#df-f07520c9-264e-4512-852b-562a6063b19a button.colab-df-convert');\n",
              "      buttonEl.style.display =\n",
              "        google.colab.kernel.accessAllowed ? 'block' : 'none';\n",
              "\n",
              "      async function convertToInteractive(key) {\n",
              "        const element = document.querySelector('#df-f07520c9-264e-4512-852b-562a6063b19a');\n",
              "        const dataTable =\n",
              "          await google.colab.kernel.invokeFunction('convertToInteractive',\n",
              "                                                    [key], {});\n",
              "        if (!dataTable) return;\n",
              "\n",
              "        const docLinkHtml = 'Like what you see? Visit the ' +\n",
              "          '<a target=\"_blank\" href=https://colab.research.google.com/notebooks/data_table.ipynb>data table notebook</a>'\n",
              "          + ' to learn more about interactive tables.';\n",
              "        element.innerHTML = '';\n",
              "        dataTable['output_type'] = 'display_data';\n",
              "        await google.colab.output.renderOutput(dataTable, element);\n",
              "        const docLink = document.createElement('div');\n",
              "        docLink.innerHTML = docLinkHtml;\n",
              "        element.appendChild(docLink);\n",
              "      }\n",
              "    </script>\n",
              "  </div>\n",
              "\n",
              "\n",
              "    <div id=\"df-d9339ce8-1e82-40d9-8dba-0732db59f6d1\">\n",
              "      <button class=\"colab-df-quickchart\" onclick=\"quickchart('df-d9339ce8-1e82-40d9-8dba-0732db59f6d1')\"\n",
              "                title=\"Suggest charts\"\n",
              "                style=\"display:none;\">\n",
              "\n",
              "<svg xmlns=\"http://www.w3.org/2000/svg\" height=\"24px\"viewBox=\"0 0 24 24\"\n",
              "     width=\"24px\">\n",
              "    <g>\n",
              "        <path d=\"M19 3H5c-1.1 0-2 .9-2 2v14c0 1.1.9 2 2 2h14c1.1 0 2-.9 2-2V5c0-1.1-.9-2-2-2zM9 17H7v-7h2v7zm4 0h-2V7h2v10zm4 0h-2v-4h2v4z\"/>\n",
              "    </g>\n",
              "</svg>\n",
              "      </button>\n",
              "\n",
              "<style>\n",
              "  .colab-df-quickchart {\n",
              "      --bg-color: #E8F0FE;\n",
              "      --fill-color: #1967D2;\n",
              "      --hover-bg-color: #E2EBFA;\n",
              "      --hover-fill-color: #174EA6;\n",
              "      --disabled-fill-color: #AAA;\n",
              "      --disabled-bg-color: #DDD;\n",
              "  }\n",
              "\n",
              "  [theme=dark] .colab-df-quickchart {\n",
              "      --bg-color: #3B4455;\n",
              "      --fill-color: #D2E3FC;\n",
              "      --hover-bg-color: #434B5C;\n",
              "      --hover-fill-color: #FFFFFF;\n",
              "      --disabled-bg-color: #3B4455;\n",
              "      --disabled-fill-color: #666;\n",
              "  }\n",
              "\n",
              "  .colab-df-quickchart {\n",
              "    background-color: var(--bg-color);\n",
              "    border: none;\n",
              "    border-radius: 50%;\n",
              "    cursor: pointer;\n",
              "    display: none;\n",
              "    fill: var(--fill-color);\n",
              "    height: 32px;\n",
              "    padding: 0;\n",
              "    width: 32px;\n",
              "  }\n",
              "\n",
              "  .colab-df-quickchart:hover {\n",
              "    background-color: var(--hover-bg-color);\n",
              "    box-shadow: 0 1px 2px rgba(60, 64, 67, 0.3), 0 1px 3px 1px rgba(60, 64, 67, 0.15);\n",
              "    fill: var(--button-hover-fill-color);\n",
              "  }\n",
              "\n",
              "  .colab-df-quickchart-complete:disabled,\n",
              "  .colab-df-quickchart-complete:disabled:hover {\n",
              "    background-color: var(--disabled-bg-color);\n",
              "    fill: var(--disabled-fill-color);\n",
              "    box-shadow: none;\n",
              "  }\n",
              "\n",
              "  .colab-df-spinner {\n",
              "    border: 2px solid var(--fill-color);\n",
              "    border-color: transparent;\n",
              "    border-bottom-color: var(--fill-color);\n",
              "    animation:\n",
              "      spin 1s steps(1) infinite;\n",
              "  }\n",
              "\n",
              "  @keyframes spin {\n",
              "    0% {\n",
              "      border-color: transparent;\n",
              "      border-bottom-color: var(--fill-color);\n",
              "      border-left-color: var(--fill-color);\n",
              "    }\n",
              "    20% {\n",
              "      border-color: transparent;\n",
              "      border-left-color: var(--fill-color);\n",
              "      border-top-color: var(--fill-color);\n",
              "    }\n",
              "    30% {\n",
              "      border-color: transparent;\n",
              "      border-left-color: var(--fill-color);\n",
              "      border-top-color: var(--fill-color);\n",
              "      border-right-color: var(--fill-color);\n",
              "    }\n",
              "    40% {\n",
              "      border-color: transparent;\n",
              "      border-right-color: var(--fill-color);\n",
              "      border-top-color: var(--fill-color);\n",
              "    }\n",
              "    60% {\n",
              "      border-color: transparent;\n",
              "      border-right-color: var(--fill-color);\n",
              "    }\n",
              "    80% {\n",
              "      border-color: transparent;\n",
              "      border-right-color: var(--fill-color);\n",
              "      border-bottom-color: var(--fill-color);\n",
              "    }\n",
              "    90% {\n",
              "      border-color: transparent;\n",
              "      border-bottom-color: var(--fill-color);\n",
              "    }\n",
              "  }\n",
              "</style>\n",
              "\n",
              "      <script>\n",
              "        async function quickchart(key) {\n",
              "          const quickchartButtonEl =\n",
              "            document.querySelector('#' + key + ' button');\n",
              "          quickchartButtonEl.disabled = true;  // To prevent multiple clicks.\n",
              "          quickchartButtonEl.classList.add('colab-df-spinner');\n",
              "          try {\n",
              "            const charts = await google.colab.kernel.invokeFunction(\n",
              "                'suggestCharts', [key], {});\n",
              "          } catch (error) {\n",
              "            console.error('Error during call to suggestCharts:', error);\n",
              "          }\n",
              "          quickchartButtonEl.classList.remove('colab-df-spinner');\n",
              "          quickchartButtonEl.classList.add('colab-df-quickchart-complete');\n",
              "        }\n",
              "        (() => {\n",
              "          let quickchartButtonEl =\n",
              "            document.querySelector('#df-d9339ce8-1e82-40d9-8dba-0732db59f6d1 button');\n",
              "          quickchartButtonEl.style.display =\n",
              "            google.colab.kernel.accessAllowed ? 'block' : 'none';\n",
              "        })();\n",
              "      </script>\n",
              "    </div>\n",
              "\n",
              "    </div>\n",
              "  </div>\n"
            ],
            "application/vnd.google.colaboratory.intrinsic+json": {
              "type": "dataframe",
              "summary": "{\n  \"name\": \"df[df['Age']\",\n  \"rows\": 177,\n  \"fields\": [\n    {\n      \"column\": \"PassengerId\",\n      \"properties\": {\n        \"dtype\": \"number\",\n        \"std\": 250,\n        \"min\": 6,\n        \"max\": 889,\n        \"num_unique_values\": 177,\n        \"samples\": [\n          83,\n          236,\n          668\n        ],\n        \"semantic_type\": \"\",\n        \"description\": \"\"\n      }\n    },\n    {\n      \"column\": \"Survived\",\n      \"properties\": {\n        \"dtype\": \"number\",\n        \"std\": 0,\n        \"min\": 0,\n        \"max\": 1,\n        \"num_unique_values\": 2,\n        \"samples\": [\n          1,\n          0\n        ],\n        \"semantic_type\": \"\",\n        \"description\": \"\"\n      }\n    },\n    {\n      \"column\": \"Pclass\",\n      \"properties\": {\n        \"dtype\": \"number\",\n        \"std\": 0,\n        \"min\": 1,\n        \"max\": 3,\n        \"num_unique_values\": 3,\n        \"samples\": [\n          3,\n          2\n        ],\n        \"semantic_type\": \"\",\n        \"description\": \"\"\n      }\n    },\n    {\n      \"column\": \"Name\",\n      \"properties\": {\n        \"dtype\": \"string\",\n        \"num_unique_values\": 177,\n        \"samples\": [\n          \"McDermott, Miss. Brigdet Delia\",\n          \"Harknett, Miss. Alice Phoebe\"\n        ],\n        \"semantic_type\": \"\",\n        \"description\": \"\"\n      }\n    },\n    {\n      \"column\": \"Sex\",\n      \"properties\": {\n        \"dtype\": \"category\",\n        \"num_unique_values\": 2,\n        \"samples\": [\n          \"female\",\n          \"male\"\n        ],\n        \"semantic_type\": \"\",\n        \"description\": \"\"\n      }\n    },\n    {\n      \"column\": \"Age\",\n      \"properties\": {\n        \"dtype\": \"number\",\n        \"std\": null,\n        \"min\": null,\n        \"max\": null,\n        \"num_unique_values\": 0,\n        \"samples\": [],\n        \"semantic_type\": \"\",\n        \"description\": \"\"\n      }\n    },\n    {\n      \"column\": \"SibSp\",\n      \"properties\": {\n        \"dtype\": \"number\",\n        \"std\": 1,\n        \"min\": 0,\n        \"max\": 8,\n        \"num_unique_values\": 5,\n        \"samples\": [],\n        \"semantic_type\": \"\",\n        \"description\": \"\"\n      }\n    },\n    {\n      \"column\": \"Parch\",\n      \"properties\": {\n        \"dtype\": \"number\",\n        \"std\": 0,\n        \"min\": 0,\n        \"max\": 2,\n        \"num_unique_values\": 3,\n        \"samples\": [],\n        \"semantic_type\": \"\",\n        \"description\": \"\"\n      }\n    },\n    {\n      \"column\": \"Ticket\",\n      \"properties\": {\n        \"dtype\": \"string\",\n        \"num_unique_values\": 155,\n        \"samples\": [],\n        \"semantic_type\": \"\",\n        \"description\": \"\"\n      }\n    },\n    {\n      \"column\": \"Fare\",\n      \"properties\": {\n        \"dtype\": \"number\",\n        \"std\": 31.874608202349055,\n        \"min\": 0.0,\n        \"max\": 227.525,\n        \"num_unique_values\": 73,\n        \"samples\": [],\n        \"semantic_type\": \"\",\n        \"description\": \"\"\n      }\n    },\n    {\n      \"column\": \"Cabin\",\n      \"properties\": {\n        \"dtype\": \"category\",\n        \"num_unique_values\": 19,\n        \"samples\": [],\n        \"semantic_type\": \"\",\n        \"description\": \"\"\n      }\n    },\n    {\n      \"column\": \"Embarked\",\n      \"properties\": {\n        \"dtype\": \"category\",\n        \"num_unique_values\": 3,\n        \"samples\": [],\n        \"semantic_type\": \"\",\n        \"description\": \"\"\n      }\n    }\n  ]\n}"
            }
          },
          "metadata": {},
          "execution_count": 5
        }
      ]
    },
    {
      "cell_type": "code",
      "source": [
        "df.iloc[5]"
      ],
      "metadata": {
        "colab": {
          "base_uri": "https://localhost:8080/",
          "height": 460
        },
        "id": "j95ikph2VeXT",
        "outputId": "ccb3893d-dbf4-42d4-c7fd-c75db50d9b1d"
      },
      "execution_count": null,
      "outputs": [
        {
          "output_type": "execute_result",
          "data": {
            "text/plain": [
              "PassengerId                   6\n",
              "Survived                      0\n",
              "Pclass                        3\n",
              "Name           Moran, Mr. James\n",
              "Sex                        male\n",
              "Age                         NaN\n",
              "SibSp                         0\n",
              "Parch                         0\n",
              "Ticket                   330877\n",
              "Fare                     8.4583\n",
              "Cabin                       NaN\n",
              "Embarked                      Q\n",
              "Name: 5, dtype: object"
            ],
            "text/html": [
              "<div>\n",
              "<style scoped>\n",
              "    .dataframe tbody tr th:only-of-type {\n",
              "        vertical-align: middle;\n",
              "    }\n",
              "\n",
              "    .dataframe tbody tr th {\n",
              "        vertical-align: top;\n",
              "    }\n",
              "\n",
              "    .dataframe thead th {\n",
              "        text-align: right;\n",
              "    }\n",
              "</style>\n",
              "<table border=\"1\" class=\"dataframe\">\n",
              "  <thead>\n",
              "    <tr style=\"text-align: right;\">\n",
              "      <th></th>\n",
              "      <th>5</th>\n",
              "    </tr>\n",
              "  </thead>\n",
              "  <tbody>\n",
              "    <tr>\n",
              "      <th>PassengerId</th>\n",
              "      <td>6</td>\n",
              "    </tr>\n",
              "    <tr>\n",
              "      <th>Survived</th>\n",
              "      <td>0</td>\n",
              "    </tr>\n",
              "    <tr>\n",
              "      <th>Pclass</th>\n",
              "      <td>3</td>\n",
              "    </tr>\n",
              "    <tr>\n",
              "      <th>Name</th>\n",
              "      <td>Moran, Mr. James</td>\n",
              "    </tr>\n",
              "    <tr>\n",
              "      <th>Sex</th>\n",
              "      <td>male</td>\n",
              "    </tr>\n",
              "    <tr>\n",
              "      <th>Age</th>\n",
              "      <td>NaN</td>\n",
              "    </tr>\n",
              "    <tr>\n",
              "      <th>SibSp</th>\n",
              "      <td>0</td>\n",
              "    </tr>\n",
              "    <tr>\n",
              "      <th>Parch</th>\n",
              "      <td>0</td>\n",
              "    </tr>\n",
              "    <tr>\n",
              "      <th>Ticket</th>\n",
              "      <td>330877</td>\n",
              "    </tr>\n",
              "    <tr>\n",
              "      <th>Fare</th>\n",
              "      <td>8.4583</td>\n",
              "    </tr>\n",
              "    <tr>\n",
              "      <th>Cabin</th>\n",
              "      <td>NaN</td>\n",
              "    </tr>\n",
              "    <tr>\n",
              "      <th>Embarked</th>\n",
              "      <td>Q</td>\n",
              "    </tr>\n",
              "  </tbody>\n",
              "</table>\n",
              "</div><br><label><b>dtype:</b> object</label>"
            ]
          },
          "metadata": {},
          "execution_count": 6
        }
      ]
    },
    {
      "cell_type": "code",
      "source": [
        "df.info()"
      ],
      "metadata": {
        "colab": {
          "base_uri": "https://localhost:8080/"
        },
        "id": "NSVwQKYFVzo0",
        "outputId": "0057cda3-cbcb-4348-8d16-20332bb4479d"
      },
      "execution_count": null,
      "outputs": [
        {
          "output_type": "stream",
          "name": "stdout",
          "text": [
            "<class 'pandas.core.frame.DataFrame'>\n",
            "RangeIndex: 891 entries, 0 to 890\n",
            "Data columns (total 12 columns):\n",
            " #   Column       Non-Null Count  Dtype  \n",
            "---  ------       --------------  -----  \n",
            " 0   PassengerId  891 non-null    int64  \n",
            " 1   Survived     891 non-null    int64  \n",
            " 2   Pclass       891 non-null    int64  \n",
            " 3   Name         891 non-null    object \n",
            " 4   Sex          891 non-null    object \n",
            " 5   Age          714 non-null    float64\n",
            " 6   SibSp        891 non-null    int64  \n",
            " 7   Parch        891 non-null    int64  \n",
            " 8   Ticket       891 non-null    object \n",
            " 9   Fare         891 non-null    float64\n",
            " 10  Cabin        204 non-null    object \n",
            " 11  Embarked     889 non-null    object \n",
            "dtypes: float64(2), int64(5), object(5)\n",
            "memory usage: 83.7+ KB\n"
          ]
        }
      ]
    },
    {
      "cell_type": "code",
      "source": [
        "# df.dropna(inplace=True) # drop rows with any missing values\n",
        "# df.dropna(subset=['Age'], inplace=True)\n",
        "df.drop(columns=['Cabin'],inplace=True)"
      ],
      "metadata": {
        "id": "FmYfJNQGV1_z"
      },
      "execution_count": null,
      "outputs": []
    },
    {
      "cell_type": "markdown",
      "source": [
        "**b)Fill with Satic Value**"
      ],
      "metadata": {
        "id": "DpV7SogoWihi"
      }
    },
    {
      "cell_type": "code",
      "source": [
        "df['Embarked'].fillna('Unknown', inplace=True)\n",
        "df['Age'].fillna(0,inplace=True)"
      ],
      "metadata": {
        "colab": {
          "base_uri": "https://localhost:8080/"
        },
        "id": "X1rcZ5fsWoSK",
        "outputId": "e3097cc4-10a8-4f0d-a79e-01af0e46a7a1"
      },
      "execution_count": null,
      "outputs": [
        {
          "output_type": "stream",
          "name": "stderr",
          "text": [
            "/tmp/ipython-input-3916878635.py:2: FutureWarning: A value is trying to be set on a copy of a DataFrame or Series through chained assignment using an inplace method.\n",
            "The behavior will change in pandas 3.0. This inplace method will never work because the intermediate object on which we are setting values always behaves as a copy.\n",
            "\n",
            "For example, when doing 'df[col].method(value, inplace=True)', try using 'df.method({col: value}, inplace=True)' or df[col] = df[col].method(value) instead, to perform the operation inplace on the original object.\n",
            "\n",
            "\n",
            "  df['Age'].fillna(0,inplace=True)\n"
          ]
        }
      ]
    },
    {
      "cell_type": "markdown",
      "source": [
        "**c) Fill with Mean,Median,Mode**"
      ],
      "metadata": {
        "id": "J_7Wvt3EXWyr"
      }
    },
    {
      "cell_type": "code",
      "source": [
        "df['Age'].fillna(df['Age'].mean(), inplace=True)\n",
        "df['Age'].fillna(df['Age'].median(), inplace=True)\n",
        "df['Embarked'].fillna(df['Embarked'].mode()[0], inplace=True)"
      ],
      "metadata": {
        "colab": {
          "base_uri": "https://localhost:8080/"
        },
        "id": "qH7MjTxZXd_z",
        "outputId": "e01255f1-e121-46e5-ff2b-2cf34dbffa15"
      },
      "execution_count": null,
      "outputs": [
        {
          "output_type": "stream",
          "name": "stderr",
          "text": [
            "/tmp/ipython-input-4013431869.py:1: FutureWarning: A value is trying to be set on a copy of a DataFrame or Series through chained assignment using an inplace method.\n",
            "The behavior will change in pandas 3.0. This inplace method will never work because the intermediate object on which we are setting values always behaves as a copy.\n",
            "\n",
            "For example, when doing 'df[col].method(value, inplace=True)', try using 'df.method({col: value}, inplace=True)' or df[col] = df[col].method(value) instead, to perform the operation inplace on the original object.\n",
            "\n",
            "\n",
            "  df['Age'].fillna(df['Age'].mean(), inplace=True)\n"
          ]
        }
      ]
    },
    {
      "cell_type": "markdown",
      "source": [
        "**d) Forward/Backword Fill**"
      ],
      "metadata": {
        "id": "YhSg4ajzZNFk"
      }
    },
    {
      "cell_type": "code",
      "source": [
        "df.fillna(method='ffill',inplace=True)\n",
        "df.fillna(method='bfill',inplace=True)"
      ],
      "metadata": {
        "colab": {
          "base_uri": "https://localhost:8080/"
        },
        "id": "ZGfRnfZaZYIz",
        "outputId": "d4a76150-a8c4-4593-df72-0de4a9c4c405"
      },
      "execution_count": null,
      "outputs": [
        {
          "output_type": "stream",
          "name": "stderr",
          "text": [
            "/tmp/ipython-input-2847704913.py:1: FutureWarning: DataFrame.fillna with 'method' is deprecated and will raise in a future version. Use obj.ffill() or obj.bfill() instead.\n",
            "  df.fillna(method='ffill',inplace=True)\n",
            "/tmp/ipython-input-2847704913.py:2: FutureWarning: DataFrame.fillna with 'method' is deprecated and will raise in a future version. Use obj.ffill() or obj.bfill() instead.\n",
            "  df.fillna(method='bfill',inplace=True)\n"
          ]
        }
      ]
    },
    {
      "cell_type": "code",
      "source": [
        "df.info()"
      ],
      "metadata": {
        "colab": {
          "base_uri": "https://localhost:8080/"
        },
        "id": "ZzEq6fC_aFNz",
        "outputId": "3a3f316a-febc-42b0-a61b-280158e84313"
      },
      "execution_count": null,
      "outputs": [
        {
          "output_type": "stream",
          "name": "stdout",
          "text": [
            "<class 'pandas.core.frame.DataFrame'>\n",
            "RangeIndex: 891 entries, 0 to 890\n",
            "Data columns (total 11 columns):\n",
            " #   Column       Non-Null Count  Dtype  \n",
            "---  ------       --------------  -----  \n",
            " 0   PassengerId  891 non-null    int64  \n",
            " 1   Survived     891 non-null    int64  \n",
            " 2   Pclass       891 non-null    int64  \n",
            " 3   Name         891 non-null    object \n",
            " 4   Sex          891 non-null    object \n",
            " 5   Age          891 non-null    float64\n",
            " 6   SibSp        891 non-null    int64  \n",
            " 7   Parch        891 non-null    int64  \n",
            " 8   Ticket       891 non-null    object \n",
            " 9   Fare         891 non-null    float64\n",
            " 10  Embarked     891 non-null    object \n",
            "dtypes: float64(2), int64(5), object(4)\n",
            "memory usage: 76.7+ KB\n"
          ]
        }
      ]
    },
    {
      "cell_type": "markdown",
      "source": [
        "**Final Handling**"
      ],
      "metadata": {
        "id": "fjVDJZfpaVLs"
      }
    },
    {
      "cell_type": "code",
      "source": [
        "df.drop(columns=['Cabin'], inplace=True)\n",
        "df['Embarked'] = df['Embarked'].fillna(df['Embarked'].mode()[0])\n",
        "df['Age'] = df['Age'].fillna(df['Age'].mean())"
      ],
      "metadata": {
        "colab": {
          "base_uri": "https://localhost:8080/"
        },
        "collapsed": true,
        "id": "w--iPG4kaYWd",
        "outputId": "3f6e1969-49f0-4c2a-84a8-ebe25094e1bf"
      },
      "execution_count": null,
      "outputs": [
        {
          "output_type": "error",
          "ename": "KeyError",
          "evalue": "\"['Cabin'] not found in axis\"",
          "traceback": [
            "\u001b[0;31m---------------------------------------------------------------------------\u001b[0m",
            "\u001b[0;31mKeyError\u001b[0m                                  Traceback (most recent call last)",
            "\u001b[0;32m/tmp/ipython-input-1700757910.py\u001b[0m in \u001b[0;36m<cell line: 0>\u001b[0;34m()\u001b[0m\n\u001b[0;32m----> 1\u001b[0;31m \u001b[0mdf\u001b[0m\u001b[0;34m.\u001b[0m\u001b[0mdrop\u001b[0m\u001b[0;34m(\u001b[0m\u001b[0mcolumns\u001b[0m\u001b[0;34m=\u001b[0m\u001b[0;34m[\u001b[0m\u001b[0;34m'Cabin'\u001b[0m\u001b[0;34m]\u001b[0m\u001b[0;34m,\u001b[0m \u001b[0minplace\u001b[0m\u001b[0;34m=\u001b[0m\u001b[0;32mTrue\u001b[0m\u001b[0;34m)\u001b[0m\u001b[0;34m\u001b[0m\u001b[0;34m\u001b[0m\u001b[0m\n\u001b[0m\u001b[1;32m      2\u001b[0m \u001b[0mdf\u001b[0m\u001b[0;34m[\u001b[0m\u001b[0;34m'Embarked'\u001b[0m\u001b[0;34m]\u001b[0m \u001b[0;34m=\u001b[0m \u001b[0mdf\u001b[0m\u001b[0;34m[\u001b[0m\u001b[0;34m'Embarked'\u001b[0m\u001b[0;34m]\u001b[0m\u001b[0;34m.\u001b[0m\u001b[0mfillna\u001b[0m\u001b[0;34m(\u001b[0m\u001b[0mdf\u001b[0m\u001b[0;34m[\u001b[0m\u001b[0;34m'Embarked'\u001b[0m\u001b[0;34m]\u001b[0m\u001b[0;34m.\u001b[0m\u001b[0mmode\u001b[0m\u001b[0;34m(\u001b[0m\u001b[0;34m)\u001b[0m\u001b[0;34m[\u001b[0m\u001b[0;36m0\u001b[0m\u001b[0;34m]\u001b[0m\u001b[0;34m)\u001b[0m\u001b[0;34m\u001b[0m\u001b[0;34m\u001b[0m\u001b[0m\n\u001b[1;32m      3\u001b[0m \u001b[0mdf\u001b[0m\u001b[0;34m[\u001b[0m\u001b[0;34m'Age'\u001b[0m\u001b[0;34m]\u001b[0m \u001b[0;34m=\u001b[0m \u001b[0mdf\u001b[0m\u001b[0;34m[\u001b[0m\u001b[0;34m'Age'\u001b[0m\u001b[0;34m]\u001b[0m\u001b[0;34m.\u001b[0m\u001b[0mfillna\u001b[0m\u001b[0;34m(\u001b[0m\u001b[0mdf\u001b[0m\u001b[0;34m[\u001b[0m\u001b[0;34m'Age'\u001b[0m\u001b[0;34m]\u001b[0m\u001b[0;34m.\u001b[0m\u001b[0mmean\u001b[0m\u001b[0;34m(\u001b[0m\u001b[0;34m)\u001b[0m\u001b[0;34m)\u001b[0m\u001b[0;34m\u001b[0m\u001b[0;34m\u001b[0m\u001b[0m\n",
            "\u001b[0;32m/usr/local/lib/python3.11/dist-packages/pandas/core/frame.py\u001b[0m in \u001b[0;36mdrop\u001b[0;34m(self, labels, axis, index, columns, level, inplace, errors)\u001b[0m\n\u001b[1;32m   5579\u001b[0m                 \u001b[0mweight\u001b[0m  \u001b[0;36m1.0\u001b[0m     \u001b[0;36m0.8\u001b[0m\u001b[0;34m\u001b[0m\u001b[0;34m\u001b[0m\u001b[0m\n\u001b[1;32m   5580\u001b[0m         \"\"\"\n\u001b[0;32m-> 5581\u001b[0;31m         return super().drop(\n\u001b[0m\u001b[1;32m   5582\u001b[0m             \u001b[0mlabels\u001b[0m\u001b[0;34m=\u001b[0m\u001b[0mlabels\u001b[0m\u001b[0;34m,\u001b[0m\u001b[0;34m\u001b[0m\u001b[0;34m\u001b[0m\u001b[0m\n\u001b[1;32m   5583\u001b[0m             \u001b[0maxis\u001b[0m\u001b[0;34m=\u001b[0m\u001b[0maxis\u001b[0m\u001b[0;34m,\u001b[0m\u001b[0;34m\u001b[0m\u001b[0;34m\u001b[0m\u001b[0m\n",
            "\u001b[0;32m/usr/local/lib/python3.11/dist-packages/pandas/core/generic.py\u001b[0m in \u001b[0;36mdrop\u001b[0;34m(self, labels, axis, index, columns, level, inplace, errors)\u001b[0m\n\u001b[1;32m   4786\u001b[0m         \u001b[0;32mfor\u001b[0m \u001b[0maxis\u001b[0m\u001b[0;34m,\u001b[0m \u001b[0mlabels\u001b[0m \u001b[0;32min\u001b[0m \u001b[0maxes\u001b[0m\u001b[0;34m.\u001b[0m\u001b[0mitems\u001b[0m\u001b[0;34m(\u001b[0m\u001b[0;34m)\u001b[0m\u001b[0;34m:\u001b[0m\u001b[0;34m\u001b[0m\u001b[0;34m\u001b[0m\u001b[0m\n\u001b[1;32m   4787\u001b[0m             \u001b[0;32mif\u001b[0m \u001b[0mlabels\u001b[0m \u001b[0;32mis\u001b[0m \u001b[0;32mnot\u001b[0m \u001b[0;32mNone\u001b[0m\u001b[0;34m:\u001b[0m\u001b[0;34m\u001b[0m\u001b[0;34m\u001b[0m\u001b[0m\n\u001b[0;32m-> 4788\u001b[0;31m                 \u001b[0mobj\u001b[0m \u001b[0;34m=\u001b[0m \u001b[0mobj\u001b[0m\u001b[0;34m.\u001b[0m\u001b[0m_drop_axis\u001b[0m\u001b[0;34m(\u001b[0m\u001b[0mlabels\u001b[0m\u001b[0;34m,\u001b[0m \u001b[0maxis\u001b[0m\u001b[0;34m,\u001b[0m \u001b[0mlevel\u001b[0m\u001b[0;34m=\u001b[0m\u001b[0mlevel\u001b[0m\u001b[0;34m,\u001b[0m \u001b[0merrors\u001b[0m\u001b[0;34m=\u001b[0m\u001b[0merrors\u001b[0m\u001b[0;34m)\u001b[0m\u001b[0;34m\u001b[0m\u001b[0;34m\u001b[0m\u001b[0m\n\u001b[0m\u001b[1;32m   4789\u001b[0m \u001b[0;34m\u001b[0m\u001b[0m\n\u001b[1;32m   4790\u001b[0m         \u001b[0;32mif\u001b[0m \u001b[0minplace\u001b[0m\u001b[0;34m:\u001b[0m\u001b[0;34m\u001b[0m\u001b[0;34m\u001b[0m\u001b[0m\n",
            "\u001b[0;32m/usr/local/lib/python3.11/dist-packages/pandas/core/generic.py\u001b[0m in \u001b[0;36m_drop_axis\u001b[0;34m(self, labels, axis, level, errors, only_slice)\u001b[0m\n\u001b[1;32m   4828\u001b[0m                 \u001b[0mnew_axis\u001b[0m \u001b[0;34m=\u001b[0m \u001b[0maxis\u001b[0m\u001b[0;34m.\u001b[0m\u001b[0mdrop\u001b[0m\u001b[0;34m(\u001b[0m\u001b[0mlabels\u001b[0m\u001b[0;34m,\u001b[0m \u001b[0mlevel\u001b[0m\u001b[0;34m=\u001b[0m\u001b[0mlevel\u001b[0m\u001b[0;34m,\u001b[0m \u001b[0merrors\u001b[0m\u001b[0;34m=\u001b[0m\u001b[0merrors\u001b[0m\u001b[0;34m)\u001b[0m\u001b[0;34m\u001b[0m\u001b[0;34m\u001b[0m\u001b[0m\n\u001b[1;32m   4829\u001b[0m             \u001b[0;32melse\u001b[0m\u001b[0;34m:\u001b[0m\u001b[0;34m\u001b[0m\u001b[0;34m\u001b[0m\u001b[0m\n\u001b[0;32m-> 4830\u001b[0;31m                 \u001b[0mnew_axis\u001b[0m \u001b[0;34m=\u001b[0m \u001b[0maxis\u001b[0m\u001b[0;34m.\u001b[0m\u001b[0mdrop\u001b[0m\u001b[0;34m(\u001b[0m\u001b[0mlabels\u001b[0m\u001b[0;34m,\u001b[0m \u001b[0merrors\u001b[0m\u001b[0;34m=\u001b[0m\u001b[0merrors\u001b[0m\u001b[0;34m)\u001b[0m\u001b[0;34m\u001b[0m\u001b[0;34m\u001b[0m\u001b[0m\n\u001b[0m\u001b[1;32m   4831\u001b[0m             \u001b[0mindexer\u001b[0m \u001b[0;34m=\u001b[0m \u001b[0maxis\u001b[0m\u001b[0;34m.\u001b[0m\u001b[0mget_indexer\u001b[0m\u001b[0;34m(\u001b[0m\u001b[0mnew_axis\u001b[0m\u001b[0;34m)\u001b[0m\u001b[0;34m\u001b[0m\u001b[0;34m\u001b[0m\u001b[0m\n\u001b[1;32m   4832\u001b[0m \u001b[0;34m\u001b[0m\u001b[0m\n",
            "\u001b[0;32m/usr/local/lib/python3.11/dist-packages/pandas/core/indexes/base.py\u001b[0m in \u001b[0;36mdrop\u001b[0;34m(self, labels, errors)\u001b[0m\n\u001b[1;32m   7068\u001b[0m         \u001b[0;32mif\u001b[0m \u001b[0mmask\u001b[0m\u001b[0;34m.\u001b[0m\u001b[0many\u001b[0m\u001b[0;34m(\u001b[0m\u001b[0;34m)\u001b[0m\u001b[0;34m:\u001b[0m\u001b[0;34m\u001b[0m\u001b[0;34m\u001b[0m\u001b[0m\n\u001b[1;32m   7069\u001b[0m             \u001b[0;32mif\u001b[0m \u001b[0merrors\u001b[0m \u001b[0;34m!=\u001b[0m \u001b[0;34m\"ignore\"\u001b[0m\u001b[0;34m:\u001b[0m\u001b[0;34m\u001b[0m\u001b[0;34m\u001b[0m\u001b[0m\n\u001b[0;32m-> 7070\u001b[0;31m                 \u001b[0;32mraise\u001b[0m \u001b[0mKeyError\u001b[0m\u001b[0;34m(\u001b[0m\u001b[0;34mf\"{labels[mask].tolist()} not found in axis\"\u001b[0m\u001b[0;34m)\u001b[0m\u001b[0;34m\u001b[0m\u001b[0;34m\u001b[0m\u001b[0m\n\u001b[0m\u001b[1;32m   7071\u001b[0m             \u001b[0mindexer\u001b[0m \u001b[0;34m=\u001b[0m \u001b[0mindexer\u001b[0m\u001b[0;34m[\u001b[0m\u001b[0;34m~\u001b[0m\u001b[0mmask\u001b[0m\u001b[0;34m]\u001b[0m\u001b[0;34m\u001b[0m\u001b[0;34m\u001b[0m\u001b[0m\n\u001b[1;32m   7072\u001b[0m         \u001b[0;32mreturn\u001b[0m \u001b[0mself\u001b[0m\u001b[0;34m.\u001b[0m\u001b[0mdelete\u001b[0m\u001b[0;34m(\u001b[0m\u001b[0mindexer\u001b[0m\u001b[0;34m)\u001b[0m\u001b[0;34m\u001b[0m\u001b[0;34m\u001b[0m\u001b[0m\n",
            "\u001b[0;31mKeyError\u001b[0m: \"['Cabin'] not found in axis\""
          ]
        }
      ]
    },
    {
      "cell_type": "code",
      "source": [
        "df.info()"
      ],
      "metadata": {
        "colab": {
          "base_uri": "https://localhost:8080/"
        },
        "id": "jf9s9N1aa6pb",
        "outputId": "cafe7b0d-a6b1-4121-b6ae-2c9d3967ab1c"
      },
      "execution_count": null,
      "outputs": [
        {
          "output_type": "stream",
          "name": "stdout",
          "text": [
            "<class 'pandas.core.frame.DataFrame'>\n",
            "RangeIndex: 891 entries, 0 to 890\n",
            "Data columns (total 11 columns):\n",
            " #   Column       Non-Null Count  Dtype  \n",
            "---  ------       --------------  -----  \n",
            " 0   PassengerId  891 non-null    int64  \n",
            " 1   Survived     891 non-null    int64  \n",
            " 2   Pclass       891 non-null    int64  \n",
            " 3   Name         891 non-null    object \n",
            " 4   Sex          891 non-null    object \n",
            " 5   Age          891 non-null    float64\n",
            " 6   SibSp        891 non-null    int64  \n",
            " 7   Parch        891 non-null    int64  \n",
            " 8   Ticket       891 non-null    object \n",
            " 9   Fare         891 non-null    float64\n",
            " 10  Embarked     891 non-null    object \n",
            "dtypes: float64(2), int64(5), object(4)\n",
            "memory usage: 76.7+ KB\n"
          ]
        }
      ]
    },
    {
      "cell_type": "markdown",
      "source": [
        "# **Encoding Categorial Varibles**"
      ],
      "metadata": {
        "id": "4o04MOb4cF7b"
      }
    },
    {
      "cell_type": "markdown",
      "source": [
        "**Why Encoding?**\n",
        "\n",
        "*  ML models only work with numbers - not strings\n",
        "\n",
        "\n",
        "\n"
      ],
      "metadata": {
        "id": "6M3Emi9ocPXK"
      }
    },
    {
      "cell_type": "markdown",
      "source": [
        "**a) Label Encoding**\n",
        "*   Used for ordinal data (Low<Medium<High).But often also used for binary nominal features\n",
        "\n"
      ],
      "metadata": {
        "id": "lWQ0jFYbhQEt"
      }
    },
    {
      "cell_type": "code",
      "source": [
        "from sklearn.preprocessing import LabelEncoder\n",
        "le = LabelEncoder()\n",
        "df['Sex'] = le.fit_transform(df['Sex']) # Male-1, Female-0\n",
        "df"
      ],
      "metadata": {
        "colab": {
          "base_uri": "https://localhost:8080/",
          "height": 424
        },
        "id": "aDDcV72biKUL",
        "outputId": "683456f5-f859-4a93-dd3a-6a0ee9b0000f"
      },
      "execution_count": null,
      "outputs": [
        {
          "output_type": "execute_result",
          "data": {
            "text/plain": [
              "     PassengerId  Survived  Pclass  \\\n",
              "0              1         0       3   \n",
              "1              2         1       1   \n",
              "2              3         1       3   \n",
              "3              4         1       1   \n",
              "4              5         0       3   \n",
              "..           ...       ...     ...   \n",
              "886          887         0       2   \n",
              "887          888         1       1   \n",
              "888          889         0       3   \n",
              "889          890         1       1   \n",
              "890          891         0       3   \n",
              "\n",
              "                                                  Name  Sex   Age  SibSp  \\\n",
              "0                              Braund, Mr. Owen Harris    1  22.0      1   \n",
              "1    Cumings, Mrs. John Bradley (Florence Briggs Th...    0  38.0      1   \n",
              "2                               Heikkinen, Miss. Laina    0  26.0      0   \n",
              "3         Futrelle, Mrs. Jacques Heath (Lily May Peel)    0  35.0      1   \n",
              "4                             Allen, Mr. William Henry    1  35.0      0   \n",
              "..                                                 ...  ...   ...    ...   \n",
              "886                              Montvila, Rev. Juozas    1  27.0      0   \n",
              "887                       Graham, Miss. Margaret Edith    0  19.0      0   \n",
              "888           Johnston, Miss. Catherine Helen \"Carrie\"    0   0.0      1   \n",
              "889                              Behr, Mr. Karl Howell    1  26.0      0   \n",
              "890                                Dooley, Mr. Patrick    1  32.0      0   \n",
              "\n",
              "     Parch            Ticket     Fare Embarked  \n",
              "0        0         A/5 21171   7.2500        S  \n",
              "1        0          PC 17599  71.2833        C  \n",
              "2        0  STON/O2. 3101282   7.9250        S  \n",
              "3        0            113803  53.1000        S  \n",
              "4        0            373450   8.0500        S  \n",
              "..     ...               ...      ...      ...  \n",
              "886      0            211536  13.0000        S  \n",
              "887      0            112053  30.0000        S  \n",
              "888      2        W./C. 6607  23.4500        S  \n",
              "889      0            111369  30.0000        C  \n",
              "890      0            370376   7.7500        Q  \n",
              "\n",
              "[891 rows x 11 columns]"
            ],
            "text/html": [
              "\n",
              "  <div id=\"df-5fcde799-6984-4af5-93fd-d842976cdf3b\" class=\"colab-df-container\">\n",
              "    <div>\n",
              "<style scoped>\n",
              "    .dataframe tbody tr th:only-of-type {\n",
              "        vertical-align: middle;\n",
              "    }\n",
              "\n",
              "    .dataframe tbody tr th {\n",
              "        vertical-align: top;\n",
              "    }\n",
              "\n",
              "    .dataframe thead th {\n",
              "        text-align: right;\n",
              "    }\n",
              "</style>\n",
              "<table border=\"1\" class=\"dataframe\">\n",
              "  <thead>\n",
              "    <tr style=\"text-align: right;\">\n",
              "      <th></th>\n",
              "      <th>PassengerId</th>\n",
              "      <th>Survived</th>\n",
              "      <th>Pclass</th>\n",
              "      <th>Name</th>\n",
              "      <th>Sex</th>\n",
              "      <th>Age</th>\n",
              "      <th>SibSp</th>\n",
              "      <th>Parch</th>\n",
              "      <th>Ticket</th>\n",
              "      <th>Fare</th>\n",
              "      <th>Embarked</th>\n",
              "    </tr>\n",
              "  </thead>\n",
              "  <tbody>\n",
              "    <tr>\n",
              "      <th>0</th>\n",
              "      <td>1</td>\n",
              "      <td>0</td>\n",
              "      <td>3</td>\n",
              "      <td>Braund, Mr. Owen Harris</td>\n",
              "      <td>1</td>\n",
              "      <td>22.0</td>\n",
              "      <td>1</td>\n",
              "      <td>0</td>\n",
              "      <td>A/5 21171</td>\n",
              "      <td>7.2500</td>\n",
              "      <td>S</td>\n",
              "    </tr>\n",
              "    <tr>\n",
              "      <th>1</th>\n",
              "      <td>2</td>\n",
              "      <td>1</td>\n",
              "      <td>1</td>\n",
              "      <td>Cumings, Mrs. John Bradley (Florence Briggs Th...</td>\n",
              "      <td>0</td>\n",
              "      <td>38.0</td>\n",
              "      <td>1</td>\n",
              "      <td>0</td>\n",
              "      <td>PC 17599</td>\n",
              "      <td>71.2833</td>\n",
              "      <td>C</td>\n",
              "    </tr>\n",
              "    <tr>\n",
              "      <th>2</th>\n",
              "      <td>3</td>\n",
              "      <td>1</td>\n",
              "      <td>3</td>\n",
              "      <td>Heikkinen, Miss. Laina</td>\n",
              "      <td>0</td>\n",
              "      <td>26.0</td>\n",
              "      <td>0</td>\n",
              "      <td>0</td>\n",
              "      <td>STON/O2. 3101282</td>\n",
              "      <td>7.9250</td>\n",
              "      <td>S</td>\n",
              "    </tr>\n",
              "    <tr>\n",
              "      <th>3</th>\n",
              "      <td>4</td>\n",
              "      <td>1</td>\n",
              "      <td>1</td>\n",
              "      <td>Futrelle, Mrs. Jacques Heath (Lily May Peel)</td>\n",
              "      <td>0</td>\n",
              "      <td>35.0</td>\n",
              "      <td>1</td>\n",
              "      <td>0</td>\n",
              "      <td>113803</td>\n",
              "      <td>53.1000</td>\n",
              "      <td>S</td>\n",
              "    </tr>\n",
              "    <tr>\n",
              "      <th>4</th>\n",
              "      <td>5</td>\n",
              "      <td>0</td>\n",
              "      <td>3</td>\n",
              "      <td>Allen, Mr. William Henry</td>\n",
              "      <td>1</td>\n",
              "      <td>35.0</td>\n",
              "      <td>0</td>\n",
              "      <td>0</td>\n",
              "      <td>373450</td>\n",
              "      <td>8.0500</td>\n",
              "      <td>S</td>\n",
              "    </tr>\n",
              "    <tr>\n",
              "      <th>...</th>\n",
              "      <td>...</td>\n",
              "      <td>...</td>\n",
              "      <td>...</td>\n",
              "      <td>...</td>\n",
              "      <td>...</td>\n",
              "      <td>...</td>\n",
              "      <td>...</td>\n",
              "      <td>...</td>\n",
              "      <td>...</td>\n",
              "      <td>...</td>\n",
              "      <td>...</td>\n",
              "    </tr>\n",
              "    <tr>\n",
              "      <th>886</th>\n",
              "      <td>887</td>\n",
              "      <td>0</td>\n",
              "      <td>2</td>\n",
              "      <td>Montvila, Rev. Juozas</td>\n",
              "      <td>1</td>\n",
              "      <td>27.0</td>\n",
              "      <td>0</td>\n",
              "      <td>0</td>\n",
              "      <td>211536</td>\n",
              "      <td>13.0000</td>\n",
              "      <td>S</td>\n",
              "    </tr>\n",
              "    <tr>\n",
              "      <th>887</th>\n",
              "      <td>888</td>\n",
              "      <td>1</td>\n",
              "      <td>1</td>\n",
              "      <td>Graham, Miss. Margaret Edith</td>\n",
              "      <td>0</td>\n",
              "      <td>19.0</td>\n",
              "      <td>0</td>\n",
              "      <td>0</td>\n",
              "      <td>112053</td>\n",
              "      <td>30.0000</td>\n",
              "      <td>S</td>\n",
              "    </tr>\n",
              "    <tr>\n",
              "      <th>888</th>\n",
              "      <td>889</td>\n",
              "      <td>0</td>\n",
              "      <td>3</td>\n",
              "      <td>Johnston, Miss. Catherine Helen \"Carrie\"</td>\n",
              "      <td>0</td>\n",
              "      <td>0.0</td>\n",
              "      <td>1</td>\n",
              "      <td>2</td>\n",
              "      <td>W./C. 6607</td>\n",
              "      <td>23.4500</td>\n",
              "      <td>S</td>\n",
              "    </tr>\n",
              "    <tr>\n",
              "      <th>889</th>\n",
              "      <td>890</td>\n",
              "      <td>1</td>\n",
              "      <td>1</td>\n",
              "      <td>Behr, Mr. Karl Howell</td>\n",
              "      <td>1</td>\n",
              "      <td>26.0</td>\n",
              "      <td>0</td>\n",
              "      <td>0</td>\n",
              "      <td>111369</td>\n",
              "      <td>30.0000</td>\n",
              "      <td>C</td>\n",
              "    </tr>\n",
              "    <tr>\n",
              "      <th>890</th>\n",
              "      <td>891</td>\n",
              "      <td>0</td>\n",
              "      <td>3</td>\n",
              "      <td>Dooley, Mr. Patrick</td>\n",
              "      <td>1</td>\n",
              "      <td>32.0</td>\n",
              "      <td>0</td>\n",
              "      <td>0</td>\n",
              "      <td>370376</td>\n",
              "      <td>7.7500</td>\n",
              "      <td>Q</td>\n",
              "    </tr>\n",
              "  </tbody>\n",
              "</table>\n",
              "<p>891 rows × 11 columns</p>\n",
              "</div>\n",
              "    <div class=\"colab-df-buttons\">\n",
              "\n",
              "  <div class=\"colab-df-container\">\n",
              "    <button class=\"colab-df-convert\" onclick=\"convertToInteractive('df-5fcde799-6984-4af5-93fd-d842976cdf3b')\"\n",
              "            title=\"Convert this dataframe to an interactive table.\"\n",
              "            style=\"display:none;\">\n",
              "\n",
              "  <svg xmlns=\"http://www.w3.org/2000/svg\" height=\"24px\" viewBox=\"0 -960 960 960\">\n",
              "    <path d=\"M120-120v-720h720v720H120Zm60-500h600v-160H180v160Zm220 220h160v-160H400v160Zm0 220h160v-160H400v160ZM180-400h160v-160H180v160Zm440 0h160v-160H620v160ZM180-180h160v-160H180v160Zm440 0h160v-160H620v160Z\"/>\n",
              "  </svg>\n",
              "    </button>\n",
              "\n",
              "  <style>\n",
              "    .colab-df-container {\n",
              "      display:flex;\n",
              "      gap: 12px;\n",
              "    }\n",
              "\n",
              "    .colab-df-convert {\n",
              "      background-color: #E8F0FE;\n",
              "      border: none;\n",
              "      border-radius: 50%;\n",
              "      cursor: pointer;\n",
              "      display: none;\n",
              "      fill: #1967D2;\n",
              "      height: 32px;\n",
              "      padding: 0 0 0 0;\n",
              "      width: 32px;\n",
              "    }\n",
              "\n",
              "    .colab-df-convert:hover {\n",
              "      background-color: #E2EBFA;\n",
              "      box-shadow: 0px 1px 2px rgba(60, 64, 67, 0.3), 0px 1px 3px 1px rgba(60, 64, 67, 0.15);\n",
              "      fill: #174EA6;\n",
              "    }\n",
              "\n",
              "    .colab-df-buttons div {\n",
              "      margin-bottom: 4px;\n",
              "    }\n",
              "\n",
              "    [theme=dark] .colab-df-convert {\n",
              "      background-color: #3B4455;\n",
              "      fill: #D2E3FC;\n",
              "    }\n",
              "\n",
              "    [theme=dark] .colab-df-convert:hover {\n",
              "      background-color: #434B5C;\n",
              "      box-shadow: 0px 1px 3px 1px rgba(0, 0, 0, 0.15);\n",
              "      filter: drop-shadow(0px 1px 2px rgba(0, 0, 0, 0.3));\n",
              "      fill: #FFFFFF;\n",
              "    }\n",
              "  </style>\n",
              "\n",
              "    <script>\n",
              "      const buttonEl =\n",
              "        document.querySelector('#df-5fcde799-6984-4af5-93fd-d842976cdf3b button.colab-df-convert');\n",
              "      buttonEl.style.display =\n",
              "        google.colab.kernel.accessAllowed ? 'block' : 'none';\n",
              "\n",
              "      async function convertToInteractive(key) {\n",
              "        const element = document.querySelector('#df-5fcde799-6984-4af5-93fd-d842976cdf3b');\n",
              "        const dataTable =\n",
              "          await google.colab.kernel.invokeFunction('convertToInteractive',\n",
              "                                                    [key], {});\n",
              "        if (!dataTable) return;\n",
              "\n",
              "        const docLinkHtml = 'Like what you see? Visit the ' +\n",
              "          '<a target=\"_blank\" href=https://colab.research.google.com/notebooks/data_table.ipynb>data table notebook</a>'\n",
              "          + ' to learn more about interactive tables.';\n",
              "        element.innerHTML = '';\n",
              "        dataTable['output_type'] = 'display_data';\n",
              "        await google.colab.output.renderOutput(dataTable, element);\n",
              "        const docLink = document.createElement('div');\n",
              "        docLink.innerHTML = docLinkHtml;\n",
              "        element.appendChild(docLink);\n",
              "      }\n",
              "    </script>\n",
              "  </div>\n",
              "\n",
              "\n",
              "    <div id=\"df-b052c502-5de3-4dec-bce1-0820bb9113e4\">\n",
              "      <button class=\"colab-df-quickchart\" onclick=\"quickchart('df-b052c502-5de3-4dec-bce1-0820bb9113e4')\"\n",
              "                title=\"Suggest charts\"\n",
              "                style=\"display:none;\">\n",
              "\n",
              "<svg xmlns=\"http://www.w3.org/2000/svg\" height=\"24px\"viewBox=\"0 0 24 24\"\n",
              "     width=\"24px\">\n",
              "    <g>\n",
              "        <path d=\"M19 3H5c-1.1 0-2 .9-2 2v14c0 1.1.9 2 2 2h14c1.1 0 2-.9 2-2V5c0-1.1-.9-2-2-2zM9 17H7v-7h2v7zm4 0h-2V7h2v10zm4 0h-2v-4h2v4z\"/>\n",
              "    </g>\n",
              "</svg>\n",
              "      </button>\n",
              "\n",
              "<style>\n",
              "  .colab-df-quickchart {\n",
              "      --bg-color: #E8F0FE;\n",
              "      --fill-color: #1967D2;\n",
              "      --hover-bg-color: #E2EBFA;\n",
              "      --hover-fill-color: #174EA6;\n",
              "      --disabled-fill-color: #AAA;\n",
              "      --disabled-bg-color: #DDD;\n",
              "  }\n",
              "\n",
              "  [theme=dark] .colab-df-quickchart {\n",
              "      --bg-color: #3B4455;\n",
              "      --fill-color: #D2E3FC;\n",
              "      --hover-bg-color: #434B5C;\n",
              "      --hover-fill-color: #FFFFFF;\n",
              "      --disabled-bg-color: #3B4455;\n",
              "      --disabled-fill-color: #666;\n",
              "  }\n",
              "\n",
              "  .colab-df-quickchart {\n",
              "    background-color: var(--bg-color);\n",
              "    border: none;\n",
              "    border-radius: 50%;\n",
              "    cursor: pointer;\n",
              "    display: none;\n",
              "    fill: var(--fill-color);\n",
              "    height: 32px;\n",
              "    padding: 0;\n",
              "    width: 32px;\n",
              "  }\n",
              "\n",
              "  .colab-df-quickchart:hover {\n",
              "    background-color: var(--hover-bg-color);\n",
              "    box-shadow: 0 1px 2px rgba(60, 64, 67, 0.3), 0 1px 3px 1px rgba(60, 64, 67, 0.15);\n",
              "    fill: var(--button-hover-fill-color);\n",
              "  }\n",
              "\n",
              "  .colab-df-quickchart-complete:disabled,\n",
              "  .colab-df-quickchart-complete:disabled:hover {\n",
              "    background-color: var(--disabled-bg-color);\n",
              "    fill: var(--disabled-fill-color);\n",
              "    box-shadow: none;\n",
              "  }\n",
              "\n",
              "  .colab-df-spinner {\n",
              "    border: 2px solid var(--fill-color);\n",
              "    border-color: transparent;\n",
              "    border-bottom-color: var(--fill-color);\n",
              "    animation:\n",
              "      spin 1s steps(1) infinite;\n",
              "  }\n",
              "\n",
              "  @keyframes spin {\n",
              "    0% {\n",
              "      border-color: transparent;\n",
              "      border-bottom-color: var(--fill-color);\n",
              "      border-left-color: var(--fill-color);\n",
              "    }\n",
              "    20% {\n",
              "      border-color: transparent;\n",
              "      border-left-color: var(--fill-color);\n",
              "      border-top-color: var(--fill-color);\n",
              "    }\n",
              "    30% {\n",
              "      border-color: transparent;\n",
              "      border-left-color: var(--fill-color);\n",
              "      border-top-color: var(--fill-color);\n",
              "      border-right-color: var(--fill-color);\n",
              "    }\n",
              "    40% {\n",
              "      border-color: transparent;\n",
              "      border-right-color: var(--fill-color);\n",
              "      border-top-color: var(--fill-color);\n",
              "    }\n",
              "    60% {\n",
              "      border-color: transparent;\n",
              "      border-right-color: var(--fill-color);\n",
              "    }\n",
              "    80% {\n",
              "      border-color: transparent;\n",
              "      border-right-color: var(--fill-color);\n",
              "      border-bottom-color: var(--fill-color);\n",
              "    }\n",
              "    90% {\n",
              "      border-color: transparent;\n",
              "      border-bottom-color: var(--fill-color);\n",
              "    }\n",
              "  }\n",
              "</style>\n",
              "\n",
              "      <script>\n",
              "        async function quickchart(key) {\n",
              "          const quickchartButtonEl =\n",
              "            document.querySelector('#' + key + ' button');\n",
              "          quickchartButtonEl.disabled = true;  // To prevent multiple clicks.\n",
              "          quickchartButtonEl.classList.add('colab-df-spinner');\n",
              "          try {\n",
              "            const charts = await google.colab.kernel.invokeFunction(\n",
              "                'suggestCharts', [key], {});\n",
              "          } catch (error) {\n",
              "            console.error('Error during call to suggestCharts:', error);\n",
              "          }\n",
              "          quickchartButtonEl.classList.remove('colab-df-spinner');\n",
              "          quickchartButtonEl.classList.add('colab-df-quickchart-complete');\n",
              "        }\n",
              "        (() => {\n",
              "          let quickchartButtonEl =\n",
              "            document.querySelector('#df-b052c502-5de3-4dec-bce1-0820bb9113e4 button');\n",
              "          quickchartButtonEl.style.display =\n",
              "            google.colab.kernel.accessAllowed ? 'block' : 'none';\n",
              "        })();\n",
              "      </script>\n",
              "    </div>\n",
              "\n",
              "  <div id=\"id_2e73cce2-04b0-4944-965d-1926c2829b0b\">\n",
              "    <style>\n",
              "      .colab-df-generate {\n",
              "        background-color: #E8F0FE;\n",
              "        border: none;\n",
              "        border-radius: 50%;\n",
              "        cursor: pointer;\n",
              "        display: none;\n",
              "        fill: #1967D2;\n",
              "        height: 32px;\n",
              "        padding: 0 0 0 0;\n",
              "        width: 32px;\n",
              "      }\n",
              "\n",
              "      .colab-df-generate:hover {\n",
              "        background-color: #E2EBFA;\n",
              "        box-shadow: 0px 1px 2px rgba(60, 64, 67, 0.3), 0px 1px 3px 1px rgba(60, 64, 67, 0.15);\n",
              "        fill: #174EA6;\n",
              "      }\n",
              "\n",
              "      [theme=dark] .colab-df-generate {\n",
              "        background-color: #3B4455;\n",
              "        fill: #D2E3FC;\n",
              "      }\n",
              "\n",
              "      [theme=dark] .colab-df-generate:hover {\n",
              "        background-color: #434B5C;\n",
              "        box-shadow: 0px 1px 3px 1px rgba(0, 0, 0, 0.15);\n",
              "        filter: drop-shadow(0px 1px 2px rgba(0, 0, 0, 0.3));\n",
              "        fill: #FFFFFF;\n",
              "      }\n",
              "    </style>\n",
              "    <button class=\"colab-df-generate\" onclick=\"generateWithVariable('df')\"\n",
              "            title=\"Generate code using this dataframe.\"\n",
              "            style=\"display:none;\">\n",
              "\n",
              "  <svg xmlns=\"http://www.w3.org/2000/svg\" height=\"24px\"viewBox=\"0 0 24 24\"\n",
              "       width=\"24px\">\n",
              "    <path d=\"M7,19H8.4L18.45,9,17,7.55,7,17.6ZM5,21V16.75L18.45,3.32a2,2,0,0,1,2.83,0l1.4,1.43a1.91,1.91,0,0,1,.58,1.4,1.91,1.91,0,0,1-.58,1.4L9.25,21ZM18.45,9,17,7.55Zm-12,3A5.31,5.31,0,0,0,4.9,8.1,5.31,5.31,0,0,0,1,6.5,5.31,5.31,0,0,0,4.9,4.9,5.31,5.31,0,0,0,6.5,1,5.31,5.31,0,0,0,8.1,4.9,5.31,5.31,0,0,0,12,6.5,5.46,5.46,0,0,0,6.5,12Z\"/>\n",
              "  </svg>\n",
              "    </button>\n",
              "    <script>\n",
              "      (() => {\n",
              "      const buttonEl =\n",
              "        document.querySelector('#id_2e73cce2-04b0-4944-965d-1926c2829b0b button.colab-df-generate');\n",
              "      buttonEl.style.display =\n",
              "        google.colab.kernel.accessAllowed ? 'block' : 'none';\n",
              "\n",
              "      buttonEl.onclick = () => {\n",
              "        google.colab.notebook.generateWithVariable('df');\n",
              "      }\n",
              "      })();\n",
              "    </script>\n",
              "  </div>\n",
              "\n",
              "    </div>\n",
              "  </div>\n"
            ],
            "application/vnd.google.colaboratory.intrinsic+json": {
              "type": "dataframe",
              "variable_name": "df",
              "summary": "{\n  \"name\": \"df\",\n  \"rows\": 891,\n  \"fields\": [\n    {\n      \"column\": \"PassengerId\",\n      \"properties\": {\n        \"dtype\": \"number\",\n        \"std\": 257,\n        \"min\": 1,\n        \"max\": 891,\n        \"num_unique_values\": 891,\n        \"samples\": [\n          710,\n          440,\n          841\n        ],\n        \"semantic_type\": \"\",\n        \"description\": \"\"\n      }\n    },\n    {\n      \"column\": \"Survived\",\n      \"properties\": {\n        \"dtype\": \"number\",\n        \"std\": 0,\n        \"min\": 0,\n        \"max\": 1,\n        \"num_unique_values\": 2,\n        \"samples\": [\n          1,\n          0\n        ],\n        \"semantic_type\": \"\",\n        \"description\": \"\"\n      }\n    },\n    {\n      \"column\": \"Pclass\",\n      \"properties\": {\n        \"dtype\": \"number\",\n        \"std\": 0,\n        \"min\": 1,\n        \"max\": 3,\n        \"num_unique_values\": 3,\n        \"samples\": [\n          3,\n          1\n        ],\n        \"semantic_type\": \"\",\n        \"description\": \"\"\n      }\n    },\n    {\n      \"column\": \"Name\",\n      \"properties\": {\n        \"dtype\": \"string\",\n        \"num_unique_values\": 891,\n        \"samples\": [\n          \"Moubarek, Master. Halim Gonios (\\\"William George\\\")\",\n          \"Kvillner, Mr. Johan Henrik Johannesson\"\n        ],\n        \"semantic_type\": \"\",\n        \"description\": \"\"\n      }\n    },\n    {\n      \"column\": \"Sex\",\n      \"properties\": {\n        \"dtype\": \"number\",\n        \"std\": 0,\n        \"min\": 0,\n        \"max\": 1,\n        \"num_unique_values\": 2,\n        \"samples\": [\n          0,\n          1\n        ],\n        \"semantic_type\": \"\",\n        \"description\": \"\"\n      }\n    },\n    {\n      \"column\": \"Age\",\n      \"properties\": {\n        \"dtype\": \"number\",\n        \"std\": 17.596074065915886,\n        \"min\": 0.0,\n        \"max\": 80.0,\n        \"num_unique_values\": 89,\n        \"samples\": [\n          59.0,\n          36.5\n        ],\n        \"semantic_type\": \"\",\n        \"description\": \"\"\n      }\n    },\n    {\n      \"column\": \"SibSp\",\n      \"properties\": {\n        \"dtype\": \"number\",\n        \"std\": 1,\n        \"min\": 0,\n        \"max\": 8,\n        \"num_unique_values\": 7,\n        \"samples\": [\n          1,\n          0\n        ],\n        \"semantic_type\": \"\",\n        \"description\": \"\"\n      }\n    },\n    {\n      \"column\": \"Parch\",\n      \"properties\": {\n        \"dtype\": \"number\",\n        \"std\": 0,\n        \"min\": 0,\n        \"max\": 6,\n        \"num_unique_values\": 7,\n        \"samples\": [\n          0,\n          1\n        ],\n        \"semantic_type\": \"\",\n        \"description\": \"\"\n      }\n    },\n    {\n      \"column\": \"Ticket\",\n      \"properties\": {\n        \"dtype\": \"string\",\n        \"num_unique_values\": 681,\n        \"samples\": [\n          \"11774\",\n          \"248740\"\n        ],\n        \"semantic_type\": \"\",\n        \"description\": \"\"\n      }\n    },\n    {\n      \"column\": \"Fare\",\n      \"properties\": {\n        \"dtype\": \"number\",\n        \"std\": 49.693428597180905,\n        \"min\": 0.0,\n        \"max\": 512.3292,\n        \"num_unique_values\": 248,\n        \"samples\": [\n          11.2417,\n          51.8625\n        ],\n        \"semantic_type\": \"\",\n        \"description\": \"\"\n      }\n    },\n    {\n      \"column\": \"Embarked\",\n      \"properties\": {\n        \"dtype\": \"category\",\n        \"num_unique_values\": 4,\n        \"samples\": [\n          \"C\",\n          \"Unknow\"\n        ],\n        \"semantic_type\": \"\",\n        \"description\": \"\"\n      }\n    }\n  ]\n}"
            }
          },
          "metadata": {},
          "execution_count": 21
        }
      ]
    },
    {
      "cell_type": "markdown",
      "source": [
        "**b) One-HOt Encoding**\n",
        "\n",
        "* Use for nominal(unorderd) categiories\n",
        "\n",
        "Embarked_Q   | Embarked_S\n",
        "\n",
        "* 0          |   1\n",
        "* 1          |    0\n",
        "\n",
        "drop_firstTrue avoids redundant columns.\n",
        "\n",
        "\n",
        "\n",
        "\n"
      ],
      "metadata": {
        "id": "Ajw_077TjKwD"
      }
    },
    {
      "cell_type": "code",
      "source": [
        "df = pd.get_dummies(df,columns=['Embarked'],drop_first=True)\n",
        "df"
      ],
      "metadata": {
        "colab": {
          "base_uri": "https://localhost:8080/",
          "height": 304
        },
        "id": "i0B_GcMZkcz0",
        "outputId": "d0e6c6e7-2c44-41c0-cf41-6e0fc532eaef"
      },
      "execution_count": null,
      "outputs": [
        {
          "output_type": "error",
          "ename": "KeyError",
          "evalue": "\"None of [Index(['Embarked'], dtype='object')] are in the [columns]\"",
          "traceback": [
            "\u001b[0;31m---------------------------------------------------------------------------\u001b[0m",
            "\u001b[0;31mKeyError\u001b[0m                                  Traceback (most recent call last)",
            "\u001b[0;32m/tmp/ipython-input-2245013197.py\u001b[0m in \u001b[0;36m<cell line: 0>\u001b[0;34m()\u001b[0m\n\u001b[0;32m----> 1\u001b[0;31m \u001b[0mdf\u001b[0m \u001b[0;34m=\u001b[0m \u001b[0mpd\u001b[0m\u001b[0;34m.\u001b[0m\u001b[0mget_dummies\u001b[0m\u001b[0;34m(\u001b[0m\u001b[0mdf\u001b[0m\u001b[0;34m,\u001b[0m\u001b[0mcolumns\u001b[0m\u001b[0;34m=\u001b[0m\u001b[0;34m[\u001b[0m\u001b[0;34m'Embarked'\u001b[0m\u001b[0;34m]\u001b[0m\u001b[0;34m,\u001b[0m\u001b[0mdrop_first\u001b[0m\u001b[0;34m=\u001b[0m\u001b[0;32mTrue\u001b[0m\u001b[0;34m)\u001b[0m\u001b[0;34m\u001b[0m\u001b[0;34m\u001b[0m\u001b[0m\n\u001b[0m\u001b[1;32m      2\u001b[0m \u001b[0mdf\u001b[0m\u001b[0;34m\u001b[0m\u001b[0;34m\u001b[0m\u001b[0m\n",
            "\u001b[0;32m/usr/local/lib/python3.11/dist-packages/pandas/core/reshape/encoding.py\u001b[0m in \u001b[0;36mget_dummies\u001b[0;34m(data, prefix, prefix_sep, dummy_na, columns, sparse, drop_first, dtype)\u001b[0m\n\u001b[1;32m    167\u001b[0m             \u001b[0;32mraise\u001b[0m \u001b[0mTypeError\u001b[0m\u001b[0;34m(\u001b[0m\u001b[0;34m\"Input must be a list-like for parameter `columns`\"\u001b[0m\u001b[0;34m)\u001b[0m\u001b[0;34m\u001b[0m\u001b[0;34m\u001b[0m\u001b[0m\n\u001b[1;32m    168\u001b[0m         \u001b[0;32melse\u001b[0m\u001b[0;34m:\u001b[0m\u001b[0;34m\u001b[0m\u001b[0;34m\u001b[0m\u001b[0m\n\u001b[0;32m--> 169\u001b[0;31m             \u001b[0mdata_to_encode\u001b[0m \u001b[0;34m=\u001b[0m \u001b[0mdata\u001b[0m\u001b[0;34m[\u001b[0m\u001b[0mcolumns\u001b[0m\u001b[0;34m]\u001b[0m\u001b[0;34m\u001b[0m\u001b[0;34m\u001b[0m\u001b[0m\n\u001b[0m\u001b[1;32m    170\u001b[0m \u001b[0;34m\u001b[0m\u001b[0m\n\u001b[1;32m    171\u001b[0m         \u001b[0;31m# validate prefixes and separator to avoid silently dropping cols\u001b[0m\u001b[0;34m\u001b[0m\u001b[0;34m\u001b[0m\u001b[0m\n",
            "\u001b[0;32m/usr/local/lib/python3.11/dist-packages/pandas/core/frame.py\u001b[0m in \u001b[0;36m__getitem__\u001b[0;34m(self, key)\u001b[0m\n\u001b[1;32m   4106\u001b[0m             \u001b[0;32mif\u001b[0m \u001b[0mis_iterator\u001b[0m\u001b[0;34m(\u001b[0m\u001b[0mkey\u001b[0m\u001b[0;34m)\u001b[0m\u001b[0;34m:\u001b[0m\u001b[0;34m\u001b[0m\u001b[0;34m\u001b[0m\u001b[0m\n\u001b[1;32m   4107\u001b[0m                 \u001b[0mkey\u001b[0m \u001b[0;34m=\u001b[0m \u001b[0mlist\u001b[0m\u001b[0;34m(\u001b[0m\u001b[0mkey\u001b[0m\u001b[0;34m)\u001b[0m\u001b[0;34m\u001b[0m\u001b[0;34m\u001b[0m\u001b[0m\n\u001b[0;32m-> 4108\u001b[0;31m             \u001b[0mindexer\u001b[0m \u001b[0;34m=\u001b[0m \u001b[0mself\u001b[0m\u001b[0;34m.\u001b[0m\u001b[0mcolumns\u001b[0m\u001b[0;34m.\u001b[0m\u001b[0m_get_indexer_strict\u001b[0m\u001b[0;34m(\u001b[0m\u001b[0mkey\u001b[0m\u001b[0;34m,\u001b[0m \u001b[0;34m\"columns\"\u001b[0m\u001b[0;34m)\u001b[0m\u001b[0;34m[\u001b[0m\u001b[0;36m1\u001b[0m\u001b[0;34m]\u001b[0m\u001b[0;34m\u001b[0m\u001b[0;34m\u001b[0m\u001b[0m\n\u001b[0m\u001b[1;32m   4109\u001b[0m \u001b[0;34m\u001b[0m\u001b[0m\n\u001b[1;32m   4110\u001b[0m         \u001b[0;31m# take() does not accept boolean indexers\u001b[0m\u001b[0;34m\u001b[0m\u001b[0;34m\u001b[0m\u001b[0m\n",
            "\u001b[0;32m/usr/local/lib/python3.11/dist-packages/pandas/core/indexes/base.py\u001b[0m in \u001b[0;36m_get_indexer_strict\u001b[0;34m(self, key, axis_name)\u001b[0m\n\u001b[1;32m   6198\u001b[0m             \u001b[0mkeyarr\u001b[0m\u001b[0;34m,\u001b[0m \u001b[0mindexer\u001b[0m\u001b[0;34m,\u001b[0m \u001b[0mnew_indexer\u001b[0m \u001b[0;34m=\u001b[0m \u001b[0mself\u001b[0m\u001b[0;34m.\u001b[0m\u001b[0m_reindex_non_unique\u001b[0m\u001b[0;34m(\u001b[0m\u001b[0mkeyarr\u001b[0m\u001b[0;34m)\u001b[0m\u001b[0;34m\u001b[0m\u001b[0;34m\u001b[0m\u001b[0m\n\u001b[1;32m   6199\u001b[0m \u001b[0;34m\u001b[0m\u001b[0m\n\u001b[0;32m-> 6200\u001b[0;31m         \u001b[0mself\u001b[0m\u001b[0;34m.\u001b[0m\u001b[0m_raise_if_missing\u001b[0m\u001b[0;34m(\u001b[0m\u001b[0mkeyarr\u001b[0m\u001b[0;34m,\u001b[0m \u001b[0mindexer\u001b[0m\u001b[0;34m,\u001b[0m \u001b[0maxis_name\u001b[0m\u001b[0;34m)\u001b[0m\u001b[0;34m\u001b[0m\u001b[0;34m\u001b[0m\u001b[0m\n\u001b[0m\u001b[1;32m   6201\u001b[0m \u001b[0;34m\u001b[0m\u001b[0m\n\u001b[1;32m   6202\u001b[0m         \u001b[0mkeyarr\u001b[0m \u001b[0;34m=\u001b[0m \u001b[0mself\u001b[0m\u001b[0;34m.\u001b[0m\u001b[0mtake\u001b[0m\u001b[0;34m(\u001b[0m\u001b[0mindexer\u001b[0m\u001b[0;34m)\u001b[0m\u001b[0;34m\u001b[0m\u001b[0;34m\u001b[0m\u001b[0m\n",
            "\u001b[0;32m/usr/local/lib/python3.11/dist-packages/pandas/core/indexes/base.py\u001b[0m in \u001b[0;36m_raise_if_missing\u001b[0;34m(self, key, indexer, axis_name)\u001b[0m\n\u001b[1;32m   6247\u001b[0m         \u001b[0;32mif\u001b[0m \u001b[0mnmissing\u001b[0m\u001b[0;34m:\u001b[0m\u001b[0;34m\u001b[0m\u001b[0;34m\u001b[0m\u001b[0m\n\u001b[1;32m   6248\u001b[0m             \u001b[0;32mif\u001b[0m \u001b[0mnmissing\u001b[0m \u001b[0;34m==\u001b[0m \u001b[0mlen\u001b[0m\u001b[0;34m(\u001b[0m\u001b[0mindexer\u001b[0m\u001b[0;34m)\u001b[0m\u001b[0;34m:\u001b[0m\u001b[0;34m\u001b[0m\u001b[0;34m\u001b[0m\u001b[0m\n\u001b[0;32m-> 6249\u001b[0;31m                 \u001b[0;32mraise\u001b[0m \u001b[0mKeyError\u001b[0m\u001b[0;34m(\u001b[0m\u001b[0;34mf\"None of [{key}] are in the [{axis_name}]\"\u001b[0m\u001b[0;34m)\u001b[0m\u001b[0;34m\u001b[0m\u001b[0;34m\u001b[0m\u001b[0m\n\u001b[0m\u001b[1;32m   6250\u001b[0m \u001b[0;34m\u001b[0m\u001b[0m\n\u001b[1;32m   6251\u001b[0m             \u001b[0mnot_found\u001b[0m \u001b[0;34m=\u001b[0m \u001b[0mlist\u001b[0m\u001b[0;34m(\u001b[0m\u001b[0mensure_index\u001b[0m\u001b[0;34m(\u001b[0m\u001b[0mkey\u001b[0m\u001b[0;34m)\u001b[0m\u001b[0;34m[\u001b[0m\u001b[0mmissing_mask\u001b[0m\u001b[0;34m.\u001b[0m\u001b[0mnonzero\u001b[0m\u001b[0;34m(\u001b[0m\u001b[0;34m)\u001b[0m\u001b[0;34m[\u001b[0m\u001b[0;36m0\u001b[0m\u001b[0;34m]\u001b[0m\u001b[0;34m]\u001b[0m\u001b[0;34m.\u001b[0m\u001b[0munique\u001b[0m\u001b[0;34m(\u001b[0m\u001b[0;34m)\u001b[0m\u001b[0;34m)\u001b[0m\u001b[0;34m\u001b[0m\u001b[0;34m\u001b[0m\u001b[0m\n",
            "\u001b[0;31mKeyError\u001b[0m: \"None of [Index(['Embarked'], dtype='object')] are in the [columns]\""
          ]
        }
      ]
    },
    {
      "cell_type": "markdown",
      "source": [
        "#**Scale**"
      ],
      "metadata": {
        "id": "KKI6p3w9GRdu"
      }
    },
    {
      "cell_type": "markdown",
      "source": [
        "**A) Standard scaler(z-core Normilazatiom**"
      ],
      "metadata": {
        "id": "b2Lo8KurHFeN"
      }
    },
    {
      "cell_type": "markdown",
      "source": [
        "**Load and inspect data**"
      ],
      "metadata": {
        "id": "nVMhYbTqGhSl"
      }
    },
    {
      "cell_type": "code",
      "source": [
        "import pandas as pd\n",
        "url=\"https://raw.githubusercontent.com/stedy/Machine-Learning-with-R-datasets/master/insurance.csv\"\n",
        "df = pd.read_csv(url)\n",
        "df.head()"
      ],
      "metadata": {
        "colab": {
          "base_uri": "https://localhost:8080/",
          "height": 206
        },
        "id": "k3wVv4bvHZ_1",
        "outputId": "9b2c3200-682c-44d0-ced2-04c522e07de3"
      },
      "execution_count": null,
      "outputs": [
        {
          "output_type": "execute_result",
          "data": {
            "text/plain": [
              "   age     sex     bmi  children smoker     region      charges\n",
              "0   19  female  27.900         0    yes  southwest  16884.92400\n",
              "1   18    male  33.770         1     no  southeast   1725.55230\n",
              "2   28    male  33.000         3     no  southeast   4449.46200\n",
              "3   33    male  22.705         0     no  northwest  21984.47061\n",
              "4   32    male  28.880         0     no  northwest   3866.85520"
            ],
            "text/html": [
              "\n",
              "  <div id=\"df-bbcba7b9-a0b6-4a90-b91a-284514586d42\" class=\"colab-df-container\">\n",
              "    <div>\n",
              "<style scoped>\n",
              "    .dataframe tbody tr th:only-of-type {\n",
              "        vertical-align: middle;\n",
              "    }\n",
              "\n",
              "    .dataframe tbody tr th {\n",
              "        vertical-align: top;\n",
              "    }\n",
              "\n",
              "    .dataframe thead th {\n",
              "        text-align: right;\n",
              "    }\n",
              "</style>\n",
              "<table border=\"1\" class=\"dataframe\">\n",
              "  <thead>\n",
              "    <tr style=\"text-align: right;\">\n",
              "      <th></th>\n",
              "      <th>age</th>\n",
              "      <th>sex</th>\n",
              "      <th>bmi</th>\n",
              "      <th>children</th>\n",
              "      <th>smoker</th>\n",
              "      <th>region</th>\n",
              "      <th>charges</th>\n",
              "    </tr>\n",
              "  </thead>\n",
              "  <tbody>\n",
              "    <tr>\n",
              "      <th>0</th>\n",
              "      <td>19</td>\n",
              "      <td>female</td>\n",
              "      <td>27.900</td>\n",
              "      <td>0</td>\n",
              "      <td>yes</td>\n",
              "      <td>southwest</td>\n",
              "      <td>16884.92400</td>\n",
              "    </tr>\n",
              "    <tr>\n",
              "      <th>1</th>\n",
              "      <td>18</td>\n",
              "      <td>male</td>\n",
              "      <td>33.770</td>\n",
              "      <td>1</td>\n",
              "      <td>no</td>\n",
              "      <td>southeast</td>\n",
              "      <td>1725.55230</td>\n",
              "    </tr>\n",
              "    <tr>\n",
              "      <th>2</th>\n",
              "      <td>28</td>\n",
              "      <td>male</td>\n",
              "      <td>33.000</td>\n",
              "      <td>3</td>\n",
              "      <td>no</td>\n",
              "      <td>southeast</td>\n",
              "      <td>4449.46200</td>\n",
              "    </tr>\n",
              "    <tr>\n",
              "      <th>3</th>\n",
              "      <td>33</td>\n",
              "      <td>male</td>\n",
              "      <td>22.705</td>\n",
              "      <td>0</td>\n",
              "      <td>no</td>\n",
              "      <td>northwest</td>\n",
              "      <td>21984.47061</td>\n",
              "    </tr>\n",
              "    <tr>\n",
              "      <th>4</th>\n",
              "      <td>32</td>\n",
              "      <td>male</td>\n",
              "      <td>28.880</td>\n",
              "      <td>0</td>\n",
              "      <td>no</td>\n",
              "      <td>northwest</td>\n",
              "      <td>3866.85520</td>\n",
              "    </tr>\n",
              "  </tbody>\n",
              "</table>\n",
              "</div>\n",
              "    <div class=\"colab-df-buttons\">\n",
              "\n",
              "  <div class=\"colab-df-container\">\n",
              "    <button class=\"colab-df-convert\" onclick=\"convertToInteractive('df-bbcba7b9-a0b6-4a90-b91a-284514586d42')\"\n",
              "            title=\"Convert this dataframe to an interactive table.\"\n",
              "            style=\"display:none;\">\n",
              "\n",
              "  <svg xmlns=\"http://www.w3.org/2000/svg\" height=\"24px\" viewBox=\"0 -960 960 960\">\n",
              "    <path d=\"M120-120v-720h720v720H120Zm60-500h600v-160H180v160Zm220 220h160v-160H400v160Zm0 220h160v-160H400v160ZM180-400h160v-160H180v160Zm440 0h160v-160H620v160ZM180-180h160v-160H180v160Zm440 0h160v-160H620v160Z\"/>\n",
              "  </svg>\n",
              "    </button>\n",
              "\n",
              "  <style>\n",
              "    .colab-df-container {\n",
              "      display:flex;\n",
              "      gap: 12px;\n",
              "    }\n",
              "\n",
              "    .colab-df-convert {\n",
              "      background-color: #E8F0FE;\n",
              "      border: none;\n",
              "      border-radius: 50%;\n",
              "      cursor: pointer;\n",
              "      display: none;\n",
              "      fill: #1967D2;\n",
              "      height: 32px;\n",
              "      padding: 0 0 0 0;\n",
              "      width: 32px;\n",
              "    }\n",
              "\n",
              "    .colab-df-convert:hover {\n",
              "      background-color: #E2EBFA;\n",
              "      box-shadow: 0px 1px 2px rgba(60, 64, 67, 0.3), 0px 1px 3px 1px rgba(60, 64, 67, 0.15);\n",
              "      fill: #174EA6;\n",
              "    }\n",
              "\n",
              "    .colab-df-buttons div {\n",
              "      margin-bottom: 4px;\n",
              "    }\n",
              "\n",
              "    [theme=dark] .colab-df-convert {\n",
              "      background-color: #3B4455;\n",
              "      fill: #D2E3FC;\n",
              "    }\n",
              "\n",
              "    [theme=dark] .colab-df-convert:hover {\n",
              "      background-color: #434B5C;\n",
              "      box-shadow: 0px 1px 3px 1px rgba(0, 0, 0, 0.15);\n",
              "      filter: drop-shadow(0px 1px 2px rgba(0, 0, 0, 0.3));\n",
              "      fill: #FFFFFF;\n",
              "    }\n",
              "  </style>\n",
              "\n",
              "    <script>\n",
              "      const buttonEl =\n",
              "        document.querySelector('#df-bbcba7b9-a0b6-4a90-b91a-284514586d42 button.colab-df-convert');\n",
              "      buttonEl.style.display =\n",
              "        google.colab.kernel.accessAllowed ? 'block' : 'none';\n",
              "\n",
              "      async function convertToInteractive(key) {\n",
              "        const element = document.querySelector('#df-bbcba7b9-a0b6-4a90-b91a-284514586d42');\n",
              "        const dataTable =\n",
              "          await google.colab.kernel.invokeFunction('convertToInteractive',\n",
              "                                                    [key], {});\n",
              "        if (!dataTable) return;\n",
              "\n",
              "        const docLinkHtml = 'Like what you see? Visit the ' +\n",
              "          '<a target=\"_blank\" href=https://colab.research.google.com/notebooks/data_table.ipynb>data table notebook</a>'\n",
              "          + ' to learn more about interactive tables.';\n",
              "        element.innerHTML = '';\n",
              "        dataTable['output_type'] = 'display_data';\n",
              "        await google.colab.output.renderOutput(dataTable, element);\n",
              "        const docLink = document.createElement('div');\n",
              "        docLink.innerHTML = docLinkHtml;\n",
              "        element.appendChild(docLink);\n",
              "      }\n",
              "    </script>\n",
              "  </div>\n",
              "\n",
              "\n",
              "    <div id=\"df-45ec8d8e-6b33-45a8-a07f-9c4fc7f75fc7\">\n",
              "      <button class=\"colab-df-quickchart\" onclick=\"quickchart('df-45ec8d8e-6b33-45a8-a07f-9c4fc7f75fc7')\"\n",
              "                title=\"Suggest charts\"\n",
              "                style=\"display:none;\">\n",
              "\n",
              "<svg xmlns=\"http://www.w3.org/2000/svg\" height=\"24px\"viewBox=\"0 0 24 24\"\n",
              "     width=\"24px\">\n",
              "    <g>\n",
              "        <path d=\"M19 3H5c-1.1 0-2 .9-2 2v14c0 1.1.9 2 2 2h14c1.1 0 2-.9 2-2V5c0-1.1-.9-2-2-2zM9 17H7v-7h2v7zm4 0h-2V7h2v10zm4 0h-2v-4h2v4z\"/>\n",
              "    </g>\n",
              "</svg>\n",
              "      </button>\n",
              "\n",
              "<style>\n",
              "  .colab-df-quickchart {\n",
              "      --bg-color: #E8F0FE;\n",
              "      --fill-color: #1967D2;\n",
              "      --hover-bg-color: #E2EBFA;\n",
              "      --hover-fill-color: #174EA6;\n",
              "      --disabled-fill-color: #AAA;\n",
              "      --disabled-bg-color: #DDD;\n",
              "  }\n",
              "\n",
              "  [theme=dark] .colab-df-quickchart {\n",
              "      --bg-color: #3B4455;\n",
              "      --fill-color: #D2E3FC;\n",
              "      --hover-bg-color: #434B5C;\n",
              "      --hover-fill-color: #FFFFFF;\n",
              "      --disabled-bg-color: #3B4455;\n",
              "      --disabled-fill-color: #666;\n",
              "  }\n",
              "\n",
              "  .colab-df-quickchart {\n",
              "    background-color: var(--bg-color);\n",
              "    border: none;\n",
              "    border-radius: 50%;\n",
              "    cursor: pointer;\n",
              "    display: none;\n",
              "    fill: var(--fill-color);\n",
              "    height: 32px;\n",
              "    padding: 0;\n",
              "    width: 32px;\n",
              "  }\n",
              "\n",
              "  .colab-df-quickchart:hover {\n",
              "    background-color: var(--hover-bg-color);\n",
              "    box-shadow: 0 1px 2px rgba(60, 64, 67, 0.3), 0 1px 3px 1px rgba(60, 64, 67, 0.15);\n",
              "    fill: var(--button-hover-fill-color);\n",
              "  }\n",
              "\n",
              "  .colab-df-quickchart-complete:disabled,\n",
              "  .colab-df-quickchart-complete:disabled:hover {\n",
              "    background-color: var(--disabled-bg-color);\n",
              "    fill: var(--disabled-fill-color);\n",
              "    box-shadow: none;\n",
              "  }\n",
              "\n",
              "  .colab-df-spinner {\n",
              "    border: 2px solid var(--fill-color);\n",
              "    border-color: transparent;\n",
              "    border-bottom-color: var(--fill-color);\n",
              "    animation:\n",
              "      spin 1s steps(1) infinite;\n",
              "  }\n",
              "\n",
              "  @keyframes spin {\n",
              "    0% {\n",
              "      border-color: transparent;\n",
              "      border-bottom-color: var(--fill-color);\n",
              "      border-left-color: var(--fill-color);\n",
              "    }\n",
              "    20% {\n",
              "      border-color: transparent;\n",
              "      border-left-color: var(--fill-color);\n",
              "      border-top-color: var(--fill-color);\n",
              "    }\n",
              "    30% {\n",
              "      border-color: transparent;\n",
              "      border-left-color: var(--fill-color);\n",
              "      border-top-color: var(--fill-color);\n",
              "      border-right-color: var(--fill-color);\n",
              "    }\n",
              "    40% {\n",
              "      border-color: transparent;\n",
              "      border-right-color: var(--fill-color);\n",
              "      border-top-color: var(--fill-color);\n",
              "    }\n",
              "    60% {\n",
              "      border-color: transparent;\n",
              "      border-right-color: var(--fill-color);\n",
              "    }\n",
              "    80% {\n",
              "      border-color: transparent;\n",
              "      border-right-color: var(--fill-color);\n",
              "      border-bottom-color: var(--fill-color);\n",
              "    }\n",
              "    90% {\n",
              "      border-color: transparent;\n",
              "      border-bottom-color: var(--fill-color);\n",
              "    }\n",
              "  }\n",
              "</style>\n",
              "\n",
              "      <script>\n",
              "        async function quickchart(key) {\n",
              "          const quickchartButtonEl =\n",
              "            document.querySelector('#' + key + ' button');\n",
              "          quickchartButtonEl.disabled = true;  // To prevent multiple clicks.\n",
              "          quickchartButtonEl.classList.add('colab-df-spinner');\n",
              "          try {\n",
              "            const charts = await google.colab.kernel.invokeFunction(\n",
              "                'suggestCharts', [key], {});\n",
              "          } catch (error) {\n",
              "            console.error('Error during call to suggestCharts:', error);\n",
              "          }\n",
              "          quickchartButtonEl.classList.remove('colab-df-spinner');\n",
              "          quickchartButtonEl.classList.add('colab-df-quickchart-complete');\n",
              "        }\n",
              "        (() => {\n",
              "          let quickchartButtonEl =\n",
              "            document.querySelector('#df-45ec8d8e-6b33-45a8-a07f-9c4fc7f75fc7 button');\n",
              "          quickchartButtonEl.style.display =\n",
              "            google.colab.kernel.accessAllowed ? 'block' : 'none';\n",
              "        })();\n",
              "      </script>\n",
              "    </div>\n",
              "\n",
              "    </div>\n",
              "  </div>\n"
            ],
            "application/vnd.google.colaboratory.intrinsic+json": {
              "type": "dataframe",
              "variable_name": "df",
              "summary": "{\n  \"name\": \"df\",\n  \"rows\": 1338,\n  \"fields\": [\n    {\n      \"column\": \"age\",\n      \"properties\": {\n        \"dtype\": \"number\",\n        \"std\": 14,\n        \"min\": 18,\n        \"max\": 64,\n        \"num_unique_values\": 47,\n        \"samples\": [\n          21,\n          45,\n          36\n        ],\n        \"semantic_type\": \"\",\n        \"description\": \"\"\n      }\n    },\n    {\n      \"column\": \"sex\",\n      \"properties\": {\n        \"dtype\": \"category\",\n        \"num_unique_values\": 2,\n        \"samples\": [\n          \"male\",\n          \"female\"\n        ],\n        \"semantic_type\": \"\",\n        \"description\": \"\"\n      }\n    },\n    {\n      \"column\": \"bmi\",\n      \"properties\": {\n        \"dtype\": \"number\",\n        \"std\": 6.098186911679017,\n        \"min\": 15.96,\n        \"max\": 53.13,\n        \"num_unique_values\": 548,\n        \"samples\": [\n          23.18,\n          26.885\n        ],\n        \"semantic_type\": \"\",\n        \"description\": \"\"\n      }\n    },\n    {\n      \"column\": \"children\",\n      \"properties\": {\n        \"dtype\": \"number\",\n        \"std\": 1,\n        \"min\": 0,\n        \"max\": 5,\n        \"num_unique_values\": 6,\n        \"samples\": [\n          0,\n          1\n        ],\n        \"semantic_type\": \"\",\n        \"description\": \"\"\n      }\n    },\n    {\n      \"column\": \"smoker\",\n      \"properties\": {\n        \"dtype\": \"category\",\n        \"num_unique_values\": 2,\n        \"samples\": [\n          \"no\",\n          \"yes\"\n        ],\n        \"semantic_type\": \"\",\n        \"description\": \"\"\n      }\n    },\n    {\n      \"column\": \"region\",\n      \"properties\": {\n        \"dtype\": \"category\",\n        \"num_unique_values\": 4,\n        \"samples\": [\n          \"southeast\",\n          \"northeast\"\n        ],\n        \"semantic_type\": \"\",\n        \"description\": \"\"\n      }\n    },\n    {\n      \"column\": \"charges\",\n      \"properties\": {\n        \"dtype\": \"number\",\n        \"std\": 12110.011236693994,\n        \"min\": 1121.8739,\n        \"max\": 63770.42801,\n        \"num_unique_values\": 1337,\n        \"samples\": [\n          8688.85885,\n          5708.867\n        ],\n        \"semantic_type\": \"\",\n        \"description\": \"\"\n      }\n    }\n  ]\n}"
            }
          },
          "metadata": {},
          "execution_count": 1
        }
      ]
    },
    {
      "cell_type": "markdown",
      "source": [
        "**Check for null **"
      ],
      "metadata": {
        "id": "blTAMlzxH0wm"
      }
    },
    {
      "cell_type": "code",
      "source": [
        "df.isnull().sum()"
      ],
      "metadata": {
        "colab": {
          "base_uri": "https://localhost:8080/",
          "height": 304
        },
        "id": "6lBgPG7XH4Kd",
        "outputId": "ac90abd8-31b9-4a8f-8de2-c59301542756"
      },
      "execution_count": null,
      "outputs": [
        {
          "output_type": "execute_result",
          "data": {
            "text/plain": [
              "age         0\n",
              "sex         0\n",
              "bmi         0\n",
              "children    0\n",
              "smoker      0\n",
              "region      0\n",
              "charges     0\n",
              "dtype: int64"
            ],
            "text/html": [
              "<div>\n",
              "<style scoped>\n",
              "    .dataframe tbody tr th:only-of-type {\n",
              "        vertical-align: middle;\n",
              "    }\n",
              "\n",
              "    .dataframe tbody tr th {\n",
              "        vertical-align: top;\n",
              "    }\n",
              "\n",
              "    .dataframe thead th {\n",
              "        text-align: right;\n",
              "    }\n",
              "</style>\n",
              "<table border=\"1\" class=\"dataframe\">\n",
              "  <thead>\n",
              "    <tr style=\"text-align: right;\">\n",
              "      <th></th>\n",
              "      <th>0</th>\n",
              "    </tr>\n",
              "  </thead>\n",
              "  <tbody>\n",
              "    <tr>\n",
              "      <th>age</th>\n",
              "      <td>0</td>\n",
              "    </tr>\n",
              "    <tr>\n",
              "      <th>sex</th>\n",
              "      <td>0</td>\n",
              "    </tr>\n",
              "    <tr>\n",
              "      <th>bmi</th>\n",
              "      <td>0</td>\n",
              "    </tr>\n",
              "    <tr>\n",
              "      <th>children</th>\n",
              "      <td>0</td>\n",
              "    </tr>\n",
              "    <tr>\n",
              "      <th>smoker</th>\n",
              "      <td>0</td>\n",
              "    </tr>\n",
              "    <tr>\n",
              "      <th>region</th>\n",
              "      <td>0</td>\n",
              "    </tr>\n",
              "    <tr>\n",
              "      <th>charges</th>\n",
              "      <td>0</td>\n",
              "    </tr>\n",
              "  </tbody>\n",
              "</table>\n",
              "</div><br><label><b>dtype:</b> int64</label>"
            ]
          },
          "metadata": {},
          "execution_count": 2
        }
      ]
    },
    {
      "cell_type": "code",
      "source": [
        "df.info()"
      ],
      "metadata": {
        "colab": {
          "base_uri": "https://localhost:8080/"
        },
        "id": "KwTcJpB4H8c9",
        "outputId": "f6a4d872-de3d-4050-c947-57d90d9ed5e5"
      },
      "execution_count": null,
      "outputs": [
        {
          "output_type": "stream",
          "name": "stdout",
          "text": [
            "<class 'pandas.core.frame.DataFrame'>\n",
            "RangeIndex: 1338 entries, 0 to 1337\n",
            "Data columns (total 7 columns):\n",
            " #   Column    Non-Null Count  Dtype  \n",
            "---  ------    --------------  -----  \n",
            " 0   age       1338 non-null   int64  \n",
            " 1   sex       1338 non-null   object \n",
            " 2   bmi       1338 non-null   float64\n",
            " 3   children  1338 non-null   int64  \n",
            " 4   smoker    1338 non-null   object \n",
            " 5   region    1338 non-null   object \n",
            " 6   charges   1338 non-null   float64\n",
            "dtypes: float64(2), int64(2), object(3)\n",
            "memory usage: 73.3+ KB\n"
          ]
        }
      ]
    },
    {
      "cell_type": "markdown",
      "source": [
        "**One-Hot Encode Categorial Variable**"
      ],
      "metadata": {
        "id": "VaG5ZovXIAC_"
      }
    },
    {
      "cell_type": "code",
      "source": [
        "df_encoded = pd.get_dummies(df,drop_first=True)\n",
        "df_encoded.head()"
      ],
      "metadata": {
        "colab": {
          "base_uri": "https://localhost:8080/",
          "height": 206
        },
        "id": "N1j_4K2PItwF",
        "outputId": "3e3612d5-cf9c-4879-d52a-eaa218591650"
      },
      "execution_count": null,
      "outputs": [
        {
          "output_type": "execute_result",
          "data": {
            "text/plain": [
              "   age     bmi  children      charges  sex_male  smoker_yes  region_northwest  \\\n",
              "0   19  27.900         0  16884.92400     False        True             False   \n",
              "1   18  33.770         1   1725.55230      True       False             False   \n",
              "2   28  33.000         3   4449.46200      True       False             False   \n",
              "3   33  22.705         0  21984.47061      True       False              True   \n",
              "4   32  28.880         0   3866.85520      True       False              True   \n",
              "\n",
              "   region_southeast  region_southwest  \n",
              "0             False              True  \n",
              "1              True             False  \n",
              "2              True             False  \n",
              "3             False             False  \n",
              "4             False             False  "
            ],
            "text/html": [
              "\n",
              "  <div id=\"df-c5971fe0-59d8-496d-9e11-ef3c46203819\" class=\"colab-df-container\">\n",
              "    <div>\n",
              "<style scoped>\n",
              "    .dataframe tbody tr th:only-of-type {\n",
              "        vertical-align: middle;\n",
              "    }\n",
              "\n",
              "    .dataframe tbody tr th {\n",
              "        vertical-align: top;\n",
              "    }\n",
              "\n",
              "    .dataframe thead th {\n",
              "        text-align: right;\n",
              "    }\n",
              "</style>\n",
              "<table border=\"1\" class=\"dataframe\">\n",
              "  <thead>\n",
              "    <tr style=\"text-align: right;\">\n",
              "      <th></th>\n",
              "      <th>age</th>\n",
              "      <th>bmi</th>\n",
              "      <th>children</th>\n",
              "      <th>charges</th>\n",
              "      <th>sex_male</th>\n",
              "      <th>smoker_yes</th>\n",
              "      <th>region_northwest</th>\n",
              "      <th>region_southeast</th>\n",
              "      <th>region_southwest</th>\n",
              "    </tr>\n",
              "  </thead>\n",
              "  <tbody>\n",
              "    <tr>\n",
              "      <th>0</th>\n",
              "      <td>19</td>\n",
              "      <td>27.900</td>\n",
              "      <td>0</td>\n",
              "      <td>16884.92400</td>\n",
              "      <td>False</td>\n",
              "      <td>True</td>\n",
              "      <td>False</td>\n",
              "      <td>False</td>\n",
              "      <td>True</td>\n",
              "    </tr>\n",
              "    <tr>\n",
              "      <th>1</th>\n",
              "      <td>18</td>\n",
              "      <td>33.770</td>\n",
              "      <td>1</td>\n",
              "      <td>1725.55230</td>\n",
              "      <td>True</td>\n",
              "      <td>False</td>\n",
              "      <td>False</td>\n",
              "      <td>True</td>\n",
              "      <td>False</td>\n",
              "    </tr>\n",
              "    <tr>\n",
              "      <th>2</th>\n",
              "      <td>28</td>\n",
              "      <td>33.000</td>\n",
              "      <td>3</td>\n",
              "      <td>4449.46200</td>\n",
              "      <td>True</td>\n",
              "      <td>False</td>\n",
              "      <td>False</td>\n",
              "      <td>True</td>\n",
              "      <td>False</td>\n",
              "    </tr>\n",
              "    <tr>\n",
              "      <th>3</th>\n",
              "      <td>33</td>\n",
              "      <td>22.705</td>\n",
              "      <td>0</td>\n",
              "      <td>21984.47061</td>\n",
              "      <td>True</td>\n",
              "      <td>False</td>\n",
              "      <td>True</td>\n",
              "      <td>False</td>\n",
              "      <td>False</td>\n",
              "    </tr>\n",
              "    <tr>\n",
              "      <th>4</th>\n",
              "      <td>32</td>\n",
              "      <td>28.880</td>\n",
              "      <td>0</td>\n",
              "      <td>3866.85520</td>\n",
              "      <td>True</td>\n",
              "      <td>False</td>\n",
              "      <td>True</td>\n",
              "      <td>False</td>\n",
              "      <td>False</td>\n",
              "    </tr>\n",
              "  </tbody>\n",
              "</table>\n",
              "</div>\n",
              "    <div class=\"colab-df-buttons\">\n",
              "\n",
              "  <div class=\"colab-df-container\">\n",
              "    <button class=\"colab-df-convert\" onclick=\"convertToInteractive('df-c5971fe0-59d8-496d-9e11-ef3c46203819')\"\n",
              "            title=\"Convert this dataframe to an interactive table.\"\n",
              "            style=\"display:none;\">\n",
              "\n",
              "  <svg xmlns=\"http://www.w3.org/2000/svg\" height=\"24px\" viewBox=\"0 -960 960 960\">\n",
              "    <path d=\"M120-120v-720h720v720H120Zm60-500h600v-160H180v160Zm220 220h160v-160H400v160Zm0 220h160v-160H400v160ZM180-400h160v-160H180v160Zm440 0h160v-160H620v160ZM180-180h160v-160H180v160Zm440 0h160v-160H620v160Z\"/>\n",
              "  </svg>\n",
              "    </button>\n",
              "\n",
              "  <style>\n",
              "    .colab-df-container {\n",
              "      display:flex;\n",
              "      gap: 12px;\n",
              "    }\n",
              "\n",
              "    .colab-df-convert {\n",
              "      background-color: #E8F0FE;\n",
              "      border: none;\n",
              "      border-radius: 50%;\n",
              "      cursor: pointer;\n",
              "      display: none;\n",
              "      fill: #1967D2;\n",
              "      height: 32px;\n",
              "      padding: 0 0 0 0;\n",
              "      width: 32px;\n",
              "    }\n",
              "\n",
              "    .colab-df-convert:hover {\n",
              "      background-color: #E2EBFA;\n",
              "      box-shadow: 0px 1px 2px rgba(60, 64, 67, 0.3), 0px 1px 3px 1px rgba(60, 64, 67, 0.15);\n",
              "      fill: #174EA6;\n",
              "    }\n",
              "\n",
              "    .colab-df-buttons div {\n",
              "      margin-bottom: 4px;\n",
              "    }\n",
              "\n",
              "    [theme=dark] .colab-df-convert {\n",
              "      background-color: #3B4455;\n",
              "      fill: #D2E3FC;\n",
              "    }\n",
              "\n",
              "    [theme=dark] .colab-df-convert:hover {\n",
              "      background-color: #434B5C;\n",
              "      box-shadow: 0px 1px 3px 1px rgba(0, 0, 0, 0.15);\n",
              "      filter: drop-shadow(0px 1px 2px rgba(0, 0, 0, 0.3));\n",
              "      fill: #FFFFFF;\n",
              "    }\n",
              "  </style>\n",
              "\n",
              "    <script>\n",
              "      const buttonEl =\n",
              "        document.querySelector('#df-c5971fe0-59d8-496d-9e11-ef3c46203819 button.colab-df-convert');\n",
              "      buttonEl.style.display =\n",
              "        google.colab.kernel.accessAllowed ? 'block' : 'none';\n",
              "\n",
              "      async function convertToInteractive(key) {\n",
              "        const element = document.querySelector('#df-c5971fe0-59d8-496d-9e11-ef3c46203819');\n",
              "        const dataTable =\n",
              "          await google.colab.kernel.invokeFunction('convertToInteractive',\n",
              "                                                    [key], {});\n",
              "        if (!dataTable) return;\n",
              "\n",
              "        const docLinkHtml = 'Like what you see? Visit the ' +\n",
              "          '<a target=\"_blank\" href=https://colab.research.google.com/notebooks/data_table.ipynb>data table notebook</a>'\n",
              "          + ' to learn more about interactive tables.';\n",
              "        element.innerHTML = '';\n",
              "        dataTable['output_type'] = 'display_data';\n",
              "        await google.colab.output.renderOutput(dataTable, element);\n",
              "        const docLink = document.createElement('div');\n",
              "        docLink.innerHTML = docLinkHtml;\n",
              "        element.appendChild(docLink);\n",
              "      }\n",
              "    </script>\n",
              "  </div>\n",
              "\n",
              "\n",
              "    <div id=\"df-9742b619-e0ba-4177-9a94-b9542e4fd82c\">\n",
              "      <button class=\"colab-df-quickchart\" onclick=\"quickchart('df-9742b619-e0ba-4177-9a94-b9542e4fd82c')\"\n",
              "                title=\"Suggest charts\"\n",
              "                style=\"display:none;\">\n",
              "\n",
              "<svg xmlns=\"http://www.w3.org/2000/svg\" height=\"24px\"viewBox=\"0 0 24 24\"\n",
              "     width=\"24px\">\n",
              "    <g>\n",
              "        <path d=\"M19 3H5c-1.1 0-2 .9-2 2v14c0 1.1.9 2 2 2h14c1.1 0 2-.9 2-2V5c0-1.1-.9-2-2-2zM9 17H7v-7h2v7zm4 0h-2V7h2v10zm4 0h-2v-4h2v4z\"/>\n",
              "    </g>\n",
              "</svg>\n",
              "      </button>\n",
              "\n",
              "<style>\n",
              "  .colab-df-quickchart {\n",
              "      --bg-color: #E8F0FE;\n",
              "      --fill-color: #1967D2;\n",
              "      --hover-bg-color: #E2EBFA;\n",
              "      --hover-fill-color: #174EA6;\n",
              "      --disabled-fill-color: #AAA;\n",
              "      --disabled-bg-color: #DDD;\n",
              "  }\n",
              "\n",
              "  [theme=dark] .colab-df-quickchart {\n",
              "      --bg-color: #3B4455;\n",
              "      --fill-color: #D2E3FC;\n",
              "      --hover-bg-color: #434B5C;\n",
              "      --hover-fill-color: #FFFFFF;\n",
              "      --disabled-bg-color: #3B4455;\n",
              "      --disabled-fill-color: #666;\n",
              "  }\n",
              "\n",
              "  .colab-df-quickchart {\n",
              "    background-color: var(--bg-color);\n",
              "    border: none;\n",
              "    border-radius: 50%;\n",
              "    cursor: pointer;\n",
              "    display: none;\n",
              "    fill: var(--fill-color);\n",
              "    height: 32px;\n",
              "    padding: 0;\n",
              "    width: 32px;\n",
              "  }\n",
              "\n",
              "  .colab-df-quickchart:hover {\n",
              "    background-color: var(--hover-bg-color);\n",
              "    box-shadow: 0 1px 2px rgba(60, 64, 67, 0.3), 0 1px 3px 1px rgba(60, 64, 67, 0.15);\n",
              "    fill: var(--button-hover-fill-color);\n",
              "  }\n",
              "\n",
              "  .colab-df-quickchart-complete:disabled,\n",
              "  .colab-df-quickchart-complete:disabled:hover {\n",
              "    background-color: var(--disabled-bg-color);\n",
              "    fill: var(--disabled-fill-color);\n",
              "    box-shadow: none;\n",
              "  }\n",
              "\n",
              "  .colab-df-spinner {\n",
              "    border: 2px solid var(--fill-color);\n",
              "    border-color: transparent;\n",
              "    border-bottom-color: var(--fill-color);\n",
              "    animation:\n",
              "      spin 1s steps(1) infinite;\n",
              "  }\n",
              "\n",
              "  @keyframes spin {\n",
              "    0% {\n",
              "      border-color: transparent;\n",
              "      border-bottom-color: var(--fill-color);\n",
              "      border-left-color: var(--fill-color);\n",
              "    }\n",
              "    20% {\n",
              "      border-color: transparent;\n",
              "      border-left-color: var(--fill-color);\n",
              "      border-top-color: var(--fill-color);\n",
              "    }\n",
              "    30% {\n",
              "      border-color: transparent;\n",
              "      border-left-color: var(--fill-color);\n",
              "      border-top-color: var(--fill-color);\n",
              "      border-right-color: var(--fill-color);\n",
              "    }\n",
              "    40% {\n",
              "      border-color: transparent;\n",
              "      border-right-color: var(--fill-color);\n",
              "      border-top-color: var(--fill-color);\n",
              "    }\n",
              "    60% {\n",
              "      border-color: transparent;\n",
              "      border-right-color: var(--fill-color);\n",
              "    }\n",
              "    80% {\n",
              "      border-color: transparent;\n",
              "      border-right-color: var(--fill-color);\n",
              "      border-bottom-color: var(--fill-color);\n",
              "    }\n",
              "    90% {\n",
              "      border-color: transparent;\n",
              "      border-bottom-color: var(--fill-color);\n",
              "    }\n",
              "  }\n",
              "</style>\n",
              "\n",
              "      <script>\n",
              "        async function quickchart(key) {\n",
              "          const quickchartButtonEl =\n",
              "            document.querySelector('#' + key + ' button');\n",
              "          quickchartButtonEl.disabled = true;  // To prevent multiple clicks.\n",
              "          quickchartButtonEl.classList.add('colab-df-spinner');\n",
              "          try {\n",
              "            const charts = await google.colab.kernel.invokeFunction(\n",
              "                'suggestCharts', [key], {});\n",
              "          } catch (error) {\n",
              "            console.error('Error during call to suggestCharts:', error);\n",
              "          }\n",
              "          quickchartButtonEl.classList.remove('colab-df-spinner');\n",
              "          quickchartButtonEl.classList.add('colab-df-quickchart-complete');\n",
              "        }\n",
              "        (() => {\n",
              "          let quickchartButtonEl =\n",
              "            document.querySelector('#df-9742b619-e0ba-4177-9a94-b9542e4fd82c button');\n",
              "          quickchartButtonEl.style.display =\n",
              "            google.colab.kernel.accessAllowed ? 'block' : 'none';\n",
              "        })();\n",
              "      </script>\n",
              "    </div>\n",
              "\n",
              "    </div>\n",
              "  </div>\n"
            ],
            "application/vnd.google.colaboratory.intrinsic+json": {
              "type": "dataframe",
              "variable_name": "df_encoded",
              "summary": "{\n  \"name\": \"df_encoded\",\n  \"rows\": 1338,\n  \"fields\": [\n    {\n      \"column\": \"age\",\n      \"properties\": {\n        \"dtype\": \"number\",\n        \"std\": 14,\n        \"min\": 18,\n        \"max\": 64,\n        \"num_unique_values\": 47,\n        \"samples\": [\n          21,\n          45,\n          36\n        ],\n        \"semantic_type\": \"\",\n        \"description\": \"\"\n      }\n    },\n    {\n      \"column\": \"bmi\",\n      \"properties\": {\n        \"dtype\": \"number\",\n        \"std\": 6.098186911679017,\n        \"min\": 15.96,\n        \"max\": 53.13,\n        \"num_unique_values\": 548,\n        \"samples\": [\n          23.18,\n          26.885,\n          29.26\n        ],\n        \"semantic_type\": \"\",\n        \"description\": \"\"\n      }\n    },\n    {\n      \"column\": \"children\",\n      \"properties\": {\n        \"dtype\": \"number\",\n        \"std\": 1,\n        \"min\": 0,\n        \"max\": 5,\n        \"num_unique_values\": 6,\n        \"samples\": [\n          0,\n          1,\n          4\n        ],\n        \"semantic_type\": \"\",\n        \"description\": \"\"\n      }\n    },\n    {\n      \"column\": \"charges\",\n      \"properties\": {\n        \"dtype\": \"number\",\n        \"std\": 12110.011236693994,\n        \"min\": 1121.8739,\n        \"max\": 63770.42801,\n        \"num_unique_values\": 1337,\n        \"samples\": [\n          8688.85885,\n          5708.867,\n          11436.73815\n        ],\n        \"semantic_type\": \"\",\n        \"description\": \"\"\n      }\n    },\n    {\n      \"column\": \"sex_male\",\n      \"properties\": {\n        \"dtype\": \"boolean\",\n        \"num_unique_values\": 2,\n        \"samples\": [\n          true,\n          false\n        ],\n        \"semantic_type\": \"\",\n        \"description\": \"\"\n      }\n    },\n    {\n      \"column\": \"smoker_yes\",\n      \"properties\": {\n        \"dtype\": \"boolean\",\n        \"num_unique_values\": 2,\n        \"samples\": [\n          false,\n          true\n        ],\n        \"semantic_type\": \"\",\n        \"description\": \"\"\n      }\n    },\n    {\n      \"column\": \"region_northwest\",\n      \"properties\": {\n        \"dtype\": \"boolean\",\n        \"num_unique_values\": 2,\n        \"samples\": [\n          true,\n          false\n        ],\n        \"semantic_type\": \"\",\n        \"description\": \"\"\n      }\n    },\n    {\n      \"column\": \"region_southeast\",\n      \"properties\": {\n        \"dtype\": \"boolean\",\n        \"num_unique_values\": 2,\n        \"samples\": [\n          true,\n          false\n        ],\n        \"semantic_type\": \"\",\n        \"description\": \"\"\n      }\n    },\n    {\n      \"column\": \"region_southwest\",\n      \"properties\": {\n        \"dtype\": \"boolean\",\n        \"num_unique_values\": 2,\n        \"samples\": [\n          false,\n          true\n        ],\n        \"semantic_type\": \"\",\n        \"description\": \"\"\n      }\n    }\n  ]\n}"
            }
          },
          "metadata": {},
          "execution_count": 4
        }
      ]
    },
    {
      "cell_type": "markdown",
      "source": [
        "**Feature and Target separation**"
      ],
      "metadata": {
        "id": "P3EBOLJeJGmU"
      }
    },
    {
      "cell_type": "code",
      "source": [
        "X = df_encoded.drop('charges',axis=1)\n",
        "Y = df_encoded['charges']"
      ],
      "metadata": {
        "id": "DUtrXHZIJYwk"
      },
      "execution_count": null,
      "outputs": []
    },
    {
      "cell_type": "markdown",
      "source": [
        "**Feature Scaling using StandardScaler**"
      ],
      "metadata": {
        "id": "524cerNJJwEd"
      }
    },
    {
      "cell_type": "code",
      "source": [
        "from sklearn.preprocessing import StandardScaler\n",
        "scaler = StandardScaler()\n",
        "x_scaled = scaler.fit_transform(X)"
      ],
      "metadata": {
        "id": "Hj6BqQXrJ6nt"
      },
      "execution_count": null,
      "outputs": []
    },
    {
      "cell_type": "markdown",
      "source": [
        "#**Train-Test Spilt**"
      ],
      "metadata": {
        "id": "_3R6ZK6ZKjnM"
      }
    },
    {
      "cell_type": "markdown",
      "source": [
        "Explanation:\n",
        "\n",
        "\n",
        "*   train_test_split() divides the data:\n",
        "     *   X_train, Y_train: used to train the method\n",
        "     *   X_test, Y_test: used to test the model\n",
        "*   Parameters\n",
        "     * test_size=0.2 : 20% of data goes to test set.\n",
        "     * random_state=42: ensures repetable results(random shuffing is fixed).\n"
      ],
      "metadata": {
        "id": "BWdoJTo7L5qE"
      }
    },
    {
      "cell_type": "code",
      "source": [
        "from sklearn.model_selection import train_test_split\n",
        "X_train,X_test,y_train,y_test=train_test_split(x_scaled,y,test_size=0.2,random_state=42)"
      ],
      "metadata": {
        "id": "_iWVGzr-NjcF"
      },
      "execution_count": null,
      "outputs": []
    },
    {
      "cell_type": "markdown",
      "source": [
        "# **Train Liner Regration Model**"
      ],
      "metadata": {
        "id": "CnOU8sC0NL0c"
      }
    },
    {
      "cell_type": "code",
      "source": [
        "from sklearn.linear_model import LinearRegression\n",
        "mode1=LinearRegression()\n",
        "mode1.fit(X_train,y_train)"
      ],
      "metadata": {
        "colab": {
          "base_uri": "https://localhost:8080/",
          "height": 80
        },
        "id": "DMDwcjT7Kqbk",
        "outputId": "ee03ce2f-581e-4f0f-eca0-8041a9e975fc"
      },
      "execution_count": null,
      "outputs": [
        {
          "output_type": "execute_result",
          "data": {
            "text/plain": [
              "LinearRegression()"
            ],
            "text/html": [
              "<style>#sk-container-id-2 {\n",
              "  /* Definition of color scheme common for light and dark mode */\n",
              "  --sklearn-color-text: #000;\n",
              "  --sklearn-color-text-muted: #666;\n",
              "  --sklearn-color-line: gray;\n",
              "  /* Definition of color scheme for unfitted estimators */\n",
              "  --sklearn-color-unfitted-level-0: #fff5e6;\n",
              "  --sklearn-color-unfitted-level-1: #f6e4d2;\n",
              "  --sklearn-color-unfitted-level-2: #ffe0b3;\n",
              "  --sklearn-color-unfitted-level-3: chocolate;\n",
              "  /* Definition of color scheme for fitted estimators */\n",
              "  --sklearn-color-fitted-level-0: #f0f8ff;\n",
              "  --sklearn-color-fitted-level-1: #d4ebff;\n",
              "  --sklearn-color-fitted-level-2: #b3dbfd;\n",
              "  --sklearn-color-fitted-level-3: cornflowerblue;\n",
              "\n",
              "  /* Specific color for light theme */\n",
              "  --sklearn-color-text-on-default-background: var(--sg-text-color, var(--theme-code-foreground, var(--jp-content-font-color1, black)));\n",
              "  --sklearn-color-background: var(--sg-background-color, var(--theme-background, var(--jp-layout-color0, white)));\n",
              "  --sklearn-color-border-box: var(--sg-text-color, var(--theme-code-foreground, var(--jp-content-font-color1, black)));\n",
              "  --sklearn-color-icon: #696969;\n",
              "\n",
              "  @media (prefers-color-scheme: dark) {\n",
              "    /* Redefinition of color scheme for dark theme */\n",
              "    --sklearn-color-text-on-default-background: var(--sg-text-color, var(--theme-code-foreground, var(--jp-content-font-color1, white)));\n",
              "    --sklearn-color-background: var(--sg-background-color, var(--theme-background, var(--jp-layout-color0, #111)));\n",
              "    --sklearn-color-border-box: var(--sg-text-color, var(--theme-code-foreground, var(--jp-content-font-color1, white)));\n",
              "    --sklearn-color-icon: #878787;\n",
              "  }\n",
              "}\n",
              "\n",
              "#sk-container-id-2 {\n",
              "  color: var(--sklearn-color-text);\n",
              "}\n",
              "\n",
              "#sk-container-id-2 pre {\n",
              "  padding: 0;\n",
              "}\n",
              "\n",
              "#sk-container-id-2 input.sk-hidden--visually {\n",
              "  border: 0;\n",
              "  clip: rect(1px 1px 1px 1px);\n",
              "  clip: rect(1px, 1px, 1px, 1px);\n",
              "  height: 1px;\n",
              "  margin: -1px;\n",
              "  overflow: hidden;\n",
              "  padding: 0;\n",
              "  position: absolute;\n",
              "  width: 1px;\n",
              "}\n",
              "\n",
              "#sk-container-id-2 div.sk-dashed-wrapped {\n",
              "  border: 1px dashed var(--sklearn-color-line);\n",
              "  margin: 0 0.4em 0.5em 0.4em;\n",
              "  box-sizing: border-box;\n",
              "  padding-bottom: 0.4em;\n",
              "  background-color: var(--sklearn-color-background);\n",
              "}\n",
              "\n",
              "#sk-container-id-2 div.sk-container {\n",
              "  /* jupyter's `normalize.less` sets `[hidden] { display: none; }`\n",
              "     but bootstrap.min.css set `[hidden] { display: none !important; }`\n",
              "     so we also need the `!important` here to be able to override the\n",
              "     default hidden behavior on the sphinx rendered scikit-learn.org.\n",
              "     See: https://github.com/scikit-learn/scikit-learn/issues/21755 */\n",
              "  display: inline-block !important;\n",
              "  position: relative;\n",
              "}\n",
              "\n",
              "#sk-container-id-2 div.sk-text-repr-fallback {\n",
              "  display: none;\n",
              "}\n",
              "\n",
              "div.sk-parallel-item,\n",
              "div.sk-serial,\n",
              "div.sk-item {\n",
              "  /* draw centered vertical line to link estimators */\n",
              "  background-image: linear-gradient(var(--sklearn-color-text-on-default-background), var(--sklearn-color-text-on-default-background));\n",
              "  background-size: 2px 100%;\n",
              "  background-repeat: no-repeat;\n",
              "  background-position: center center;\n",
              "}\n",
              "\n",
              "/* Parallel-specific style estimator block */\n",
              "\n",
              "#sk-container-id-2 div.sk-parallel-item::after {\n",
              "  content: \"\";\n",
              "  width: 100%;\n",
              "  border-bottom: 2px solid var(--sklearn-color-text-on-default-background);\n",
              "  flex-grow: 1;\n",
              "}\n",
              "\n",
              "#sk-container-id-2 div.sk-parallel {\n",
              "  display: flex;\n",
              "  align-items: stretch;\n",
              "  justify-content: center;\n",
              "  background-color: var(--sklearn-color-background);\n",
              "  position: relative;\n",
              "}\n",
              "\n",
              "#sk-container-id-2 div.sk-parallel-item {\n",
              "  display: flex;\n",
              "  flex-direction: column;\n",
              "}\n",
              "\n",
              "#sk-container-id-2 div.sk-parallel-item:first-child::after {\n",
              "  align-self: flex-end;\n",
              "  width: 50%;\n",
              "}\n",
              "\n",
              "#sk-container-id-2 div.sk-parallel-item:last-child::after {\n",
              "  align-self: flex-start;\n",
              "  width: 50%;\n",
              "}\n",
              "\n",
              "#sk-container-id-2 div.sk-parallel-item:only-child::after {\n",
              "  width: 0;\n",
              "}\n",
              "\n",
              "/* Serial-specific style estimator block */\n",
              "\n",
              "#sk-container-id-2 div.sk-serial {\n",
              "  display: flex;\n",
              "  flex-direction: column;\n",
              "  align-items: center;\n",
              "  background-color: var(--sklearn-color-background);\n",
              "  padding-right: 1em;\n",
              "  padding-left: 1em;\n",
              "}\n",
              "\n",
              "\n",
              "/* Toggleable style: style used for estimator/Pipeline/ColumnTransformer box that is\n",
              "clickable and can be expanded/collapsed.\n",
              "- Pipeline and ColumnTransformer use this feature and define the default style\n",
              "- Estimators will overwrite some part of the style using the `sk-estimator` class\n",
              "*/\n",
              "\n",
              "/* Pipeline and ColumnTransformer style (default) */\n",
              "\n",
              "#sk-container-id-2 div.sk-toggleable {\n",
              "  /* Default theme specific background. It is overwritten whether we have a\n",
              "  specific estimator or a Pipeline/ColumnTransformer */\n",
              "  background-color: var(--sklearn-color-background);\n",
              "}\n",
              "\n",
              "/* Toggleable label */\n",
              "#sk-container-id-2 label.sk-toggleable__label {\n",
              "  cursor: pointer;\n",
              "  display: flex;\n",
              "  width: 100%;\n",
              "  margin-bottom: 0;\n",
              "  padding: 0.5em;\n",
              "  box-sizing: border-box;\n",
              "  text-align: center;\n",
              "  align-items: start;\n",
              "  justify-content: space-between;\n",
              "  gap: 0.5em;\n",
              "}\n",
              "\n",
              "#sk-container-id-2 label.sk-toggleable__label .caption {\n",
              "  font-size: 0.6rem;\n",
              "  font-weight: lighter;\n",
              "  color: var(--sklearn-color-text-muted);\n",
              "}\n",
              "\n",
              "#sk-container-id-2 label.sk-toggleable__label-arrow:before {\n",
              "  /* Arrow on the left of the label */\n",
              "  content: \"▸\";\n",
              "  float: left;\n",
              "  margin-right: 0.25em;\n",
              "  color: var(--sklearn-color-icon);\n",
              "}\n",
              "\n",
              "#sk-container-id-2 label.sk-toggleable__label-arrow:hover:before {\n",
              "  color: var(--sklearn-color-text);\n",
              "}\n",
              "\n",
              "/* Toggleable content - dropdown */\n",
              "\n",
              "#sk-container-id-2 div.sk-toggleable__content {\n",
              "  max-height: 0;\n",
              "  max-width: 0;\n",
              "  overflow: hidden;\n",
              "  text-align: left;\n",
              "  /* unfitted */\n",
              "  background-color: var(--sklearn-color-unfitted-level-0);\n",
              "}\n",
              "\n",
              "#sk-container-id-2 div.sk-toggleable__content.fitted {\n",
              "  /* fitted */\n",
              "  background-color: var(--sklearn-color-fitted-level-0);\n",
              "}\n",
              "\n",
              "#sk-container-id-2 div.sk-toggleable__content pre {\n",
              "  margin: 0.2em;\n",
              "  border-radius: 0.25em;\n",
              "  color: var(--sklearn-color-text);\n",
              "  /* unfitted */\n",
              "  background-color: var(--sklearn-color-unfitted-level-0);\n",
              "}\n",
              "\n",
              "#sk-container-id-2 div.sk-toggleable__content.fitted pre {\n",
              "  /* unfitted */\n",
              "  background-color: var(--sklearn-color-fitted-level-0);\n",
              "}\n",
              "\n",
              "#sk-container-id-2 input.sk-toggleable__control:checked~div.sk-toggleable__content {\n",
              "  /* Expand drop-down */\n",
              "  max-height: 200px;\n",
              "  max-width: 100%;\n",
              "  overflow: auto;\n",
              "}\n",
              "\n",
              "#sk-container-id-2 input.sk-toggleable__control:checked~label.sk-toggleable__label-arrow:before {\n",
              "  content: \"▾\";\n",
              "}\n",
              "\n",
              "/* Pipeline/ColumnTransformer-specific style */\n",
              "\n",
              "#sk-container-id-2 div.sk-label input.sk-toggleable__control:checked~label.sk-toggleable__label {\n",
              "  color: var(--sklearn-color-text);\n",
              "  background-color: var(--sklearn-color-unfitted-level-2);\n",
              "}\n",
              "\n",
              "#sk-container-id-2 div.sk-label.fitted input.sk-toggleable__control:checked~label.sk-toggleable__label {\n",
              "  background-color: var(--sklearn-color-fitted-level-2);\n",
              "}\n",
              "\n",
              "/* Estimator-specific style */\n",
              "\n",
              "/* Colorize estimator box */\n",
              "#sk-container-id-2 div.sk-estimator input.sk-toggleable__control:checked~label.sk-toggleable__label {\n",
              "  /* unfitted */\n",
              "  background-color: var(--sklearn-color-unfitted-level-2);\n",
              "}\n",
              "\n",
              "#sk-container-id-2 div.sk-estimator.fitted input.sk-toggleable__control:checked~label.sk-toggleable__label {\n",
              "  /* fitted */\n",
              "  background-color: var(--sklearn-color-fitted-level-2);\n",
              "}\n",
              "\n",
              "#sk-container-id-2 div.sk-label label.sk-toggleable__label,\n",
              "#sk-container-id-2 div.sk-label label {\n",
              "  /* The background is the default theme color */\n",
              "  color: var(--sklearn-color-text-on-default-background);\n",
              "}\n",
              "\n",
              "/* On hover, darken the color of the background */\n",
              "#sk-container-id-2 div.sk-label:hover label.sk-toggleable__label {\n",
              "  color: var(--sklearn-color-text);\n",
              "  background-color: var(--sklearn-color-unfitted-level-2);\n",
              "}\n",
              "\n",
              "/* Label box, darken color on hover, fitted */\n",
              "#sk-container-id-2 div.sk-label.fitted:hover label.sk-toggleable__label.fitted {\n",
              "  color: var(--sklearn-color-text);\n",
              "  background-color: var(--sklearn-color-fitted-level-2);\n",
              "}\n",
              "\n",
              "/* Estimator label */\n",
              "\n",
              "#sk-container-id-2 div.sk-label label {\n",
              "  font-family: monospace;\n",
              "  font-weight: bold;\n",
              "  display: inline-block;\n",
              "  line-height: 1.2em;\n",
              "}\n",
              "\n",
              "#sk-container-id-2 div.sk-label-container {\n",
              "  text-align: center;\n",
              "}\n",
              "\n",
              "/* Estimator-specific */\n",
              "#sk-container-id-2 div.sk-estimator {\n",
              "  font-family: monospace;\n",
              "  border: 1px dotted var(--sklearn-color-border-box);\n",
              "  border-radius: 0.25em;\n",
              "  box-sizing: border-box;\n",
              "  margin-bottom: 0.5em;\n",
              "  /* unfitted */\n",
              "  background-color: var(--sklearn-color-unfitted-level-0);\n",
              "}\n",
              "\n",
              "#sk-container-id-2 div.sk-estimator.fitted {\n",
              "  /* fitted */\n",
              "  background-color: var(--sklearn-color-fitted-level-0);\n",
              "}\n",
              "\n",
              "/* on hover */\n",
              "#sk-container-id-2 div.sk-estimator:hover {\n",
              "  /* unfitted */\n",
              "  background-color: var(--sklearn-color-unfitted-level-2);\n",
              "}\n",
              "\n",
              "#sk-container-id-2 div.sk-estimator.fitted:hover {\n",
              "  /* fitted */\n",
              "  background-color: var(--sklearn-color-fitted-level-2);\n",
              "}\n",
              "\n",
              "/* Specification for estimator info (e.g. \"i\" and \"?\") */\n",
              "\n",
              "/* Common style for \"i\" and \"?\" */\n",
              "\n",
              ".sk-estimator-doc-link,\n",
              "a:link.sk-estimator-doc-link,\n",
              "a:visited.sk-estimator-doc-link {\n",
              "  float: right;\n",
              "  font-size: smaller;\n",
              "  line-height: 1em;\n",
              "  font-family: monospace;\n",
              "  background-color: var(--sklearn-color-background);\n",
              "  border-radius: 1em;\n",
              "  height: 1em;\n",
              "  width: 1em;\n",
              "  text-decoration: none !important;\n",
              "  margin-left: 0.5em;\n",
              "  text-align: center;\n",
              "  /* unfitted */\n",
              "  border: var(--sklearn-color-unfitted-level-1) 1pt solid;\n",
              "  color: var(--sklearn-color-unfitted-level-1);\n",
              "}\n",
              "\n",
              ".sk-estimator-doc-link.fitted,\n",
              "a:link.sk-estimator-doc-link.fitted,\n",
              "a:visited.sk-estimator-doc-link.fitted {\n",
              "  /* fitted */\n",
              "  border: var(--sklearn-color-fitted-level-1) 1pt solid;\n",
              "  color: var(--sklearn-color-fitted-level-1);\n",
              "}\n",
              "\n",
              "/* On hover */\n",
              "div.sk-estimator:hover .sk-estimator-doc-link:hover,\n",
              ".sk-estimator-doc-link:hover,\n",
              "div.sk-label-container:hover .sk-estimator-doc-link:hover,\n",
              ".sk-estimator-doc-link:hover {\n",
              "  /* unfitted */\n",
              "  background-color: var(--sklearn-color-unfitted-level-3);\n",
              "  color: var(--sklearn-color-background);\n",
              "  text-decoration: none;\n",
              "}\n",
              "\n",
              "div.sk-estimator.fitted:hover .sk-estimator-doc-link.fitted:hover,\n",
              ".sk-estimator-doc-link.fitted:hover,\n",
              "div.sk-label-container:hover .sk-estimator-doc-link.fitted:hover,\n",
              ".sk-estimator-doc-link.fitted:hover {\n",
              "  /* fitted */\n",
              "  background-color: var(--sklearn-color-fitted-level-3);\n",
              "  color: var(--sklearn-color-background);\n",
              "  text-decoration: none;\n",
              "}\n",
              "\n",
              "/* Span, style for the box shown on hovering the info icon */\n",
              ".sk-estimator-doc-link span {\n",
              "  display: none;\n",
              "  z-index: 9999;\n",
              "  position: relative;\n",
              "  font-weight: normal;\n",
              "  right: .2ex;\n",
              "  padding: .5ex;\n",
              "  margin: .5ex;\n",
              "  width: min-content;\n",
              "  min-width: 20ex;\n",
              "  max-width: 50ex;\n",
              "  color: var(--sklearn-color-text);\n",
              "  box-shadow: 2pt 2pt 4pt #999;\n",
              "  /* unfitted */\n",
              "  background: var(--sklearn-color-unfitted-level-0);\n",
              "  border: .5pt solid var(--sklearn-color-unfitted-level-3);\n",
              "}\n",
              "\n",
              ".sk-estimator-doc-link.fitted span {\n",
              "  /* fitted */\n",
              "  background: var(--sklearn-color-fitted-level-0);\n",
              "  border: var(--sklearn-color-fitted-level-3);\n",
              "}\n",
              "\n",
              ".sk-estimator-doc-link:hover span {\n",
              "  display: block;\n",
              "}\n",
              "\n",
              "/* \"?\"-specific style due to the `<a>` HTML tag */\n",
              "\n",
              "#sk-container-id-2 a.estimator_doc_link {\n",
              "  float: right;\n",
              "  font-size: 1rem;\n",
              "  line-height: 1em;\n",
              "  font-family: monospace;\n",
              "  background-color: var(--sklearn-color-background);\n",
              "  border-radius: 1rem;\n",
              "  height: 1rem;\n",
              "  width: 1rem;\n",
              "  text-decoration: none;\n",
              "  /* unfitted */\n",
              "  color: var(--sklearn-color-unfitted-level-1);\n",
              "  border: var(--sklearn-color-unfitted-level-1) 1pt solid;\n",
              "}\n",
              "\n",
              "#sk-container-id-2 a.estimator_doc_link.fitted {\n",
              "  /* fitted */\n",
              "  border: var(--sklearn-color-fitted-level-1) 1pt solid;\n",
              "  color: var(--sklearn-color-fitted-level-1);\n",
              "}\n",
              "\n",
              "/* On hover */\n",
              "#sk-container-id-2 a.estimator_doc_link:hover {\n",
              "  /* unfitted */\n",
              "  background-color: var(--sklearn-color-unfitted-level-3);\n",
              "  color: var(--sklearn-color-background);\n",
              "  text-decoration: none;\n",
              "}\n",
              "\n",
              "#sk-container-id-2 a.estimator_doc_link.fitted:hover {\n",
              "  /* fitted */\n",
              "  background-color: var(--sklearn-color-fitted-level-3);\n",
              "}\n",
              "</style><div id=\"sk-container-id-2\" class=\"sk-top-container\"><div class=\"sk-text-repr-fallback\"><pre>LinearRegression()</pre><b>In a Jupyter environment, please rerun this cell to show the HTML representation or trust the notebook. <br />On GitHub, the HTML representation is unable to render, please try loading this page with nbviewer.org.</b></div><div class=\"sk-container\" hidden><div class=\"sk-item\"><div class=\"sk-estimator fitted sk-toggleable\"><input class=\"sk-toggleable__control sk-hidden--visually\" id=\"sk-estimator-id-2\" type=\"checkbox\" checked><label for=\"sk-estimator-id-2\" class=\"sk-toggleable__label fitted sk-toggleable__label-arrow\"><div><div>LinearRegression</div></div><div><a class=\"sk-estimator-doc-link fitted\" rel=\"noreferrer\" target=\"_blank\" href=\"https://scikit-learn.org/1.6/modules/generated/sklearn.linear_model.LinearRegression.html\">?<span>Documentation for LinearRegression</span></a><span class=\"sk-estimator-doc-link fitted\">i<span>Fitted</span></span></div></label><div class=\"sk-toggleable__content fitted\"><pre>LinearRegression()</pre></div> </div></div></div></div>"
            ]
          },
          "metadata": {},
          "execution_count": 16
        }
      ]
    },
    {
      "cell_type": "markdown",
      "source": [
        "**Make prediction**"
      ],
      "metadata": {
        "id": "ujE9BEcCOrwr"
      }
    },
    {
      "cell_type": "code",
      "source": [
        "y_pred=mode1.predict(X_test)"
      ],
      "metadata": {
        "id": "sFryklliOwU8"
      },
      "execution_count": null,
      "outputs": []
    },
    {
      "cell_type": "markdown",
      "source": [
        "**Evaluate Model**"
      ],
      "metadata": {
        "id": "wqy1n9FRO2ND"
      }
    },
    {
      "cell_type": "code",
      "source": [
        "from sklearn.metrics import mean_squared_error, r2_score\n",
        "import numpy as np\n",
        "\n",
        "mse = mean_squared_error(y_test,y_pred)\n",
        "rmse = np.sqrt(mse)\n",
        "\n",
        "print(\"Mean Squared Error:\",mse)\n",
        "print(\"Root Mean Squared Error:\",rmse)\n",
        "print(\"R^2 Score:\", r2_score(y_test,y_pred))"
      ],
      "metadata": {
        "colab": {
          "base_uri": "https://localhost:8080/"
        },
        "id": "6-dJUu4YO81s",
        "outputId": "1b3ee673-2a98-42a6-c7e3-4f7164173b57"
      },
      "execution_count": null,
      "outputs": [
        {
          "output_type": "stream",
          "name": "stdout",
          "text": [
            "Mean Squared Error: 33596915.85136148\n",
            "Root Mean Squared Error: 5796.284659276275\n",
            "R^2 Score: 0.7835929767120722\n"
          ]
        }
      ]
    },
    {
      "cell_type": "markdown",
      "source": [
        "**Actual And Predicted Charges**"
      ],
      "metadata": {
        "id": "afEfG-o2Qu3j"
      }
    },
    {
      "cell_type": "code",
      "source": [
        "import matplotlib.pyplot as plt\n",
        "plt.scatter(y_test, y_pred, color='blue')  # Fixed 'colore' and quote\n",
        "plt.plot([y_test.min(), y_test.max()], [y_test.min(), y_test.max()], 'r--')  # Fixed . and brackets\n",
        "plt.xlabel(\"Actual Charges\")  # Fixed 'pIt' to 'plt'\n",
        "plt.ylabel(\"Predicted Charges\")\n",
        "plt.title(\"Actual vs Predicted Charges\")\n",
        "plt.grid(True)\n",
        "plt.show()"
      ],
      "metadata": {
        "colab": {
          "base_uri": "https://localhost:8080/",
          "height": 472
        },
        "id": "DCwZj0QQQzpz",
        "outputId": "c245304c-262e-473e-82a4-72d2a4ccbd94"
      },
      "execution_count": null,
      "outputs": [
        {
          "output_type": "display_data",
          "data": {
            "text/plain": [
              "<Figure size 640x480 with 1 Axes>"
            ],
            "image/png": "[encoded data removed]"
          },
          "metadata": {}
        }
      ]
    }
  ],
  "metadata": {
    "colab": {
      "provenance": []
    },
    "kernelspec": {
      "display_name": "Python 3",
      "name": "python3"
    },
    "language_info": {
      "name": "python"
    }
  },
  "nbformat": 4,
  "nbformat_minor": 0
}